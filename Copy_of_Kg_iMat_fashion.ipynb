{
  "nbformat": 4,
  "nbformat_minor": 0,
  "metadata": {
    "colab": {
      "name": "Copy of Kg_iMat_fashion.ipynb",
      "version": "0.3.2",
      "provenance": [],
      "collapsed_sections": []
    },
    "kernelspec": {
      "name": "python3",
      "display_name": "Python 3"
    },
    "accelerator": "GPU"
  },
  "cells": [
    {
      "cell_type": "markdown",
      "metadata": {
        "id": "view-in-github",
        "colab_type": "text"
      },
      "source": [
        "[View in Colaboratory](https://colab.research.google.com/github/nisar009/Kaggle_Notebooks/blob/master/Copy_of_Kg_iMat_fashion.ipynb)"
      ]
    },
    {
      "metadata": {
        "id": "0X9L1q4UH3l0",
        "colab_type": "text"
      },
      "cell_type": "markdown",
      "source": [
        "**Kaggle iMaterialist Challenge (Fashion) at FGVC5**"
      ]
    },
    {
      "metadata": {
        "id": "IaXr00ZQIHe6",
        "colab_type": "text"
      },
      "cell_type": "markdown",
      "source": [
        "Installing Pytorch and Fastai"
      ]
    },
    {
      "metadata": {
        "id": "0ErPe6UcIKRZ",
        "colab_type": "code",
        "colab": {
          "base_uri": "https://localhost:8080/",
          "height": 17
        },
        "outputId": "f5470666-2fe5-416b-8d92-1d35f3bd343d"
      },
      "cell_type": "code",
      "source": [
        "%%capture\n",
        "!pip install torch torchvision"
      ],
      "execution_count": 4,
      "outputs": []
    },
    {
      "metadata": {
        "id": "SwSwkgpEIsvf",
        "colab_type": "code",
        "colab": {
          "base_uri": "https://localhost:8080/",
          "height": 17
        },
        "outputId": "e0ccef34-ec3e-4305-f0e4-a906678214c7"
      },
      "cell_type": "code",
      "source": [
        "%%capture\n",
        "!pip install fastai"
      ],
      "execution_count": 5,
      "outputs": []
    },
    {
      "metadata": {
        "id": "uGlCrUrRJR8R",
        "colab_type": "code",
        "colab": {
          "base_uri": "https://localhost:8080/",
          "height": 17
        },
        "outputId": "602207c2-53e6-457c-ee91-edaacc0dee57"
      },
      "cell_type": "code",
      "source": [
        "%%capture\n",
        "!pip install kaggle-cli"
      ],
      "execution_count": 6,
      "outputs": []
    },
    {
      "metadata": {
        "id": "TK3_rbeyNVFD",
        "colab_type": "text"
      },
      "cell_type": "markdown",
      "source": [
        "**Downloading Kaggle Data Set**"
      ]
    },
    {
      "metadata": {
        "id": "r5LWS9spf7VR",
        "colab_type": "code",
        "colab": {
          "base_uri": "https://localhost:8080/",
          "height": 34
        },
        "outputId": "590a7663-9936-4384-eb89-489406c02844"
      },
      "cell_type": "code",
      "source": [
        "ls"
      ],
      "execution_count": 7,
      "outputs": [
        {
          "output_type": "stream",
          "text": [
            "\u001b[0m\u001b[01;34mdatalab\u001b[0m/\r\n"
          ],
          "name": "stdout"
        }
      ]
    },
    {
      "metadata": {
        "id": "nJDBgbj3Kc2U",
        "colab_type": "code",
        "colab": {
          "base_uri": "https://localhost:8080/",
          "height": 286
        },
        "outputId": "94a48500-4ef7-4b85-977d-10d317fb2d55"
      },
      "cell_type": "code",
      "source": [
        "!mkdir -p data/fashiondata && cd data/fashiondata && kg download -u nisar009 -p p@55w0rd -c imaterialist-challenge-fashion-2018"
      ],
      "execution_count": 8,
      "outputs": [
        {
          "output_type": "stream",
          "text": [
            "downloading https://www.kaggle.com/c/imaterialist-challenge-fashion-2018/download/test.json.zip\r\n",
            "\n",
            "test.json.zip 100% |################################| Time: 0:00:00   3.4 MiB/s\n",
            "\n",
            "downloading https://www.kaggle.com/c/imaterialist-challenge-fashion-2018/download/validation.json.zip\n",
            "\n",
            "validation.json.zip 100% |##########################| Time: 0:00:00   1.2 MiB/s\n",
            "\n",
            "downloading https://www.kaggle.com/c/imaterialist-challenge-fashion-2018/download/train.json.zip\n",
            "\n",
            "train.json.zip 100% |###############################| Time: 0:00:00  27.3 MiB/s\n",
            "\n",
            "downloading https://www.kaggle.com/c/imaterialist-challenge-fashion-2018/download/sample_submission.csv.zip\n",
            "\n",
            "sample_submission.csv.zip 100% |####################| Time: 0:00:00   1.0 MiB/s\n",
            "\n"
          ],
          "name": "stdout"
        }
      ]
    },
    {
      "metadata": {
        "id": "Y2I4MRLKMRRl",
        "colab_type": "code",
        "colab": {
          "base_uri": "https://localhost:8080/",
          "height": 34
        },
        "outputId": "5156c1db-1f83-48ce-ab07-d721e80750ff"
      },
      "cell_type": "code",
      "source": [
        "!cd data/fashiondata && ls"
      ],
      "execution_count": 9,
      "outputs": [
        {
          "output_type": "stream",
          "text": [
            "sample_submission.csv.zip  test.json.zip  train.json.zip  validation.json.zip\r\n"
          ],
          "name": "stdout"
        }
      ]
    },
    {
      "metadata": {
        "id": "w-RYhfrZLDaj",
        "colab_type": "code",
        "colab": {
          "base_uri": "https://localhost:8080/",
          "height": 151
        },
        "outputId": "1de24a00-95a1-4742-edf8-4871d0094ce6"
      },
      "cell_type": "code",
      "source": [
        "!cd data/fashiondata && unzip sample_submission.csv.zip && unzip train.json.zip && unzip test.json.zip && unzip validation.json.zip"
      ],
      "execution_count": 10,
      "outputs": [
        {
          "output_type": "stream",
          "text": [
            "Archive:  sample_submission.csv.zip\r\n",
            "  inflating: sample_submission.csv   \r\n",
            "Archive:  train.json.zip\n",
            "  inflating: train.json              \n",
            "Archive:  test.json.zip\n",
            "  inflating: test.json               \n",
            "Archive:  validation.json.zip\n",
            "  inflating: validation.json         \n"
          ],
          "name": "stdout"
        }
      ]
    },
    {
      "metadata": {
        "id": "yKm2G0biNI2e",
        "colab_type": "code",
        "colab": {
          "base_uri": "https://localhost:8080/",
          "height": 50
        },
        "outputId": "193ce1a5-6ca2-4999-af46-6e4969d835fa"
      },
      "cell_type": "code",
      "source": [
        "!cd data/fashiondata && ls"
      ],
      "execution_count": 11,
      "outputs": [
        {
          "output_type": "stream",
          "text": [
            "sample_submission.csv\t   test.json\t  train.json\t  validation.json\r\n",
            "sample_submission.csv.zip  test.json.zip  train.json.zip  validation.json.zip\r\n"
          ],
          "name": "stdout"
        }
      ]
    },
    {
      "metadata": {
        "id": "tsx3t8xDLn0o",
        "colab_type": "text"
      },
      "cell_type": "markdown",
      "source": [
        "Create the data set"
      ]
    },
    {
      "metadata": {
        "id": "kCt4-QVKLpfg",
        "colab_type": "code",
        "colab": {
          "base_uri": "https://localhost:8080/",
          "height": 185
        },
        "outputId": "a2779f6e-80df-4fa6-a101-042a8c13c496"
      },
      "cell_type": "code",
      "source": [
        "import pandas as pd\n",
        "import json\n",
        "\n",
        "PATH = 'data/fashiondata/'\n",
        "\n",
        "train_set_file = f'{PATH}train.json'\n",
        "\n",
        "js = open(train_set_file).read()\n",
        "train_data_dict = json.loads(js)\n",
        "train_data_dict['images'][:5]"
      ],
      "execution_count": 12,
      "outputs": [
        {
          "output_type": "execute_result",
          "data": {
            "text/plain": [
              "[{'imageId': '1',\n",
              "  'url': 'https://contestimg.wish.com/api/webimage/570f35feb2f4b95d223aa9b1-large'},\n",
              " {'imageId': '2',\n",
              "  'url': 'https://contestimg.wish.com/api/webimage/5468f1c0d96b290ff8e5c805-large'},\n",
              " {'imageId': '3',\n",
              "  'url': 'https://contestimg.wish.com/api/webimage/546410237d57f323e72ca414-large'},\n",
              " {'imageId': '4',\n",
              "  'url': 'https://contestimg.wish.com/api/webimage/550b955fdd699c1a0351f84e-large'},\n",
              " {'imageId': '5',\n",
              "  'url': 'https://contestimg.wish.com/api/webimage/54451f33355b4e0fd3028a30-large'}]"
            ]
          },
          "metadata": {
            "tags": []
          },
          "execution_count": 12
        }
      ]
    },
    {
      "metadata": {
        "id": "haCXfjogPMvb",
        "colab_type": "text"
      },
      "cell_type": "markdown",
      "source": [
        "Downloading the images with file name imageID"
      ]
    },
    {
      "metadata": {
        "id": "b9lyOj4UP3S2",
        "colab_type": "code",
        "colab": {
          "base_uri": "https://localhost:8080/",
          "height": 67
        },
        "outputId": "a0272b08-2c9c-49e8-a145-b2680aea914e"
      },
      "cell_type": "code",
      "source": [
        "!cd data/fashiondata && mkdir -p images_train && ls"
      ],
      "execution_count": 13,
      "outputs": [
        {
          "output_type": "stream",
          "text": [
            "images_train\t\t   test.json\t  train.json.zip\r\n",
            "sample_submission.csv\t   test.json.zip  validation.json\r\n",
            "sample_submission.csv.zip  train.json\t  validation.json.zip\r\n"
          ],
          "name": "stdout"
        }
      ]
    },
    {
      "metadata": {
        "id": "UBl48X1MP92F",
        "colab_type": "code",
        "colab": {
          "base_uri": "https://localhost:8080/",
          "height": 565
        },
        "outputId": "784ba98e-7eb2-40d2-ec32-2b249b0ddd9d"
      },
      "cell_type": "code",
      "source": [
        "import urllib.request as url\n",
        "import concurrent.futures as futures\n",
        "import os\n",
        "\n",
        "image_train_dir = os.path.join(PATH, 'images_train')\n",
        "print(f\"Downloading {len(train_data_dict['images'])} Images ...\")\n",
        "with futures.ThreadPoolExecutor(max_workers=30000) as executor:\n",
        "  os.chdir(image_train_dir)\n",
        "  for image in train_data_dict['images'][:50000]:\n",
        "    imageid = image['imageId']\n",
        "    imageurl = image['url']\n",
        "    #image_name = os.path.join(image_train_dir, f'{imageid}.jpg')\n",
        "    image_name = f'{imageid}.jpg'\n",
        "    executor.submit(url.urlretrieve, f'{imageurl}', image_name)"
      ],
      "execution_count": 14,
      "outputs": [
        {
          "output_type": "stream",
          "text": [
            "Downloading 1014544 Images ...\n"
          ],
          "name": "stdout"
        },
        {
          "output_type": "error",
          "ename": "KeyboardInterrupt",
          "evalue": "ignored",
          "traceback": [
            "\u001b[0;31m---------------------------------------------------------------------------\u001b[0m",
            "\u001b[0;31mKeyboardInterrupt\u001b[0m                         Traceback (most recent call last)",
            "\u001b[0;32m<ipython-input-14-4bb396e6e615>\u001b[0m in \u001b[0;36m<module>\u001b[0;34m()\u001b[0m\n\u001b[1;32m     12\u001b[0m     \u001b[0;31m#image_name = os.path.join(image_train_dir, f'{imageid}.jpg')\u001b[0m\u001b[0;34m\u001b[0m\u001b[0;34m\u001b[0m\u001b[0m\n\u001b[1;32m     13\u001b[0m     \u001b[0mimage_name\u001b[0m \u001b[0;34m=\u001b[0m \u001b[0;34mf'{imageid}.jpg'\u001b[0m\u001b[0;34m\u001b[0m\u001b[0m\n\u001b[0;32m---> 14\u001b[0;31m     \u001b[0mexecutor\u001b[0m\u001b[0;34m.\u001b[0m\u001b[0msubmit\u001b[0m\u001b[0;34m(\u001b[0m\u001b[0murl\u001b[0m\u001b[0;34m.\u001b[0m\u001b[0murlretrieve\u001b[0m\u001b[0;34m,\u001b[0m \u001b[0;34mf'{imageurl}'\u001b[0m\u001b[0;34m,\u001b[0m \u001b[0mimage_name\u001b[0m\u001b[0;34m)\u001b[0m\u001b[0;34m\u001b[0m\u001b[0m\n\u001b[0m",
            "\u001b[0;32m/usr/lib/python3.6/concurrent/futures/thread.py\u001b[0m in \u001b[0;36msubmit\u001b[0;34m(self, fn, *args, **kwargs)\u001b[0m\n\u001b[1;32m    120\u001b[0m             \u001b[0mw\u001b[0m \u001b[0;34m=\u001b[0m \u001b[0m_WorkItem\u001b[0m\u001b[0;34m(\u001b[0m\u001b[0mf\u001b[0m\u001b[0;34m,\u001b[0m \u001b[0mfn\u001b[0m\u001b[0;34m,\u001b[0m \u001b[0margs\u001b[0m\u001b[0;34m,\u001b[0m \u001b[0mkwargs\u001b[0m\u001b[0;34m)\u001b[0m\u001b[0;34m\u001b[0m\u001b[0m\n\u001b[1;32m    121\u001b[0m \u001b[0;34m\u001b[0m\u001b[0m\n\u001b[0;32m--> 122\u001b[0;31m             \u001b[0mself\u001b[0m\u001b[0;34m.\u001b[0m\u001b[0m_work_queue\u001b[0m\u001b[0;34m.\u001b[0m\u001b[0mput\u001b[0m\u001b[0;34m(\u001b[0m\u001b[0mw\u001b[0m\u001b[0;34m)\u001b[0m\u001b[0;34m\u001b[0m\u001b[0m\n\u001b[0m\u001b[1;32m    123\u001b[0m             \u001b[0mself\u001b[0m\u001b[0;34m.\u001b[0m\u001b[0m_adjust_thread_count\u001b[0m\u001b[0;34m(\u001b[0m\u001b[0;34m)\u001b[0m\u001b[0;34m\u001b[0m\u001b[0m\n\u001b[1;32m    124\u001b[0m             \u001b[0;32mreturn\u001b[0m \u001b[0mf\u001b[0m\u001b[0;34m\u001b[0m\u001b[0m\n",
            "\u001b[0;32m/usr/lib/python3.6/queue.py\u001b[0m in \u001b[0;36mput\u001b[0;34m(self, item, block, timeout)\u001b[0m\n\u001b[1;32m    124\u001b[0m         is ignored in that case).\n\u001b[1;32m    125\u001b[0m         '''\n\u001b[0;32m--> 126\u001b[0;31m         \u001b[0;32mwith\u001b[0m \u001b[0mself\u001b[0m\u001b[0;34m.\u001b[0m\u001b[0mnot_full\u001b[0m\u001b[0;34m:\u001b[0m\u001b[0;34m\u001b[0m\u001b[0m\n\u001b[0m\u001b[1;32m    127\u001b[0m             \u001b[0;32mif\u001b[0m \u001b[0mself\u001b[0m\u001b[0;34m.\u001b[0m\u001b[0mmaxsize\u001b[0m \u001b[0;34m>\u001b[0m \u001b[0;36m0\u001b[0m\u001b[0;34m:\u001b[0m\u001b[0;34m\u001b[0m\u001b[0m\n\u001b[1;32m    128\u001b[0m                 \u001b[0;32mif\u001b[0m \u001b[0;32mnot\u001b[0m \u001b[0mblock\u001b[0m\u001b[0;34m:\u001b[0m\u001b[0;34m\u001b[0m\u001b[0m\n",
            "\u001b[0;32m/usr/lib/python3.6/threading.py\u001b[0m in \u001b[0;36m__enter__\u001b[0;34m(self)\u001b[0m\n\u001b[1;32m    238\u001b[0m \u001b[0;34m\u001b[0m\u001b[0m\n\u001b[1;32m    239\u001b[0m     \u001b[0;32mdef\u001b[0m \u001b[0m__enter__\u001b[0m\u001b[0;34m(\u001b[0m\u001b[0mself\u001b[0m\u001b[0;34m)\u001b[0m\u001b[0;34m:\u001b[0m\u001b[0;34m\u001b[0m\u001b[0m\n\u001b[0;32m--> 240\u001b[0;31m         \u001b[0;32mreturn\u001b[0m \u001b[0mself\u001b[0m\u001b[0;34m.\u001b[0m\u001b[0m_lock\u001b[0m\u001b[0;34m.\u001b[0m\u001b[0m__enter__\u001b[0m\u001b[0;34m(\u001b[0m\u001b[0;34m)\u001b[0m\u001b[0;34m\u001b[0m\u001b[0m\n\u001b[0m\u001b[1;32m    241\u001b[0m \u001b[0;34m\u001b[0m\u001b[0m\n\u001b[1;32m    242\u001b[0m     \u001b[0;32mdef\u001b[0m \u001b[0m__exit__\u001b[0m\u001b[0;34m(\u001b[0m\u001b[0mself\u001b[0m\u001b[0;34m,\u001b[0m \u001b[0;34m*\u001b[0m\u001b[0margs\u001b[0m\u001b[0;34m)\u001b[0m\u001b[0;34m:\u001b[0m\u001b[0;34m\u001b[0m\u001b[0m\n",
            "\u001b[0;31mKeyboardInterrupt\u001b[0m: "
          ]
        }
      ]
    },
    {
      "metadata": {
        "id": "EVmYeyaLQ_VG",
        "colab_type": "code",
        "colab": {
          "base_uri": "https://localhost:8080/",
          "height": 34
        },
        "outputId": "affcec9b-526e-4039-ad98-b303f73679ac"
      },
      "cell_type": "code",
      "source": [
        "!cd /content/data/fashiondata/images_train && ls -1| wc -l"
      ],
      "execution_count": 15,
      "outputs": [
        {
          "output_type": "stream",
          "text": [
            "58973\r\n"
          ],
          "name": "stdout"
        }
      ]
    },
    {
      "metadata": {
        "id": "PCGiVF5lmFUY",
        "colab_type": "code",
        "colab": {
          "base_uri": "https://localhost:8080/",
          "height": 17
        },
        "outputId": "ead593c3-6959-4eb9-9344-42d2b4c607e2"
      },
      "cell_type": "code",
      "source": [
        "os.chdir(\"/content/\")"
      ],
      "execution_count": 16,
      "outputs": []
    },
    {
      "metadata": {
        "id": "nlP6yOLekAeX",
        "colab_type": "code",
        "colab": {
          "base_uri": "https://localhost:8080/",
          "height": 34
        },
        "outputId": "ada2d52d-45f5-4e7f-b8eb-10125a566b22"
      },
      "cell_type": "code",
      "source": [
        "ls"
      ],
      "execution_count": 17,
      "outputs": [
        {
          "output_type": "stream",
          "text": [
            "\u001b[0m\u001b[01;34mdata\u001b[0m/  \u001b[01;34mdatalab\u001b[0m/\r\n"
          ],
          "name": "stdout"
        }
      ]
    },
    {
      "metadata": {
        "id": "G9hmkM65oK_j",
        "colab_type": "text"
      },
      "cell_type": "markdown",
      "source": [
        "Creating the train.csv which stores < imageid, labels>"
      ]
    },
    {
      "metadata": {
        "id": "irsVHwlToQK9",
        "colab_type": "code",
        "colab": {
          "base_uri": "https://localhost:8080/",
          "height": 54
        },
        "outputId": "a1203b20-32e4-4675-b1e3-c63b931ee94a"
      },
      "cell_type": "code",
      "source": [
        "print(train_data_dict['annotations'][:10])"
      ],
      "execution_count": 18,
      "outputs": [
        {
          "output_type": "stream",
          "text": [
            "[{'labelId': ['95', '66', '137', '70', '20'], 'imageId': '1'}, {'labelId': ['36', '66', '44', '214', '105', '133'], 'imageId': '2'}, {'labelId': ['170', '66', '97', '153', '105', '138'], 'imageId': '3'}, {'labelId': ['18', '66', '44', '153', '164'], 'imageId': '4'}, {'labelId': ['189', '66', '176', '137', '153', '74', '181', '171', '138'], 'imageId': '5'}, {'labelId': ['190', '106', '53', '153', '164', '184'], 'imageId': '6'}, {'labelId': ['114', '222', '113', '176', '214', '87'], 'imageId': '7'}, {'labelId': ['18', '17', '66', '44', '98', '49', '110', '105'], 'imageId': '8'}, {'labelId': ['66', '97', '153', '181', '105', '218'], 'imageId': '9'}, {'labelId': ['91', '66', '59', '49', '151', '105', '225'], 'imageId': '10'}]\n"
          ],
          "name": "stdout"
        }
      ]
    },
    {
      "metadata": {
        "id": "KN9bRJyZoYSO",
        "colab_type": "code",
        "colab": {
          "base_uri": "https://localhost:8080/",
          "height": 195
        },
        "outputId": "c0ddbf48-eba1-46ce-97a9-c41c12847164"
      },
      "cell_type": "code",
      "source": [
        "annotations = train_data_dict['annotations']\n",
        "image_train_dict = dict()\n",
        "image_train_dict['image_id'] = list()\n",
        "image_train_dict['label_ids'] = list()\n",
        "for annt in annotations:\n",
        "  image_train_dict['image_id'].append(annt['imageId'])\n",
        "  image_train_dict['label_ids'].append(\" \".join(annt['labelId']))\n",
        "  \n",
        "train_df = pd.DataFrame(image_train_dict)\n",
        "train_df.tail()"
      ],
      "execution_count": 19,
      "outputs": [
        {
          "output_type": "execute_result",
          "data": {
            "text/html": [
              "<div>\n",
              "<style scoped>\n",
              "    .dataframe tbody tr th:only-of-type {\n",
              "        vertical-align: middle;\n",
              "    }\n",
              "\n",
              "    .dataframe tbody tr th {\n",
              "        vertical-align: top;\n",
              "    }\n",
              "\n",
              "    .dataframe thead th {\n",
              "        text-align: right;\n",
              "    }\n",
              "</style>\n",
              "<table border=\"1\" class=\"dataframe\">\n",
              "  <thead>\n",
              "    <tr style=\"text-align: right;\">\n",
              "      <th></th>\n",
              "      <th>image_id</th>\n",
              "      <th>label_ids</th>\n",
              "    </tr>\n",
              "  </thead>\n",
              "  <tbody>\n",
              "    <tr>\n",
              "      <th>1014539</th>\n",
              "      <td>1014540</td>\n",
              "      <td>91 66 59 49 105 218</td>\n",
              "    </tr>\n",
              "    <tr>\n",
              "      <th>1014540</th>\n",
              "      <td>1014541</td>\n",
              "      <td>66 53 7 155 105 128</td>\n",
              "    </tr>\n",
              "    <tr>\n",
              "      <th>1014541</th>\n",
              "      <td>1014542</td>\n",
              "      <td>62 17 222 148 66 98 153 171 184</td>\n",
              "    </tr>\n",
              "    <tr>\n",
              "      <th>1014542</th>\n",
              "      <td>1014543</td>\n",
              "      <td>18 66 137 116 105</td>\n",
              "    </tr>\n",
              "    <tr>\n",
              "      <th>1014543</th>\n",
              "      <td>1014544</td>\n",
              "      <td>220 222 66 203 186</td>\n",
              "    </tr>\n",
              "  </tbody>\n",
              "</table>\n",
              "</div>"
            ],
            "text/plain": [
              "        image_id                        label_ids\n",
              "1014539  1014540              91 66 59 49 105 218\n",
              "1014540  1014541              66 53 7 155 105 128\n",
              "1014541  1014542  62 17 222 148 66 98 153 171 184\n",
              "1014542  1014543                18 66 137 116 105\n",
              "1014543  1014544               220 222 66 203 186"
            ]
          },
          "metadata": {
            "tags": []
          },
          "execution_count": 19
        }
      ]
    },
    {
      "metadata": {
        "id": "kddAYwpNpaGl",
        "colab_type": "code",
        "colab": {
          "base_uri": "https://localhost:8080/",
          "height": 17
        },
        "outputId": "d85a453b-9c53-4c1d-c37d-baa9e2e2252e"
      },
      "cell_type": "code",
      "source": [
        "train_df.set_index('image_id', inplace=True)\n",
        "train_df.to_csv(os.path.join(PATH, 'train_created.csv'))"
      ],
      "execution_count": 20,
      "outputs": []
    },
    {
      "metadata": {
        "id": "cB723oiXsQGg",
        "colab_type": "code",
        "colab": {
          "base_uri": "https://localhost:8080/",
          "height": 17
        },
        "outputId": "511bd6c9-a920-46c7-ea30-97a14b6f71f6"
      },
      "cell_type": "code",
      "source": [
        ""
      ],
      "execution_count": 20,
      "outputs": []
    },
    {
      "metadata": {
        "id": "39nRabI3scmn",
        "colab_type": "text"
      },
      "cell_type": "markdown",
      "source": [
        "We need only the downloaded image's labels in the train.csv"
      ]
    },
    {
      "metadata": {
        "id": "avTHauYesiJL",
        "colab_type": "code",
        "colab": {
          "base_uri": "https://localhost:8080/",
          "height": 34
        },
        "outputId": "12050c41-e62f-428d-899f-b40ff685ccd2"
      },
      "cell_type": "code",
      "source": [
        "images_downloaded = os.listdir(os.path.join(PATH, 'images_train'))\n",
        "images_ids_downloaded = [im.split('.')[0] for im in images_downloaded]\n",
        "len(images_ids_downloaded)"
      ],
      "execution_count": 21,
      "outputs": [
        {
          "output_type": "execute_result",
          "data": {
            "text/plain": [
              "58973"
            ]
          },
          "metadata": {
            "tags": []
          },
          "execution_count": 21
        }
      ]
    },
    {
      "metadata": {
        "id": "nc9KbXuZszHa",
        "colab_type": "code",
        "colab": {
          "base_uri": "https://localhost:8080/",
          "height": 225
        },
        "outputId": "5e2333c7-cac7-4aed-d6ad-8d5a1812cb0b"
      },
      "cell_type": "code",
      "source": [
        "req_train_df = train_df.loc[images_ids_downloaded]\n",
        "req_train_df.reset_index(inplace=True)\n",
        "req_train_df['image_id'] = req_train_df['image_id'] + '.jpg'\n",
        "req_train_df.set_index('image_id', inplace=True)\n",
        "req_train_df.head()"
      ],
      "execution_count": 22,
      "outputs": [
        {
          "output_type": "execute_result",
          "data": {
            "text/html": [
              "<div>\n",
              "<style scoped>\n",
              "    .dataframe tbody tr th:only-of-type {\n",
              "        vertical-align: middle;\n",
              "    }\n",
              "\n",
              "    .dataframe tbody tr th {\n",
              "        vertical-align: top;\n",
              "    }\n",
              "\n",
              "    .dataframe thead th {\n",
              "        text-align: right;\n",
              "    }\n",
              "</style>\n",
              "<table border=\"1\" class=\"dataframe\">\n",
              "  <thead>\n",
              "    <tr style=\"text-align: right;\">\n",
              "      <th></th>\n",
              "      <th>label_ids</th>\n",
              "    </tr>\n",
              "    <tr>\n",
              "      <th>image_id</th>\n",
              "      <th></th>\n",
              "    </tr>\n",
              "  </thead>\n",
              "  <tbody>\n",
              "    <tr>\n",
              "      <th>33323.jpg</th>\n",
              "      <td>170 148 66 137 153 171 133</td>\n",
              "    </tr>\n",
              "    <tr>\n",
              "      <th>34086.jpg</th>\n",
              "      <td>71 66 153 171 20</td>\n",
              "    </tr>\n",
              "    <tr>\n",
              "      <th>35903.jpg</th>\n",
              "      <td>66 44 214 105 87</td>\n",
              "    </tr>\n",
              "    <tr>\n",
              "      <th>53881.jpg</th>\n",
              "      <td>122 66 44 214 171 184</td>\n",
              "    </tr>\n",
              "    <tr>\n",
              "      <th>22864.jpg</th>\n",
              "      <td>15 66 176 137 214 180 175</td>\n",
              "    </tr>\n",
              "  </tbody>\n",
              "</table>\n",
              "</div>"
            ],
            "text/plain": [
              "                            label_ids\n",
              "image_id                             \n",
              "33323.jpg  170 148 66 137 153 171 133\n",
              "34086.jpg            71 66 153 171 20\n",
              "35903.jpg            66 44 214 105 87\n",
              "53881.jpg       122 66 44 214 171 184\n",
              "22864.jpg   15 66 176 137 214 180 175"
            ]
          },
          "metadata": {
            "tags": []
          },
          "execution_count": 22
        }
      ]
    },
    {
      "metadata": {
        "id": "inXognPPs-cL",
        "colab_type": "code",
        "colab": {
          "base_uri": "https://localhost:8080/",
          "height": 17
        },
        "outputId": "2ea06a27-8786-4c62-bda2-0c6f2738157f"
      },
      "cell_type": "code",
      "source": [
        "req_train_df.sort_index()\n",
        "#req_train_df.loc['1']\n",
        "req_train_df.to_csv(os.path.join(PATH, 'train_req.csv'))"
      ],
      "execution_count": 23,
      "outputs": []
    },
    {
      "metadata": {
        "id": "qLZnlK3husrs",
        "colab_type": "code",
        "colab": {
          "base_uri": "https://localhost:8080/",
          "height": 84
        },
        "outputId": "61d4085d-257a-45a7-943e-f19e8eeedc56"
      },
      "cell_type": "code",
      "source": [
        "!cd data/fashiondata && ls"
      ],
      "execution_count": 24,
      "outputs": [
        {
          "output_type": "stream",
          "text": [
            "images_train\t\t   test.json.zip      train_req.csv\r\n",
            "sample_submission.csv\t   train_created.csv  validation.json\r\n",
            "sample_submission.csv.zip  train.json\t      validation.json.zip\r\n",
            "test.json\t\t   train.json.zip\r\n"
          ],
          "name": "stdout"
        }
      ]
    },
    {
      "metadata": {
        "id": "rXi_s8VGvUve",
        "colab_type": "code",
        "colab": {
          "base_uri": "https://localhost:8080/",
          "height": 17
        },
        "outputId": "3f0580ca-5d52-4f8e-ebfe-f11c26ff182b"
      },
      "cell_type": "code",
      "source": [
        ""
      ],
      "execution_count": 24,
      "outputs": []
    },
    {
      "metadata": {
        "id": "OlBv3_5rvk-G",
        "colab_type": "text"
      },
      "cell_type": "markdown",
      "source": [
        "## **Starting from fastai**"
      ]
    },
    {
      "metadata": {
        "id": "URx4pZ9qvtcd",
        "colab_type": "code",
        "colab": {
          "base_uri": "https://localhost:8080/",
          "height": 17
        },
        "outputId": "62eb5ccd-e48b-455b-bc68-6014031ccf22"
      },
      "cell_type": "code",
      "source": [
        "%reload_ext autoreload\n",
        "%autoreload 2\n",
        "%matplotlib inline"
      ],
      "execution_count": 3,
      "outputs": []
    },
    {
      "metadata": {
        "id": "BPwmpOBElaM2",
        "colab_type": "text"
      },
      "cell_type": "markdown",
      "source": [
        "fastai Imports"
      ]
    },
    {
      "metadata": {
        "id": "3QMoZk-qvxLb",
        "colab_type": "code",
        "colab": {
          "base_uri": "https://localhost:8080/",
          "height": 17
        },
        "outputId": "b4c50d76-01d6-479a-c949-cc18a6e7be9a"
      },
      "cell_type": "code",
      "source": [
        "from fastai.imports import *\n",
        "from fastai.conv_learner import *\n",
        "from fastai.transforms import *\n",
        "from fastai.model import *\n",
        "from fastai.dataset import *\n",
        "from fastai.sgdr import *\n",
        "from fastai.plots import*"
      ],
      "execution_count": 4,
      "outputs": []
    },
    {
      "metadata": {
        "id": "MFI1MuXJmAia",
        "colab_type": "code",
        "colab": {
          "base_uri": "https://localhost:8080/",
          "height": 101
        },
        "outputId": "fcfe2512-8778-409f-d8b0-4251c1f6792d"
      },
      "cell_type": "code",
      "source": [
        "PATH = \"data/fashiondata/\"\n",
        "os.makedirs('data/fashiondata/models', exist_ok=True)\n",
        "os.makedirs('data/fashiondata/tmp', exist_ok=True)\n",
        "!ls {PATH}"
      ],
      "execution_count": 5,
      "outputs": [
        {
          "output_type": "stream",
          "text": [
            "images_train\t\t   test.json.zip      train_req.csv\r\n",
            "models\t\t\t   tmp\t\t      validation.json\r\n",
            "sample_submission.csv\t   train_created.csv  validation.json.zip\r\n",
            "sample_submission.csv.zip  train.json\r\n",
            "test.json\t\t   train.json.zip\r\n"
          ],
          "name": "stdout"
        }
      ]
    },
    {
      "metadata": {
        "id": "F0QyLI4eyktO",
        "colab_type": "text"
      },
      "cell_type": "markdown",
      "source": [
        "F1 Score as Metric"
      ]
    },
    {
      "metadata": {
        "id": "E2MdtXwfyjfT",
        "colab_type": "code",
        "colab": {
          "base_uri": "https://localhost:8080/",
          "height": 17
        },
        "outputId": "2249aaec-93b4-4ea2-8de4-32924d0a6f93"
      },
      "cell_type": "code",
      "source": [
        "from fastai.imports import *\n",
        "from fastai.transforms import *\n",
        "from fastai.dataset import *\n",
        "from sklearn.metrics import fbeta_score\n",
        "import warnings\n",
        "\n",
        "def f1(preds, targs, start=0.17, end=0.24, step=0.01):\n",
        "    with warnings.catch_warnings():\n",
        "        warnings.simplefilter(\"ignore\")\n",
        "        return max([fbeta_score(targs, (preds>th), 1, average='samples')\n",
        "                    for th in np.arange(start,end,step)])\n",
        "def f2(preds, targs, start=0.17, end=0.24, step=0.01):\n",
        "    with warnings.catch_warnings():\n",
        "        warnings.simplefilter(\"ignore\")\n",
        "        return max([fbeta_score(targs, (preds>th), 2, average='samples')\n",
        "                    for th in np.arange(start,end,step)])\n",
        "\n",
        "def opt_th(preds, targs, start=0.17, end=0.24, step=0.01):\n",
        "    ths = np.arange(start,end,step)\n",
        "    idx = np.argmax([fbeta_score(targs, (preds>th), 2, average='samples')\n",
        "                for th in ths])\n",
        "    return ths[idx]\n",
        "\n",
        "def get_data(path, tfms,bs,  n, cv_idx):\n",
        "    val_idxs = get_cv_idxs(n, cv_idx)\n",
        "    return ImageClassifierData.from_csv(path, 'train-jpg', f'{path}train_v2.csv', bs, tfms,\n",
        "                                 suffix='.jpg', val_idxs=val_idxs, test_name='test-jpg')\n",
        "\n",
        "def get_data_zoom(f_model, path, sz, bs, n, cv_idx):\n",
        "    tfms = tfms_from_model(f_model, sz, aug_tfms=transforms_top_down, max_zoom=1.05)\n",
        "    return get_data(path, tfms, bs, n, cv_idx)\n",
        "\n",
        "def get_data_pad(f_model, path, sz, bs, n, cv_idx):\n",
        "    transforms_pt = [RandomRotateZoom(9, 0.18, 0.1), RandomLighting(0.05, 0.1), RandomDihedral()]\n",
        "    tfms = tfms_from_model(f_model, sz, aug_tfms=transforms_pt, pad=sz//12)\n",
        "    return get_data(path, tfms, bs, n, cv_idx)"
      ],
      "execution_count": 6,
      "outputs": []
    },
    {
      "metadata": {
        "id": "t34K7sLcmJXg",
        "colab_type": "code",
        "colab": {
          "base_uri": "https://localhost:8080/",
          "height": 350
        },
        "outputId": "3027a05c-1e9d-4b28-f5a2-facf784b0a69"
      },
      "cell_type": "code",
      "source": [
        "metric = [f1]\n",
        "sz=64\n",
        "arch=resnet34\n",
        "# Lets train a model\n",
        "def get_data(size):\n",
        "  tfms = tfms_from_model(arch, sz, aug_tfms=transforms_side_on, max_zoom=1.1)\n",
        "  return ImageClassifierData.from_csv(path=PATH,\n",
        "                                      folder='images_train',\n",
        "                                      csv_fname=f'{PATH}train_req.csv',\n",
        "                                     tfms=tfms)\n",
        "data = get_data(sz)\n",
        "learn = ConvLearner.pretrained(resnet34, data, precompute=True, metrics=metric)\n",
        "lrf = learn.lr_find()\n",
        "learn.sched.plot()\n"
      ],
      "execution_count": 7,
      "outputs": [
        {
          "output_type": "display_data",
          "data": {
            "application/vnd.jupyter.widget-view+json": {
              "model_id": "646bd3f65be74e44b55b8721d97805a4",
              "version_minor": 0,
              "version_major": 2
            },
            "text/plain": [
              "HBox(children=(IntProgress(value=0, description='Epoch', max=1), HTML(value='')))"
            ]
          },
          "metadata": {
            "tags": []
          }
        },
        {
          "output_type": "stream",
          "text": [
            "epoch      trn_loss   val_loss   f1         \n",
            "    0      0.089256   0.077291   0.401232  \n",
            "\n"
          ],
          "name": "stdout"
        },
        {
          "output_type": "display_data",
          "data": {
            "image/png": "[encoded data removed]",
            "text/plain": [
              "<matplotlib.figure.Figure at 0x7f5ee53e5860>"
            ]
          },
          "metadata": {
            "tags": []
          }
        }
      ]
    },
    {
      "metadata": {
        "id": "wpl4NQwYmJcN",
        "colab_type": "code",
        "colab": {}
      },
      "cell_type": "code",
      "source": [
        "lr = 0.5\n",
        "learn.precompute=False\n",
        "learn.fit(lr, 3, cycle_len=1, cycle_mult=2)"
      ],
      "execution_count": 0,
      "outputs": []
    },
    {
      "metadata": {
        "id": "5RPGWvk0mJt1",
        "colab_type": "code",
        "colab": {
          "base_uri": "https://localhost:8080/",
          "height": 162
        },
        "outputId": "8e0eb131-f253-448e-98e0-8fd60f1645c3"
      },
      "cell_type": "code",
      "source": [
        "# Differential Learning Rates for Different Layer Groups\n",
        "lrs = np.array([lr/9, lr/3, lr])"
      ],
      "execution_count": 9,
      "outputs": [
        {
          "output_type": "error",
          "ename": "NameError",
          "evalue": "ignored",
          "traceback": [
            "\u001b[0;31m---------------------------------------------------------------------------\u001b[0m",
            "\u001b[0;31mNameError\u001b[0m                                 Traceback (most recent call last)",
            "\u001b[0;32m<ipython-input-9-38900d2728c3>\u001b[0m in \u001b[0;36m<module>\u001b[0;34m()\u001b[0m\n\u001b[0;32m----> 1\u001b[0;31m \u001b[0mlrs\u001b[0m \u001b[0;34m=\u001b[0m \u001b[0mnp\u001b[0m\u001b[0;34m.\u001b[0m\u001b[0marray\u001b[0m\u001b[0;34m(\u001b[0m\u001b[0;34m[\u001b[0m\u001b[0mlr\u001b[0m\u001b[0;34m/\u001b[0m\u001b[0;36m9\u001b[0m\u001b[0;34m,\u001b[0m \u001b[0mlr\u001b[0m\u001b[0;34m/\u001b[0m\u001b[0;36m3\u001b[0m\u001b[0;34m,\u001b[0m \u001b[0mlr\u001b[0m\u001b[0;34m]\u001b[0m\u001b[0;34m)\u001b[0m\u001b[0;34m\u001b[0m\u001b[0m\n\u001b[0m",
            "\u001b[0;31mNameError\u001b[0m: name 'lr' is not defined"
          ]
        }
      ]
    },
    {
      "metadata": {
        "id": "jKbo61enmJwU",
        "colab_type": "code",
        "colab": {
          "base_uri": "https://localhost:8080/",
          "height": 151
        },
        "outputId": "e2288814-3af3-42dc-902c-a88d7c76cb8c"
      },
      "cell_type": "code",
      "source": [
        "learn.unfreeze()\n",
        "learn.fit(lrs, 3, cycle_len=1, cycle_mult=2)\n",
        "learn.save('resnet34_64')"
      ],
      "execution_count": 0,
      "outputs": [
        {
          "output_type": "display_data",
          "data": {
            "application/vnd.jupyter.widget-view+json": {
              "model_id": "6bb82b4f088240189bc4049fefc6a2dd",
              "version_minor": 0,
              "version_major": 2
            },
            "text/plain": [
              "HBox(children=(IntProgress(value=0, description='Epoch', max=7), HTML(value='')))"
            ]
          },
          "metadata": {
            "tags": []
          }
        },
        {
          "output_type": "stream",
          "text": [
            "epoch      trn_loss   val_loss   f1         \n",
            "    0      0.069734   0.066797   0.475648  \n",
            "  4%|▍         | 29/738 [00:21<08:37,  1.37it/s, loss=0.0695]"
          ],
          "name": "stdout"
        },
        {
          "output_type": "stream",
          "text": [
            "    1      0.066911   0.064526   0.494078  \n",
            "  8%|▊         | 58/738 [00:40<07:52,  1.44it/s, loss=0.067]"
          ],
          "name": "stdout"
        },
        {
          "output_type": "stream",
          "text": [
            "    2      0.066194   0.063848   0.499852  \n",
            " 10%|█         | 75/738 [00:50<07:29,  1.47it/s, loss=0.0661]"
          ],
          "name": "stdout"
        },
        {
          "output_type": "stream",
          "text": [
            "    3      0.065751   0.063064   0.505614  \n",
            " 12%|█▏        | 85/738 [00:57<07:25,  1.47it/s, loss=0.0644]"
          ],
          "name": "stdout"
        },
        {
          "output_type": "stream",
          "text": [
            "    4      0.063936   0.062168   0.510662  \n",
            " 12%|█▏        | 91/738 [01:00<07:13,  1.49it/s, loss=0.0631]"
          ],
          "name": "stdout"
        },
        {
          "output_type": "stream",
          "text": [
            ""
          ],
          "name": "stdout"
        }
      ]
    },
    {
      "metadata": {
        "id": "ex3pZ1VwzfQF",
        "colab_type": "code",
        "colab": {
          "base_uri": "https://localhost:8080/",
          "height": 84
        },
        "outputId": "7f6b1149-d84d-4fc2-87f5-8bbcf91e6cbc"
      },
      "cell_type": "code",
      "source": [
        "data = get_data(128)\n",
        "learn.freeze()\n",
        "learn.fit(lr, 3, cycle_len=1, cycle_mult=2)\n"
      ],
      "execution_count": 0,
      "outputs": [
        {
          "output_type": "display_data",
          "data": {
            "application/vnd.jupyter.widget-view+json": {
              "model_id": "90e3b2d117df4c78a6c719c0734a9518",
              "version_minor": 0,
              "version_major": 2
            },
            "text/plain": [
              "HBox(children=(IntProgress(value=0, description='Epoch', max=7), HTML(value='')))"
            ]
          },
          "metadata": {
            "tags": []
          }
        },
        {
          "output_type": "stream",
          "text": [
            "epoch      trn_loss   val_loss   f1         \n",
            "    0      0.079864   0.075187   0.419065  \n",
            "  5%|▍         | 34/738 [00:22<07:53,  1.49it/s, loss=0.0798]"
          ],
          "name": "stdout"
        },
        {
          "output_type": "stream",
          "text": [
            ""
          ],
          "name": "stdout"
        }
      ]
    },
    {
      "metadata": {
        "id": "qFGE_cbf1gWP",
        "colab_type": "code",
        "colab": {}
      },
      "cell_type": "code",
      "source": [
        "learn.unfreeze()\n",
        "learn.fit(lrs, 3, cycle_len=1, cycle_mult=2)\n",
        "learn.save('resnet34_128')"
      ],
      "execution_count": 0,
      "outputs": []
    },
    {
      "metadata": {
        "id": "clmC7VgcatMl",
        "colab_type": "code",
        "colab": {}
      },
      "cell_type": "code",
      "source": [
        "data = get_data(128)\n",
        "learn.freeze()\n",
        "learn.fit(lr, 3, cycle_len=1, cycle_mult=2)"
      ],
      "execution_count": 0,
      "outputs": []
    },
    {
      "metadata": {
        "id": "jgHCGJSsbAVJ",
        "colab_type": "code",
        "colab": {}
      },
      "cell_type": "code",
      "source": [
        "learn.unfreeze()\n",
        "learn.fit(lrs, 3, cycle_len=1, cycle_mult=2)\n",
        "learn.save('resnet34_254')"
      ],
      "execution_count": 0,
      "outputs": []
    }
  ]
}