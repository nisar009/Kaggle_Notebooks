{
  "nbformat": 4,
  "nbformat_minor": 0,
  "metadata": {
    "colab": {
      "name": "Copy of Kg_iMat_fashion.ipynb",
      "version": "0.3.2",
      "provenance": [],
      "collapsed_sections": []
    },
    "kernelspec": {
      "name": "python3",
      "display_name": "Python 3"
    },
    "accelerator": "GPU"
  },
  "cells": [
    {
      "cell_type": "markdown",
      "metadata": {
        "id": "view-in-github",
        "colab_type": "text"
      },
      "source": [
        "[View in Colaboratory](https://colab.research.google.com/github/nisar009/Kaggle_Notebooks/blob/master/Copy_of_Kg_iMat_fashion.ipynb)"
      ]
    },
    {
      "metadata": {
        "id": "0X9L1q4UH3l0",
        "colab_type": "text"
      },
      "cell_type": "markdown",
      "source": [
        "**Kaggle iMaterialist Challenge (Fashion) at FGVC5**"
      ]
    },
    {
      "metadata": {
        "id": "IaXr00ZQIHe6",
        "colab_type": "text"
      },
      "cell_type": "markdown",
      "source": [
        "Installing Pytorch and Fastai"
      ]
    },
    {
      "metadata": {
        "id": "0ErPe6UcIKRZ",
        "colab_type": "code",
        "colab": {
          "base_uri": "https://localhost:8080/",
          "height": 17
        },
        "outputId": "5dbf9e3b-811d-4893-8775-b39a313f0b6a"
      },
      "cell_type": "code",
      "source": [
        "%%capture\n",
        "!pip install torch torchvision"
      ],
      "execution_count": 1,
      "outputs": []
    },
    {
      "metadata": {
        "id": "SwSwkgpEIsvf",
        "colab_type": "code",
        "colab": {
          "base_uri": "https://localhost:8080/",
          "height": 17
        },
        "outputId": "636804e3-a802-4b28-a3c8-d6977eb7fa24"
      },
      "cell_type": "code",
      "source": [
        "%%capture\n",
        "!pip install fastai"
      ],
      "execution_count": 2,
      "outputs": []
    },
    {
      "metadata": {
        "id": "uGlCrUrRJR8R",
        "colab_type": "code",
        "colab": {}
      },
      "cell_type": "code",
      "source": [
        "!pip install kaggle-cli"
      ],
      "execution_count": 0,
      "outputs": []
    },
    {
      "metadata": {
        "id": "TK3_rbeyNVFD",
        "colab_type": "text"
      },
      "cell_type": "markdown",
      "source": [
        "**Downloading Kaggle Data Set**"
      ]
    },
    {
      "metadata": {
        "id": "r5LWS9spf7VR",
        "colab_type": "code",
        "colab": {
          "base_uri": "https://localhost:8080/",
          "height": 34
        },
        "outputId": "56391b97-48d4-46b6-da41-127df2ef8c6b"
      },
      "cell_type": "code",
      "source": [
        ""
      ],
      "execution_count": 32,
      "outputs": [
        {
          "output_type": "stream",
          "text": [
            "/content/data/fashiondata/images_train\r\n"
          ],
          "name": "stdout"
        }
      ]
    },
    {
      "metadata": {
        "id": "nJDBgbj3Kc2U",
        "colab_type": "code",
        "colab": {
          "base_uri": "https://localhost:8080/",
          "height": 286
        },
        "outputId": "3af6ac4c-7653-4ffa-aa2a-fbbefacbc69c"
      },
      "cell_type": "code",
      "source": [
        "!mkdir -p data/fashiondata && cd data/fashiondata && kg download -u nisar009 -p p@55w0rd -c imaterialist-challenge-fashion-2018"
      ],
      "execution_count": 4,
      "outputs": [
        {
          "output_type": "stream",
          "text": [
            "downloading https://www.kaggle.com/c/imaterialist-challenge-fashion-2018/download/test.json.zip\r\n",
            "\n",
            "test.json.zip 100% |################################| Time: 0:00:00   1.1 MiB/s\n",
            "\n",
            "downloading https://www.kaggle.com/c/imaterialist-challenge-fashion-2018/download/validation.json.zip\n",
            "\n",
            "validation.json.zip 100% |##########################| Time: 0:00:00 503.5 KiB/s\n",
            "\n",
            "downloading https://www.kaggle.com/c/imaterialist-challenge-fashion-2018/download/train.json.zip\n",
            "\n",
            "train.json.zip 100% |###############################| Time: 0:00:01  15.2 MiB/s\n",
            "\n",
            "downloading https://www.kaggle.com/c/imaterialist-challenge-fashion-2018/download/sample_submission.csv.zip\n",
            "\n",
            "sample_submission.csv.zip 100% |####################| Time: 0:00:00   1.0 MiB/s\n",
            "\n"
          ],
          "name": "stdout"
        }
      ]
    },
    {
      "metadata": {
        "id": "Y2I4MRLKMRRl",
        "colab_type": "code",
        "colab": {
          "base_uri": "https://localhost:8080/",
          "height": 34
        },
        "outputId": "6098ad52-eac4-4055-bc80-e774dd2252e3"
      },
      "cell_type": "code",
      "source": [
        "!cd data/fashiondata && ls"
      ],
      "execution_count": 15,
      "outputs": [
        {
          "output_type": "stream",
          "text": [
            "fashiondata\r\n"
          ],
          "name": "stdout"
        }
      ]
    },
    {
      "metadata": {
        "id": "w-RYhfrZLDaj",
        "colab_type": "code",
        "colab": {
          "base_uri": "https://localhost:8080/",
          "height": 151
        },
        "outputId": "dc2a97c8-25d3-4ce0-cc2a-bea2838a67bc"
      },
      "cell_type": "code",
      "source": [
        "!cd data/fashiondata && unzip sample_submission.csv.zip && unzip train.json.zip && unzip test.json.zip && unzip validation.json.zip"
      ],
      "execution_count": 6,
      "outputs": [
        {
          "output_type": "stream",
          "text": [
            "Archive:  sample_submission.csv.zip\r\n",
            "  inflating: sample_submission.csv   \r\n",
            "Archive:  train.json.zip\n",
            "  inflating: train.json              \n",
            "Archive:  test.json.zip\n",
            "  inflating: test.json               \n",
            "Archive:  validation.json.zip\n",
            "  inflating: validation.json         \n"
          ],
          "name": "stdout"
        }
      ]
    },
    {
      "metadata": {
        "id": "yKm2G0biNI2e",
        "colab_type": "code",
        "colab": {
          "base_uri": "https://localhost:8080/",
          "height": 50
        },
        "outputId": "6550eb27-a735-40a4-982c-9a2345ab71a8"
      },
      "cell_type": "code",
      "source": [
        "!cd data/fashiondata && ls"
      ],
      "execution_count": 7,
      "outputs": [
        {
          "output_type": "stream",
          "text": [
            "sample_submission.csv\t   test.json\t  train.json\t  validation.json\r\n",
            "sample_submission.csv.zip  test.json.zip  train.json.zip  validation.json.zip\r\n"
          ],
          "name": "stdout"
        }
      ]
    },
    {
      "metadata": {
        "id": "tsx3t8xDLn0o",
        "colab_type": "text"
      },
      "cell_type": "markdown",
      "source": [
        "Create the data set"
      ]
    },
    {
      "metadata": {
        "id": "kCt4-QVKLpfg",
        "colab_type": "code",
        "colab": {
          "base_uri": "https://localhost:8080/",
          "height": 34
        },
        "outputId": "4be76e5d-0cef-4291-d0df-b4c06ef971af"
      },
      "cell_type": "code",
      "source": [
        "import pandas as pd\n",
        "import json\n",
        "\n",
        "PATH = 'data/fashiondata/'\n",
        "\n",
        "train_set_file = f'{PATH}train.json'\n",
        "\n",
        "js = open(train_set_file).read()\n",
        "train_data_dict = json.loads(js)\n",
        "len(train_data_dict)"
      ],
      "execution_count": 8,
      "outputs": [
        {
          "output_type": "execute_result",
          "data": {
            "text/plain": [
              "4"
            ]
          },
          "metadata": {
            "tags": []
          },
          "execution_count": 8
        }
      ]
    },
    {
      "metadata": {
        "id": "PkqmtmH9L7om",
        "colab_type": "code",
        "colab": {
          "base_uri": "https://localhost:8080/",
          "height": 353
        },
        "outputId": "ec7b03e7-6788-4d46-b2b7-931f46a6359b"
      },
      "cell_type": "code",
      "source": [
        "train_data_dict['images'][:10]"
      ],
      "execution_count": 9,
      "outputs": [
        {
          "output_type": "execute_result",
          "data": {
            "text/plain": [
              "[{'imageId': '1',\n",
              "  'url': 'https://contestimg.wish.com/api/webimage/570f35feb2f4b95d223aa9b1-large'},\n",
              " {'imageId': '2',\n",
              "  'url': 'https://contestimg.wish.com/api/webimage/5468f1c0d96b290ff8e5c805-large'},\n",
              " {'imageId': '3',\n",
              "  'url': 'https://contestimg.wish.com/api/webimage/546410237d57f323e72ca414-large'},\n",
              " {'imageId': '4',\n",
              "  'url': 'https://contestimg.wish.com/api/webimage/550b955fdd699c1a0351f84e-large'},\n",
              " {'imageId': '5',\n",
              "  'url': 'https://contestimg.wish.com/api/webimage/54451f33355b4e0fd3028a30-large'},\n",
              " {'imageId': '6',\n",
              "  'url': 'https://contestimg.wish.com/api/webimage/571e0b1cea3cc75d8a004f37-large'},\n",
              " {'imageId': '7',\n",
              "  'url': 'https://contestimg.wish.com/api/webimage/52cbee3f34067e3d742181de-large'},\n",
              " {'imageId': '8',\n",
              "  'url': 'https://contestimg.wish.com/api/webimage/53994b413060c60cb1df5dfb-large'},\n",
              " {'imageId': '9',\n",
              "  'url': 'https://contestimg.wish.com/api/webimage/567179ed74c8b6615676e022-large'},\n",
              " {'imageId': '10',\n",
              "  'url': 'https://contestimg.wish.com/api/webimage/562e42ab15abe31336c5f877-large'}]"
            ]
          },
          "metadata": {
            "tags": []
          },
          "execution_count": 9
        }
      ]
    },
    {
      "metadata": {
        "id": "vbVxLyLlPA3V",
        "colab_type": "code",
        "colab": {}
      },
      "cell_type": "code",
      "source": [
        ""
      ],
      "execution_count": 0,
      "outputs": []
    },
    {
      "metadata": {
        "id": "haCXfjogPMvb",
        "colab_type": "text"
      },
      "cell_type": "markdown",
      "source": [
        "Downloading the images with file name imageID"
      ]
    },
    {
      "metadata": {
        "id": "b9lyOj4UP3S2",
        "colab_type": "code",
        "colab": {
          "base_uri": "https://localhost:8080/",
          "height": 67
        },
        "outputId": "1ca278fe-3e2e-440c-c8ee-d4d13b7f008b"
      },
      "cell_type": "code",
      "source": [
        "!cd data/fashiondata && mkdir -p images_train && ls"
      ],
      "execution_count": 26,
      "outputs": [
        {
          "output_type": "stream",
          "text": [
            "images_train\t\t   test.json\t  train.json.zip\r\n",
            "sample_submission.csv\t   test.json.zip  validation.json\r\n",
            "sample_submission.csv.zip  train.json\t  validation.json.zip\r\n"
          ],
          "name": "stdout"
        }
      ]
    },
    {
      "metadata": {
        "id": "UBl48X1MP92F",
        "colab_type": "code",
        "colab": {}
      },
      "cell_type": "code",
      "source": [
        "import urllib.request as url\n",
        "import concurrent.futures as futures\n",
        "import os\n",
        "\n",
        "image_train_dir = os.path.join(PATH, 'images_train')\n",
        "print(f\"Downloading {len(train_data_dict['images'])} Images ...\")\n",
        "with futures.ThreadPoolExecutor(max_workers=30000) as executor:\n",
        "  os.chdir(image_train_dir)\n",
        "  for image in train_data_dict['images']:\n",
        "    print(image)\n",
        "    imageid = image['imageId']\n",
        "    imageurl = image['url']\n",
        "    #image_name = os.path.join(image_train_dir, f'{imageid}.jpg')\n",
        "    image_name = f'{imageid}.jpg'\n",
        "    executor.submit(url.urlretrieve, f'{imageurl}', image_name)"
      ],
      "execution_count": 0,
      "outputs": []
    },
    {
      "metadata": {
        "id": "EVmYeyaLQ_VG",
        "colab_type": "code",
        "colab": {
          "base_uri": "https://localhost:8080/",
          "height": 34
        },
        "outputId": "5a5d52ab-9073-406c-c29c-e4da6c563c1f"
      },
      "cell_type": "code",
      "source": [
        "!cd /content/data/fashiondata/images_train && ls -1| wc -l"
      ],
      "execution_count": 47,
      "outputs": [
        {
          "output_type": "stream",
          "text": [
            "59763\r\n"
          ],
          "name": "stdout"
        }
      ]
    },
    {
      "metadata": {
        "id": "PCGiVF5lmFUY",
        "colab_type": "code",
        "colab": {
          "base_uri": "https://localhost:8080/",
          "height": 17
        },
        "outputId": "ceefcb3b-866e-40de-ee25-4856a8e6de6b"
      },
      "cell_type": "code",
      "source": [
        "os.chdir(\"/content/\")"
      ],
      "execution_count": 49,
      "outputs": []
    },
    {
      "metadata": {
        "id": "nlP6yOLekAeX",
        "colab_type": "code",
        "colab": {
          "base_uri": "https://localhost:8080/",
          "height": 34
        },
        "outputId": "f96bcb76-f6a6-47c6-fe28-bf702c733b3f"
      },
      "cell_type": "code",
      "source": [
        "ls"
      ],
      "execution_count": 50,
      "outputs": [
        {
          "output_type": "stream",
          "text": [
            "\u001b[0m\u001b[01;34mdata\u001b[0m/  \u001b[01;34mdatalab\u001b[0m/\r\n"
          ],
          "name": "stdout"
        }
      ]
    },
    {
      "metadata": {
        "id": "G9hmkM65oK_j",
        "colab_type": "text"
      },
      "cell_type": "markdown",
      "source": [
        "Creating the train.csv which stores < imageid, labels>"
      ]
    },
    {
      "metadata": {
        "id": "irsVHwlToQK9",
        "colab_type": "code",
        "colab": {
          "base_uri": "https://localhost:8080/",
          "height": 54
        },
        "outputId": "9b5c95d3-b628-4dae-9905-0eb19eab386c"
      },
      "cell_type": "code",
      "source": [
        "print(train_data_dict['annotations'][:10])"
      ],
      "execution_count": 51,
      "outputs": [
        {
          "output_type": "stream",
          "text": [
            "[{'labelId': ['95', '66', '137', '70', '20'], 'imageId': '1'}, {'labelId': ['36', '66', '44', '214', '105', '133'], 'imageId': '2'}, {'labelId': ['170', '66', '97', '153', '105', '138'], 'imageId': '3'}, {'labelId': ['18', '66', '44', '153', '164'], 'imageId': '4'}, {'labelId': ['189', '66', '176', '137', '153', '74', '181', '171', '138'], 'imageId': '5'}, {'labelId': ['190', '106', '53', '153', '164', '184'], 'imageId': '6'}, {'labelId': ['114', '222', '113', '176', '214', '87'], 'imageId': '7'}, {'labelId': ['18', '17', '66', '44', '98', '49', '110', '105'], 'imageId': '8'}, {'labelId': ['66', '97', '153', '181', '105', '218'], 'imageId': '9'}, {'labelId': ['91', '66', '59', '49', '151', '105', '225'], 'imageId': '10'}]\n"
          ],
          "name": "stdout"
        }
      ]
    },
    {
      "metadata": {
        "id": "KN9bRJyZoYSO",
        "colab_type": "code",
        "colab": {
          "base_uri": "https://localhost:8080/",
          "height": 195
        },
        "outputId": "43228d9b-7d4a-4ef7-9d8c-42795bda8263"
      },
      "cell_type": "code",
      "source": [
        "annotations = train_data_dict['annotations']\n",
        "image_train_dict = dict()\n",
        "image_train_dict['image_id'] = list()\n",
        "image_train_dict['label_ids'] = list()\n",
        "for annt in annotations:\n",
        "  image_train_dict['image_id'].append(annt['imageId'])\n",
        "  image_train_dict['label_ids'].append(\" \".join(annt['labelId']))\n",
        "  \n",
        "train_df = pd.DataFrame(image_train_dict)\n",
        "train_df.tail()"
      ],
      "execution_count": 52,
      "outputs": [
        {
          "output_type": "execute_result",
          "data": {
            "text/html": [
              "<div>\n",
              "<style scoped>\n",
              "    .dataframe tbody tr th:only-of-type {\n",
              "        vertical-align: middle;\n",
              "    }\n",
              "\n",
              "    .dataframe tbody tr th {\n",
              "        vertical-align: top;\n",
              "    }\n",
              "\n",
              "    .dataframe thead th {\n",
              "        text-align: right;\n",
              "    }\n",
              "</style>\n",
              "<table border=\"1\" class=\"dataframe\">\n",
              "  <thead>\n",
              "    <tr style=\"text-align: right;\">\n",
              "      <th></th>\n",
              "      <th>image_id</th>\n",
              "      <th>label_ids</th>\n",
              "    </tr>\n",
              "  </thead>\n",
              "  <tbody>\n",
              "    <tr>\n",
              "      <th>1014539</th>\n",
              "      <td>1014540</td>\n",
              "      <td>91 66 59 49 105 218</td>\n",
              "    </tr>\n",
              "    <tr>\n",
              "      <th>1014540</th>\n",
              "      <td>1014541</td>\n",
              "      <td>66 53 7 155 105 128</td>\n",
              "    </tr>\n",
              "    <tr>\n",
              "      <th>1014541</th>\n",
              "      <td>1014542</td>\n",
              "      <td>62 17 222 148 66 98 153 171 184</td>\n",
              "    </tr>\n",
              "    <tr>\n",
              "      <th>1014542</th>\n",
              "      <td>1014543</td>\n",
              "      <td>18 66 137 116 105</td>\n",
              "    </tr>\n",
              "    <tr>\n",
              "      <th>1014543</th>\n",
              "      <td>1014544</td>\n",
              "      <td>220 222 66 203 186</td>\n",
              "    </tr>\n",
              "  </tbody>\n",
              "</table>\n",
              "</div>"
            ],
            "text/plain": [
              "        image_id                        label_ids\n",
              "1014539  1014540              91 66 59 49 105 218\n",
              "1014540  1014541              66 53 7 155 105 128\n",
              "1014541  1014542  62 17 222 148 66 98 153 171 184\n",
              "1014542  1014543                18 66 137 116 105\n",
              "1014543  1014544               220 222 66 203 186"
            ]
          },
          "metadata": {
            "tags": []
          },
          "execution_count": 52
        }
      ]
    },
    {
      "metadata": {
        "id": "kddAYwpNpaGl",
        "colab_type": "code",
        "colab": {
          "base_uri": "https://localhost:8080/",
          "height": 17
        },
        "outputId": "9322de56-0420-4084-ede9-46d588761f1b"
      },
      "cell_type": "code",
      "source": [
        "train_df.set_index('image_id', inplace=True)\n",
        "train_df.to_csv(os.path.join(PATH, 'train_created.csv'))"
      ],
      "execution_count": 53,
      "outputs": []
    },
    {
      "metadata": {
        "id": "cB723oiXsQGg",
        "colab_type": "code",
        "colab": {
          "base_uri": "https://localhost:8080/",
          "height": 17
        },
        "outputId": "9d34c4f4-85d8-4959-ff54-6a50f06a5641"
      },
      "cell_type": "code",
      "source": [
        ""
      ],
      "execution_count": 53,
      "outputs": []
    },
    {
      "metadata": {
        "id": "39nRabI3scmn",
        "colab_type": "text"
      },
      "cell_type": "markdown",
      "source": [
        "We need only the downloaded image's labels in the train.csv"
      ]
    },
    {
      "metadata": {
        "id": "avTHauYesiJL",
        "colab_type": "code",
        "colab": {
          "base_uri": "https://localhost:8080/",
          "height": 34
        },
        "outputId": "b6f98f44-4d10-4805-e97e-38eec15debb7"
      },
      "cell_type": "code",
      "source": [
        "images_downloaded = os.listdir(os.path.join(PATH, 'images_train'))\n",
        "images_ids_downloaded = [im.split('.')[0] for im in images_downloaded]\n",
        "len(images_ids_downloaded)"
      ],
      "execution_count": 54,
      "outputs": [
        {
          "output_type": "execute_result",
          "data": {
            "text/plain": [
              "59763"
            ]
          },
          "metadata": {
            "tags": []
          },
          "execution_count": 54
        }
      ]
    },
    {
      "metadata": {
        "id": "nc9KbXuZszHa",
        "colab_type": "code",
        "colab": {
          "base_uri": "https://localhost:8080/",
          "height": 225
        },
        "outputId": "82c3103f-5a59-41ea-d6ab-0c1882e2e727"
      },
      "cell_type": "code",
      "source": [
        "req_train_df = train_df.loc[images_ids_downloaded]\n",
        "req_train_df.reset_index(inplace=True)\n",
        "req_train_df['image_id'] = req_train_df['image_id'] + '.jpg'\n",
        "req_train_df.set_index('image_id', inplace=True)\n",
        "req_train_df.head()"
      ],
      "execution_count": 72,
      "outputs": [
        {
          "output_type": "execute_result",
          "data": {
            "text/html": [
              "<div>\n",
              "<style scoped>\n",
              "    .dataframe tbody tr th:only-of-type {\n",
              "        vertical-align: middle;\n",
              "    }\n",
              "\n",
              "    .dataframe tbody tr th {\n",
              "        vertical-align: top;\n",
              "    }\n",
              "\n",
              "    .dataframe thead th {\n",
              "        text-align: right;\n",
              "    }\n",
              "</style>\n",
              "<table border=\"1\" class=\"dataframe\">\n",
              "  <thead>\n",
              "    <tr style=\"text-align: right;\">\n",
              "      <th></th>\n",
              "      <th>label_ids</th>\n",
              "    </tr>\n",
              "    <tr>\n",
              "      <th>image_id</th>\n",
              "      <th></th>\n",
              "    </tr>\n",
              "  </thead>\n",
              "  <tbody>\n",
              "    <tr>\n",
              "      <th>41349.jpg</th>\n",
              "      <td>15 66 176 214 181 171</td>\n",
              "    </tr>\n",
              "    <tr>\n",
              "      <th>853.jpg</th>\n",
              "      <td>62 78 79 17 148 66 97 214 105 133</td>\n",
              "    </tr>\n",
              "    <tr>\n",
              "      <th>29908.jpg</th>\n",
              "      <td>190 106 153 74 164</td>\n",
              "    </tr>\n",
              "    <tr>\n",
              "      <th>41327.jpg</th>\n",
              "      <td>51 66 158 186 180</td>\n",
              "    </tr>\n",
              "    <tr>\n",
              "      <th>32116.jpg</th>\n",
              "      <td>169 19 148 66 59 151</td>\n",
              "    </tr>\n",
              "  </tbody>\n",
              "</table>\n",
              "</div>"
            ],
            "text/plain": [
              "                                   label_ids\n",
              "image_id                                    \n",
              "41349.jpg              15 66 176 214 181 171\n",
              "853.jpg    62 78 79 17 148 66 97 214 105 133\n",
              "29908.jpg                 190 106 153 74 164\n",
              "41327.jpg                  51 66 158 186 180\n",
              "32116.jpg               169 19 148 66 59 151"
            ]
          },
          "metadata": {
            "tags": []
          },
          "execution_count": 72
        }
      ]
    },
    {
      "metadata": {
        "id": "inXognPPs-cL",
        "colab_type": "code",
        "colab": {
          "base_uri": "https://localhost:8080/",
          "height": 17
        },
        "outputId": "5d28b46b-f6cf-4299-8eb6-27bd7dbbc73c"
      },
      "cell_type": "code",
      "source": [
        "req_train_df.sort_index()\n",
        "#req_train_df.loc['1']\n",
        "req_train_df.to_csv(os.path.join(PATH, 'train_req.csv'))"
      ],
      "execution_count": 75,
      "outputs": []
    },
    {
      "metadata": {
        "id": "qLZnlK3husrs",
        "colab_type": "code",
        "colab": {
          "base_uri": "https://localhost:8080/",
          "height": 84
        },
        "outputId": "36d6c71d-523d-452d-aa24-77681e3de547"
      },
      "cell_type": "code",
      "source": [
        "!cd data/fashiondata && ls"
      ],
      "execution_count": 57,
      "outputs": [
        {
          "output_type": "stream",
          "text": [
            "images_train\t\t   test.json.zip      train_req.csv\r\n",
            "sample_submission.csv\t   train_created.csv  validation.json\r\n",
            "sample_submission.csv.zip  train.json\t      validation.json.zip\r\n",
            "test.json\t\t   train.json.zip\r\n"
          ],
          "name": "stdout"
        }
      ]
    },
    {
      "metadata": {
        "id": "rXi_s8VGvUve",
        "colab_type": "code",
        "colab": {}
      },
      "cell_type": "code",
      "source": [
        ""
      ],
      "execution_count": 0,
      "outputs": []
    },
    {
      "metadata": {
        "id": "OlBv3_5rvk-G",
        "colab_type": "text"
      },
      "cell_type": "markdown",
      "source": [
        "## **Starting from fastai**"
      ]
    },
    {
      "metadata": {
        "id": "URx4pZ9qvtcd",
        "colab_type": "code",
        "colab": {
          "base_uri": "https://localhost:8080/",
          "height": 17
        },
        "outputId": "ba20dcd7-805b-4bdb-8ce0-b58604b3c2aa"
      },
      "cell_type": "code",
      "source": [
        "%reload_ext autoreload\n",
        "%autoreload 2\n",
        "%matplotlib inline"
      ],
      "execution_count": 58,
      "outputs": []
    },
    {
      "metadata": {
        "id": "BPwmpOBElaM2",
        "colab_type": "text"
      },
      "cell_type": "markdown",
      "source": [
        "fastai Imports"
      ]
    },
    {
      "metadata": {
        "id": "3QMoZk-qvxLb",
        "colab_type": "code",
        "colab": {
          "base_uri": "https://localhost:8080/",
          "height": 17
        },
        "outputId": "3cef83f2-01f2-42fb-fa53-d417db60bb92"
      },
      "cell_type": "code",
      "source": [
        "from fastai.imports import *\n",
        "from fastai.conv_learner import *\n",
        "from fastai.transforms import *\n",
        "from fastai.model import *\n",
        "from fastai.dataset import *\n",
        "from fastai.sgdr import *\n",
        "from fastai.plots import*"
      ],
      "execution_count": 59,
      "outputs": []
    },
    {
      "metadata": {
        "id": "MFI1MuXJmAia",
        "colab_type": "code",
        "colab": {
          "base_uri": "https://localhost:8080/",
          "height": 101
        },
        "outputId": "4c71bba0-bff2-4965-f29a-1f3e3bc25ddc"
      },
      "cell_type": "code",
      "source": [
        "PATH = \"data/fashiondata/\"\n",
        "sz = 24\n",
        "os.makedirs('data/fashiondata/models', exist_ok=True)\n",
        "os.makedirs('data/fashiondata/tmp', exist_ok=True)\n",
        "!ls {PATH}"
      ],
      "execution_count": 65,
      "outputs": [
        {
          "output_type": "stream",
          "text": [
            "images_train\t\t   test.json.zip      train_req.csv\r\n",
            "models\t\t\t   tmp\t\t      validation.json\r\n",
            "sample_submission.csv\t   train_created.csv  validation.json.zip\r\n",
            "sample_submission.csv.zip  train.json\r\n",
            "test.json\t\t   train.json.zip\r\n"
          ],
          "name": "stdout"
        }
      ]
    },
    {
      "metadata": {
        "id": "F0QyLI4eyktO",
        "colab_type": "text"
      },
      "cell_type": "markdown",
      "source": [
        "F1 Score as Metric"
      ]
    },
    {
      "metadata": {
        "id": "E2MdtXwfyjfT",
        "colab_type": "code",
        "colab": {
          "base_uri": "https://localhost:8080/",
          "height": 17
        },
        "outputId": "4ec79be3-8324-4ed6-aa16-020c84841d9f"
      },
      "cell_type": "code",
      "source": [
        "from fastai.imports import *\n",
        "from fastai.transforms import *\n",
        "from fastai.dataset import *\n",
        "from sklearn.metrics import fbeta_score\n",
        "import warnings\n",
        "\n",
        "def f2(preds, targs, start=0.17, end=0.24, step=0.01):\n",
        "    with warnings.catch_warnings():\n",
        "        warnings.simplefilter(\"ignore\")\n",
        "        return max([fbeta_score(targs, (preds>th), 2, average='samples')\n",
        "                    for th in np.arange(start,end,step)])\n",
        "\n",
        "def opt_th(preds, targs, start=0.17, end=0.24, step=0.01):\n",
        "    ths = np.arange(start,end,step)\n",
        "    idx = np.argmax([fbeta_score(targs, (preds>th), 2, average='samples')\n",
        "                for th in ths])\n",
        "    return ths[idx]\n",
        "\n",
        "def get_data(path, tfms,bs,  n, cv_idx):\n",
        "    val_idxs = get_cv_idxs(n, cv_idx)\n",
        "    return ImageClassifierData.from_csv(path, 'train-jpg', f'{path}train_v2.csv', bs, tfms,\n",
        "                                 suffix='.jpg', val_idxs=val_idxs, test_name='test-jpg')\n",
        "\n",
        "def get_data_zoom(f_model, path, sz, bs, n, cv_idx):\n",
        "    tfms = tfms_from_model(f_model, sz, aug_tfms=transforms_top_down, max_zoom=1.05)\n",
        "    return get_data(path, tfms, bs, n, cv_idx)\n",
        "\n",
        "def get_data_pad(f_model, path, sz, bs, n, cv_idx):\n",
        "    transforms_pt = [RandomRotateZoom(9, 0.18, 0.1), RandomLighting(0.05, 0.1), RandomDihedral()]\n",
        "    tfms = tfms_from_model(f_model, sz, aug_tfms=transforms_pt, pad=sz//12)\n",
        "    return get_data(path, tfms, bs, n, cv_idx)"
      ],
      "execution_count": 99,
      "outputs": []
    },
    {
      "metadata": {
        "id": "t34K7sLcmJXg",
        "colab_type": "code",
        "colab": {
          "base_uri": "https://localhost:8080/",
          "height": 134
        },
        "outputId": "96a8b520-445d-4c4b-e81e-5d62c9c06663"
      },
      "cell_type": "code",
      "source": [
        "metric = [f2]\n",
        "# Lets train a model\n",
        "data = ImageClassifierData.from_csv(path=PATH,\n",
        "                                    folder='images_train',\n",
        "                                    csv_fname=f'{PATH}train_req.csv',\n",
        "                                   tfms=tfms_from_model(resnet34, sz))\n",
        "learn = ConvLearner.pretrained(resnet34, data, precompute=True, metrics=metric)\n",
        "learn.fit(0.01, 3)"
      ],
      "execution_count": 100,
      "outputs": [
        {
          "output_type": "display_data",
          "data": {
            "application/vnd.jupyter.widget-view+json": {
              "model_id": "618cb60709bd4f65b82d5891859ff66c",
              "version_minor": 0,
              "version_major": 2
            },
            "text/plain": [
              "HBox(children=(IntProgress(value=0, description='Epoch', max=3), HTML(value='')))"
            ]
          },
          "metadata": {
            "tags": []
          }
        },
        {
          "output_type": "stream",
          "text": [
            "epoch      trn_loss   val_loss   f2         \n",
            "    0      0.363553   0.275496   0.176137  \n",
            " 36%|███▌      | 270/748 [00:08<00:14, 32.45it/s, loss=0.2]"
          ],
          "name": "stdout"
        },
        {
          "output_type": "stream",
          "text": [
            "    1      0.120927   0.10052    0.355648  \n",
            " 73%|███████▎  | 546/748 [00:15<00:05, 35.00it/s, loss=0.102]"
          ],
          "name": "stdout"
        },
        {
          "output_type": "stream",
          "text": [
            "    2      0.098626   0.088094   0.359594  \n",
            "\n"
          ],
          "name": "stdout"
        },
        {
          "output_type": "execute_result",
          "data": {
            "text/plain": [
              "[array([0.08809]), 0.359593829338278]"
            ]
          },
          "metadata": {
            "tags": []
          },
          "execution_count": 100
        }
      ]
    },
    {
      "metadata": {
        "id": "wpl4NQwYmJcN",
        "colab_type": "code",
        "colab": {
          "base_uri": "https://localhost:8080/",
          "height": 34
        },
        "outputId": "98c45500-6ffa-4353-b2e3-2413158fedc5"
      },
      "cell_type": "code",
      "source": [
        "data.val_y.shape"
      ],
      "execution_count": 88,
      "outputs": [
        {
          "output_type": "execute_result",
          "data": {
            "text/plain": [
              "(11952, 226)"
            ]
          },
          "metadata": {
            "tags": []
          },
          "execution_count": 88
        }
      ]
    },
    {
      "metadata": {
        "id": "bPyAdjXimJpy",
        "colab_type": "code",
        "colab": {}
      },
      "cell_type": "code",
      "source": [
        ""
      ],
      "execution_count": 0,
      "outputs": []
    },
    {
      "metadata": {
        "id": "5RPGWvk0mJt1",
        "colab_type": "code",
        "colab": {}
      },
      "cell_type": "code",
      "source": [
        ""
      ],
      "execution_count": 0,
      "outputs": []
    },
    {
      "metadata": {
        "id": "jKbo61enmJwU",
        "colab_type": "code",
        "colab": {}
      },
      "cell_type": "code",
      "source": [
        ""
      ],
      "execution_count": 0,
      "outputs": []
    },
    {
      "metadata": {
        "id": "bZMz4j01mJsM",
        "colab_type": "code",
        "colab": {}
      },
      "cell_type": "code",
      "source": [
        ""
      ],
      "execution_count": 0,
      "outputs": []
    },
    {
      "metadata": {
        "id": "_aI15J6mvy_6",
        "colab_type": "code",
        "colab": {}
      },
      "cell_type": "code",
      "source": [
        "os.makedirs('data/fashiondata/models', exist_ok=True)\n",
        "os.makedirs('data/fashiondata/tmp', exist_ok=True)"
      ],
      "execution_count": 0,
      "outputs": []
    },
    {
      "metadata": {
        "id": "-07nBxNcl_fg",
        "colab_type": "code",
        "colab": {}
      },
      "cell_type": "code",
      "source": [
        ""
      ],
      "execution_count": 0,
      "outputs": []
    },
    {
      "metadata": {
        "id": "cPO0yIvHwAGK",
        "colab_type": "code",
        "colab": {
          "base_uri": "https://localhost:8080/",
          "height": 67
        },
        "outputId": "d37f51b2-45fd-4f45-ceb3-8fc26ce97ac3"
      },
      "cell_type": "code",
      "source": [
        "!cd data/fashiondata && ls"
      ],
      "execution_count": 0,
      "outputs": [
        {
          "output_type": "stream",
          "text": [
            "images_train\t       test.json\t  train.json\r\n",
            "models\t\t       tmp\t\t  train_req.csv\r\n",
            "sample_submission.csv  train_created.csv  validation.json\r\n"
          ],
          "name": "stdout"
        }
      ]
    },
    {
      "metadata": {
        "id": "KdtDa8--wIUJ",
        "colab_type": "code",
        "colab": {}
      },
      "cell_type": "code",
      "source": [
        "from fastai.plots import *"
      ],
      "execution_count": 0,
      "outputs": []
    },
    {
      "metadata": {
        "id": "jB6foirEwNFY",
        "colab_type": "code",
        "colab": {
          "base_uri": "https://localhost:8080/",
          "height": 178
        },
        "outputId": "647f344d-de66-4154-f135-69280f917d51"
      },
      "cell_type": "code",
      "source": [
        "im_path_downloaded = [os.path.join(PATH, 'images_train', x) for x in images_downloaded]\n",
        "plots_from_files(im_path_downloaded[:2])"
      ],
      "execution_count": 0,
      "outputs": [
        {
          "output_type": "error",
          "ename": "NameError",
          "evalue": "ignored",
          "traceback": [
            "\u001b[0;31m---------------------------------------------------------------------------\u001b[0m",
            "\u001b[0;31mNameError\u001b[0m                                 Traceback (most recent call last)",
            "\u001b[0;32m<ipython-input-7-1e69c81b3724>\u001b[0m in \u001b[0;36m<module>\u001b[0;34m()\u001b[0m\n\u001b[0;32m----> 1\u001b[0;31m \u001b[0mim_path_downloaded\u001b[0m \u001b[0;34m=\u001b[0m \u001b[0;34m[\u001b[0m\u001b[0mos\u001b[0m\u001b[0;34m.\u001b[0m\u001b[0mpath\u001b[0m\u001b[0;34m.\u001b[0m\u001b[0mjoin\u001b[0m\u001b[0;34m(\u001b[0m\u001b[0mPATH\u001b[0m\u001b[0;34m,\u001b[0m \u001b[0;34m'images_train'\u001b[0m\u001b[0;34m,\u001b[0m \u001b[0mx\u001b[0m\u001b[0;34m)\u001b[0m \u001b[0;32mfor\u001b[0m \u001b[0mx\u001b[0m \u001b[0;32min\u001b[0m \u001b[0mimages_downloaded\u001b[0m\u001b[0;34m]\u001b[0m\u001b[0;34m\u001b[0m\u001b[0m\n\u001b[0m\u001b[1;32m      2\u001b[0m \u001b[0mplots_from_files\u001b[0m\u001b[0;34m(\u001b[0m\u001b[0mim_path_downloaded\u001b[0m\u001b[0;34m[\u001b[0m\u001b[0;34m:\u001b[0m\u001b[0;36m2\u001b[0m\u001b[0;34m]\u001b[0m\u001b[0;34m)\u001b[0m\u001b[0;34m\u001b[0m\u001b[0m\n",
            "\u001b[0;31mNameError\u001b[0m: name 'images_downloaded' is not defined"
          ]
        }
      ]
    },
    {
      "metadata": {
        "id": "4UnllsYZxWdY",
        "colab_type": "code",
        "colab": {}
      },
      "cell_type": "code",
      "source": [
        ""
      ],
      "execution_count": 0,
      "outputs": []
    },
    {
      "metadata": {
        "id": "NnPABsSBykFl",
        "colab_type": "text"
      },
      "cell_type": "markdown",
      "source": [
        "Use full methods for handling data."
      ]
    },
    {
      "metadata": {
        "id": "fdq7TRf0yn8a",
        "colab_type": "code",
        "colab": {}
      },
      "cell_type": "code",
      "source": [
        "from fastai.imports import *\n",
        "from fastai.transforms import *\n",
        "from fastai.dataset import *\n",
        "from sklearn.metrics import fbeta_score\n",
        "import warnings\n",
        "\n",
        "def f2(preds, targs, start=0.17, end=0.24, step=0.01):\n",
        "    with warnings.catch_warnings():\n",
        "        warnings.simplefilter(\"ignore\")\n",
        "        return max([fbeta_score(targs, (preds>th), 2, average='samples')\n",
        "                    for th in np.arange(start,end,step)])\n",
        "\n",
        "def opt_th(preds, targs, start=0.17, end=0.24, step=0.01):\n",
        "    ths = np.arange(start,end,step)\n",
        "    idx = np.argmax([fbeta_score(targs, (preds>th), 2, average='samples')\n",
        "                for th in ths])\n",
        "    return ths[idx]\n",
        "\n",
        "def get_data(path, tfms,bs,  n, cv_idx):\n",
        "    val_idxs = get_cv_idxs(n, cv_idx)\n",
        "    return ImageClassifierData.from_csv(path, 'train-jpg', f'{path}train_v2.csv', bs, tfms,\n",
        "                                 suffix='.jpg', val_idxs=val_idxs, test_name='test-jpg')\n",
        "\n",
        "def get_data_zoom(f_model, path, sz, bs, n, cv_idx):\n",
        "    tfms = tfms_from_model(f_model, sz, aug_tfms=transforms_top_down, max_zoom=1.05)\n",
        "    return get_data(path, tfms, bs, n, cv_idx)\n",
        "\n",
        "def get_data_pad(f_model, path, sz, bs, n, cv_idx):\n",
        "    transforms_pt = [RandomRotateZoom(9, 0.18, 0.1), RandomLighting(0.05, 0.1), RandomDihedral()]\n",
        "    tfms = tfms_from_model(f_model, sz, aug_tfms=transforms_pt, pad=sz//12)\n",
        "    return get_data(path, tfms, bs, n, cv_idx)"
      ],
      "execution_count": 0,
      "outputs": []
    },
    {
      "metadata": {
        "id": "NcTL3ZrKyojz",
        "colab_type": "code",
        "colab": {}
      },
      "cell_type": "code",
      "source": [
        "metrics=[f2]\n",
        "f_model = resnet34"
      ],
      "execution_count": 0,
      "outputs": []
    },
    {
      "metadata": {
        "id": "9KWdivCDytTL",
        "colab_type": "code",
        "colab": {}
      },
      "cell_type": "code",
      "source": [
        "PATH = 'data/fashiondata/'\n",
        "label_csv = f'{PATH}train_req.csv'\n",
        "n = len(list(open(label_csv)))-1\n",
        "val_idxs = get_cv_idxs(n)"
      ],
      "execution_count": 0,
      "outputs": []
    },
    {
      "metadata": {
        "id": "2m7kgdq4y0jm",
        "colab_type": "code",
        "colab": {}
      },
      "cell_type": "code",
      "source": [
        "def get_data(sz):\n",
        "    tfms = tfms_from_model(resnet34, sz, aug_tfms=transforms_side_on, max_zoom=1.1)\n",
        "    return ImageClassifierData.from_csv(PATH, 'images_train', label_csv, tfms=tfms,\n",
        "                    suffix='.jpg', val_idxs=val_idxs, test_name='images_test')"
      ],
      "execution_count": 0,
      "outputs": []
    },
    {
      "metadata": {
        "id": "ex3pZ1VwzfQF",
        "colab_type": "code",
        "colab": {}
      },
      "cell_type": "code",
      "source": [
        "data = get_data(256)"
      ],
      "execution_count": 0,
      "outputs": []
    },
    {
      "metadata": {
        "id": "EKcs0-k8ziVV",
        "colab_type": "code",
        "colab": {}
      },
      "cell_type": "code",
      "source": [
        "x,y = next(iter(data.val_dl))"
      ],
      "execution_count": 0,
      "outputs": []
    },
    {
      "metadata": {
        "id": "7EHDLnSMzm9V",
        "colab_type": "code",
        "colab": {
          "base_uri": "https://localhost:8080/",
          "height": 4368
        },
        "outputId": "f0762cbe-d3a2-4529-e574-fa8ce926f846"
      },
      "cell_type": "code",
      "source": [
        "x"
      ],
      "execution_count": 0,
      "outputs": [
        {
          "output_type": "execute_result",
          "data": {
            "text/plain": [
              "tensor([[[[ 2.0605e+00,  2.0605e+00,  2.0605e+00,  ...,  1.6944e+00,\n",
              "            1.7099e+00,  1.7099e+00],\n",
              "          [ 2.0605e+00,  2.0605e+00,  2.0605e+00,  ...,  1.6898e+00,\n",
              "            1.6838e+00,  1.6838e+00],\n",
              "          [ 2.0605e+00,  2.0605e+00,  2.0605e+00,  ...,  1.6772e+00,\n",
              "            1.6601e+00,  1.6601e+00],\n",
              "          ...,\n",
              "          [ 3.7415e-01,  2.9455e-01,  3.0980e-01,  ...,  9.7088e-03,\n",
              "           -1.0577e-01, -9.2540e-02],\n",
              "          [ 2.9013e-01,  2.9428e-01,  3.0578e-01,  ...,  1.9394e-01,\n",
              "           -6.3553e-02, -1.7671e-01],\n",
              "          [ 2.9013e-01,  2.9428e-01,  3.0578e-01,  ...,  1.9394e-01,\n",
              "            5.8679e-02, -1.6648e-01]],\n",
              "\n",
              "         [[ 2.0784e+00,  2.0784e+00,  2.0784e+00,  ...,  1.7041e+00,\n",
              "            1.7199e+00,  1.7199e+00],\n",
              "          [ 2.0784e+00,  2.0784e+00,  2.0784e+00,  ...,  1.6994e+00,\n",
              "            1.6933e+00,  1.6933e+00],\n",
              "          [ 2.0784e+00,  2.0784e+00,  2.0784e+00,  ...,  1.6866e+00,\n",
              "            1.6691e+00,  1.6691e+00],\n",
              "          ...,\n",
              "          [ 4.2619e-03, -7.7111e-02, -1.1405e-01,  ..., -4.2083e-01,\n",
              "           -5.7391e-01, -5.6038e-01],\n",
              "          [-8.1632e-02, -7.7392e-02, -1.1815e-01,  ..., -2.3249e-01,\n",
              "           -4.9573e-01, -6.1141e-01],\n",
              "          [-8.1632e-02, -7.7392e-02, -1.1815e-01,  ..., -2.3249e-01,\n",
              "           -3.7077e-01, -6.0096e-01]],\n",
              "\n",
              "         [[ 2.2043e+00,  2.2043e+00,  2.2043e+00,  ...,  1.7967e+00,\n",
              "            1.8125e+00,  1.8125e+00],\n",
              "          [ 2.2043e+00,  2.2043e+00,  2.2043e+00,  ...,  1.7921e+00,\n",
              "            1.7860e+00,  1.7860e+00],\n",
              "          [ 2.2043e+00,  2.2043e+00,  2.2043e+00,  ...,  1.7793e+00,\n",
              "            1.7619e+00,  1.7619e+00],\n",
              "          ...,\n",
              "          [-5.2402e-02, -1.3341e-01, -1.4452e-01,  ..., -3.8846e-01,\n",
              "           -5.5829e-01, -5.4482e-01],\n",
              "          [-1.3791e-01, -9.8834e-02, -9.6368e-02,  ..., -2.3582e-01,\n",
              "           -4.9789e-01, -6.1305e-01],\n",
              "          [-1.3791e-01, -9.8834e-02, -8.7124e-02,  ..., -2.3582e-01,\n",
              "           -3.7348e-01, -6.0265e-01]]],\n",
              "\n",
              "\n",
              "        [[[ 2.2489e+00,  2.2489e+00,  2.2489e+00,  ...,  2.2489e+00,\n",
              "            2.2489e+00,  2.2489e+00],\n",
              "          [ 2.2489e+00,  2.2489e+00,  2.2489e+00,  ...,  2.2489e+00,\n",
              "            2.2489e+00,  2.2489e+00],\n",
              "          [ 2.2428e+00,  2.2428e+00,  2.2428e+00,  ...,  2.2489e+00,\n",
              "            2.2489e+00,  2.2489e+00],\n",
              "          ...,\n",
              "          [ 2.2489e+00,  2.2489e+00,  2.2489e+00,  ...,  2.2489e+00,\n",
              "            2.2489e+00,  2.2489e+00],\n",
              "          [ 2.2489e+00,  2.2489e+00,  2.2489e+00,  ...,  2.2489e+00,\n",
              "            2.2489e+00,  2.2489e+00],\n",
              "          [ 2.2489e+00,  2.2489e+00,  2.2489e+00,  ...,  2.2489e+00,\n",
              "            2.2489e+00,  2.2489e+00]],\n",
              "\n",
              "         [[ 2.4286e+00,  2.4286e+00,  2.4286e+00,  ...,  2.4286e+00,\n",
              "            2.4286e+00,  2.4286e+00],\n",
              "          [ 2.4286e+00,  2.4286e+00,  2.4286e+00,  ...,  2.4286e+00,\n",
              "            2.4286e+00,  2.4286e+00],\n",
              "          [ 2.4223e+00,  2.4223e+00,  2.4223e+00,  ...,  2.4286e+00,\n",
              "            2.4286e+00,  2.4286e+00],\n",
              "          ...,\n",
              "          [ 2.4286e+00,  2.4286e+00,  2.4286e+00,  ...,  2.4286e+00,\n",
              "            2.4286e+00,  2.4286e+00],\n",
              "          [ 2.4286e+00,  2.4286e+00,  2.4286e+00,  ...,  2.4286e+00,\n",
              "            2.4286e+00,  2.4286e+00],\n",
              "          [ 2.4286e+00,  2.4286e+00,  2.4286e+00,  ...,  2.4286e+00,\n",
              "            2.4286e+00,  2.4286e+00]],\n",
              "\n",
              "         [[ 2.6400e+00,  2.6400e+00,  2.6400e+00,  ...,  2.6400e+00,\n",
              "            2.6400e+00,  2.6400e+00],\n",
              "          [ 2.6400e+00,  2.6400e+00,  2.6400e+00,  ...,  2.6400e+00,\n",
              "            2.6400e+00,  2.6400e+00],\n",
              "          [ 2.6337e+00,  2.6337e+00,  2.6337e+00,  ...,  2.6400e+00,\n",
              "            2.6400e+00,  2.6400e+00],\n",
              "          ...,\n",
              "          [ 2.6400e+00,  2.6400e+00,  2.6400e+00,  ...,  2.6400e+00,\n",
              "            2.6400e+00,  2.6400e+00],\n",
              "          [ 2.6400e+00,  2.6400e+00,  2.6400e+00,  ...,  2.6400e+00,\n",
              "            2.6400e+00,  2.6400e+00],\n",
              "          [ 2.6400e+00,  2.6400e+00,  2.6400e+00,  ...,  2.6400e+00,\n",
              "            2.6400e+00,  2.6400e+00]]],\n",
              "\n",
              "\n",
              "        [[[ 2.2489e+00,  2.2489e+00,  2.2489e+00,  ...,  2.2489e+00,\n",
              "            2.2489e+00,  2.2489e+00],\n",
              "          [ 2.2489e+00,  2.2489e+00,  2.2489e+00,  ...,  2.2489e+00,\n",
              "            2.2489e+00,  2.2489e+00],\n",
              "          [ 2.2489e+00,  2.2489e+00,  2.2489e+00,  ...,  2.2489e+00,\n",
              "            2.2489e+00,  2.2489e+00],\n",
              "          ...,\n",
              "          [ 2.2489e+00,  2.2489e+00,  2.2489e+00,  ...,  2.2489e+00,\n",
              "            2.2489e+00,  2.2489e+00],\n",
              "          [ 2.2489e+00,  2.2489e+00,  2.2489e+00,  ...,  2.2489e+00,\n",
              "            2.2489e+00,  2.2489e+00],\n",
              "          [ 2.2489e+00,  2.2489e+00,  2.2489e+00,  ...,  2.2489e+00,\n",
              "            2.2489e+00,  2.2489e+00]],\n",
              "\n",
              "         [[ 2.4286e+00,  2.4286e+00,  2.4286e+00,  ...,  2.4286e+00,\n",
              "            2.4286e+00,  2.4286e+00],\n",
              "          [ 2.4286e+00,  2.4286e+00,  2.4286e+00,  ...,  2.4286e+00,\n",
              "            2.4286e+00,  2.4286e+00],\n",
              "          [ 2.4286e+00,  2.4286e+00,  2.4286e+00,  ...,  2.4286e+00,\n",
              "            2.4286e+00,  2.4286e+00],\n",
              "          ...,\n",
              "          [ 2.4286e+00,  2.4286e+00,  2.4286e+00,  ...,  2.4286e+00,\n",
              "            2.4286e+00,  2.4286e+00],\n",
              "          [ 2.4286e+00,  2.4286e+00,  2.4286e+00,  ...,  2.4286e+00,\n",
              "            2.4286e+00,  2.4286e+00],\n",
              "          [ 2.4286e+00,  2.4286e+00,  2.4286e+00,  ...,  2.4286e+00,\n",
              "            2.4286e+00,  2.4286e+00]],\n",
              "\n",
              "         [[ 2.6400e+00,  2.6400e+00,  2.6400e+00,  ...,  2.6400e+00,\n",
              "            2.6400e+00,  2.6400e+00],\n",
              "          [ 2.6400e+00,  2.6400e+00,  2.6400e+00,  ...,  2.6400e+00,\n",
              "            2.6400e+00,  2.6400e+00],\n",
              "          [ 2.6400e+00,  2.6400e+00,  2.6400e+00,  ...,  2.6400e+00,\n",
              "            2.6400e+00,  2.6400e+00],\n",
              "          ...,\n",
              "          [ 2.6400e+00,  2.6400e+00,  2.6400e+00,  ...,  2.6400e+00,\n",
              "            2.6400e+00,  2.6400e+00],\n",
              "          [ 2.6400e+00,  2.6400e+00,  2.6400e+00,  ...,  2.6400e+00,\n",
              "            2.6400e+00,  2.6400e+00],\n",
              "          [ 2.6400e+00,  2.6400e+00,  2.6400e+00,  ...,  2.6400e+00,\n",
              "            2.6400e+00,  2.6400e+00]]],\n",
              "\n",
              "\n",
              "        ...,\n",
              "\n",
              "\n",
              "        [[[ 2.2333e+00,  2.2333e+00,  2.2333e+00,  ...,  2.2142e+00,\n",
              "            2.2288e+00,  2.2373e+00],\n",
              "          [ 2.2489e+00,  2.2489e+00,  2.2489e+00,  ...,  2.1906e+00,\n",
              "            2.1932e+00,  2.1903e+00],\n",
              "          [ 2.2489e+00,  2.2489e+00,  2.2489e+00,  ...,  2.1960e+00,\n",
              "            2.1608e+00,  2.1349e+00],\n",
              "          ...,\n",
              "          [ 2.1873e+00,  2.2334e+00,  2.2478e+00,  ..., -1.0908e+00,\n",
              "           -8.8559e-01, -7.5246e-01],\n",
              "          [ 2.2376e+00,  2.2474e+00,  2.2382e+00,  ..., -1.1942e+00,\n",
              "           -1.0801e+00, -9.0469e-01],\n",
              "          [ 2.2489e+00,  2.2489e+00,  2.2210e+00,  ..., -1.3700e+00,\n",
              "           -1.2602e+00, -1.1081e+00]],\n",
              "\n",
              "         [[ 2.4126e+00,  2.4126e+00,  2.4126e+00,  ...,  2.3884e+00,\n",
              "            2.3761e+00,  2.3688e+00],\n",
              "          [ 2.4286e+00,  2.4286e+00,  2.4286e+00,  ...,  2.3704e+00,\n",
              "            2.3853e+00,  2.3894e+00],\n",
              "          [ 2.4286e+00,  2.4286e+00,  2.4286e+00,  ...,  2.3950e+00,\n",
              "            2.4034e+00,  2.4023e+00],\n",
              "          ...,\n",
              "          [ 2.4286e+00,  2.4234e+00,  2.4059e+00,  ..., -1.1908e+00,\n",
              "           -1.0066e+00, -8.6526e-01],\n",
              "          [ 2.4286e+00,  2.4286e+00,  2.4136e+00,  ..., -1.2866e+00,\n",
              "           -1.1848e+00, -1.0055e+00],\n",
              "          [ 2.4206e+00,  2.4286e+00,  2.4273e+00,  ..., -1.4230e+00,\n",
              "           -1.3530e+00, -1.1895e+00]],\n",
              "\n",
              "         [[ 2.6241e+00,  2.6241e+00,  2.6241e+00,  ...,  2.6372e+00,\n",
              "            2.6375e+00,  2.6377e+00],\n",
              "          [ 2.6400e+00,  2.6400e+00,  2.6400e+00,  ...,  2.6070e+00,\n",
              "            2.6052e+00,  2.6024e+00],\n",
              "          [ 2.6400e+00,  2.6400e+00,  2.6400e+00,  ...,  2.5975e+00,\n",
              "            2.5806e+00,  2.5665e+00],\n",
              "          ...,\n",
              "          [ 2.6351e+00,  2.6216e+00,  2.5783e+00,  ..., -1.3479e+00,\n",
              "           -1.1847e+00, -1.0826e+00],\n",
              "          [ 2.6249e+00,  2.6081e+00,  2.5903e+00,  ..., -1.4202e+00,\n",
              "           -1.3437e+00, -1.1889e+00],\n",
              "          [ 2.6067e+00,  2.5626e+00,  2.5561e+00,  ..., -1.5617e+00,\n",
              "           -1.5082e+00, -1.3708e+00]]],\n",
              "\n",
              "\n",
              "        [[[ 9.2846e-01,  9.1871e-01,  9.1160e-01,  ...,  9.1036e-01,\n",
              "            9.3547e-01,  9.3134e-01],\n",
              "          [ 9.3057e-01,  9.3083e-01,  9.4743e-01,  ...,  5.8674e-01,\n",
              "            6.0333e-01,  6.0930e-01],\n",
              "          [ 9.7808e-01,  9.6438e-01,  9.3424e-01,  ...,  4.9209e-01,\n",
              "            4.6811e-01,  5.0165e-01],\n",
              "          ...,\n",
              "          [ 1.5184e+00,  1.4961e+00,  1.5384e+00,  ...,  1.7475e+00,\n",
              "            1.6730e+00,  1.5810e+00],\n",
              "          [ 1.5071e+00,  1.5463e+00,  1.5344e+00,  ...,  1.7644e+00,\n",
              "            1.7009e+00,  1.6321e+00],\n",
              "          [ 1.4574e+00,  1.4902e+00,  1.5401e+00,  ...,  1.7646e+00,\n",
              "            1.6841e+00,  1.6038e+00]],\n",
              "\n",
              "         [[ 9.9111e-01,  9.8114e-01,  9.7387e-01,  ...,  9.8437e-01,\n",
              "            1.0100e+00,  1.0058e+00],\n",
              "          [ 9.7576e-01,  9.7603e-01,  9.9919e-01,  ...,  6.5900e-01,\n",
              "            6.7596e-01,  6.8206e-01],\n",
              "          [ 1.0243e+00,  1.0103e+00,  9.7952e-01,  ...,  5.4500e-01,\n",
              "            5.2048e-01,  5.5478e-01],\n",
              "          ...,\n",
              "          [ 1.4192e+00,  1.3963e+00,  1.4522e+00,  ...,  1.9335e+00,\n",
              "            1.8573e+00,  1.7633e+00],\n",
              "          [ 1.4248e+00,  1.4476e+00,  1.4481e+00,  ...,  1.9508e+00,\n",
              "            1.8859e+00,  1.8156e+00],\n",
              "          [ 1.3743e+00,  1.3903e+00,  1.4602e+00,  ...,  1.9510e+00,\n",
              "            1.8686e+00,  1.7866e+00]],\n",
              "\n",
              "         [[ 5.4662e-01,  5.3670e-01,  5.2946e-01,  ...,  7.7523e-01,\n",
              "            8.0884e-01,  8.0500e-01],\n",
              "          [ 5.6674e-01,  5.6700e-01,  5.7719e-01,  ...,  2.3314e-01,\n",
              "            2.5003e-01,  2.9042e-01],\n",
              "          [ 6.6194e-01,  6.4800e-01,  5.8247e-01,  ...,  8.0159e-02,\n",
              "            5.5752e-02,  8.9891e-02],\n",
              "          ...,\n",
              "          [ 1.2342e+00,  1.2120e+00,  1.3145e+00,  ...,  2.0599e+00,\n",
              "            1.9670e+00,  1.8731e+00],\n",
              "          [ 1.1884e+00,  1.2631e+00,  1.3104e+00,  ...,  2.0772e+00,\n",
              "            1.9954e+00,  1.9251e+00],\n",
              "          [ 1.1372e+00,  1.2054e+00,  1.2813e+00,  ...,  2.0774e+00,\n",
              "            1.9782e+00,  1.8963e+00]]],\n",
              "\n",
              "\n",
              "        [[[ 1.8722e+00,  1.8722e+00,  1.8722e+00,  ...,  1.8722e+00,\n",
              "            1.8722e+00,  1.8740e+00],\n",
              "          [ 1.8722e+00,  1.8722e+00,  1.8722e+00,  ...,  1.8893e+00,\n",
              "            1.8724e+00,  1.8722e+00],\n",
              "          [ 1.8722e+00,  1.8722e+00,  1.8722e+00,  ...,  1.8893e+00,\n",
              "            1.8893e+00,  1.8722e+00],\n",
              "          ...,\n",
              "          [ 1.8722e+00,  1.8722e+00,  1.8722e+00,  ...,  1.8722e+00,\n",
              "            1.8722e+00,  1.8722e+00],\n",
              "          [ 1.8722e+00,  1.8722e+00,  1.8722e+00,  ...,  1.8722e+00,\n",
              "            1.8722e+00,  1.8722e+00],\n",
              "          [ 1.8550e+00,  1.8722e+00,  1.8722e+00,  ...,  1.8722e+00,\n",
              "            1.8722e+00,  1.8722e+00]],\n",
              "\n",
              "         [[ 2.0434e+00,  2.0434e+00,  2.0434e+00,  ...,  2.0434e+00,\n",
              "            2.0434e+00,  2.0453e+00],\n",
              "          [ 2.0434e+00,  2.0434e+00,  2.0434e+00,  ...,  2.0609e+00,\n",
              "            2.0437e+00,  2.0434e+00],\n",
              "          [ 2.0434e+00,  2.0434e+00,  2.0434e+00,  ...,  2.0609e+00,\n",
              "            2.0609e+00,  2.0434e+00],\n",
              "          ...,\n",
              "          [ 2.0434e+00,  2.0434e+00,  2.0434e+00,  ...,  2.0434e+00,\n",
              "            2.0434e+00,  2.0434e+00],\n",
              "          [ 2.0434e+00,  2.0434e+00,  2.0434e+00,  ...,  2.0434e+00,\n",
              "            2.0434e+00,  2.0434e+00],\n",
              "          [ 2.0259e+00,  2.0434e+00,  2.0434e+00,  ...,  2.0434e+00,\n",
              "            2.0434e+00,  2.0434e+00]],\n",
              "\n",
              "         [[ 2.2566e+00,  2.2566e+00,  2.2566e+00,  ...,  2.2566e+00,\n",
              "            2.2566e+00,  2.2584e+00],\n",
              "          [ 2.2566e+00,  2.2566e+00,  2.2566e+00,  ...,  2.2740e+00,\n",
              "            2.2568e+00,  2.2566e+00],\n",
              "          [ 2.2566e+00,  2.2566e+00,  2.2566e+00,  ...,  2.2740e+00,\n",
              "            2.2740e+00,  2.2566e+00],\n",
              "          ...,\n",
              "          [ 2.2566e+00,  2.2566e+00,  2.2566e+00,  ...,  2.2566e+00,\n",
              "            2.2566e+00,  2.2566e+00],\n",
              "          [ 2.2566e+00,  2.2566e+00,  2.2566e+00,  ...,  2.2566e+00,\n",
              "            2.2566e+00,  2.2566e+00],\n",
              "          [ 2.2391e+00,  2.2566e+00,  2.2566e+00,  ...,  2.2566e+00,\n",
              "            2.2566e+00,  2.2566e+00]]]])"
            ]
          },
          "metadata": {
            "tags": []
          },
          "execution_count": 14
        }
      ]
    },
    {
      "metadata": {
        "id": "SXS6tdS5zqU9",
        "colab_type": "code",
        "colab": {
          "base_uri": "https://localhost:8080/",
          "height": 134
        },
        "outputId": "a8cc4efc-9d37-4635-9e5c-5e9a9c54494f"
      },
      "cell_type": "code",
      "source": [
        "y"
      ],
      "execution_count": 0,
      "outputs": [
        {
          "output_type": "execute_result",
          "data": {
            "text/plain": [
              "tensor([[ 0.,  0.,  0.,  ...,  0.,  0.,  0.],\n",
              "        [ 0.,  0.,  0.,  ...,  0.,  0.,  0.],\n",
              "        [ 0.,  0.,  0.,  ...,  0.,  0.,  0.],\n",
              "        ...,\n",
              "        [ 0.,  0.,  0.,  ...,  0.,  0.,  0.],\n",
              "        [ 0.,  0.,  0.,  ...,  0.,  1.,  0.],\n",
              "        [ 0.,  0.,  0.,  ...,  1.,  0.,  0.]])"
            ]
          },
          "metadata": {
            "tags": []
          },
          "execution_count": 15
        }
      ]
    },
    {
      "metadata": {
        "id": "WfbhZQ-0zve8",
        "colab_type": "code",
        "colab": {
          "base_uri": "https://localhost:8080/",
          "height": 3847
        },
        "outputId": "d7daa622-c171-4bab-f37d-b2209b91ddb4"
      },
      "cell_type": "code",
      "source": [
        "list(zip(data.classes, y[0]))"
      ],
      "execution_count": 0,
      "outputs": [
        {
          "output_type": "execute_result",
          "data": {
            "text/plain": [
              "[('1', tensor(0.)),\n",
              " ('10', tensor(0.)),\n",
              " ('100', tensor(0.)),\n",
              " ('101', tensor(0.)),\n",
              " ('102', tensor(0.)),\n",
              " ('103', tensor(0.)),\n",
              " ('104', tensor(0.)),\n",
              " ('105', tensor(0.)),\n",
              " ('106', tensor(0.)),\n",
              " ('107', tensor(0.)),\n",
              " ('108', tensor(0.)),\n",
              " ('109', tensor(0.)),\n",
              " ('11', tensor(0.)),\n",
              " ('110', tensor(0.)),\n",
              " ('111', tensor(0.)),\n",
              " ('112', tensor(0.)),\n",
              " ('113', tensor(0.)),\n",
              " ('114', tensor(0.)),\n",
              " ('115', tensor(0.)),\n",
              " ('116', tensor(0.)),\n",
              " ('117', tensor(0.)),\n",
              " ('118', tensor(0.)),\n",
              " ('119', tensor(0.)),\n",
              " ('12', tensor(0.)),\n",
              " ('120', tensor(0.)),\n",
              " ('121', tensor(0.)),\n",
              " ('122', tensor(0.)),\n",
              " ('123', tensor(0.)),\n",
              " ('124', tensor(0.)),\n",
              " ('125', tensor(0.)),\n",
              " ('126', tensor(0.)),\n",
              " ('127', tensor(0.)),\n",
              " ('128', tensor(0.)),\n",
              " ('129', tensor(0.)),\n",
              " ('13', tensor(0.)),\n",
              " ('130', tensor(0.)),\n",
              " ('131', tensor(0.)),\n",
              " ('132', tensor(0.)),\n",
              " ('133', tensor(0.)),\n",
              " ('134', tensor(0.)),\n",
              " ('135', tensor(0.)),\n",
              " ('136', tensor(0.)),\n",
              " ('137', tensor(1.)),\n",
              " ('138', tensor(0.)),\n",
              " ('139', tensor(0.)),\n",
              " ('14', tensor(0.)),\n",
              " ('140', tensor(0.)),\n",
              " ('141', tensor(0.)),\n",
              " ('142', tensor(0.)),\n",
              " ('143', tensor(0.)),\n",
              " ('144', tensor(0.)),\n",
              " ('145', tensor(0.)),\n",
              " ('146', tensor(0.)),\n",
              " ('147', tensor(0.)),\n",
              " ('148', tensor(0.)),\n",
              " ('149', tensor(0.)),\n",
              " ('15', tensor(0.)),\n",
              " ('150', tensor(0.)),\n",
              " ('151', tensor(0.)),\n",
              " ('152', tensor(0.)),\n",
              " ('153', tensor(0.)),\n",
              " ('154', tensor(0.)),\n",
              " ('155', tensor(0.)),\n",
              " ('156', tensor(0.)),\n",
              " ('157', tensor(0.)),\n",
              " ('158', tensor(0.)),\n",
              " ('159', tensor(0.)),\n",
              " ('16', tensor(0.)),\n",
              " ('160', tensor(0.)),\n",
              " ('161', tensor(0.)),\n",
              " ('162', tensor(0.)),\n",
              " ('163', tensor(0.)),\n",
              " ('164', tensor(0.)),\n",
              " ('165', tensor(0.)),\n",
              " ('166', tensor(0.)),\n",
              " ('167', tensor(0.)),\n",
              " ('168', tensor(0.)),\n",
              " ('169', tensor(0.)),\n",
              " ('17', tensor(0.)),\n",
              " ('170', tensor(0.)),\n",
              " ('171', tensor(0.)),\n",
              " ('172', tensor(0.)),\n",
              " ('173', tensor(0.)),\n",
              " ('174', tensor(0.)),\n",
              " ('175', tensor(0.)),\n",
              " ('176', tensor(0.)),\n",
              " ('177', tensor(0.)),\n",
              " ('178', tensor(0.)),\n",
              " ('179', tensor(0.)),\n",
              " ('18', tensor(0.)),\n",
              " ('180', tensor(0.)),\n",
              " ('181', tensor(0.)),\n",
              " ('182', tensor(0.)),\n",
              " ('183', tensor(0.)),\n",
              " ('184', tensor(0.)),\n",
              " ('185', tensor(0.)),\n",
              " ('186', tensor(0.)),\n",
              " ('187', tensor(0.)),\n",
              " ('188', tensor(0.)),\n",
              " ('189', tensor(0.)),\n",
              " ('19', tensor(0.)),\n",
              " ('190', tensor(0.)),\n",
              " ('191', tensor(0.)),\n",
              " ('192', tensor(0.)),\n",
              " ('193', tensor(0.)),\n",
              " ('194', tensor(0.)),\n",
              " ('195', tensor(0.)),\n",
              " ('196', tensor(0.)),\n",
              " ('197', tensor(0.)),\n",
              " ('198', tensor(0.)),\n",
              " ('199', tensor(0.)),\n",
              " ('2', tensor(0.)),\n",
              " ('20', tensor(1.)),\n",
              " ('200', tensor(0.)),\n",
              " ('201', tensor(0.)),\n",
              " ('202', tensor(0.)),\n",
              " ('203', tensor(0.)),\n",
              " ('204', tensor(0.)),\n",
              " ('205', tensor(0.)),\n",
              " ('206', tensor(0.)),\n",
              " ('207', tensor(0.)),\n",
              " ('208', tensor(0.)),\n",
              " ('209', tensor(0.)),\n",
              " ('21', tensor(0.)),\n",
              " ('210', tensor(0.)),\n",
              " ('211', tensor(0.)),\n",
              " ('212', tensor(0.)),\n",
              " ('213', tensor(0.)),\n",
              " ('214', tensor(0.)),\n",
              " ('215', tensor(0.)),\n",
              " ('216', tensor(0.)),\n",
              " ('217', tensor(0.)),\n",
              " ('218', tensor(0.)),\n",
              " ('219', tensor(0.)),\n",
              " ('22', tensor(0.)),\n",
              " ('220', tensor(0.)),\n",
              " ('221', tensor(0.)),\n",
              " ('222', tensor(0.)),\n",
              " ('223', tensor(0.)),\n",
              " ('224', tensor(0.)),\n",
              " ('225', tensor(0.)),\n",
              " ('226', tensor(0.)),\n",
              " ('227', tensor(0.)),\n",
              " ('228', tensor(0.)),\n",
              " ('23', tensor(0.)),\n",
              " ('24', tensor(0.)),\n",
              " ('25', tensor(0.)),\n",
              " ('26', tensor(0.)),\n",
              " ('27', tensor(0.)),\n",
              " ('28', tensor(0.)),\n",
              " ('29', tensor(0.)),\n",
              " ('3', tensor(0.)),\n",
              " ('30', tensor(0.)),\n",
              " ('31', tensor(0.)),\n",
              " ('32', tensor(0.)),\n",
              " ('33', tensor(0.)),\n",
              " ('34', tensor(0.)),\n",
              " ('35', tensor(0.)),\n",
              " ('36', tensor(0.)),\n",
              " ('37', tensor(0.)),\n",
              " ('38', tensor(0.)),\n",
              " ('39', tensor(0.)),\n",
              " ('4', tensor(0.)),\n",
              " ('40', tensor(0.)),\n",
              " ('41', tensor(0.)),\n",
              " ('42', tensor(0.)),\n",
              " ('43', tensor(0.)),\n",
              " ('44', tensor(0.)),\n",
              " ('45', tensor(0.)),\n",
              " ('46', tensor(0.)),\n",
              " ('47', tensor(0.)),\n",
              " ('48', tensor(0.)),\n",
              " ('49', tensor(0.)),\n",
              " ('5', tensor(0.)),\n",
              " ('50', tensor(0.)),\n",
              " ('51', tensor(0.)),\n",
              " ('52', tensor(0.)),\n",
              " ('53', tensor(0.)),\n",
              " ('54', tensor(0.)),\n",
              " ('55', tensor(0.)),\n",
              " ('56', tensor(0.)),\n",
              " ('57', tensor(0.)),\n",
              " ('58', tensor(0.)),\n",
              " ('59', tensor(0.)),\n",
              " ('6', tensor(0.)),\n",
              " ('60', tensor(0.)),\n",
              " ('61', tensor(0.)),\n",
              " ('62', tensor(0.)),\n",
              " ('63', tensor(0.)),\n",
              " ('64', tensor(0.)),\n",
              " ('65', tensor(0.)),\n",
              " ('66', tensor(1.)),\n",
              " ('67', tensor(0.)),\n",
              " ('68', tensor(0.)),\n",
              " ('69', tensor(0.)),\n",
              " ('7', tensor(0.)),\n",
              " ('70', tensor(1.)),\n",
              " ('71', tensor(0.)),\n",
              " ('72', tensor(0.)),\n",
              " ('73', tensor(0.)),\n",
              " ('74', tensor(0.)),\n",
              " ('75', tensor(0.)),\n",
              " ('76', tensor(0.)),\n",
              " ('77', tensor(0.)),\n",
              " ('78', tensor(0.)),\n",
              " ('79', tensor(0.)),\n",
              " ('8', tensor(0.)),\n",
              " ('80', tensor(0.)),\n",
              " ('81', tensor(0.)),\n",
              " ('82', tensor(0.)),\n",
              " ('83', tensor(0.)),\n",
              " ('84', tensor(0.)),\n",
              " ('85', tensor(0.)),\n",
              " ('86', tensor(0.)),\n",
              " ('87', tensor(0.)),\n",
              " ('88', tensor(0.)),\n",
              " ('89', tensor(0.)),\n",
              " ('9', tensor(0.)),\n",
              " ('90', tensor(0.)),\n",
              " ('91', tensor(0.)),\n",
              " ('92', tensor(0.)),\n",
              " ('93', tensor(0.)),\n",
              " ('94', tensor(0.)),\n",
              " ('95', tensor(1.)),\n",
              " ('96', tensor(0.)),\n",
              " ('97', tensor(0.)),\n",
              " ('98', tensor(0.)),\n",
              " ('99', tensor(0.))]"
            ]
          },
          "metadata": {
            "tags": []
          },
          "execution_count": 16
        }
      ]
    },
    {
      "metadata": {
        "id": "YS2MWVp70q6W",
        "colab_type": "code",
        "colab": {}
      },
      "cell_type": "code",
      "source": [
        "sz=64"
      ],
      "execution_count": 0,
      "outputs": []
    },
    {
      "metadata": {
        "id": "CK-24HdR00Ck",
        "colab_type": "code",
        "colab": {}
      },
      "cell_type": "code",
      "source": [
        "data = get_data(sz)"
      ],
      "execution_count": 0,
      "outputs": []
    },
    {
      "metadata": {
        "id": "pGpFU2L-04gD",
        "colab_type": "code",
        "colab": {
          "base_uri": "https://localhost:8080/",
          "height": 50
        },
        "outputId": "b6acc0ce-78cf-4b3d-cf89-0b15f0ff9952"
      },
      "cell_type": "code",
      "source": [
        "data = data.resize(int(sz*1.3), 'tmp')"
      ],
      "execution_count": 0,
      "outputs": [
        {
          "output_type": "display_data",
          "data": {
            "application/vnd.jupyter.widget-view+json": {
              "model_id": "1552e07dc3874c838d7d6deb0beb0c22",
              "version_minor": 0,
              "version_major": 2
            },
            "text/plain": [
              "HBox(children=(IntProgress(value=0, max=6), HTML(value='')))"
            ]
          },
          "metadata": {
            "tags": []
          }
        },
        {
          "output_type": "stream",
          "text": [
            "                                                     \n"
          ],
          "name": "stdout"
        }
      ]
    },
    {
      "metadata": {
        "id": "qFGE_cbf1gWP",
        "colab_type": "code",
        "colab": {}
      },
      "cell_type": "code",
      "source": [
        ""
      ],
      "execution_count": 0,
      "outputs": []
    }
  ]
}