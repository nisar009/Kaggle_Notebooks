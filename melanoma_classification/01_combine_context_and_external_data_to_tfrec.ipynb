{
  "nbformat": 4,
  "nbformat_minor": 0,
  "metadata": {
    "colab": {
      "name": "01_combine_context_and_external_data_to_tfrec.ipynb",
      "provenance": [],
      "collapsed_sections": [],
      "authorship_tag": "ABX9TyN850prEXALpI6+EwRHDx32",
      "include_colab_link": true
    },
    "kernelspec": {
      "name": "python3",
      "display_name": "Python 3"
    }
  },
  "cells": [
    {
      "cell_type": "markdown",
      "metadata": {
        "id": "view-in-github",
        "colab_type": "text"
      },
      "source": [
        "<a href=\"https://colab.research.google.com/github/nisarahamedk/Kaggle_Notebooks/blob/master/melanoma_classification/01_combine_context_and_external_data_to_tfrec.ipynb\" target=\"_parent\"><img src=\"https://colab.research.google.com/assets/colab-badge.svg\" alt=\"Open In Colab\"/></a>"
      ]
    },
    {
      "cell_type": "markdown",
      "metadata": {
        "id": "VTp5PMwSGFGf",
        "colab_type": "text"
      },
      "source": [
        "## Combine context + external data into TFRecords for TPU training."
      ]
    },
    {
      "cell_type": "markdown",
      "metadata": {
        "id": "LCmzkbxIGuCy",
        "colab_type": "text"
      },
      "source": [
        "#### GCSFS for accessing Kaggle GCS bucket directly"
      ]
    },
    {
      "cell_type": "code",
      "metadata": {
        "id": "XClE4lnmGWOd",
        "colab_type": "code",
        "colab": {}
      },
      "source": [
        "%%capture\n",
        "!pip install gcsfs"
      ],
      "execution_count": 0,
      "outputs": []
    },
    {
      "cell_type": "markdown",
      "metadata": {
        "id": "UE0XMsYsIrZq",
        "colab_type": "text"
      },
      "source": [
        "### Imports"
      ]
    },
    {
      "cell_type": "code",
      "metadata": {
        "id": "n7bJiNApItgQ",
        "colab_type": "code",
        "colab": {}
      },
      "source": [
        "import gcsfs\n",
        "import tensorflow as tf\n",
        "import pandas as pd\n",
        "import numpy as np\n",
        "from tqdm import tqdm\n",
        "import cv2"
      ],
      "execution_count": 0,
      "outputs": []
    },
    {
      "cell_type": "code",
      "metadata": {
        "id": "5BDBwlzZGshF",
        "colab_type": "code",
        "colab": {}
      },
      "source": [
        "# isic 2020\n",
        "GCS_PATH_ORIG = \"gs://kds-c89313da1d85616eec461ab327fed61e1335defb486fb7729cf897b1\"\n",
        "GCS_PATH_ORIG_TFR = GCS_PATH_ORIG + \"/tfrecords\"\n",
        "GCS_PATH_ORIG_JPEG_TRAIN = GCS_PATH_ORIG + \"/jpeg/train/\"\n",
        "GCS_PATH_ORIG_JPEG_TEST = GCS_PATH_ORIG + \"/jpeg/test/\"\n",
        "GCS_PATH_ORIG_TRAIN_CSV = GCS_PATH_ORIG + \"/train.csv\"\n",
        "GCS_PATH_ORIG_TEST_CSV = GCS_PATH_ORIG + \"/test.csv\"\n",
        "\n",
        "# isic 2019\n",
        "GCS_PATH_EXT = \"gs://kds-5fd75db31a73c90ab8286af79b4045444797930ff7d68496817c995f\"\n",
        "GCS_PATH_EXT_TRAIN_CSV = GCS_PATH_EXT + \"/ISIC_2019_Training_GroundTruth.csv\"\n",
        "GCS_PATH_EXT_TRAIN_META = GCS_PATH_EXT + \"/ISIC_2019_Training_Metadata.csv\"\n",
        "GCS_PATH_EXT_JPEG_TRAIN = GCS_PATH_EXT + \"/ISIC2019_Training_Input/ISIC2019_Training_Input/\""
      ],
      "execution_count": 0,
      "outputs": []
    },
    {
      "cell_type": "markdown",
      "metadata": {
        "id": "HLRVR3XjKJeS",
        "colab_type": "text"
      },
      "source": [
        "### ISIC 2020 Original Data"
      ]
    },
    {
      "cell_type": "code",
      "metadata": {
        "id": "uONoEjxrKPt8",
        "colab_type": "code",
        "outputId": "3ac03b90-a1f6-4ee6-8fac-f2d1fbba994c",
        "colab": {
          "base_uri": "https://localhost:8080/",
          "height": 195
        }
      },
      "source": [
        "orig_train_df = pd.read_csv(GCS_PATH_ORIG_TRAIN_CSV)\n",
        "orig_train_df.head()"
      ],
      "execution_count": 5,
      "outputs": [
        {
          "output_type": "execute_result",
          "data": {
            "text/html": [
              "<div>\n",
              "<style scoped>\n",
              "    .dataframe tbody tr th:only-of-type {\n",
              "        vertical-align: middle;\n",
              "    }\n",
              "\n",
              "    .dataframe tbody tr th {\n",
              "        vertical-align: top;\n",
              "    }\n",
              "\n",
              "    .dataframe thead th {\n",
              "        text-align: right;\n",
              "    }\n",
              "</style>\n",
              "<table border=\"1\" class=\"dataframe\">\n",
              "  <thead>\n",
              "    <tr style=\"text-align: right;\">\n",
              "      <th></th>\n",
              "      <th>image_name</th>\n",
              "      <th>patient_id</th>\n",
              "      <th>sex</th>\n",
              "      <th>age_approx</th>\n",
              "      <th>anatom_site_general_challenge</th>\n",
              "      <th>diagnosis</th>\n",
              "      <th>benign_malignant</th>\n",
              "      <th>target</th>\n",
              "    </tr>\n",
              "  </thead>\n",
              "  <tbody>\n",
              "    <tr>\n",
              "      <th>0</th>\n",
              "      <td>ISIC_2637011</td>\n",
              "      <td>IP_7279968</td>\n",
              "      <td>male</td>\n",
              "      <td>45.0</td>\n",
              "      <td>head/neck</td>\n",
              "      <td>unknown</td>\n",
              "      <td>benign</td>\n",
              "      <td>0</td>\n",
              "    </tr>\n",
              "    <tr>\n",
              "      <th>1</th>\n",
              "      <td>ISIC_0015719</td>\n",
              "      <td>IP_3075186</td>\n",
              "      <td>female</td>\n",
              "      <td>45.0</td>\n",
              "      <td>upper extremity</td>\n",
              "      <td>unknown</td>\n",
              "      <td>benign</td>\n",
              "      <td>0</td>\n",
              "    </tr>\n",
              "    <tr>\n",
              "      <th>2</th>\n",
              "      <td>ISIC_0052212</td>\n",
              "      <td>IP_2842074</td>\n",
              "      <td>female</td>\n",
              "      <td>50.0</td>\n",
              "      <td>lower extremity</td>\n",
              "      <td>nevus</td>\n",
              "      <td>benign</td>\n",
              "      <td>0</td>\n",
              "    </tr>\n",
              "    <tr>\n",
              "      <th>3</th>\n",
              "      <td>ISIC_0068279</td>\n",
              "      <td>IP_6890425</td>\n",
              "      <td>female</td>\n",
              "      <td>45.0</td>\n",
              "      <td>head/neck</td>\n",
              "      <td>unknown</td>\n",
              "      <td>benign</td>\n",
              "      <td>0</td>\n",
              "    </tr>\n",
              "    <tr>\n",
              "      <th>4</th>\n",
              "      <td>ISIC_0074268</td>\n",
              "      <td>IP_8723313</td>\n",
              "      <td>female</td>\n",
              "      <td>55.0</td>\n",
              "      <td>upper extremity</td>\n",
              "      <td>unknown</td>\n",
              "      <td>benign</td>\n",
              "      <td>0</td>\n",
              "    </tr>\n",
              "  </tbody>\n",
              "</table>\n",
              "</div>"
            ],
            "text/plain": [
              "     image_name  patient_id     sex  ...  diagnosis benign_malignant target\n",
              "0  ISIC_2637011  IP_7279968    male  ...    unknown           benign      0\n",
              "1  ISIC_0015719  IP_3075186  female  ...    unknown           benign      0\n",
              "2  ISIC_0052212  IP_2842074  female  ...      nevus           benign      0\n",
              "3  ISIC_0068279  IP_6890425  female  ...    unknown           benign      0\n",
              "4  ISIC_0074268  IP_8723313  female  ...    unknown           benign      0\n",
              "\n",
              "[5 rows x 8 columns]"
            ]
          },
          "metadata": {
            "tags": []
          },
          "execution_count": 5
        }
      ]
    },
    {
      "cell_type": "code",
      "metadata": {
        "id": "IKxP5NVev506",
        "colab_type": "code",
        "colab": {
          "base_uri": "https://localhost:8080/",
          "height": 332
        },
        "outputId": "c0b50f4e-395d-4059-8628-d59882bfd2a4"
      },
      "source": [
        "print(orig_train_df[\"target\"].value_counts())\n",
        "orig_train_df[\"target\"].hist()"
      ],
      "execution_count": 6,
      "outputs": [
        {
          "output_type": "stream",
          "text": [
            "0    32542\n",
            "1      584\n",
            "Name: target, dtype: int64\n"
          ],
          "name": "stdout"
        },
        {
          "output_type": "execute_result",
          "data": {
            "text/plain": [
              "<matplotlib.axes._subplots.AxesSubplot at 0x7f0f65303780>"
            ]
          },
          "metadata": {
            "tags": []
          },
          "execution_count": 6
        },
        {
          "output_type": "display_data",
          "data": {
            "image/png": "[encoded data removed]",
            "text/plain": [
              "<Figure size 432x288 with 1 Axes>"
            ]
          },
          "metadata": {
            "tags": [],
            "needs_background": "light"
          }
        }
      ]
    },
    {
      "cell_type": "code",
      "metadata": {
        "id": "aKO-Y56QLJca",
        "colab_type": "code",
        "outputId": "95c1fcc2-3f93-418c-a832-f82d97525392",
        "colab": {
          "base_uri": "https://localhost:8080/",
          "height": 195
        }
      },
      "source": [
        "orig_test_df = pd.read_csv(GCS_PATH_ORIG_TEST_CSV)\n",
        "orig_test_df.head()"
      ],
      "execution_count": 7,
      "outputs": [
        {
          "output_type": "execute_result",
          "data": {
            "text/html": [
              "<div>\n",
              "<style scoped>\n",
              "    .dataframe tbody tr th:only-of-type {\n",
              "        vertical-align: middle;\n",
              "    }\n",
              "\n",
              "    .dataframe tbody tr th {\n",
              "        vertical-align: top;\n",
              "    }\n",
              "\n",
              "    .dataframe thead th {\n",
              "        text-align: right;\n",
              "    }\n",
              "</style>\n",
              "<table border=\"1\" class=\"dataframe\">\n",
              "  <thead>\n",
              "    <tr style=\"text-align: right;\">\n",
              "      <th></th>\n",
              "      <th>image_name</th>\n",
              "      <th>patient_id</th>\n",
              "      <th>sex</th>\n",
              "      <th>age_approx</th>\n",
              "      <th>anatom_site_general_challenge</th>\n",
              "    </tr>\n",
              "  </thead>\n",
              "  <tbody>\n",
              "    <tr>\n",
              "      <th>0</th>\n",
              "      <td>ISIC_0052060</td>\n",
              "      <td>IP_3579794</td>\n",
              "      <td>male</td>\n",
              "      <td>70.0</td>\n",
              "      <td>NaN</td>\n",
              "    </tr>\n",
              "    <tr>\n",
              "      <th>1</th>\n",
              "      <td>ISIC_0052349</td>\n",
              "      <td>IP_7782715</td>\n",
              "      <td>male</td>\n",
              "      <td>40.0</td>\n",
              "      <td>lower extremity</td>\n",
              "    </tr>\n",
              "    <tr>\n",
              "      <th>2</th>\n",
              "      <td>ISIC_0058510</td>\n",
              "      <td>IP_7960270</td>\n",
              "      <td>female</td>\n",
              "      <td>55.0</td>\n",
              "      <td>torso</td>\n",
              "    </tr>\n",
              "    <tr>\n",
              "      <th>3</th>\n",
              "      <td>ISIC_0073313</td>\n",
              "      <td>IP_6375035</td>\n",
              "      <td>female</td>\n",
              "      <td>50.0</td>\n",
              "      <td>torso</td>\n",
              "    </tr>\n",
              "    <tr>\n",
              "      <th>4</th>\n",
              "      <td>ISIC_0073502</td>\n",
              "      <td>IP_0589375</td>\n",
              "      <td>female</td>\n",
              "      <td>45.0</td>\n",
              "      <td>lower extremity</td>\n",
              "    </tr>\n",
              "  </tbody>\n",
              "</table>\n",
              "</div>"
            ],
            "text/plain": [
              "     image_name  patient_id     sex  age_approx anatom_site_general_challenge\n",
              "0  ISIC_0052060  IP_3579794    male        70.0                           NaN\n",
              "1  ISIC_0052349  IP_7782715    male        40.0               lower extremity\n",
              "2  ISIC_0058510  IP_7960270  female        55.0                         torso\n",
              "3  ISIC_0073313  IP_6375035  female        50.0                         torso\n",
              "4  ISIC_0073502  IP_0589375  female        45.0               lower extremity"
            ]
          },
          "metadata": {
            "tags": []
          },
          "execution_count": 7
        }
      ]
    },
    {
      "cell_type": "markdown",
      "metadata": {
        "id": "bVkw8dwGKnir",
        "colab_type": "text"
      },
      "source": [
        "Above the tabular features we have.  \n",
        "\n",
        "Actual images in tfrecord format (also available in jpeg)"
      ]
    },
    {
      "cell_type": "code",
      "metadata": {
        "id": "FcZZ5nV9K5U4",
        "colab_type": "code",
        "outputId": "1b09debd-2acc-46bf-bb29-1f4275a740fd",
        "colab": {
          "base_uri": "https://localhost:8080/",
          "height": 54
        }
      },
      "source": [
        "print(tf.io.gfile.listdir(GCS_PATH_ORIG_TFR))"
      ],
      "execution_count": 8,
      "outputs": [
        {
          "output_type": "stream",
          "text": [
            "['test00-687.tfrec', 'test01-687.tfrec', 'test02-687.tfrec', 'test03-687.tfrec', 'test04-687.tfrec', 'test05-687.tfrec', 'test06-687.tfrec', 'test07-687.tfrec', 'test08-687.tfrec', 'test09-687.tfrec', 'test10-687.tfrec', 'test11-687.tfrec', 'test12-687.tfrec', 'test13-687.tfrec', 'test14-687.tfrec', 'test15-677.tfrec', 'train00-2071.tfrec', 'train01-2071.tfrec', 'train02-2071.tfrec', 'train03-2071.tfrec', 'train04-2071.tfrec', 'train05-2071.tfrec', 'train06-2071.tfrec', 'train07-2071.tfrec', 'train08-2071.tfrec', 'train09-2071.tfrec', 'train10-2071.tfrec', 'train11-2071.tfrec', 'train12-2071.tfrec', 'train13-2071.tfrec', 'train14-2071.tfrec', 'train15-2061.tfrec']\n"
          ],
          "name": "stdout"
        }
      ]
    },
    {
      "cell_type": "markdown",
      "metadata": {
        "id": "Mp1BEm5XLXjJ",
        "colab_type": "text"
      },
      "source": [
        "###  External Data - ISIC 2019"
      ]
    },
    {
      "cell_type": "code",
      "metadata": {
        "id": "AhLQPBCoIe1a",
        "colab_type": "code",
        "outputId": "8eea0291-e3c5-4777-a573-ecf0e9e07c26",
        "colab": {
          "base_uri": "https://localhost:8080/",
          "height": 195
        }
      },
      "source": [
        "ext_train_df = pd.read_csv(GCS_PATH_EXT_TRAIN_CSV)\n",
        "ext_train_df.head()"
      ],
      "execution_count": 9,
      "outputs": [
        {
          "output_type": "execute_result",
          "data": {
            "text/html": [
              "<div>\n",
              "<style scoped>\n",
              "    .dataframe tbody tr th:only-of-type {\n",
              "        vertical-align: middle;\n",
              "    }\n",
              "\n",
              "    .dataframe tbody tr th {\n",
              "        vertical-align: top;\n",
              "    }\n",
              "\n",
              "    .dataframe thead th {\n",
              "        text-align: right;\n",
              "    }\n",
              "</style>\n",
              "<table border=\"1\" class=\"dataframe\">\n",
              "  <thead>\n",
              "    <tr style=\"text-align: right;\">\n",
              "      <th></th>\n",
              "      <th>image</th>\n",
              "      <th>MEL</th>\n",
              "      <th>NV</th>\n",
              "      <th>BCC</th>\n",
              "      <th>AK</th>\n",
              "      <th>BKL</th>\n",
              "      <th>DF</th>\n",
              "      <th>VASC</th>\n",
              "      <th>SCC</th>\n",
              "      <th>UNK</th>\n",
              "    </tr>\n",
              "  </thead>\n",
              "  <tbody>\n",
              "    <tr>\n",
              "      <th>0</th>\n",
              "      <td>ISIC_0000000</td>\n",
              "      <td>0.0</td>\n",
              "      <td>1.0</td>\n",
              "      <td>0.0</td>\n",
              "      <td>0.0</td>\n",
              "      <td>0.0</td>\n",
              "      <td>0.0</td>\n",
              "      <td>0.0</td>\n",
              "      <td>0.0</td>\n",
              "      <td>0.0</td>\n",
              "    </tr>\n",
              "    <tr>\n",
              "      <th>1</th>\n",
              "      <td>ISIC_0000001</td>\n",
              "      <td>0.0</td>\n",
              "      <td>1.0</td>\n",
              "      <td>0.0</td>\n",
              "      <td>0.0</td>\n",
              "      <td>0.0</td>\n",
              "      <td>0.0</td>\n",
              "      <td>0.0</td>\n",
              "      <td>0.0</td>\n",
              "      <td>0.0</td>\n",
              "    </tr>\n",
              "    <tr>\n",
              "      <th>2</th>\n",
              "      <td>ISIC_0000002</td>\n",
              "      <td>1.0</td>\n",
              "      <td>0.0</td>\n",
              "      <td>0.0</td>\n",
              "      <td>0.0</td>\n",
              "      <td>0.0</td>\n",
              "      <td>0.0</td>\n",
              "      <td>0.0</td>\n",
              "      <td>0.0</td>\n",
              "      <td>0.0</td>\n",
              "    </tr>\n",
              "    <tr>\n",
              "      <th>3</th>\n",
              "      <td>ISIC_0000003</td>\n",
              "      <td>0.0</td>\n",
              "      <td>1.0</td>\n",
              "      <td>0.0</td>\n",
              "      <td>0.0</td>\n",
              "      <td>0.0</td>\n",
              "      <td>0.0</td>\n",
              "      <td>0.0</td>\n",
              "      <td>0.0</td>\n",
              "      <td>0.0</td>\n",
              "    </tr>\n",
              "    <tr>\n",
              "      <th>4</th>\n",
              "      <td>ISIC_0000004</td>\n",
              "      <td>1.0</td>\n",
              "      <td>0.0</td>\n",
              "      <td>0.0</td>\n",
              "      <td>0.0</td>\n",
              "      <td>0.0</td>\n",
              "      <td>0.0</td>\n",
              "      <td>0.0</td>\n",
              "      <td>0.0</td>\n",
              "      <td>0.0</td>\n",
              "    </tr>\n",
              "  </tbody>\n",
              "</table>\n",
              "</div>"
            ],
            "text/plain": [
              "          image  MEL   NV  BCC   AK  BKL   DF  VASC  SCC  UNK\n",
              "0  ISIC_0000000  0.0  1.0  0.0  0.0  0.0  0.0   0.0  0.0  0.0\n",
              "1  ISIC_0000001  0.0  1.0  0.0  0.0  0.0  0.0   0.0  0.0  0.0\n",
              "2  ISIC_0000002  1.0  0.0  0.0  0.0  0.0  0.0   0.0  0.0  0.0\n",
              "3  ISIC_0000003  0.0  1.0  0.0  0.0  0.0  0.0   0.0  0.0  0.0\n",
              "4  ISIC_0000004  1.0  0.0  0.0  0.0  0.0  0.0   0.0  0.0  0.0"
            ]
          },
          "metadata": {
            "tags": []
          },
          "execution_count": 9
        }
      ]
    },
    {
      "cell_type": "markdown",
      "metadata": {
        "id": "oeChtYDlLWmf",
        "colab_type": "text"
      },
      "source": [
        "Only image names is important to us.  \n",
        "The other columns are skin lesion class. our target variable is MEL - that is Melanoma.\n",
        "Other features are available in."
      ]
    },
    {
      "cell_type": "code",
      "metadata": {
        "id": "H-QX83d1KEKT",
        "colab_type": "code",
        "outputId": "c31e99dd-e9a9-4432-ff76-b021eabfffda",
        "colab": {
          "base_uri": "https://localhost:8080/",
          "height": 195
        }
      },
      "source": [
        "ext_meta_df = pd.read_csv(GCS_PATH_EXT_TRAIN_META)\n",
        "ext_meta_df.head()"
      ],
      "execution_count": 10,
      "outputs": [
        {
          "output_type": "execute_result",
          "data": {
            "text/html": [
              "<div>\n",
              "<style scoped>\n",
              "    .dataframe tbody tr th:only-of-type {\n",
              "        vertical-align: middle;\n",
              "    }\n",
              "\n",
              "    .dataframe tbody tr th {\n",
              "        vertical-align: top;\n",
              "    }\n",
              "\n",
              "    .dataframe thead th {\n",
              "        text-align: right;\n",
              "    }\n",
              "</style>\n",
              "<table border=\"1\" class=\"dataframe\">\n",
              "  <thead>\n",
              "    <tr style=\"text-align: right;\">\n",
              "      <th></th>\n",
              "      <th>image</th>\n",
              "      <th>age_approx</th>\n",
              "      <th>anatom_site_general</th>\n",
              "      <th>lesion_id</th>\n",
              "      <th>sex</th>\n",
              "    </tr>\n",
              "  </thead>\n",
              "  <tbody>\n",
              "    <tr>\n",
              "      <th>0</th>\n",
              "      <td>ISIC_0000000</td>\n",
              "      <td>55.0</td>\n",
              "      <td>anterior torso</td>\n",
              "      <td>NaN</td>\n",
              "      <td>female</td>\n",
              "    </tr>\n",
              "    <tr>\n",
              "      <th>1</th>\n",
              "      <td>ISIC_0000001</td>\n",
              "      <td>30.0</td>\n",
              "      <td>anterior torso</td>\n",
              "      <td>NaN</td>\n",
              "      <td>female</td>\n",
              "    </tr>\n",
              "    <tr>\n",
              "      <th>2</th>\n",
              "      <td>ISIC_0000002</td>\n",
              "      <td>60.0</td>\n",
              "      <td>upper extremity</td>\n",
              "      <td>NaN</td>\n",
              "      <td>female</td>\n",
              "    </tr>\n",
              "    <tr>\n",
              "      <th>3</th>\n",
              "      <td>ISIC_0000003</td>\n",
              "      <td>30.0</td>\n",
              "      <td>upper extremity</td>\n",
              "      <td>NaN</td>\n",
              "      <td>male</td>\n",
              "    </tr>\n",
              "    <tr>\n",
              "      <th>4</th>\n",
              "      <td>ISIC_0000004</td>\n",
              "      <td>80.0</td>\n",
              "      <td>posterior torso</td>\n",
              "      <td>NaN</td>\n",
              "      <td>male</td>\n",
              "    </tr>\n",
              "  </tbody>\n",
              "</table>\n",
              "</div>"
            ],
            "text/plain": [
              "          image  age_approx anatom_site_general lesion_id     sex\n",
              "0  ISIC_0000000        55.0      anterior torso       NaN  female\n",
              "1  ISIC_0000001        30.0      anterior torso       NaN  female\n",
              "2  ISIC_0000002        60.0     upper extremity       NaN  female\n",
              "3  ISIC_0000003        30.0     upper extremity       NaN    male\n",
              "4  ISIC_0000004        80.0     posterior torso       NaN    male"
            ]
          },
          "metadata": {
            "tags": []
          },
          "execution_count": 10
        }
      ]
    },
    {
      "cell_type": "markdown",
      "metadata": {
        "id": "VQIvYAsVNZjV",
        "colab_type": "text"
      },
      "source": [
        "#### Features\n",
        "\n",
        "Features available both the dataset.  \n",
        "\n",
        "* ```image_name```\n",
        "* ```age_approx```\n",
        "* ```anatom_site```\n",
        "* ```sex```\n",
        "* ```patient_id``` / ```lesion_id```\n",
        "\n",
        "Feature in original but not in external\n",
        "\n",
        "* ```diagnosis```\n",
        "\n",
        "#### Label\n",
        "\n",
        "* Original data - ```target``` column\n",
        "* External data - ```MEL``` \n",
        "* Can the other target columns in Ext data be used as the ```diagnosis``` feature?"
      ]
    },
    {
      "cell_type": "markdown",
      "metadata": {
        "id": "IjJGCA_W0Hu5",
        "colab_type": "text"
      },
      "source": [
        "### The Diagnosis Feature\n",
        "\n",
        "* In the original dataset we have a column ```diagnosis```\n",
        "* In the ext dataset, our labels are actually diagnosis classes.\n",
        "* But the nomenclature is a bit different."
      ]
    },
    {
      "cell_type": "markdown",
      "metadata": {
        "id": "PcyR8PKo1Gq9",
        "colab_type": "text"
      },
      "source": [
        "#### Original"
      ]
    },
    {
      "cell_type": "code",
      "metadata": {
        "id": "_0agX1up1KZy",
        "colab_type": "code",
        "colab": {
          "base_uri": "https://localhost:8080/",
          "height": 185
        },
        "outputId": "aafa8b75-292f-4bb7-c942-3b0f03e3d1fb"
      },
      "source": [
        "orig_train_df[\"diagnosis\"].value_counts()"
      ],
      "execution_count": 11,
      "outputs": [
        {
          "output_type": "execute_result",
          "data": {
            "text/plain": [
              "unknown                               27124\n",
              "nevus                                  5193\n",
              "melanoma                                584\n",
              "seborrheic keratosis                    135\n",
              "lentigo NOS                              44\n",
              "lichenoid keratosis                      37\n",
              "solar lentigo                             7\n",
              "cafe-au-lait macule                       1\n",
              "atypical melanocytic proliferation        1\n",
              "Name: diagnosis, dtype: int64"
            ]
          },
          "metadata": {
            "tags": []
          },
          "execution_count": 11
        }
      ]
    },
    {
      "cell_type": "markdown",
      "metadata": {
        "id": "Sg--inOd1Q5E",
        "colab_type": "text"
      },
      "source": [
        "#### External"
      ]
    },
    {
      "cell_type": "code",
      "metadata": {
        "id": "Za74Jzrk1TD2",
        "colab_type": "code",
        "colab": {
          "base_uri": "https://localhost:8080/",
          "height": 195
        },
        "outputId": "b327fcc4-b35f-4009-ebd0-ea1593b46503"
      },
      "source": [
        "ext_train_df.head()"
      ],
      "execution_count": 12,
      "outputs": [
        {
          "output_type": "execute_result",
          "data": {
            "text/html": [
              "<div>\n",
              "<style scoped>\n",
              "    .dataframe tbody tr th:only-of-type {\n",
              "        vertical-align: middle;\n",
              "    }\n",
              "\n",
              "    .dataframe tbody tr th {\n",
              "        vertical-align: top;\n",
              "    }\n",
              "\n",
              "    .dataframe thead th {\n",
              "        text-align: right;\n",
              "    }\n",
              "</style>\n",
              "<table border=\"1\" class=\"dataframe\">\n",
              "  <thead>\n",
              "    <tr style=\"text-align: right;\">\n",
              "      <th></th>\n",
              "      <th>image</th>\n",
              "      <th>MEL</th>\n",
              "      <th>NV</th>\n",
              "      <th>BCC</th>\n",
              "      <th>AK</th>\n",
              "      <th>BKL</th>\n",
              "      <th>DF</th>\n",
              "      <th>VASC</th>\n",
              "      <th>SCC</th>\n",
              "      <th>UNK</th>\n",
              "    </tr>\n",
              "  </thead>\n",
              "  <tbody>\n",
              "    <tr>\n",
              "      <th>0</th>\n",
              "      <td>ISIC_0000000</td>\n",
              "      <td>0.0</td>\n",
              "      <td>1.0</td>\n",
              "      <td>0.0</td>\n",
              "      <td>0.0</td>\n",
              "      <td>0.0</td>\n",
              "      <td>0.0</td>\n",
              "      <td>0.0</td>\n",
              "      <td>0.0</td>\n",
              "      <td>0.0</td>\n",
              "    </tr>\n",
              "    <tr>\n",
              "      <th>1</th>\n",
              "      <td>ISIC_0000001</td>\n",
              "      <td>0.0</td>\n",
              "      <td>1.0</td>\n",
              "      <td>0.0</td>\n",
              "      <td>0.0</td>\n",
              "      <td>0.0</td>\n",
              "      <td>0.0</td>\n",
              "      <td>0.0</td>\n",
              "      <td>0.0</td>\n",
              "      <td>0.0</td>\n",
              "    </tr>\n",
              "    <tr>\n",
              "      <th>2</th>\n",
              "      <td>ISIC_0000002</td>\n",
              "      <td>1.0</td>\n",
              "      <td>0.0</td>\n",
              "      <td>0.0</td>\n",
              "      <td>0.0</td>\n",
              "      <td>0.0</td>\n",
              "      <td>0.0</td>\n",
              "      <td>0.0</td>\n",
              "      <td>0.0</td>\n",
              "      <td>0.0</td>\n",
              "    </tr>\n",
              "    <tr>\n",
              "      <th>3</th>\n",
              "      <td>ISIC_0000003</td>\n",
              "      <td>0.0</td>\n",
              "      <td>1.0</td>\n",
              "      <td>0.0</td>\n",
              "      <td>0.0</td>\n",
              "      <td>0.0</td>\n",
              "      <td>0.0</td>\n",
              "      <td>0.0</td>\n",
              "      <td>0.0</td>\n",
              "      <td>0.0</td>\n",
              "    </tr>\n",
              "    <tr>\n",
              "      <th>4</th>\n",
              "      <td>ISIC_0000004</td>\n",
              "      <td>1.0</td>\n",
              "      <td>0.0</td>\n",
              "      <td>0.0</td>\n",
              "      <td>0.0</td>\n",
              "      <td>0.0</td>\n",
              "      <td>0.0</td>\n",
              "      <td>0.0</td>\n",
              "      <td>0.0</td>\n",
              "      <td>0.0</td>\n",
              "    </tr>\n",
              "  </tbody>\n",
              "</table>\n",
              "</div>"
            ],
            "text/plain": [
              "          image  MEL   NV  BCC   AK  BKL   DF  VASC  SCC  UNK\n",
              "0  ISIC_0000000  0.0  1.0  0.0  0.0  0.0  0.0   0.0  0.0  0.0\n",
              "1  ISIC_0000001  0.0  1.0  0.0  0.0  0.0  0.0   0.0  0.0  0.0\n",
              "2  ISIC_0000002  1.0  0.0  0.0  0.0  0.0  0.0   0.0  0.0  0.0\n",
              "3  ISIC_0000003  0.0  1.0  0.0  0.0  0.0  0.0   0.0  0.0  0.0\n",
              "4  ISIC_0000004  1.0  0.0  0.0  0.0  0.0  0.0   0.0  0.0  0.0"
            ]
          },
          "metadata": {
            "tags": []
          },
          "execution_count": 12
        }
      ]
    },
    {
      "cell_type": "markdown",
      "metadata": {
        "id": "2YMc5iOU1ZBA",
        "colab_type": "text"
      },
      "source": [
        "* Looking at this article. : https://challenge2019.isic-archive.com/\n",
        "* we can merge both the datasets` diagnosis feature.\n",
        "  * Melanoma - Present in both, as MEL in EXT\n",
        "  * Nevus - Present in both, as NV in EXT.\n",
        "  * seborrheic keratosis, solar lentigo, lichenoid keratosis - as BKL in EXT\n",
        "  * Lentigo NOS in ORIG - not in EXT\n",
        "  * cafe-au-lait macule in ORIG - not in EXT\n",
        "  * atypical melanocytic proliferation in ORIG - not in EXT\n",
        "  * BCC in EXT - not in ORIG\n",
        "  * AK in EXT - not in ORIG\n",
        "  * DF in EXT - not in ORIG\n",
        "  * VASC in EXT - not in ORIG\n",
        "  * SCC in EXT - not in ORIG"
      ]
    },
    {
      "cell_type": "markdown",
      "metadata": {
        "id": "AmqYJaIUO8Y5",
        "colab_type": "text"
      },
      "source": [
        "### Combine both ORIG and EXT dataframe"
      ]
    },
    {
      "cell_type": "code",
      "metadata": {
        "id": "v4o0ZdCLQ5iE",
        "colab_type": "code",
        "outputId": "87186f9d-1380-4939-d87d-3a4b037ebf01",
        "colab": {
          "base_uri": "https://localhost:8080/",
          "height": 50
        }
      },
      "source": [
        "# https://www.kaggle.com/shonenkov/merge-external-data\n",
        "\n",
        "# convert diagsnois str to a key that matches external dataset.\n",
        "diagnosis_key = {\n",
        "    \"melanoma\"            : \"MEL\",\n",
        "    \"nevus\"               : \"NV\",\n",
        "    \"seborrheic keratosis\": \"BKL\",\n",
        "    \"lichenoid keratosis\" : \"BKL\",\n",
        "    \"solar lentigo\"       : \"BKL\",\n",
        "    \"lentigo NOS\"         : \"LNOS\",\n",
        "    \"cafe-au-lait macule\" : \"CALM\",\n",
        "    \"atypical melanocytic proliferation\": \"AMP\",\n",
        "    \"unknown\"             : \"UNK\",\n",
        "}\n",
        "\n",
        "dataset = {\n",
        "    'patient_id' : [],\n",
        "    'image_id': [],\n",
        "    'source': [],\n",
        "    'sex': [],\n",
        "    'age_approx': [],\n",
        "    'anatom_site_general_challenge': [],\n",
        "    'diagnosis': [],\n",
        "    'target': [],\n",
        "}\n",
        "\n",
        "# isic2020\n",
        "df_train = pd.read_csv(GCS_PATH_ORIG_TRAIN_CSV, index_col='image_name')\n",
        "for image_id, row in tqdm(df_train.iterrows(), total=df_train.shape[0]):\n",
        "    if image_id in dataset['image_id']:\n",
        "        continue\n",
        "    dataset['patient_id'].append(row['patient_id'])\n",
        "    dataset['image_id'].append(image_id)\n",
        "    dataset['target'].append(row['target'])\n",
        "    dataset['source'].append('ISIC20')\n",
        "    dataset['sex'].append(row['sex'])\n",
        "    dataset['age_approx'].append(row['age_approx'])\n",
        "    dataset['anatom_site_general_challenge'].append(row['anatom_site_general_challenge'])\n",
        "    dataset['diagnosis'].append(diagnosis_key[row['diagnosis']])\n",
        "\n",
        "# isic2019\n",
        "df_gt = pd.read_csv(GCS_PATH_EXT_TRAIN_CSV, index_col='image')\n",
        "df_meta = pd.read_csv(GCS_PATH_EXT_TRAIN_META, index_col='image')\n",
        "for image_id, row in tqdm(df_meta.iterrows(), total=df_meta.shape[0]):\n",
        "    if image_id in dataset['image_id'] or \"downsampled\" in image_id.lower(): # duplicate images in external as per: https://www.kaggle.com/c/siim-isic-melanoma-classification/discussion/155859#878163\n",
        "        continue\n",
        "\n",
        "    dataset['patient_id'].append(row['lesion_id'])\n",
        "    dataset['image_id'].append(image_id)\n",
        "    dataset['target'].append(int(df_gt.loc[image_id]['MEL']))\n",
        "    dataset['source'].append('ISIC19')\n",
        "    dataset['sex'].append(row['sex'])\n",
        "    dataset['age_approx'].append(row['age_approx'])\n",
        "    dataset['anatom_site_general_challenge'].append(\n",
        "        {'anterior torso': 'torso', 'posterior torso': 'torso', 'lateral torso': 'torso'}.get(row['anatom_site_general'], row['anatom_site_general'])\n",
        "    )\n",
        "    # diagnosis\n",
        "    bool_mask = df_gt.loc[image_id].eq(1) # gives True for the column where 1 and False for others\n",
        "    diagnosis = bool_mask.index[bool_mask][0]\n",
        "    dataset['diagnosis'].append(diagnosis)"
      ],
      "execution_count": 13,
      "outputs": [
        {
          "output_type": "stream",
          "text": [
            "100%|██████████| 33126/33126 [00:16<00:00, 2057.13it/s]\n",
            "100%|██████████| 25331/25331 [00:36<00:00, 694.13it/s]\n"
          ],
          "name": "stderr"
        }
      ]
    },
    {
      "cell_type": "code",
      "metadata": {
        "id": "GbULBsKvSgcE",
        "colab_type": "code",
        "outputId": "f8d81d23-9d43-4fb3-b951-8758dd73ee14",
        "colab": {
          "base_uri": "https://localhost:8080/",
          "height": 195
        }
      },
      "source": [
        "combined_df = pd.DataFrame(dataset)\n",
        "combined_df.head()"
      ],
      "execution_count": 14,
      "outputs": [
        {
          "output_type": "execute_result",
          "data": {
            "text/html": [
              "<div>\n",
              "<style scoped>\n",
              "    .dataframe tbody tr th:only-of-type {\n",
              "        vertical-align: middle;\n",
              "    }\n",
              "\n",
              "    .dataframe tbody tr th {\n",
              "        vertical-align: top;\n",
              "    }\n",
              "\n",
              "    .dataframe thead th {\n",
              "        text-align: right;\n",
              "    }\n",
              "</style>\n",
              "<table border=\"1\" class=\"dataframe\">\n",
              "  <thead>\n",
              "    <tr style=\"text-align: right;\">\n",
              "      <th></th>\n",
              "      <th>patient_id</th>\n",
              "      <th>image_id</th>\n",
              "      <th>source</th>\n",
              "      <th>sex</th>\n",
              "      <th>age_approx</th>\n",
              "      <th>anatom_site_general_challenge</th>\n",
              "      <th>diagnosis</th>\n",
              "      <th>target</th>\n",
              "    </tr>\n",
              "  </thead>\n",
              "  <tbody>\n",
              "    <tr>\n",
              "      <th>0</th>\n",
              "      <td>IP_7279968</td>\n",
              "      <td>ISIC_2637011</td>\n",
              "      <td>ISIC20</td>\n",
              "      <td>male</td>\n",
              "      <td>45.0</td>\n",
              "      <td>head/neck</td>\n",
              "      <td>UNK</td>\n",
              "      <td>0</td>\n",
              "    </tr>\n",
              "    <tr>\n",
              "      <th>1</th>\n",
              "      <td>IP_3075186</td>\n",
              "      <td>ISIC_0015719</td>\n",
              "      <td>ISIC20</td>\n",
              "      <td>female</td>\n",
              "      <td>45.0</td>\n",
              "      <td>upper extremity</td>\n",
              "      <td>UNK</td>\n",
              "      <td>0</td>\n",
              "    </tr>\n",
              "    <tr>\n",
              "      <th>2</th>\n",
              "      <td>IP_2842074</td>\n",
              "      <td>ISIC_0052212</td>\n",
              "      <td>ISIC20</td>\n",
              "      <td>female</td>\n",
              "      <td>50.0</td>\n",
              "      <td>lower extremity</td>\n",
              "      <td>NV</td>\n",
              "      <td>0</td>\n",
              "    </tr>\n",
              "    <tr>\n",
              "      <th>3</th>\n",
              "      <td>IP_6890425</td>\n",
              "      <td>ISIC_0068279</td>\n",
              "      <td>ISIC20</td>\n",
              "      <td>female</td>\n",
              "      <td>45.0</td>\n",
              "      <td>head/neck</td>\n",
              "      <td>UNK</td>\n",
              "      <td>0</td>\n",
              "    </tr>\n",
              "    <tr>\n",
              "      <th>4</th>\n",
              "      <td>IP_8723313</td>\n",
              "      <td>ISIC_0074268</td>\n",
              "      <td>ISIC20</td>\n",
              "      <td>female</td>\n",
              "      <td>55.0</td>\n",
              "      <td>upper extremity</td>\n",
              "      <td>UNK</td>\n",
              "      <td>0</td>\n",
              "    </tr>\n",
              "  </tbody>\n",
              "</table>\n",
              "</div>"
            ],
            "text/plain": [
              "   patient_id      image_id  ... diagnosis target\n",
              "0  IP_7279968  ISIC_2637011  ...       UNK      0\n",
              "1  IP_3075186  ISIC_0015719  ...       UNK      0\n",
              "2  IP_2842074  ISIC_0052212  ...        NV      0\n",
              "3  IP_6890425  ISIC_0068279  ...       UNK      0\n",
              "4  IP_8723313  ISIC_0074268  ...       UNK      0\n",
              "\n",
              "[5 rows x 8 columns]"
            ]
          },
          "metadata": {
            "tags": []
          },
          "execution_count": 14
        }
      ]
    },
    {
      "cell_type": "markdown",
      "metadata": {
        "id": "w_tYYtKfZysN",
        "colab_type": "text"
      },
      "source": [
        "#### Impute missing values"
      ]
    },
    {
      "cell_type": "code",
      "metadata": {
        "id": "__g35b5aZz1H",
        "colab_type": "code",
        "colab": {
          "base_uri": "https://localhost:8080/",
          "height": 269
        },
        "outputId": "8b501112-5732-46ba-d60f-5f01155493c3"
      },
      "source": [
        "combined_df.info()"
      ],
      "execution_count": 85,
      "outputs": [
        {
          "output_type": "stream",
          "text": [
            "<class 'pandas.core.frame.DataFrame'>\n",
            "RangeIndex: 56383 entries, 0 to 56382\n",
            "Data columns (total 8 columns):\n",
            " #   Column                         Non-Null Count  Dtype  \n",
            "---  ------                         --------------  -----  \n",
            " 0   patient_id                     56383 non-null  object \n",
            " 1   image_id                       56383 non-null  object \n",
            " 2   source                         56383 non-null  object \n",
            " 3   sex                            56383 non-null  object \n",
            " 4   age_approx                     56383 non-null  float64\n",
            " 5   anatom_site_general_challenge  56383 non-null  object \n",
            " 6   diagnosis                      56383 non-null  object \n",
            " 7   target                         56383 non-null  int64  \n",
            "dtypes: float64(1), int64(1), object(6)\n",
            "memory usage: 3.4+ MB\n"
          ],
          "name": "stdout"
        }
      ]
    },
    {
      "cell_type": "code",
      "metadata": {
        "id": "tPVkDN2VZ3sm",
        "colab_type": "code",
        "colab": {}
      },
      "source": [
        "combined_df[\"patient_id\"].fillna(\"UNKNOWN_ID\", inplace=True)\n",
        "combined_df[\"sex\"].fillna(\"Unknown\", inplace=True)\n",
        "combined_df[\"age_approx\"].fillna(0.0, inplace=True)\n",
        "combined_df[\"anatom_site_general_challenge\"].fillna(\"Unknown\", inplace=True)"
      ],
      "execution_count": 0,
      "outputs": []
    },
    {
      "cell_type": "markdown",
      "metadata": {
        "id": "ZBSJlvj_9_cK",
        "colab_type": "text"
      },
      "source": [
        "### Some Histogram Check"
      ]
    },
    {
      "cell_type": "markdown",
      "metadata": {
        "id": "wtrjEVta-Evp",
        "colab_type": "text"
      },
      "source": [
        "#### Data Source"
      ]
    },
    {
      "cell_type": "code",
      "metadata": {
        "id": "V8uT7InvS3ER",
        "colab_type": "code",
        "outputId": "33b4faf0-bc71-4b43-b0f2-7c1270b012bd",
        "colab": {
          "base_uri": "https://localhost:8080/",
          "height": 332
        }
      },
      "source": [
        "print(combined_df['source'].value_counts())\n",
        "combined_df['source'].hist()"
      ],
      "execution_count": 87,
      "outputs": [
        {
          "output_type": "stream",
          "text": [
            "ISIC20    33126\n",
            "ISIC19    23257\n",
            "Name: source, dtype: int64\n"
          ],
          "name": "stdout"
        },
        {
          "output_type": "execute_result",
          "data": {
            "text/plain": [
              "<matplotlib.axes._subplots.AxesSubplot at 0x7f0f5276a2b0>"
            ]
          },
          "metadata": {
            "tags": []
          },
          "execution_count": 87
        },
        {
          "output_type": "display_data",
          "data": {
            "image/png": "[encoded data removed]",
            "text/plain": [
              "<Figure size 432x288 with 1 Axes>"
            ]
          },
          "metadata": {
            "tags": [],
            "needs_background": "light"
          }
        }
      ]
    },
    {
      "cell_type": "markdown",
      "metadata": {
        "id": "N8g20G40-HGK",
        "colab_type": "text"
      },
      "source": [
        "#### Target distribution"
      ]
    },
    {
      "cell_type": "code",
      "metadata": {
        "id": "eTpWZB0TTCwn",
        "colab_type": "code",
        "outputId": "39994911-6225-4ab4-e5df-d9da1107721a",
        "colab": {
          "base_uri": "https://localhost:8080/",
          "height": 332
        }
      },
      "source": [
        "print(combined_df[\"target\"].value_counts())\n",
        "combined_df[\"target\"].hist()"
      ],
      "execution_count": 88,
      "outputs": [
        {
          "output_type": "stream",
          "text": [
            "0    51651\n",
            "1     4732\n",
            "Name: target, dtype: int64\n"
          ],
          "name": "stdout"
        },
        {
          "output_type": "execute_result",
          "data": {
            "text/plain": [
              "<matplotlib.axes._subplots.AxesSubplot at 0x7f0f617f2d68>"
            ]
          },
          "metadata": {
            "tags": []
          },
          "execution_count": 88
        },
        {
          "output_type": "display_data",
          "data": {
            "image/png": "[encoded data removed]",
            "text/plain": [
              "<Figure size 432x288 with 1 Axes>"
            ]
          },
          "metadata": {
            "tags": [],
            "needs_background": "light"
          }
        }
      ]
    },
    {
      "cell_type": "markdown",
      "metadata": {
        "id": "YWEV7b1w-LNC",
        "colab_type": "text"
      },
      "source": [
        "#### Gender distribution"
      ]
    },
    {
      "cell_type": "code",
      "metadata": {
        "id": "fOzffiug9hvf",
        "colab_type": "code",
        "colab": {
          "base_uri": "https://localhost:8080/",
          "height": 349
        },
        "outputId": "bb42629a-8eab-40a7-cfe1-a91c6209371e"
      },
      "source": [
        "print(combined_df[\"sex\"].value_counts())\n",
        "combined_df[\"sex\"].hist()"
      ],
      "execution_count": 89,
      "outputs": [
        {
          "output_type": "stream",
          "text": [
            "male       29359\n",
            "female     26755\n",
            "Unknown      269\n",
            "Name: sex, dtype: int64\n"
          ],
          "name": "stdout"
        },
        {
          "output_type": "execute_result",
          "data": {
            "text/plain": [
              "<matplotlib.axes._subplots.AxesSubplot at 0x7f0f63741978>"
            ]
          },
          "metadata": {
            "tags": []
          },
          "execution_count": 89
        },
        {
          "output_type": "display_data",
          "data": {
            "image/png": "[encoded data removed]",
            "text/plain": [
              "<Figure size 432x288 with 1 Axes>"
            ]
          },
          "metadata": {
            "tags": [],
            "needs_background": "light"
          }
        }
      ]
    },
    {
      "cell_type": "markdown",
      "metadata": {
        "id": "STYKC4em-OUV",
        "colab_type": "text"
      },
      "source": [
        "#### Lesion Location Distribution"
      ]
    },
    {
      "cell_type": "code",
      "metadata": {
        "id": "08OzxKKk9103",
        "colab_type": "code",
        "colab": {
          "base_uri": "https://localhost:8080/",
          "height": 416
        },
        "outputId": "f72c3772-a841-4b04-ca01-19f237742c6d"
      },
      "source": [
        "print(combined_df[\"anatom_site_general_challenge\"].value_counts())\n",
        "combined_df[\"anatom_site_general_challenge\"].hist()"
      ],
      "execution_count": 90,
      "outputs": [
        {
          "output_type": "stream",
          "text": [
            "torso              26000\n",
            "lower extremity    13151\n",
            "upper extremity     7632\n",
            "head/neck           6241\n",
            "Unknown             2410\n",
            "palms/soles          766\n",
            "oral/genital         183\n",
            "Name: anatom_site_general_challenge, dtype: int64\n"
          ],
          "name": "stdout"
        },
        {
          "output_type": "execute_result",
          "data": {
            "text/plain": [
              "<matplotlib.axes._subplots.AxesSubplot at 0x7f0f51e33b38>"
            ]
          },
          "metadata": {
            "tags": []
          },
          "execution_count": 90
        },
        {
          "output_type": "display_data",
          "data": {
            "image/png": "[encoded data removed]",
            "text/plain": [
              "<Figure size 432x288 with 1 Axes>"
            ]
          },
          "metadata": {
            "tags": [],
            "needs_background": "light"
          }
        }
      ]
    },
    {
      "cell_type": "markdown",
      "metadata": {
        "id": "mo3hI8cB_PJF",
        "colab_type": "text"
      },
      "source": [
        "#### Age Distribution"
      ]
    },
    {
      "cell_type": "code",
      "metadata": {
        "id": "tN4ioKGF_S-9",
        "colab_type": "code",
        "colab": {
          "base_uri": "https://localhost:8080/",
          "height": 620
        },
        "outputId": "b29638a6-6b17-4b9e-886b-2c930eca9537"
      },
      "source": [
        "print(combined_df[\"age_approx\"].value_counts())\n",
        "combined_df[\"age_approx\"].hist()"
      ],
      "execution_count": 91,
      "outputs": [
        {
          "output_type": "stream",
          "text": [
            "45.0    6880\n",
            "50.0    6606\n",
            "55.0    5857\n",
            "40.0    5695\n",
            "60.0    5101\n",
            "65.0    4441\n",
            "35.0    4403\n",
            "70.0    3921\n",
            "30.0    3468\n",
            "75.0    2658\n",
            "25.0    2144\n",
            "80.0    1789\n",
            "85.0    1398\n",
            "20.0    1023\n",
            "0.0      347\n",
            "15.0     326\n",
            "10.0     136\n",
            "5.0      110\n",
            "90.0      80\n",
            "Name: age_approx, dtype: int64\n"
          ],
          "name": "stdout"
        },
        {
          "output_type": "execute_result",
          "data": {
            "text/plain": [
              "<matplotlib.axes._subplots.AxesSubplot at 0x7f0f51d5d780>"
            ]
          },
          "metadata": {
            "tags": []
          },
          "execution_count": 91
        },
        {
          "output_type": "display_data",
          "data": {
            "image/png": "[encoded data removed]",
            "text/plain": [
              "<Figure size 432x288 with 1 Axes>"
            ]
          },
          "metadata": {
            "tags": [],
            "needs_background": "light"
          }
        }
      ]
    },
    {
      "cell_type": "markdown",
      "metadata": {
        "id": "RvF0PnIq-S42",
        "colab_type": "text"
      },
      "source": [
        "#### Diagnosis Distribution"
      ]
    },
    {
      "cell_type": "code",
      "metadata": {
        "id": "Lk5RRLga-XQP",
        "colab_type": "code",
        "colab": {
          "base_uri": "https://localhost:8080/",
          "height": 500
        },
        "outputId": "61006c7f-e4f9-47ee-bbec-5ab4521e9aa9"
      },
      "source": [
        "print(combined_df[\"diagnosis\"].value_counts())\n",
        "combined_df[\"diagnosis\"].hist()"
      ],
      "execution_count": 92,
      "outputs": [
        {
          "output_type": "stream",
          "text": [
            "UNK     27124\n",
            "NV      16752\n",
            "MEL      4732\n",
            "BCC      3323\n",
            "BKL      2419\n",
            "AK        867\n",
            "SCC       628\n",
            "VASC      253\n",
            "DF        239\n",
            "LNOS       44\n",
            "CALM        1\n",
            "AMP         1\n",
            "Name: diagnosis, dtype: int64\n"
          ],
          "name": "stdout"
        },
        {
          "output_type": "execute_result",
          "data": {
            "text/plain": [
              "<matplotlib.axes._subplots.AxesSubplot at 0x7f0f51cdbef0>"
            ]
          },
          "metadata": {
            "tags": []
          },
          "execution_count": 92
        },
        {
          "output_type": "display_data",
          "data": {
            "image/png": "[encoded data removed]",
            "text/plain": [
              "<Figure size 432x288 with 1 Axes>"
            ]
          },
          "metadata": {
            "tags": [],
            "needs_background": "light"
          }
        }
      ]
    },
    {
      "cell_type": "markdown",
      "metadata": {
        "id": "5CDroXrr_oUo",
        "colab_type": "text"
      },
      "source": [
        "#### # of images per patient"
      ]
    },
    {
      "cell_type": "code",
      "metadata": {
        "id": "HEKTN7Yu_u8z",
        "colab_type": "code",
        "colab": {
          "base_uri": "https://localhost:8080/",
          "height": 218
        },
        "outputId": "10b5d30c-1bf2-46c1-8415-5ab894774932"
      },
      "source": [
        "print(combined_df[\"patient_id\"].value_counts())"
      ],
      "execution_count": 93,
      "outputs": [
        {
          "output_type": "stream",
          "text": [
            "UNKNOWN_ID     826\n",
            "IP_7279968     115\n",
            "IP_4479736     115\n",
            "IP_4382720     115\n",
            "IP_4938382     115\n",
            "              ... \n",
            "HAM_0002052      1\n",
            "HAM_0001316      1\n",
            "HAM_0002492      1\n",
            "HAM_0003051      1\n",
            "HAM_0003445      1\n",
            "Name: patient_id, Length: 13106, dtype: int64\n"
          ],
          "name": "stdout"
        }
      ]
    },
    {
      "cell_type": "markdown",
      "metadata": {
        "id": "2a9zd2yMUl6H",
        "colab_type": "text"
      },
      "source": [
        "### Creating TFRecords - Image + Context"
      ]
    },
    {
      "cell_type": "markdown",
      "metadata": {
        "id": "_wR6NepidunI",
        "colab_type": "text"
      },
      "source": [
        "TODO: We may have to consider the cross validation policies while creating TFRecords"
      ]
    },
    {
      "cell_type": "code",
      "metadata": {
        "id": "HcYdzdMSViet",
        "colab_type": "code",
        "colab": {}
      },
      "source": [
        "# https://www.tensorflow.org/tutorials/load_data/tfrecord\n",
        "\n",
        "# The following functions can be used to convert a value to a type compatible\n",
        "# with tf.Example.\n",
        "\n",
        "def _bytes_feature(value):\n",
        "  \"\"\"Returns a bytes_list from a string / byte.\"\"\"\n",
        "  if isinstance(value, type(tf.constant(0))):\n",
        "    value = value.numpy() # BytesList won't unpack a string from an EagerTensor.\n",
        "  return tf.train.Feature(bytes_list=tf.train.BytesList(value=[value]))\n",
        "\n",
        "def _float_feature(value):\n",
        "  \"\"\"Returns a float_list from a float / double.\"\"\"\n",
        "  return tf.train.Feature(float_list=tf.train.FloatList(value=[value]))\n",
        "\n",
        "def _int64_feature(value):\n",
        "  \"\"\"Returns an int64_list from a bool / enum / int / uint.\"\"\"\n",
        "  return tf.train.Feature(int64_list=tf.train.Int64List(value=[value]))"
      ],
      "execution_count": 0,
      "outputs": []
    },
    {
      "cell_type": "code",
      "metadata": {
        "id": "OwEpgEMwXpPb",
        "colab_type": "code",
        "colab": {}
      },
      "source": [
        "def serialize_example(patient_id, image_id, image, source, sex, age_approx, anatom_site_general_challenge, diagnosis, target):\n",
        "  feature = {\n",
        "      'patient_id': _bytes_feature(patient_id),\n",
        "      'image_id': _bytes_feature(image_id),\n",
        "      'image': _bytes_feature(image),\n",
        "      'source': _bytes_feature(source),\n",
        "      'sex': _bytes_feature(sex),\n",
        "      'age_approx': _int64_feature(age_approx),\n",
        "      'anatom_site_general_challenge': _bytes_feature(anatom_site_general_challenge),\n",
        "      'diagnosis': _bytes_feature(diagnosis),\n",
        "      'target': _int64_feature(target)\n",
        "  }\n",
        "  example_proto = tf.train.Example(features=tf.train.Features(feature=feature))\n",
        "  return example_proto.SerializeToString()"
      ],
      "execution_count": 0,
      "outputs": []
    },
    {
      "cell_type": "markdown",
      "metadata": {
        "id": "649_YG86MtCT",
        "colab_type": "text"
      },
      "source": [
        "Lets create separate tfrecord files for ORIGINAL and EXT datasets"
      ]
    },
    {
      "cell_type": "code",
      "metadata": {
        "id": "jOUUkgk6k9Qa",
        "colab_type": "code",
        "colab": {}
      },
      "source": [
        "orig_train_df = combined_df[combined_df[\"source\"] == \"ISIC20\"]\n",
        "ext_train_df = combined_df[combined_df[\"source\"] == \"ISIC19\"]"
      ],
      "execution_count": 0,
      "outputs": []
    },
    {
      "cell_type": "code",
      "metadata": {
        "id": "8fuTjTy-TdBi",
        "colab_type": "code",
        "colab": {
          "base_uri": "https://localhost:8080/",
          "height": 34
        },
        "outputId": "80a01ab2-90c5-4bdd-a461-f350c6cbf517"
      },
      "source": [
        "len(orig_train_df), len(ext_train_df)"
      ],
      "execution_count": 97,
      "outputs": [
        {
          "output_type": "execute_result",
          "data": {
            "text/plain": [
              "(33126, 23257)"
            ]
          },
          "metadata": {
            "tags": []
          },
          "execution_count": 97
        }
      ]
    },
    {
      "cell_type": "code",
      "metadata": {
        "id": "6IiEbM25PDIY",
        "colab_type": "code",
        "colab": {
          "base_uri": "https://localhost:8080/",
          "height": 34
        },
        "outputId": "203a2b94-af45-4bdf-b736-9b913e028826"
      },
      "source": [
        "# def create_tfrecords_from_df(df, n_files=16)\n",
        "df = orig_train_df\n",
        "n_files = 16\n",
        "\n",
        "dfs_split = np.array_split(df, n_files)\n",
        "\n",
        "# for df in dfs_split:\n",
        "df = dfs_split[0]\n",
        "part = 0\n",
        "size = len(df)\n",
        "with tf.io.TFRecordWriter(f\"train_orig_part_{part}_{size}.tfrec\") as writer:\n",
        "  for index, row in tqdm(df.iterrows(), total=size):\n",
        "    patient_id = row[\"patient_id\"]\n",
        "    image_id = row[\"image_id\"]\n",
        "    image = tf.io.read_file(GCS_PATH_ORIG_JPEG_TRAIN + image_id + \".jpg\")\n",
        "    # img = cv2.cvtColor(img, cv2.COLOR_RGB2BGR) # Fix incorrect colors, need this?a\n",
        "    source = row[\"source\"]\n",
        "    sex = row[\"sex\"]\n",
        "    age_approx = row[\"age_approx\"]\n",
        "    anatom_site_general_challenge = row[\"anatom_site_general_challenge\"]\n",
        "    diagnosis = row[\"diagnosis\"]\n",
        "    target = row[\"target\"]\n",
        "\n",
        "    example = serialize_example(\n",
        "        patient_id=patient_id.encode(),\n",
        "        image_id=image_id.encode(),\n",
        "        image=image,\n",
        "        source=source.encode(),\n",
        "        sex=sex.encode(),\n",
        "        age_approx=int(age_approx),\n",
        "        anatom_site_general_challenge=anatom_site_general_challenge.encode(),\n",
        "        diagnosis=diagnosis.encode(),\n",
        "        target=target,\n",
        "    )\n",
        "    writer.write(example)\n"
      ],
      "execution_count": 98,
      "outputs": [
        {
          "output_type": "stream",
          "text": [
            "100%|██████████| 2071/2071 [01:06<00:00, 31.34it/s]\n"
          ],
          "name": "stderr"
        }
      ]
    },
    {
      "cell_type": "markdown",
      "metadata": {
        "id": "rsw0BtIZYQmd",
        "colab_type": "text"
      },
      "source": [
        "#### Check the TFRecord files"
      ]
    },
    {
      "cell_type": "markdown",
      "metadata": {
        "id": "8QGdKra6ashx",
        "colab_type": "text"
      },
      "source": [
        "Feature spec"
      ]
    },
    {
      "cell_type": "code",
      "metadata": {
        "id": "XAhOaubAbAoh",
        "colab_type": "code",
        "colab": {}
      },
      "source": [
        "train_feature_desc = {\n",
        "    \"patient_id\": tf.io.FixedLenFeature([], tf.string),\n",
        "    \"image_id\": tf.io.FixedLenFeature([], tf.string),\n",
        "    \"image\": tf.io.FixedLenFeature([], tf.string),\n",
        "    \"source\": tf.io.FixedLenFeature([], tf.string),\n",
        "    \"sex\": tf.io.FixedLenFeature([], tf.string),\n",
        "    \"age_approx\": tf.io.FixedLenFeature([], tf.int64),\n",
        "    \"anatom_site_general_challenge\": tf.io.FixedLenFeature([], tf.string),\n",
        "    \"diagnosis\": tf.io.FixedLenFeature([], tf.string),\n",
        "    \"target\": tf.io.FixedLenFeature([], tf.int64),\n",
        "}"
      ],
      "execution_count": 0,
      "outputs": []
    },
    {
      "cell_type": "code",
      "metadata": {
        "id": "DPuhqi8SbiFe",
        "colab_type": "code",
        "colab": {}
      },
      "source": [
        "TPU_IMAGE_SIZE = 1024\n",
        "INPUT_IMAGE_SIZE = 512\n",
        "\n",
        "def decode_image(image_data):\n",
        "    image_size = [TPU_IMAGE_SIZE, TPU_IMAGE_SIZE]\n",
        "    image = tf.image.decode_jpeg(image_data, channels=3)\n",
        "    image = tf.cast(image, tf.float32) / 255.0\n",
        "    image = tf.reshape(image, [*image_size, 3])  # explicit size needed for TPU\n",
        "    image = tf.image.resize(image, [INPUT_IMAGE_SIZE, INPUT_IMAGE_SIZE])\n",
        "    return image\n",
        "                           \n",
        "def parse_train_example(example):\n",
        "    \"\"\" function to parse each example read from the train tfrecord file\"\"\"\n",
        "    example = tf.io.parse_single_example(example, train_feature_desc)\n",
        "    return example\n",
        "\n",
        "def process_train_example(example):\n",
        "    image = decode_image(example[\"image\"])\n",
        "    label = tf.cast(example[\"target\"], tf.int32)\n",
        "    return image, label\n",
        "    \n",
        "def load_dataset_from_tfrecord(filenames, ds_type=\"train\", ordered=False):\n",
        "    \n",
        "    # Since we are reading dataset from multiple files. and we dont care about the order.\n",
        "    # set deterministic reading to False.\n",
        "    ignore_order = tf.data.Options()\n",
        "    if not ordered:\n",
        "        ignore_order.experimental_deterministic = False\n",
        "        \n",
        "    dataset = tf.data.TFRecordDataset(filenames, num_parallel_reads=tf.data.experimental.AUTOTUNE)\n",
        "    dataset.with_options(ignore_order)\n",
        "    \n",
        "    # parse each example with feature description\n",
        "    dataset = dataset.map(parse_train_example, num_parallel_calls=tf.data.experimental.AUTOTUNE)\n",
        "    dataset = dataset.map(process_train_example, num_parallel_calls=tf.data.experimental.AUTOTUNE)\n",
        "\n",
        "    return dataset"
      ],
      "execution_count": 0,
      "outputs": []
    },
    {
      "cell_type": "code",
      "metadata": {
        "id": "46gb5EBKcGna",
        "colab_type": "code",
        "colab": {}
      },
      "source": [
        "dataset = load_dataset_from_tfrecord([\"train_orig_part_0_2071.tfrec\"])"
      ],
      "execution_count": 0,
      "outputs": []
    },
    {
      "cell_type": "code",
      "metadata": {
        "id": "-wd7S9JFcQjp",
        "colab_type": "code",
        "colab": {
          "base_uri": "https://localhost:8080/",
          "height": 454
        },
        "outputId": "1faa011a-6493-4298-9d41-a5e7c9f63507"
      },
      "source": [
        "for item in dataset.take(1):\n",
        "  print(item)"
      ],
      "execution_count": 10,
      "outputs": [
        {
          "output_type": "error",
          "ename": "InvalidArgumentError",
          "evalue": "ignored",
          "traceback": [
            "\u001b[0;31m---------------------------------------------------------------------------\u001b[0m",
            "\u001b[0;31mInvalidArgumentError\u001b[0m                      Traceback (most recent call last)",
            "\u001b[0;32m/usr/local/lib/python3.6/dist-packages/tensorflow/python/eager/context.py\u001b[0m in \u001b[0;36mexecution_mode\u001b[0;34m(mode)\u001b[0m\n\u001b[1;32m   1985\u001b[0m       \u001b[0mctx\u001b[0m\u001b[0;34m.\u001b[0m\u001b[0mexecutor\u001b[0m \u001b[0;34m=\u001b[0m \u001b[0mexecutor_new\u001b[0m\u001b[0;34m\u001b[0m\u001b[0;34m\u001b[0m\u001b[0m\n\u001b[0;32m-> 1986\u001b[0;31m       \u001b[0;32myield\u001b[0m\u001b[0;34m\u001b[0m\u001b[0;34m\u001b[0m\u001b[0m\n\u001b[0m\u001b[1;32m   1987\u001b[0m     \u001b[0;32mfinally\u001b[0m\u001b[0;34m:\u001b[0m\u001b[0;34m\u001b[0m\u001b[0;34m\u001b[0m\u001b[0m\n",
            "\u001b[0;32m/usr/local/lib/python3.6/dist-packages/tensorflow/python/data/ops/iterator_ops.py\u001b[0m in \u001b[0;36m_next_internal\u001b[0;34m(self)\u001b[0m\n\u001b[1;32m    654\u001b[0m             \u001b[0moutput_types\u001b[0m\u001b[0;34m=\u001b[0m\u001b[0mself\u001b[0m\u001b[0;34m.\u001b[0m\u001b[0m_flat_output_types\u001b[0m\u001b[0;34m,\u001b[0m\u001b[0;34m\u001b[0m\u001b[0;34m\u001b[0m\u001b[0m\n\u001b[0;32m--> 655\u001b[0;31m             output_shapes=self._flat_output_shapes)\n\u001b[0m\u001b[1;32m    656\u001b[0m \u001b[0;34m\u001b[0m\u001b[0m\n",
            "\u001b[0;32m/usr/local/lib/python3.6/dist-packages/tensorflow/python/ops/gen_dataset_ops.py\u001b[0m in \u001b[0;36miterator_get_next\u001b[0;34m(iterator, output_types, output_shapes, name)\u001b[0m\n\u001b[1;32m   2362\u001b[0m     \u001b[0;32mexcept\u001b[0m \u001b[0m_core\u001b[0m\u001b[0;34m.\u001b[0m\u001b[0m_NotOkStatusException\u001b[0m \u001b[0;32mas\u001b[0m \u001b[0me\u001b[0m\u001b[0;34m:\u001b[0m\u001b[0;34m\u001b[0m\u001b[0;34m\u001b[0m\u001b[0m\n\u001b[0;32m-> 2363\u001b[0;31m       \u001b[0m_ops\u001b[0m\u001b[0;34m.\u001b[0m\u001b[0mraise_from_not_ok_status\u001b[0m\u001b[0;34m(\u001b[0m\u001b[0me\u001b[0m\u001b[0;34m,\u001b[0m \u001b[0mname\u001b[0m\u001b[0;34m)\u001b[0m\u001b[0;34m\u001b[0m\u001b[0;34m\u001b[0m\u001b[0m\n\u001b[0m\u001b[1;32m   2364\u001b[0m   \u001b[0;31m# Add nodes to the TensorFlow graph.\u001b[0m\u001b[0;34m\u001b[0m\u001b[0;34m\u001b[0m\u001b[0;34m\u001b[0m\u001b[0m\n",
            "\u001b[0;32m/usr/local/lib/python3.6/dist-packages/tensorflow/python/framework/ops.py\u001b[0m in \u001b[0;36mraise_from_not_ok_status\u001b[0;34m(e, name)\u001b[0m\n\u001b[1;32m   6652\u001b[0m   \u001b[0;31m# pylint: disable=protected-access\u001b[0m\u001b[0;34m\u001b[0m\u001b[0;34m\u001b[0m\u001b[0;34m\u001b[0m\u001b[0m\n\u001b[0;32m-> 6653\u001b[0;31m   \u001b[0msix\u001b[0m\u001b[0;34m.\u001b[0m\u001b[0mraise_from\u001b[0m\u001b[0;34m(\u001b[0m\u001b[0mcore\u001b[0m\u001b[0;34m.\u001b[0m\u001b[0m_status_to_exception\u001b[0m\u001b[0;34m(\u001b[0m\u001b[0me\u001b[0m\u001b[0;34m.\u001b[0m\u001b[0mcode\u001b[0m\u001b[0;34m,\u001b[0m \u001b[0mmessage\u001b[0m\u001b[0;34m)\u001b[0m\u001b[0;34m,\u001b[0m \u001b[0;32mNone\u001b[0m\u001b[0;34m)\u001b[0m\u001b[0;34m\u001b[0m\u001b[0;34m\u001b[0m\u001b[0m\n\u001b[0m\u001b[1;32m   6654\u001b[0m   \u001b[0;31m# pylint: enable=protected-access\u001b[0m\u001b[0;34m\u001b[0m\u001b[0;34m\u001b[0m\u001b[0;34m\u001b[0m\u001b[0m\n",
            "\u001b[0;32m/usr/local/lib/python3.6/dist-packages/six.py\u001b[0m in \u001b[0;36mraise_from\u001b[0;34m(value, from_value)\u001b[0m\n",
            "\u001b[0;31mInvalidArgumentError\u001b[0m: Input to reshape is a tensor with 72000000 values, but the requested shape has 3145728\n\t [[{{node Reshape}}]] [Op:IteratorGetNext]",
            "\nDuring handling of the above exception, another exception occurred:\n",
            "\u001b[0;31mInvalidArgumentError\u001b[0m                      Traceback (most recent call last)",
            "\u001b[0;32m<ipython-input-10-eb18ff9a806b>\u001b[0m in \u001b[0;36m<module>\u001b[0;34m()\u001b[0m\n\u001b[0;32m----> 1\u001b[0;31m \u001b[0;32mfor\u001b[0m \u001b[0mitem\u001b[0m \u001b[0;32min\u001b[0m \u001b[0mdataset\u001b[0m\u001b[0;34m.\u001b[0m\u001b[0mtake\u001b[0m\u001b[0;34m(\u001b[0m\u001b[0;36m1\u001b[0m\u001b[0;34m)\u001b[0m\u001b[0;34m:\u001b[0m\u001b[0;34m\u001b[0m\u001b[0;34m\u001b[0m\u001b[0m\n\u001b[0m\u001b[1;32m      2\u001b[0m   \u001b[0mprint\u001b[0m\u001b[0;34m(\u001b[0m\u001b[0mitem\u001b[0m\u001b[0;34m)\u001b[0m\u001b[0;34m\u001b[0m\u001b[0;34m\u001b[0m\u001b[0m\n",
            "\u001b[0;32m/usr/local/lib/python3.6/dist-packages/tensorflow/python/data/ops/iterator_ops.py\u001b[0m in \u001b[0;36m__next__\u001b[0;34m(self)\u001b[0m\n\u001b[1;32m    629\u001b[0m \u001b[0;34m\u001b[0m\u001b[0m\n\u001b[1;32m    630\u001b[0m   \u001b[0;32mdef\u001b[0m \u001b[0m__next__\u001b[0m\u001b[0;34m(\u001b[0m\u001b[0mself\u001b[0m\u001b[0;34m)\u001b[0m\u001b[0;34m:\u001b[0m  \u001b[0;31m# For Python 3 compatibility\u001b[0m\u001b[0;34m\u001b[0m\u001b[0;34m\u001b[0m\u001b[0m\n\u001b[0;32m--> 631\u001b[0;31m     \u001b[0;32mreturn\u001b[0m \u001b[0mself\u001b[0m\u001b[0;34m.\u001b[0m\u001b[0mnext\u001b[0m\u001b[0;34m(\u001b[0m\u001b[0;34m)\u001b[0m\u001b[0;34m\u001b[0m\u001b[0;34m\u001b[0m\u001b[0m\n\u001b[0m\u001b[1;32m    632\u001b[0m \u001b[0;34m\u001b[0m\u001b[0m\n\u001b[1;32m    633\u001b[0m   \u001b[0;32mdef\u001b[0m \u001b[0m_next_internal\u001b[0m\u001b[0;34m(\u001b[0m\u001b[0mself\u001b[0m\u001b[0;34m)\u001b[0m\u001b[0;34m:\u001b[0m\u001b[0;34m\u001b[0m\u001b[0;34m\u001b[0m\u001b[0m\n",
            "\u001b[0;32m/usr/local/lib/python3.6/dist-packages/tensorflow/python/data/ops/iterator_ops.py\u001b[0m in \u001b[0;36mnext\u001b[0;34m(self)\u001b[0m\n\u001b[1;32m    668\u001b[0m     \u001b[0;34m\"\"\"Returns a nested structure of `Tensor`s containing the next element.\"\"\"\u001b[0m\u001b[0;34m\u001b[0m\u001b[0;34m\u001b[0m\u001b[0m\n\u001b[1;32m    669\u001b[0m     \u001b[0;32mtry\u001b[0m\u001b[0;34m:\u001b[0m\u001b[0;34m\u001b[0m\u001b[0;34m\u001b[0m\u001b[0m\n\u001b[0;32m--> 670\u001b[0;31m       \u001b[0;32mreturn\u001b[0m \u001b[0mself\u001b[0m\u001b[0;34m.\u001b[0m\u001b[0m_next_internal\u001b[0m\u001b[0;34m(\u001b[0m\u001b[0;34m)\u001b[0m\u001b[0;34m\u001b[0m\u001b[0;34m\u001b[0m\u001b[0m\n\u001b[0m\u001b[1;32m    671\u001b[0m     \u001b[0;32mexcept\u001b[0m \u001b[0merrors\u001b[0m\u001b[0;34m.\u001b[0m\u001b[0mOutOfRangeError\u001b[0m\u001b[0;34m:\u001b[0m\u001b[0;34m\u001b[0m\u001b[0;34m\u001b[0m\u001b[0m\n\u001b[1;32m    672\u001b[0m       \u001b[0;32mraise\u001b[0m \u001b[0mStopIteration\u001b[0m\u001b[0;34m\u001b[0m\u001b[0;34m\u001b[0m\u001b[0m\n",
            "\u001b[0;32m/usr/local/lib/python3.6/dist-packages/tensorflow/python/data/ops/iterator_ops.py\u001b[0m in \u001b[0;36m_next_internal\u001b[0;34m(self)\u001b[0m\n\u001b[1;32m    659\u001b[0m         \u001b[0;32mreturn\u001b[0m \u001b[0mself\u001b[0m\u001b[0;34m.\u001b[0m\u001b[0m_element_spec\u001b[0m\u001b[0;34m.\u001b[0m\u001b[0m_from_compatible_tensor_list\u001b[0m\u001b[0;34m(\u001b[0m\u001b[0mret\u001b[0m\u001b[0;34m)\u001b[0m  \u001b[0;31m# pylint: disable=protected-access\u001b[0m\u001b[0;34m\u001b[0m\u001b[0;34m\u001b[0m\u001b[0m\n\u001b[1;32m    660\u001b[0m       \u001b[0;32mexcept\u001b[0m \u001b[0mAttributeError\u001b[0m\u001b[0;34m:\u001b[0m\u001b[0;34m\u001b[0m\u001b[0;34m\u001b[0m\u001b[0m\n\u001b[0;32m--> 661\u001b[0;31m         \u001b[0;32mreturn\u001b[0m \u001b[0mstructure\u001b[0m\u001b[0;34m.\u001b[0m\u001b[0mfrom_compatible_tensor_list\u001b[0m\u001b[0;34m(\u001b[0m\u001b[0mself\u001b[0m\u001b[0;34m.\u001b[0m\u001b[0m_element_spec\u001b[0m\u001b[0;34m,\u001b[0m \u001b[0mret\u001b[0m\u001b[0;34m)\u001b[0m\u001b[0;34m\u001b[0m\u001b[0;34m\u001b[0m\u001b[0m\n\u001b[0m\u001b[1;32m    662\u001b[0m \u001b[0;34m\u001b[0m\u001b[0m\n\u001b[1;32m    663\u001b[0m   \u001b[0;34m@\u001b[0m\u001b[0mproperty\u001b[0m\u001b[0;34m\u001b[0m\u001b[0;34m\u001b[0m\u001b[0m\n",
            "\u001b[0;32m/usr/lib/python3.6/contextlib.py\u001b[0m in \u001b[0;36m__exit__\u001b[0;34m(self, type, value, traceback)\u001b[0m\n\u001b[1;32m     97\u001b[0m                 \u001b[0mvalue\u001b[0m \u001b[0;34m=\u001b[0m \u001b[0mtype\u001b[0m\u001b[0;34m(\u001b[0m\u001b[0;34m)\u001b[0m\u001b[0;34m\u001b[0m\u001b[0;34m\u001b[0m\u001b[0m\n\u001b[1;32m     98\u001b[0m             \u001b[0;32mtry\u001b[0m\u001b[0;34m:\u001b[0m\u001b[0;34m\u001b[0m\u001b[0;34m\u001b[0m\u001b[0m\n\u001b[0;32m---> 99\u001b[0;31m                 \u001b[0mself\u001b[0m\u001b[0;34m.\u001b[0m\u001b[0mgen\u001b[0m\u001b[0;34m.\u001b[0m\u001b[0mthrow\u001b[0m\u001b[0;34m(\u001b[0m\u001b[0mtype\u001b[0m\u001b[0;34m,\u001b[0m \u001b[0mvalue\u001b[0m\u001b[0;34m,\u001b[0m \u001b[0mtraceback\u001b[0m\u001b[0;34m)\u001b[0m\u001b[0;34m\u001b[0m\u001b[0;34m\u001b[0m\u001b[0m\n\u001b[0m\u001b[1;32m    100\u001b[0m             \u001b[0;32mexcept\u001b[0m \u001b[0mStopIteration\u001b[0m \u001b[0;32mas\u001b[0m \u001b[0mexc\u001b[0m\u001b[0;34m:\u001b[0m\u001b[0;34m\u001b[0m\u001b[0;34m\u001b[0m\u001b[0m\n\u001b[1;32m    101\u001b[0m                 \u001b[0;31m# Suppress StopIteration *unless* it's the same exception that\u001b[0m\u001b[0;34m\u001b[0m\u001b[0;34m\u001b[0m\u001b[0;34m\u001b[0m\u001b[0m\n",
            "\u001b[0;32m/usr/local/lib/python3.6/dist-packages/tensorflow/python/eager/context.py\u001b[0m in \u001b[0;36mexecution_mode\u001b[0;34m(mode)\u001b[0m\n\u001b[1;32m   1987\u001b[0m     \u001b[0;32mfinally\u001b[0m\u001b[0;34m:\u001b[0m\u001b[0;34m\u001b[0m\u001b[0;34m\u001b[0m\u001b[0m\n\u001b[1;32m   1988\u001b[0m       \u001b[0mctx\u001b[0m\u001b[0;34m.\u001b[0m\u001b[0mexecutor\u001b[0m \u001b[0;34m=\u001b[0m \u001b[0mexecutor_old\u001b[0m\u001b[0;34m\u001b[0m\u001b[0;34m\u001b[0m\u001b[0m\n\u001b[0;32m-> 1989\u001b[0;31m       \u001b[0mexecutor_new\u001b[0m\u001b[0;34m.\u001b[0m\u001b[0mwait\u001b[0m\u001b[0;34m(\u001b[0m\u001b[0;34m)\u001b[0m\u001b[0;34m\u001b[0m\u001b[0;34m\u001b[0m\u001b[0m\n\u001b[0m\u001b[1;32m   1990\u001b[0m \u001b[0;34m\u001b[0m\u001b[0m\n\u001b[1;32m   1991\u001b[0m \u001b[0;34m\u001b[0m\u001b[0m\n",
            "\u001b[0;32m/usr/local/lib/python3.6/dist-packages/tensorflow/python/eager/executor.py\u001b[0m in \u001b[0;36mwait\u001b[0;34m(self)\u001b[0m\n\u001b[1;32m     65\u001b[0m   \u001b[0;32mdef\u001b[0m \u001b[0mwait\u001b[0m\u001b[0;34m(\u001b[0m\u001b[0mself\u001b[0m\u001b[0;34m)\u001b[0m\u001b[0;34m:\u001b[0m\u001b[0;34m\u001b[0m\u001b[0;34m\u001b[0m\u001b[0m\n\u001b[1;32m     66\u001b[0m     \u001b[0;34m\"\"\"Waits for ops dispatched in this executor to finish.\"\"\"\u001b[0m\u001b[0;34m\u001b[0m\u001b[0;34m\u001b[0m\u001b[0m\n\u001b[0;32m---> 67\u001b[0;31m     \u001b[0mpywrap_tfe\u001b[0m\u001b[0;34m.\u001b[0m\u001b[0mTFE_ExecutorWaitForAllPendingNodes\u001b[0m\u001b[0;34m(\u001b[0m\u001b[0mself\u001b[0m\u001b[0;34m.\u001b[0m\u001b[0m_handle\u001b[0m\u001b[0;34m)\u001b[0m\u001b[0;34m\u001b[0m\u001b[0;34m\u001b[0m\u001b[0m\n\u001b[0m\u001b[1;32m     68\u001b[0m \u001b[0;34m\u001b[0m\u001b[0m\n\u001b[1;32m     69\u001b[0m   \u001b[0;32mdef\u001b[0m \u001b[0mclear_error\u001b[0m\u001b[0;34m(\u001b[0m\u001b[0mself\u001b[0m\u001b[0;34m)\u001b[0m\u001b[0;34m:\u001b[0m\u001b[0;34m\u001b[0m\u001b[0;34m\u001b[0m\u001b[0m\n",
            "\u001b[0;31mInvalidArgumentError\u001b[0m: Input to reshape is a tensor with 72000000 values, but the requested shape has 3145728\n\t [[{{node Reshape}}]]"
          ]
        }
      ]
    },
    {
      "cell_type": "code",
      "metadata": {
        "id": "AwhWuoDMccIN",
        "colab_type": "code",
        "colab": {}
      },
      "source": [
        "dataset = tf.data.TFRecordDataset([\"train_orig_part_0_2071.tfrec\"])"
      ],
      "execution_count": 0,
      "outputs": []
    },
    {
      "cell_type": "code",
      "metadata": {
        "id": "IKAImmdzc_6H",
        "colab_type": "code",
        "colab": {}
      },
      "source": [
        "for item in dataset.take(1):\n",
        "  example = tf.train.Example()\n",
        "  example.ParseFromString(item.numpy())\n",
        "  with open(\"example.txt\", \"w\") as f:\n",
        "    f.write(str(example))"
      ],
      "execution_count": 0,
      "outputs": []
    },
    {
      "cell_type": "code",
      "metadata": {
        "id": "RGdzPnEgdJuO",
        "colab_type": "code",
        "colab": {}
      },
      "source": [
        ""
      ],
      "execution_count": 0,
      "outputs": []
    }
  ]
}