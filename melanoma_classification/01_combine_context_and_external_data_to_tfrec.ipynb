{
  "nbformat": 4,
  "nbformat_minor": 0,
  "metadata": {
    "colab": {
      "name": "01_combine_context_and_external_data_to_tfrec.ipynb",
      "provenance": [],
      "collapsed_sections": [],
      "toc_visible": true,
      "authorship_tag": "ABX9TyO/tSPsNUpf0IdILyG1CJ5I",
      "include_colab_link": true
    },
    "kernelspec": {
      "name": "python3",
      "display_name": "Python 3"
    }
  },
  "cells": [
    {
      "cell_type": "markdown",
      "metadata": {
        "id": "view-in-github",
        "colab_type": "text"
      },
      "source": [
        "<a href=\"https://colab.research.google.com/github/nisarahamedk/Kaggle_Notebooks/blob/master/melanoma_classification/01_combine_context_and_external_data_to_tfrec.ipynb\" target=\"_parent\"><img src=\"https://colab.research.google.com/assets/colab-badge.svg\" alt=\"Open In Colab\"/></a>"
      ]
    },
    {
      "cell_type": "markdown",
      "metadata": {
        "id": "VTp5PMwSGFGf",
        "colab_type": "text"
      },
      "source": [
        "## Combine context + external data into TFRecords for TPU training."
      ]
    },
    {
      "cell_type": "markdown",
      "metadata": {
        "id": "LCmzkbxIGuCy",
        "colab_type": "text"
      },
      "source": [
        "#### GCSFS for accessing Kaggle GCS bucket directly"
      ]
    },
    {
      "cell_type": "code",
      "metadata": {
        "id": "XClE4lnmGWOd",
        "colab_type": "code",
        "colab": {}
      },
      "source": [
        "%%capture\n",
        "!pip install gcsfs  # access GCS bucket directly from colab\n",
        "!pip install ray  # parallelize tfrecord creation\n",
        "!pip install kaggle\n",
        "!pip install bidict # bidirectional hashtable for cat var maps."
      ],
      "execution_count": 0,
      "outputs": []
    },
    {
      "cell_type": "markdown",
      "metadata": {
        "id": "UE0XMsYsIrZq",
        "colab_type": "text"
      },
      "source": [
        "### Imports"
      ]
    },
    {
      "cell_type": "code",
      "metadata": {
        "id": "n7bJiNApItgQ",
        "colab_type": "code",
        "colab": {}
      },
      "source": [
        "from pathlib import Path\n",
        "import gcsfs\n",
        "import tensorflow as tf\n",
        "import pandas as pd\n",
        "import numpy as np\n",
        "from tqdm import tqdm\n",
        "import cv2\n",
        "import matplotlib.pyplot as plt\n",
        "import ray\n",
        "from bidict import bidict\n",
        "\n",
        "import warnings\n",
        "warnings.filterwarnings(\"ignore\")"
      ],
      "execution_count": 0,
      "outputs": []
    },
    {
      "cell_type": "code",
      "metadata": {
        "id": "5BDBwlzZGshF",
        "colab_type": "code",
        "colab": {}
      },
      "source": [
        "# isic 2020\n",
        "GCS_PATH_ORIG = \"gs://kds-5d7ff9ec38e07108d627f4d70f909368b22bdeb64b7b6134f6abb8a1\"\n",
        "GCS_PATH_ORIG_TFR = GCS_PATH_ORIG + \"/tfrecords\"\n",
        "GCS_PATH_ORIG_JPEG_TRAIN = GCS_PATH_ORIG + \"/jpeg/train/\"\n",
        "GCS_PATH_ORIG_JPEG_TEST = GCS_PATH_ORIG + \"/jpeg/test/\"\n",
        "GCS_PATH_ORIG_TRAIN_CSV = GCS_PATH_ORIG + \"/train.csv\"\n",
        "GCS_PATH_ORIG_TEST_CSV = GCS_PATH_ORIG + \"/test.csv\"\n",
        "\n",
        "# isic 2019\n",
        "GCS_PATH_EXT = \"gs://kds-c8a304a051784049f9397a87261baf056d20becc00b481671a0cefb9\"\n",
        "GCS_PATH_EXT_TRAIN_CSV = GCS_PATH_EXT + \"/ISIC_2019_Training_GroundTruth.csv\"\n",
        "GCS_PATH_EXT_TRAIN_META = GCS_PATH_EXT + \"/ISIC_2019_Training_Metadata.csv\"\n",
        "GCS_PATH_EXT_JPEG_TRAIN = GCS_PATH_EXT + \"/ISIC_2019_Training_Input/ISIC_2019_Training_Input/\""
      ],
      "execution_count": 0,
      "outputs": []
    },
    {
      "cell_type": "markdown",
      "metadata": {
        "id": "HLRVR3XjKJeS",
        "colab_type": "text"
      },
      "source": [
        "### ISIC 2020 Original Data"
      ]
    },
    {
      "cell_type": "code",
      "metadata": {
        "id": "uONoEjxrKPt8",
        "colab_type": "code",
        "outputId": "e9ead066-f8f1-47a3-f5f2-8d486665925d",
        "colab": {
          "base_uri": "https://localhost:8080/",
          "height": 195
        }
      },
      "source": [
        "orig_train_df = pd.read_csv(GCS_PATH_ORIG_TRAIN_CSV)\n",
        "orig_train_df.head()"
      ],
      "execution_count": 4,
      "outputs": [
        {
          "output_type": "execute_result",
          "data": {
            "text/html": [
              "<div>\n",
              "<style scoped>\n",
              "    .dataframe tbody tr th:only-of-type {\n",
              "        vertical-align: middle;\n",
              "    }\n",
              "\n",
              "    .dataframe tbody tr th {\n",
              "        vertical-align: top;\n",
              "    }\n",
              "\n",
              "    .dataframe thead th {\n",
              "        text-align: right;\n",
              "    }\n",
              "</style>\n",
              "<table border=\"1\" class=\"dataframe\">\n",
              "  <thead>\n",
              "    <tr style=\"text-align: right;\">\n",
              "      <th></th>\n",
              "      <th>image_name</th>\n",
              "      <th>patient_id</th>\n",
              "      <th>sex</th>\n",
              "      <th>age_approx</th>\n",
              "      <th>anatom_site_general_challenge</th>\n",
              "      <th>diagnosis</th>\n",
              "      <th>benign_malignant</th>\n",
              "      <th>target</th>\n",
              "    </tr>\n",
              "  </thead>\n",
              "  <tbody>\n",
              "    <tr>\n",
              "      <th>0</th>\n",
              "      <td>ISIC_2637011</td>\n",
              "      <td>IP_7279968</td>\n",
              "      <td>male</td>\n",
              "      <td>45.0</td>\n",
              "      <td>head/neck</td>\n",
              "      <td>unknown</td>\n",
              "      <td>benign</td>\n",
              "      <td>0</td>\n",
              "    </tr>\n",
              "    <tr>\n",
              "      <th>1</th>\n",
              "      <td>ISIC_0015719</td>\n",
              "      <td>IP_3075186</td>\n",
              "      <td>female</td>\n",
              "      <td>45.0</td>\n",
              "      <td>upper extremity</td>\n",
              "      <td>unknown</td>\n",
              "      <td>benign</td>\n",
              "      <td>0</td>\n",
              "    </tr>\n",
              "    <tr>\n",
              "      <th>2</th>\n",
              "      <td>ISIC_0052212</td>\n",
              "      <td>IP_2842074</td>\n",
              "      <td>female</td>\n",
              "      <td>50.0</td>\n",
              "      <td>lower extremity</td>\n",
              "      <td>nevus</td>\n",
              "      <td>benign</td>\n",
              "      <td>0</td>\n",
              "    </tr>\n",
              "    <tr>\n",
              "      <th>3</th>\n",
              "      <td>ISIC_0068279</td>\n",
              "      <td>IP_6890425</td>\n",
              "      <td>female</td>\n",
              "      <td>45.0</td>\n",
              "      <td>head/neck</td>\n",
              "      <td>unknown</td>\n",
              "      <td>benign</td>\n",
              "      <td>0</td>\n",
              "    </tr>\n",
              "    <tr>\n",
              "      <th>4</th>\n",
              "      <td>ISIC_0074268</td>\n",
              "      <td>IP_8723313</td>\n",
              "      <td>female</td>\n",
              "      <td>55.0</td>\n",
              "      <td>upper extremity</td>\n",
              "      <td>unknown</td>\n",
              "      <td>benign</td>\n",
              "      <td>0</td>\n",
              "    </tr>\n",
              "  </tbody>\n",
              "</table>\n",
              "</div>"
            ],
            "text/plain": [
              "     image_name  patient_id     sex  ...  diagnosis benign_malignant target\n",
              "0  ISIC_2637011  IP_7279968    male  ...    unknown           benign      0\n",
              "1  ISIC_0015719  IP_3075186  female  ...    unknown           benign      0\n",
              "2  ISIC_0052212  IP_2842074  female  ...      nevus           benign      0\n",
              "3  ISIC_0068279  IP_6890425  female  ...    unknown           benign      0\n",
              "4  ISIC_0074268  IP_8723313  female  ...    unknown           benign      0\n",
              "\n",
              "[5 rows x 8 columns]"
            ]
          },
          "metadata": {
            "tags": []
          },
          "execution_count": 4
        }
      ]
    },
    {
      "cell_type": "code",
      "metadata": {
        "id": "IKxP5NVev506",
        "colab_type": "code",
        "outputId": "92c7e2d9-a916-44cb-dcb0-1482b440850c",
        "colab": {
          "base_uri": "https://localhost:8080/",
          "height": 332
        }
      },
      "source": [
        "print(orig_train_df[\"target\"].value_counts())\n",
        "orig_train_df[\"target\"].hist()"
      ],
      "execution_count": 5,
      "outputs": [
        {
          "output_type": "stream",
          "text": [
            "0    32542\n",
            "1      584\n",
            "Name: target, dtype: int64\n"
          ],
          "name": "stdout"
        },
        {
          "output_type": "execute_result",
          "data": {
            "text/plain": [
              "<matplotlib.axes._subplots.AxesSubplot at 0x7f402b2cbef0>"
            ]
          },
          "metadata": {
            "tags": []
          },
          "execution_count": 5
        },
        {
          "output_type": "display_data",
          "data": {
            "image/png": "[encoded data removed]",
            "text/plain": [
              "<Figure size 432x288 with 1 Axes>"
            ]
          },
          "metadata": {
            "tags": [],
            "needs_background": "light"
          }
        }
      ]
    },
    {
      "cell_type": "code",
      "metadata": {
        "id": "aKO-Y56QLJca",
        "colab_type": "code",
        "outputId": "754cacea-0b4f-4532-c5cf-1eddbd28e4ca",
        "colab": {
          "base_uri": "https://localhost:8080/",
          "height": 195
        }
      },
      "source": [
        "orig_test_df = pd.read_csv(GCS_PATH_ORIG_TEST_CSV)\n",
        "orig_test_df.head()"
      ],
      "execution_count": 6,
      "outputs": [
        {
          "output_type": "execute_result",
          "data": {
            "text/html": [
              "<div>\n",
              "<style scoped>\n",
              "    .dataframe tbody tr th:only-of-type {\n",
              "        vertical-align: middle;\n",
              "    }\n",
              "\n",
              "    .dataframe tbody tr th {\n",
              "        vertical-align: top;\n",
              "    }\n",
              "\n",
              "    .dataframe thead th {\n",
              "        text-align: right;\n",
              "    }\n",
              "</style>\n",
              "<table border=\"1\" class=\"dataframe\">\n",
              "  <thead>\n",
              "    <tr style=\"text-align: right;\">\n",
              "      <th></th>\n",
              "      <th>image_name</th>\n",
              "      <th>patient_id</th>\n",
              "      <th>sex</th>\n",
              "      <th>age_approx</th>\n",
              "      <th>anatom_site_general_challenge</th>\n",
              "    </tr>\n",
              "  </thead>\n",
              "  <tbody>\n",
              "    <tr>\n",
              "      <th>0</th>\n",
              "      <td>ISIC_0052060</td>\n",
              "      <td>IP_3579794</td>\n",
              "      <td>male</td>\n",
              "      <td>70.0</td>\n",
              "      <td>NaN</td>\n",
              "    </tr>\n",
              "    <tr>\n",
              "      <th>1</th>\n",
              "      <td>ISIC_0052349</td>\n",
              "      <td>IP_7782715</td>\n",
              "      <td>male</td>\n",
              "      <td>40.0</td>\n",
              "      <td>lower extremity</td>\n",
              "    </tr>\n",
              "    <tr>\n",
              "      <th>2</th>\n",
              "      <td>ISIC_0058510</td>\n",
              "      <td>IP_7960270</td>\n",
              "      <td>female</td>\n",
              "      <td>55.0</td>\n",
              "      <td>torso</td>\n",
              "    </tr>\n",
              "    <tr>\n",
              "      <th>3</th>\n",
              "      <td>ISIC_0073313</td>\n",
              "      <td>IP_6375035</td>\n",
              "      <td>female</td>\n",
              "      <td>50.0</td>\n",
              "      <td>torso</td>\n",
              "    </tr>\n",
              "    <tr>\n",
              "      <th>4</th>\n",
              "      <td>ISIC_0073502</td>\n",
              "      <td>IP_0589375</td>\n",
              "      <td>female</td>\n",
              "      <td>45.0</td>\n",
              "      <td>lower extremity</td>\n",
              "    </tr>\n",
              "  </tbody>\n",
              "</table>\n",
              "</div>"
            ],
            "text/plain": [
              "     image_name  patient_id     sex  age_approx anatom_site_general_challenge\n",
              "0  ISIC_0052060  IP_3579794    male        70.0                           NaN\n",
              "1  ISIC_0052349  IP_7782715    male        40.0               lower extremity\n",
              "2  ISIC_0058510  IP_7960270  female        55.0                         torso\n",
              "3  ISIC_0073313  IP_6375035  female        50.0                         torso\n",
              "4  ISIC_0073502  IP_0589375  female        45.0               lower extremity"
            ]
          },
          "metadata": {
            "tags": []
          },
          "execution_count": 6
        }
      ]
    },
    {
      "cell_type": "markdown",
      "metadata": {
        "id": "bVkw8dwGKnir",
        "colab_type": "text"
      },
      "source": [
        "Above the tabular features we have.  \n",
        "\n",
        "Actual images in jpeg"
      ]
    },
    {
      "cell_type": "code",
      "metadata": {
        "id": "FcZZ5nV9K5U4",
        "colab_type": "code",
        "outputId": "d6ddb1d7-92ca-42ca-ceaf-cf559b1f6b9b",
        "colab": {
          "base_uri": "https://localhost:8080/",
          "height": 70
        }
      },
      "source": [
        "orig_images = tf.io.gfile.glob(GCS_PATH_ORIG_JPEG_TRAIN + \"*.jpg\")\n",
        "print(\"Original Images: \", orig_images[:4])\n",
        "ext_images = tf.io.gfile.glob(GCS_PATH_EXT_JPEG_TRAIN + \"*.jpg\")\n",
        "print(\"External Images: \", ext_images[:4])"
      ],
      "execution_count": 7,
      "outputs": [
        {
          "output_type": "stream",
          "text": [
            "Original Images:  ['gs://kds-5d7ff9ec38e07108d627f4d70f909368b22bdeb64b7b6134f6abb8a1/jpeg/train/ISIC_0015719.jpg', 'gs://kds-5d7ff9ec38e07108d627f4d70f909368b22bdeb64b7b6134f6abb8a1/jpeg/train/ISIC_0052212.jpg', 'gs://kds-5d7ff9ec38e07108d627f4d70f909368b22bdeb64b7b6134f6abb8a1/jpeg/train/ISIC_0068279.jpg', 'gs://kds-5d7ff9ec38e07108d627f4d70f909368b22bdeb64b7b6134f6abb8a1/jpeg/train/ISIC_0074268.jpg']\n",
            "External Images:  ['gs://kds-c8a304a051784049f9397a87261baf056d20becc00b481671a0cefb9/ISIC_2019_Training_Input/ISIC_2019_Training_Input/ISIC_0000000.jpg', 'gs://kds-c8a304a051784049f9397a87261baf056d20becc00b481671a0cefb9/ISIC_2019_Training_Input/ISIC_2019_Training_Input/ISIC_0000001.jpg', 'gs://kds-c8a304a051784049f9397a87261baf056d20becc00b481671a0cefb9/ISIC_2019_Training_Input/ISIC_2019_Training_Input/ISIC_0000002.jpg', 'gs://kds-c8a304a051784049f9397a87261baf056d20becc00b481671a0cefb9/ISIC_2019_Training_Input/ISIC_2019_Training_Input/ISIC_0000003.jpg']\n"
          ],
          "name": "stdout"
        }
      ]
    },
    {
      "cell_type": "markdown",
      "metadata": {
        "id": "Mp1BEm5XLXjJ",
        "colab_type": "text"
      },
      "source": [
        "###  External Data - ISIC 2019"
      ]
    },
    {
      "cell_type": "code",
      "metadata": {
        "id": "AhLQPBCoIe1a",
        "colab_type": "code",
        "outputId": "371fd951-325f-436d-8147-bef910215fed",
        "colab": {
          "base_uri": "https://localhost:8080/",
          "height": 195
        }
      },
      "source": [
        "ext_train_df = pd.read_csv(GCS_PATH_EXT_TRAIN_CSV)\n",
        "ext_train_df.head()"
      ],
      "execution_count": 8,
      "outputs": [
        {
          "output_type": "execute_result",
          "data": {
            "text/html": [
              "<div>\n",
              "<style scoped>\n",
              "    .dataframe tbody tr th:only-of-type {\n",
              "        vertical-align: middle;\n",
              "    }\n",
              "\n",
              "    .dataframe tbody tr th {\n",
              "        vertical-align: top;\n",
              "    }\n",
              "\n",
              "    .dataframe thead th {\n",
              "        text-align: right;\n",
              "    }\n",
              "</style>\n",
              "<table border=\"1\" class=\"dataframe\">\n",
              "  <thead>\n",
              "    <tr style=\"text-align: right;\">\n",
              "      <th></th>\n",
              "      <th>image</th>\n",
              "      <th>MEL</th>\n",
              "      <th>NV</th>\n",
              "      <th>BCC</th>\n",
              "      <th>AK</th>\n",
              "      <th>BKL</th>\n",
              "      <th>DF</th>\n",
              "      <th>VASC</th>\n",
              "      <th>SCC</th>\n",
              "      <th>UNK</th>\n",
              "    </tr>\n",
              "  </thead>\n",
              "  <tbody>\n",
              "    <tr>\n",
              "      <th>0</th>\n",
              "      <td>ISIC_0000000</td>\n",
              "      <td>0.0</td>\n",
              "      <td>1.0</td>\n",
              "      <td>0.0</td>\n",
              "      <td>0.0</td>\n",
              "      <td>0.0</td>\n",
              "      <td>0.0</td>\n",
              "      <td>0.0</td>\n",
              "      <td>0.0</td>\n",
              "      <td>0.0</td>\n",
              "    </tr>\n",
              "    <tr>\n",
              "      <th>1</th>\n",
              "      <td>ISIC_0000001</td>\n",
              "      <td>0.0</td>\n",
              "      <td>1.0</td>\n",
              "      <td>0.0</td>\n",
              "      <td>0.0</td>\n",
              "      <td>0.0</td>\n",
              "      <td>0.0</td>\n",
              "      <td>0.0</td>\n",
              "      <td>0.0</td>\n",
              "      <td>0.0</td>\n",
              "    </tr>\n",
              "    <tr>\n",
              "      <th>2</th>\n",
              "      <td>ISIC_0000002</td>\n",
              "      <td>1.0</td>\n",
              "      <td>0.0</td>\n",
              "      <td>0.0</td>\n",
              "      <td>0.0</td>\n",
              "      <td>0.0</td>\n",
              "      <td>0.0</td>\n",
              "      <td>0.0</td>\n",
              "      <td>0.0</td>\n",
              "      <td>0.0</td>\n",
              "    </tr>\n",
              "    <tr>\n",
              "      <th>3</th>\n",
              "      <td>ISIC_0000003</td>\n",
              "      <td>0.0</td>\n",
              "      <td>1.0</td>\n",
              "      <td>0.0</td>\n",
              "      <td>0.0</td>\n",
              "      <td>0.0</td>\n",
              "      <td>0.0</td>\n",
              "      <td>0.0</td>\n",
              "      <td>0.0</td>\n",
              "      <td>0.0</td>\n",
              "    </tr>\n",
              "    <tr>\n",
              "      <th>4</th>\n",
              "      <td>ISIC_0000004</td>\n",
              "      <td>1.0</td>\n",
              "      <td>0.0</td>\n",
              "      <td>0.0</td>\n",
              "      <td>0.0</td>\n",
              "      <td>0.0</td>\n",
              "      <td>0.0</td>\n",
              "      <td>0.0</td>\n",
              "      <td>0.0</td>\n",
              "      <td>0.0</td>\n",
              "    </tr>\n",
              "  </tbody>\n",
              "</table>\n",
              "</div>"
            ],
            "text/plain": [
              "          image  MEL   NV  BCC   AK  BKL   DF  VASC  SCC  UNK\n",
              "0  ISIC_0000000  0.0  1.0  0.0  0.0  0.0  0.0   0.0  0.0  0.0\n",
              "1  ISIC_0000001  0.0  1.0  0.0  0.0  0.0  0.0   0.0  0.0  0.0\n",
              "2  ISIC_0000002  1.0  0.0  0.0  0.0  0.0  0.0   0.0  0.0  0.0\n",
              "3  ISIC_0000003  0.0  1.0  0.0  0.0  0.0  0.0   0.0  0.0  0.0\n",
              "4  ISIC_0000004  1.0  0.0  0.0  0.0  0.0  0.0   0.0  0.0  0.0"
            ]
          },
          "metadata": {
            "tags": []
          },
          "execution_count": 8
        }
      ]
    },
    {
      "cell_type": "markdown",
      "metadata": {
        "id": "oeChtYDlLWmf",
        "colab_type": "text"
      },
      "source": [
        "Only image names is important to us.  \n",
        "The other columns are skin lesion class. our target variable is MEL - that is Melanoma.\n",
        "Other features are available in."
      ]
    },
    {
      "cell_type": "code",
      "metadata": {
        "id": "H-QX83d1KEKT",
        "colab_type": "code",
        "outputId": "b6922283-2cf7-4bdd-f26a-df487cdb6f01",
        "colab": {
          "base_uri": "https://localhost:8080/",
          "height": 195
        }
      },
      "source": [
        "ext_meta_df = pd.read_csv(GCS_PATH_EXT_TRAIN_META)\n",
        "ext_meta_df.head()"
      ],
      "execution_count": 9,
      "outputs": [
        {
          "output_type": "execute_result",
          "data": {
            "text/html": [
              "<div>\n",
              "<style scoped>\n",
              "    .dataframe tbody tr th:only-of-type {\n",
              "        vertical-align: middle;\n",
              "    }\n",
              "\n",
              "    .dataframe tbody tr th {\n",
              "        vertical-align: top;\n",
              "    }\n",
              "\n",
              "    .dataframe thead th {\n",
              "        text-align: right;\n",
              "    }\n",
              "</style>\n",
              "<table border=\"1\" class=\"dataframe\">\n",
              "  <thead>\n",
              "    <tr style=\"text-align: right;\">\n",
              "      <th></th>\n",
              "      <th>image</th>\n",
              "      <th>age_approx</th>\n",
              "      <th>anatom_site_general</th>\n",
              "      <th>lesion_id</th>\n",
              "      <th>sex</th>\n",
              "    </tr>\n",
              "  </thead>\n",
              "  <tbody>\n",
              "    <tr>\n",
              "      <th>0</th>\n",
              "      <td>ISIC_0000000</td>\n",
              "      <td>55.0</td>\n",
              "      <td>anterior torso</td>\n",
              "      <td>NaN</td>\n",
              "      <td>female</td>\n",
              "    </tr>\n",
              "    <tr>\n",
              "      <th>1</th>\n",
              "      <td>ISIC_0000001</td>\n",
              "      <td>30.0</td>\n",
              "      <td>anterior torso</td>\n",
              "      <td>NaN</td>\n",
              "      <td>female</td>\n",
              "    </tr>\n",
              "    <tr>\n",
              "      <th>2</th>\n",
              "      <td>ISIC_0000002</td>\n",
              "      <td>60.0</td>\n",
              "      <td>upper extremity</td>\n",
              "      <td>NaN</td>\n",
              "      <td>female</td>\n",
              "    </tr>\n",
              "    <tr>\n",
              "      <th>3</th>\n",
              "      <td>ISIC_0000003</td>\n",
              "      <td>30.0</td>\n",
              "      <td>upper extremity</td>\n",
              "      <td>NaN</td>\n",
              "      <td>male</td>\n",
              "    </tr>\n",
              "    <tr>\n",
              "      <th>4</th>\n",
              "      <td>ISIC_0000004</td>\n",
              "      <td>80.0</td>\n",
              "      <td>posterior torso</td>\n",
              "      <td>NaN</td>\n",
              "      <td>male</td>\n",
              "    </tr>\n",
              "  </tbody>\n",
              "</table>\n",
              "</div>"
            ],
            "text/plain": [
              "          image  age_approx anatom_site_general lesion_id     sex\n",
              "0  ISIC_0000000        55.0      anterior torso       NaN  female\n",
              "1  ISIC_0000001        30.0      anterior torso       NaN  female\n",
              "2  ISIC_0000002        60.0     upper extremity       NaN  female\n",
              "3  ISIC_0000003        30.0     upper extremity       NaN    male\n",
              "4  ISIC_0000004        80.0     posterior torso       NaN    male"
            ]
          },
          "metadata": {
            "tags": []
          },
          "execution_count": 9
        }
      ]
    },
    {
      "cell_type": "markdown",
      "metadata": {
        "id": "VQIvYAsVNZjV",
        "colab_type": "text"
      },
      "source": [
        "#### Features\n",
        "\n",
        "Features available both the dataset.  \n",
        "\n",
        "* ```image_name```\n",
        "* ```age_approx```\n",
        "* ```anatom_site```\n",
        "* ```sex```\n",
        "* ```patient_id``` / ```lesion_id```\n",
        "\n",
        "Feature in original but not in external\n",
        "\n",
        "* ```diagnosis```\n",
        "\n",
        "#### Label\n",
        "\n",
        "* Original data - ```target``` column\n",
        "* External data - ```MEL``` \n",
        "* Can the other target columns in Ext data be used as the ```diagnosis``` feature?"
      ]
    },
    {
      "cell_type": "markdown",
      "metadata": {
        "id": "IjJGCA_W0Hu5",
        "colab_type": "text"
      },
      "source": [
        "### The Diagnosis Feature\n",
        "\n",
        "* In the original dataset we have a column ```diagnosis```\n",
        "* In the ext dataset, our labels are actually diagnosis classes.\n",
        "* But the nomenclature is a bit different."
      ]
    },
    {
      "cell_type": "markdown",
      "metadata": {
        "id": "PcyR8PKo1Gq9",
        "colab_type": "text"
      },
      "source": [
        "#### Original"
      ]
    },
    {
      "cell_type": "code",
      "metadata": {
        "id": "_0agX1up1KZy",
        "colab_type": "code",
        "outputId": "bd5b33f6-81f6-4337-f80e-d1281416aef4",
        "colab": {
          "base_uri": "https://localhost:8080/",
          "height": 185
        }
      },
      "source": [
        "orig_train_df[\"diagnosis\"].value_counts()"
      ],
      "execution_count": 10,
      "outputs": [
        {
          "output_type": "execute_result",
          "data": {
            "text/plain": [
              "unknown                               27124\n",
              "nevus                                  5193\n",
              "melanoma                                584\n",
              "seborrheic keratosis                    135\n",
              "lentigo NOS                              44\n",
              "lichenoid keratosis                      37\n",
              "solar lentigo                             7\n",
              "atypical melanocytic proliferation        1\n",
              "cafe-au-lait macule                       1\n",
              "Name: diagnosis, dtype: int64"
            ]
          },
          "metadata": {
            "tags": []
          },
          "execution_count": 10
        }
      ]
    },
    {
      "cell_type": "markdown",
      "metadata": {
        "id": "Sg--inOd1Q5E",
        "colab_type": "text"
      },
      "source": [
        "#### External"
      ]
    },
    {
      "cell_type": "code",
      "metadata": {
        "id": "Za74Jzrk1TD2",
        "colab_type": "code",
        "outputId": "6c614032-73f7-4524-bc4a-9ead80700df3",
        "colab": {
          "base_uri": "https://localhost:8080/",
          "height": 195
        }
      },
      "source": [
        "ext_train_df.head()"
      ],
      "execution_count": 11,
      "outputs": [
        {
          "output_type": "execute_result",
          "data": {
            "text/html": [
              "<div>\n",
              "<style scoped>\n",
              "    .dataframe tbody tr th:only-of-type {\n",
              "        vertical-align: middle;\n",
              "    }\n",
              "\n",
              "    .dataframe tbody tr th {\n",
              "        vertical-align: top;\n",
              "    }\n",
              "\n",
              "    .dataframe thead th {\n",
              "        text-align: right;\n",
              "    }\n",
              "</style>\n",
              "<table border=\"1\" class=\"dataframe\">\n",
              "  <thead>\n",
              "    <tr style=\"text-align: right;\">\n",
              "      <th></th>\n",
              "      <th>image</th>\n",
              "      <th>MEL</th>\n",
              "      <th>NV</th>\n",
              "      <th>BCC</th>\n",
              "      <th>AK</th>\n",
              "      <th>BKL</th>\n",
              "      <th>DF</th>\n",
              "      <th>VASC</th>\n",
              "      <th>SCC</th>\n",
              "      <th>UNK</th>\n",
              "    </tr>\n",
              "  </thead>\n",
              "  <tbody>\n",
              "    <tr>\n",
              "      <th>0</th>\n",
              "      <td>ISIC_0000000</td>\n",
              "      <td>0.0</td>\n",
              "      <td>1.0</td>\n",
              "      <td>0.0</td>\n",
              "      <td>0.0</td>\n",
              "      <td>0.0</td>\n",
              "      <td>0.0</td>\n",
              "      <td>0.0</td>\n",
              "      <td>0.0</td>\n",
              "      <td>0.0</td>\n",
              "    </tr>\n",
              "    <tr>\n",
              "      <th>1</th>\n",
              "      <td>ISIC_0000001</td>\n",
              "      <td>0.0</td>\n",
              "      <td>1.0</td>\n",
              "      <td>0.0</td>\n",
              "      <td>0.0</td>\n",
              "      <td>0.0</td>\n",
              "      <td>0.0</td>\n",
              "      <td>0.0</td>\n",
              "      <td>0.0</td>\n",
              "      <td>0.0</td>\n",
              "    </tr>\n",
              "    <tr>\n",
              "      <th>2</th>\n",
              "      <td>ISIC_0000002</td>\n",
              "      <td>1.0</td>\n",
              "      <td>0.0</td>\n",
              "      <td>0.0</td>\n",
              "      <td>0.0</td>\n",
              "      <td>0.0</td>\n",
              "      <td>0.0</td>\n",
              "      <td>0.0</td>\n",
              "      <td>0.0</td>\n",
              "      <td>0.0</td>\n",
              "    </tr>\n",
              "    <tr>\n",
              "      <th>3</th>\n",
              "      <td>ISIC_0000003</td>\n",
              "      <td>0.0</td>\n",
              "      <td>1.0</td>\n",
              "      <td>0.0</td>\n",
              "      <td>0.0</td>\n",
              "      <td>0.0</td>\n",
              "      <td>0.0</td>\n",
              "      <td>0.0</td>\n",
              "      <td>0.0</td>\n",
              "      <td>0.0</td>\n",
              "    </tr>\n",
              "    <tr>\n",
              "      <th>4</th>\n",
              "      <td>ISIC_0000004</td>\n",
              "      <td>1.0</td>\n",
              "      <td>0.0</td>\n",
              "      <td>0.0</td>\n",
              "      <td>0.0</td>\n",
              "      <td>0.0</td>\n",
              "      <td>0.0</td>\n",
              "      <td>0.0</td>\n",
              "      <td>0.0</td>\n",
              "      <td>0.0</td>\n",
              "    </tr>\n",
              "  </tbody>\n",
              "</table>\n",
              "</div>"
            ],
            "text/plain": [
              "          image  MEL   NV  BCC   AK  BKL   DF  VASC  SCC  UNK\n",
              "0  ISIC_0000000  0.0  1.0  0.0  0.0  0.0  0.0   0.0  0.0  0.0\n",
              "1  ISIC_0000001  0.0  1.0  0.0  0.0  0.0  0.0   0.0  0.0  0.0\n",
              "2  ISIC_0000002  1.0  0.0  0.0  0.0  0.0  0.0   0.0  0.0  0.0\n",
              "3  ISIC_0000003  0.0  1.0  0.0  0.0  0.0  0.0   0.0  0.0  0.0\n",
              "4  ISIC_0000004  1.0  0.0  0.0  0.0  0.0  0.0   0.0  0.0  0.0"
            ]
          },
          "metadata": {
            "tags": []
          },
          "execution_count": 11
        }
      ]
    },
    {
      "cell_type": "markdown",
      "metadata": {
        "id": "2YMc5iOU1ZBA",
        "colab_type": "text"
      },
      "source": [
        "* Looking at this article. : https://challenge2019.isic-archive.com/\n",
        "* we can merge both the datasets` diagnosis feature.\n",
        "  * Melanoma - Present in both, as MEL in EXT\n",
        "  * Nevus - Present in both, as NV in EXT.\n",
        "  * seborrheic keratosis, solar lentigo, lichenoid keratosis - as BKL in EXT\n",
        "  * Lentigo NOS in ORIG - not in EXT\n",
        "  * cafe-au-lait macule in ORIG - not in EXT\n",
        "  * atypical melanocytic proliferation in ORIG - not in EXT\n",
        "  * BCC in EXT - not in ORIG\n",
        "  * AK in EXT - not in ORIG\n",
        "  * DF in EXT - not in ORIG\n",
        "  * VASC in EXT - not in ORIG\n",
        "  * SCC in EXT - not in ORIG"
      ]
    },
    {
      "cell_type": "markdown",
      "metadata": {
        "id": "AmqYJaIUO8Y5",
        "colab_type": "text"
      },
      "source": [
        "### Combine both ORIG and EXT dataframe"
      ]
    },
    {
      "cell_type": "code",
      "metadata": {
        "id": "v4o0ZdCLQ5iE",
        "colab_type": "code",
        "outputId": "316891b2-b3bd-4142-fb29-434e6fbc324e",
        "colab": {
          "base_uri": "https://localhost:8080/",
          "height": 50
        }
      },
      "source": [
        "# https://www.kaggle.com/shonenkov/merge-external-data\n",
        "\n",
        "# convert diagsnois str to a key that matches external dataset.\n",
        "diagnosis_key = {\n",
        "    \"melanoma\"            : \"MEL\",\n",
        "    \"nevus\"               : \"NV\",\n",
        "    \"seborrheic keratosis\": \"BKL\",\n",
        "    \"lichenoid keratosis\" : \"BKL\",\n",
        "    \"solar lentigo\"       : \"BKL\",\n",
        "    \"lentigo NOS\"         : \"LNOS\",\n",
        "    \"cafe-au-lait macule\" : \"CALM\",\n",
        "    \"atypical melanocytic proliferation\": \"AMP\",\n",
        "    \"unknown\"             : \"UNK\",\n",
        "}\n",
        "\n",
        "dataset = {\n",
        "    'patient_id' : [],\n",
        "    'image_id': [],\n",
        "    'source': [],\n",
        "    'sex': [],\n",
        "    'age_approx': [],\n",
        "    'anatom_site_general_challenge': [],\n",
        "    'diagnosis': [],\n",
        "    'target': [],\n",
        "}\n",
        "\n",
        "# isic2020\n",
        "df_train = pd.read_csv(GCS_PATH_ORIG_TRAIN_CSV, index_col='image_name')\n",
        "for image_id, row in tqdm(df_train.iterrows(), total=df_train.shape[0]):\n",
        "    if image_id in dataset['image_id']:\n",
        "        continue\n",
        "    dataset['patient_id'].append(row['patient_id'])\n",
        "    dataset['image_id'].append(image_id)\n",
        "    dataset['target'].append(row['target'])\n",
        "    dataset['source'].append('ISIC20')\n",
        "    dataset['sex'].append(row['sex'])\n",
        "    dataset['age_approx'].append(row['age_approx'])\n",
        "    dataset['anatom_site_general_challenge'].append(row['anatom_site_general_challenge'])\n",
        "    dataset['diagnosis'].append(diagnosis_key[row['diagnosis']])\n",
        "\n",
        "# isic2019\n",
        "df_gt = pd.read_csv(GCS_PATH_EXT_TRAIN_CSV, index_col='image')\n",
        "df_meta = pd.read_csv(GCS_PATH_EXT_TRAIN_META, index_col='image')\n",
        "for image_id, row in tqdm(df_meta.iterrows(), total=df_meta.shape[0]):\n",
        "    if image_id in dataset['image_id'] or \"downsampled\" in image_id.lower(): # duplicate images in external as per: https://www.kaggle.com/c/siim-isic-melanoma-classification/discussion/155859#878163\n",
        "        continue\n",
        "\n",
        "    dataset['patient_id'].append(row['lesion_id'])\n",
        "    dataset['image_id'].append(image_id)\n",
        "    dataset['target'].append(int(df_gt.loc[image_id]['MEL']))\n",
        "    dataset['source'].append('ISIC19')\n",
        "    dataset['sex'].append(row['sex'])\n",
        "    dataset['age_approx'].append(row['age_approx'])\n",
        "    dataset['anatom_site_general_challenge'].append(\n",
        "        {'anterior torso': 'torso', 'posterior torso': 'torso', 'lateral torso': 'torso'}.get(row['anatom_site_general'], row['anatom_site_general'])\n",
        "    )\n",
        "    # diagnosis\n",
        "    bool_mask = df_gt.loc[image_id].eq(1) # gives True for the column where 1 and False for others\n",
        "    diagnosis = bool_mask.index[bool_mask][0]\n",
        "    dataset['diagnosis'].append(diagnosis)"
      ],
      "execution_count": 12,
      "outputs": [
        {
          "output_type": "stream",
          "text": [
            "100%|██████████| 33126/33126 [00:15<00:00, 2111.20it/s]\n",
            "100%|██████████| 25331/25331 [00:35<00:00, 722.93it/s]\n"
          ],
          "name": "stderr"
        }
      ]
    },
    {
      "cell_type": "code",
      "metadata": {
        "id": "GbULBsKvSgcE",
        "colab_type": "code",
        "outputId": "af1a2410-8c3f-4a2f-f0f2-f91dcffe37ac",
        "colab": {
          "base_uri": "https://localhost:8080/",
          "height": 195
        }
      },
      "source": [
        "combined_df = pd.DataFrame(dataset)\n",
        "combined_df.head()"
      ],
      "execution_count": 13,
      "outputs": [
        {
          "output_type": "execute_result",
          "data": {
            "text/html": [
              "<div>\n",
              "<style scoped>\n",
              "    .dataframe tbody tr th:only-of-type {\n",
              "        vertical-align: middle;\n",
              "    }\n",
              "\n",
              "    .dataframe tbody tr th {\n",
              "        vertical-align: top;\n",
              "    }\n",
              "\n",
              "    .dataframe thead th {\n",
              "        text-align: right;\n",
              "    }\n",
              "</style>\n",
              "<table border=\"1\" class=\"dataframe\">\n",
              "  <thead>\n",
              "    <tr style=\"text-align: right;\">\n",
              "      <th></th>\n",
              "      <th>patient_id</th>\n",
              "      <th>image_id</th>\n",
              "      <th>source</th>\n",
              "      <th>sex</th>\n",
              "      <th>age_approx</th>\n",
              "      <th>anatom_site_general_challenge</th>\n",
              "      <th>diagnosis</th>\n",
              "      <th>target</th>\n",
              "    </tr>\n",
              "  </thead>\n",
              "  <tbody>\n",
              "    <tr>\n",
              "      <th>0</th>\n",
              "      <td>IP_7279968</td>\n",
              "      <td>ISIC_2637011</td>\n",
              "      <td>ISIC20</td>\n",
              "      <td>male</td>\n",
              "      <td>45.0</td>\n",
              "      <td>head/neck</td>\n",
              "      <td>UNK</td>\n",
              "      <td>0</td>\n",
              "    </tr>\n",
              "    <tr>\n",
              "      <th>1</th>\n",
              "      <td>IP_3075186</td>\n",
              "      <td>ISIC_0015719</td>\n",
              "      <td>ISIC20</td>\n",
              "      <td>female</td>\n",
              "      <td>45.0</td>\n",
              "      <td>upper extremity</td>\n",
              "      <td>UNK</td>\n",
              "      <td>0</td>\n",
              "    </tr>\n",
              "    <tr>\n",
              "      <th>2</th>\n",
              "      <td>IP_2842074</td>\n",
              "      <td>ISIC_0052212</td>\n",
              "      <td>ISIC20</td>\n",
              "      <td>female</td>\n",
              "      <td>50.0</td>\n",
              "      <td>lower extremity</td>\n",
              "      <td>NV</td>\n",
              "      <td>0</td>\n",
              "    </tr>\n",
              "    <tr>\n",
              "      <th>3</th>\n",
              "      <td>IP_6890425</td>\n",
              "      <td>ISIC_0068279</td>\n",
              "      <td>ISIC20</td>\n",
              "      <td>female</td>\n",
              "      <td>45.0</td>\n",
              "      <td>head/neck</td>\n",
              "      <td>UNK</td>\n",
              "      <td>0</td>\n",
              "    </tr>\n",
              "    <tr>\n",
              "      <th>4</th>\n",
              "      <td>IP_8723313</td>\n",
              "      <td>ISIC_0074268</td>\n",
              "      <td>ISIC20</td>\n",
              "      <td>female</td>\n",
              "      <td>55.0</td>\n",
              "      <td>upper extremity</td>\n",
              "      <td>UNK</td>\n",
              "      <td>0</td>\n",
              "    </tr>\n",
              "  </tbody>\n",
              "</table>\n",
              "</div>"
            ],
            "text/plain": [
              "   patient_id      image_id  ... diagnosis target\n",
              "0  IP_7279968  ISIC_2637011  ...       UNK      0\n",
              "1  IP_3075186  ISIC_0015719  ...       UNK      0\n",
              "2  IP_2842074  ISIC_0052212  ...        NV      0\n",
              "3  IP_6890425  ISIC_0068279  ...       UNK      0\n",
              "4  IP_8723313  ISIC_0074268  ...       UNK      0\n",
              "\n",
              "[5 rows x 8 columns]"
            ]
          },
          "metadata": {
            "tags": []
          },
          "execution_count": 13
        }
      ]
    },
    {
      "cell_type": "markdown",
      "metadata": {
        "id": "w_tYYtKfZysN",
        "colab_type": "text"
      },
      "source": [
        "#### Impute missing values"
      ]
    },
    {
      "cell_type": "code",
      "metadata": {
        "id": "__g35b5aZz1H",
        "colab_type": "code",
        "outputId": "f421503b-e127-4cad-bc2c-1f91519d3834",
        "colab": {
          "base_uri": "https://localhost:8080/",
          "height": 269
        }
      },
      "source": [
        "combined_df.info()"
      ],
      "execution_count": 14,
      "outputs": [
        {
          "output_type": "stream",
          "text": [
            "<class 'pandas.core.frame.DataFrame'>\n",
            "RangeIndex: 56383 entries, 0 to 56382\n",
            "Data columns (total 8 columns):\n",
            " #   Column                         Non-Null Count  Dtype  \n",
            "---  ------                         --------------  -----  \n",
            " 0   patient_id                     55557 non-null  object \n",
            " 1   image_id                       56383 non-null  object \n",
            " 2   source                         56383 non-null  object \n",
            " 3   sex                            56114 non-null  object \n",
            " 4   age_approx                     56092 non-null  float64\n",
            " 5   anatom_site_general_challenge  53973 non-null  object \n",
            " 6   diagnosis                      56383 non-null  object \n",
            " 7   target                         56383 non-null  int64  \n",
            "dtypes: float64(1), int64(1), object(6)\n",
            "memory usage: 3.4+ MB\n"
          ],
          "name": "stdout"
        }
      ]
    },
    {
      "cell_type": "code",
      "metadata": {
        "id": "tPVkDN2VZ3sm",
        "colab_type": "code",
        "colab": {}
      },
      "source": [
        "combined_df[\"patient_id\"].fillna(\"UNKNOWN_ID\", inplace=True)\n",
        "combined_df[\"sex\"].fillna(\"Unknown\", inplace=True)\n",
        "combined_df[\"age_approx\"].fillna(0.0, inplace=True)\n",
        "combined_df[\"anatom_site_general_challenge\"].fillna(\"Unknown\", inplace=True)"
      ],
      "execution_count": 0,
      "outputs": []
    },
    {
      "cell_type": "markdown",
      "metadata": {
        "id": "ZBSJlvj_9_cK",
        "colab_type": "text"
      },
      "source": [
        "### Some Histogram Check"
      ]
    },
    {
      "cell_type": "markdown",
      "metadata": {
        "id": "wtrjEVta-Evp",
        "colab_type": "text"
      },
      "source": [
        "#### Data Source"
      ]
    },
    {
      "cell_type": "code",
      "metadata": {
        "id": "V8uT7InvS3ER",
        "colab_type": "code",
        "outputId": "b0210964-a08e-4a83-90a3-2059d5dd6860",
        "colab": {
          "base_uri": "https://localhost:8080/",
          "height": 332
        }
      },
      "source": [
        "print(combined_df['source'].value_counts())\n",
        "combined_df['source'].hist()"
      ],
      "execution_count": 16,
      "outputs": [
        {
          "output_type": "stream",
          "text": [
            "ISIC20    33126\n",
            "ISIC19    23257\n",
            "Name: source, dtype: int64\n"
          ],
          "name": "stdout"
        },
        {
          "output_type": "execute_result",
          "data": {
            "text/plain": [
              "<matplotlib.axes._subplots.AxesSubplot at 0x7f402b215630>"
            ]
          },
          "metadata": {
            "tags": []
          },
          "execution_count": 16
        },
        {
          "output_type": "display_data",
          "data": {
            "image/png": "[encoded data removed]",
            "text/plain": [
              "<Figure size 432x288 with 1 Axes>"
            ]
          },
          "metadata": {
            "tags": [],
            "needs_background": "light"
          }
        }
      ]
    },
    {
      "cell_type": "markdown",
      "metadata": {
        "id": "N8g20G40-HGK",
        "colab_type": "text"
      },
      "source": [
        "#### Target distribution"
      ]
    },
    {
      "cell_type": "code",
      "metadata": {
        "id": "eTpWZB0TTCwn",
        "colab_type": "code",
        "outputId": "b88b3b8a-ca11-429e-b373-5cdfc885feba",
        "colab": {
          "base_uri": "https://localhost:8080/",
          "height": 332
        }
      },
      "source": [
        "print(combined_df[\"target\"].value_counts())\n",
        "combined_df[\"target\"].hist()"
      ],
      "execution_count": 17,
      "outputs": [
        {
          "output_type": "stream",
          "text": [
            "0    51651\n",
            "1     4732\n",
            "Name: target, dtype: int64\n"
          ],
          "name": "stdout"
        },
        {
          "output_type": "execute_result",
          "data": {
            "text/plain": [
              "<matplotlib.axes._subplots.AxesSubplot at 0x7f4028f88550>"
            ]
          },
          "metadata": {
            "tags": []
          },
          "execution_count": 17
        },
        {
          "output_type": "display_data",
          "data": {
            "image/png": "[encoded data removed]",
            "text/plain": [
              "<Figure size 432x288 with 1 Axes>"
            ]
          },
          "metadata": {
            "tags": [],
            "needs_background": "light"
          }
        }
      ]
    },
    {
      "cell_type": "markdown",
      "metadata": {
        "id": "YWEV7b1w-LNC",
        "colab_type": "text"
      },
      "source": [
        "#### Gender distribution"
      ]
    },
    {
      "cell_type": "code",
      "metadata": {
        "id": "fOzffiug9hvf",
        "colab_type": "code",
        "outputId": "e4c3dd47-01d7-4d56-ce64-650a440a211d",
        "colab": {
          "base_uri": "https://localhost:8080/",
          "height": 349
        }
      },
      "source": [
        "print(combined_df[\"sex\"].value_counts())\n",
        "combined_df[\"sex\"].hist()"
      ],
      "execution_count": 18,
      "outputs": [
        {
          "output_type": "stream",
          "text": [
            "male       29359\n",
            "female     26755\n",
            "Unknown      269\n",
            "Name: sex, dtype: int64\n"
          ],
          "name": "stdout"
        },
        {
          "output_type": "execute_result",
          "data": {
            "text/plain": [
              "<matplotlib.axes._subplots.AxesSubplot at 0x7f4028f14e10>"
            ]
          },
          "metadata": {
            "tags": []
          },
          "execution_count": 18
        },
        {
          "output_type": "display_data",
          "data": {
            "image/png": "[encoded data removed]",
            "text/plain": [
              "<Figure size 432x288 with 1 Axes>"
            ]
          },
          "metadata": {
            "tags": [],
            "needs_background": "light"
          }
        }
      ]
    },
    {
      "cell_type": "markdown",
      "metadata": {
        "id": "STYKC4em-OUV",
        "colab_type": "text"
      },
      "source": [
        "#### Lesion Location Distribution"
      ]
    },
    {
      "cell_type": "code",
      "metadata": {
        "id": "08OzxKKk9103",
        "colab_type": "code",
        "outputId": "e850abc0-0777-43fc-e43c-76da8c4d7566",
        "colab": {
          "base_uri": "https://localhost:8080/",
          "height": 416
        }
      },
      "source": [
        "print(combined_df[\"anatom_site_general_challenge\"].value_counts())\n",
        "combined_df[\"anatom_site_general_challenge\"].hist()"
      ],
      "execution_count": 19,
      "outputs": [
        {
          "output_type": "stream",
          "text": [
            "torso              26000\n",
            "lower extremity    13151\n",
            "upper extremity     7632\n",
            "head/neck           6241\n",
            "Unknown             2410\n",
            "palms/soles          766\n",
            "oral/genital         183\n",
            "Name: anatom_site_general_challenge, dtype: int64\n"
          ],
          "name": "stdout"
        },
        {
          "output_type": "execute_result",
          "data": {
            "text/plain": [
              "<matplotlib.axes._subplots.AxesSubplot at 0x7f4028e7f278>"
            ]
          },
          "metadata": {
            "tags": []
          },
          "execution_count": 19
        },
        {
          "output_type": "display_data",
          "data": {
            "image/png": "[encoded data removed]",
            "text/plain": [
              "<Figure size 432x288 with 1 Axes>"
            ]
          },
          "metadata": {
            "tags": [],
            "needs_background": "light"
          }
        }
      ]
    },
    {
      "cell_type": "markdown",
      "metadata": {
        "id": "mo3hI8cB_PJF",
        "colab_type": "text"
      },
      "source": [
        "#### Age Distribution"
      ]
    },
    {
      "cell_type": "code",
      "metadata": {
        "id": "tN4ioKGF_S-9",
        "colab_type": "code",
        "outputId": "9396327f-463e-4810-ef64-3bc8b485c824",
        "colab": {
          "base_uri": "https://localhost:8080/",
          "height": 620
        }
      },
      "source": [
        "print(combined_df[\"age_approx\"].value_counts())\n",
        "combined_df[\"age_approx\"].hist()"
      ],
      "execution_count": 20,
      "outputs": [
        {
          "output_type": "stream",
          "text": [
            "45.0    6880\n",
            "50.0    6606\n",
            "55.0    5857\n",
            "40.0    5695\n",
            "60.0    5101\n",
            "65.0    4441\n",
            "35.0    4403\n",
            "70.0    3921\n",
            "30.0    3468\n",
            "75.0    2658\n",
            "25.0    2144\n",
            "80.0    1789\n",
            "85.0    1398\n",
            "20.0    1023\n",
            "0.0      347\n",
            "15.0     326\n",
            "10.0     136\n",
            "5.0      110\n",
            "90.0      80\n",
            "Name: age_approx, dtype: int64\n"
          ],
          "name": "stdout"
        },
        {
          "output_type": "execute_result",
          "data": {
            "text/plain": [
              "<matplotlib.axes._subplots.AxesSubplot at 0x7f4028e752e8>"
            ]
          },
          "metadata": {
            "tags": []
          },
          "execution_count": 20
        },
        {
          "output_type": "display_data",
          "data": {
            "image/png": "[encoded data removed]",
            "text/plain": [
              "<Figure size 432x288 with 1 Axes>"
            ]
          },
          "metadata": {
            "tags": [],
            "needs_background": "light"
          }
        }
      ]
    },
    {
      "cell_type": "markdown",
      "metadata": {
        "id": "RvF0PnIq-S42",
        "colab_type": "text"
      },
      "source": [
        "#### Diagnosis Distribution"
      ]
    },
    {
      "cell_type": "code",
      "metadata": {
        "id": "Lk5RRLga-XQP",
        "colab_type": "code",
        "outputId": "043dea8d-3215-4bb7-ac0a-829eb54463f8",
        "colab": {
          "base_uri": "https://localhost:8080/",
          "height": 500
        }
      },
      "source": [
        "print(combined_df[\"diagnosis\"].value_counts())\n",
        "combined_df[\"diagnosis\"].hist()"
      ],
      "execution_count": 21,
      "outputs": [
        {
          "output_type": "stream",
          "text": [
            "UNK     27124\n",
            "NV      16752\n",
            "MEL      4732\n",
            "BCC      3323\n",
            "BKL      2419\n",
            "AK        867\n",
            "SCC       628\n",
            "VASC      253\n",
            "DF        239\n",
            "LNOS       44\n",
            "AMP         1\n",
            "CALM        1\n",
            "Name: diagnosis, dtype: int64\n"
          ],
          "name": "stdout"
        },
        {
          "output_type": "execute_result",
          "data": {
            "text/plain": [
              "<matplotlib.axes._subplots.AxesSubplot at 0x7f4028e2c518>"
            ]
          },
          "metadata": {
            "tags": []
          },
          "execution_count": 21
        },
        {
          "output_type": "display_data",
          "data": {
            "image/png": "[encoded data removed]",
            "text/plain": [
              "<Figure size 432x288 with 1 Axes>"
            ]
          },
          "metadata": {
            "tags": [],
            "needs_background": "light"
          }
        }
      ]
    },
    {
      "cell_type": "markdown",
      "metadata": {
        "id": "5CDroXrr_oUo",
        "colab_type": "text"
      },
      "source": [
        "#### # of images per patient"
      ]
    },
    {
      "cell_type": "code",
      "metadata": {
        "id": "HEKTN7Yu_u8z",
        "colab_type": "code",
        "outputId": "3e8dbe3e-a4dc-423b-82aa-03f34f5921df",
        "colab": {
          "base_uri": "https://localhost:8080/",
          "height": 218
        }
      },
      "source": [
        "print(combined_df[\"patient_id\"].value_counts())"
      ],
      "execution_count": 22,
      "outputs": [
        {
          "output_type": "stream",
          "text": [
            "UNKNOWN_ID     826\n",
            "IP_4382720     115\n",
            "IP_4479736     115\n",
            "IP_7279968     115\n",
            "IP_4938382     115\n",
            "              ... \n",
            "HAM_0001879      1\n",
            "HAM_0002202      1\n",
            "HAM_0004640      1\n",
            "HAM_0006176      1\n",
            "HAM_0006222      1\n",
            "Name: patient_id, Length: 13106, dtype: int64\n"
          ],
          "name": "stdout"
        }
      ]
    },
    {
      "cell_type": "markdown",
      "metadata": {
        "id": "2a9zd2yMUl6H",
        "colab_type": "text"
      },
      "source": [
        "### Creating TFRecords - Image + Context"
      ]
    },
    {
      "cell_type": "markdown",
      "metadata": {
        "id": "_wR6NepidunI",
        "colab_type": "text"
      },
      "source": [
        "TODO: We may have to consider the cross validation policies while creating TFRecords"
      ]
    },
    {
      "cell_type": "code",
      "metadata": {
        "id": "HcYdzdMSViet",
        "colab_type": "code",
        "colab": {}
      },
      "source": [
        "# https://www.tensorflow.org/tutorials/load_data/tfrecord\n",
        "\n",
        "# The following functions can be used to convert a value to a type compatible\n",
        "# with tf.Example.\n",
        "\n",
        "def _bytes_feature(value):\n",
        "  \"\"\"Returns a bytes_list from a string / byte.\"\"\"\n",
        "  if isinstance(value, type(tf.constant(0))):\n",
        "    value = value.numpy() # BytesList won't unpack a string from an EagerTensor.\n",
        "  return tf.train.Feature(bytes_list=tf.train.BytesList(value=[value]))\n",
        "\n",
        "def _float_feature(value):\n",
        "  \"\"\"Returns a float_list from a float / double.\"\"\"\n",
        "  return tf.train.Feature(float_list=tf.train.FloatList(value=[value]))\n",
        "\n",
        "def _int64_feature(value):\n",
        "  \"\"\"Returns an int64_list from a bool / enum / int / uint.\"\"\"\n",
        "  return tf.train.Feature(int64_list=tf.train.Int64List(value=[value]))"
      ],
      "execution_count": 0,
      "outputs": []
    },
    {
      "cell_type": "code",
      "metadata": {
        "id": "OwEpgEMwXpPb",
        "colab_type": "code",
        "colab": {}
      },
      "source": [
        "def serialize_example(patient_id, image_id, image, source, sex, age_approx, anatom_site_general_challenge, diagnosis, target):\n",
        "  feature = {\n",
        "      'patient_id': _int64_feature(patient_id),\n",
        "      'image_id': _bytes_feature(image_id),\n",
        "      'image': _bytes_feature(image),\n",
        "      'source': _int64_feature(source),\n",
        "      'sex': _int64_feature(sex),\n",
        "      'age_approx': _int64_feature(age_approx),\n",
        "      'anatom_site_general_challenge': _int64_feature(anatom_site_general_challenge),\n",
        "      'diagnosis': _int64_feature(diagnosis),\n",
        "      'target': _int64_feature(target)\n",
        "  }\n",
        "  example_proto = tf.train.Example(features=tf.train.Features(feature=feature))\n",
        "  return example_proto.SerializeToString()"
      ],
      "execution_count": 0,
      "outputs": []
    },
    {
      "cell_type": "markdown",
      "metadata": {
        "id": "649_YG86MtCT",
        "colab_type": "text"
      },
      "source": [
        "Lets create separate tfrecord files for ORIGINAL and EXT datasets"
      ]
    },
    {
      "cell_type": "code",
      "metadata": {
        "id": "jOUUkgk6k9Qa",
        "colab_type": "code",
        "colab": {}
      },
      "source": [
        "orig_train_df = combined_df[combined_df[\"source\"] == \"ISIC20\"]\n",
        "ext_train_df = combined_df[combined_df[\"source\"] == \"ISIC19\"]"
      ],
      "execution_count": 0,
      "outputs": []
    },
    {
      "cell_type": "code",
      "metadata": {
        "id": "8fuTjTy-TdBi",
        "colab_type": "code",
        "outputId": "d4553a5c-8ea0-4e92-b323-91b6a75b81ae",
        "colab": {
          "base_uri": "https://localhost:8080/",
          "height": 34
        }
      },
      "source": [
        "len(orig_train_df), len(ext_train_df)"
      ],
      "execution_count": 26,
      "outputs": [
        {
          "output_type": "execute_result",
          "data": {
            "text/plain": [
              "(33126, 23257)"
            ]
          },
          "metadata": {
            "tags": []
          },
          "execution_count": 26
        }
      ]
    },
    {
      "cell_type": "markdown",
      "metadata": {
        "id": "rM8hfHIjGp7v",
        "colab_type": "text"
      },
      "source": [
        "#### Using Ray to parallelize the tfrecord creation process"
      ]
    },
    {
      "cell_type": "code",
      "metadata": {
        "id": "icz_V9IyZuEW",
        "colab_type": "code",
        "colab": {}
      },
      "source": [
        "!rm -rf data"
      ],
      "execution_count": 0,
      "outputs": []
    },
    {
      "cell_type": "code",
      "metadata": {
        "id": "tfATA3FVEylQ",
        "colab_type": "code",
        "outputId": "c8ebcbb3-be0e-4805-cada-0e5d2e39081f",
        "colab": {
          "base_uri": "https://localhost:8080/",
          "height": 188
        }
      },
      "source": [
        "ray.shutdown()\n",
        "ray.init(num_cpus=32)"
      ],
      "execution_count": 120,
      "outputs": [
        {
          "output_type": "stream",
          "text": [
            "2020-06-14 05:00:27,520\tINFO resource_spec.py:212 -- Starting Ray with 7.08 GiB memory available for workers and up to 3.55 GiB for objects. You can adjust these settings with ray.init(memory=<bytes>, object_store_memory=<bytes>).\n",
            "2020-06-14 05:00:27,913\tINFO services.py:1170 -- View the Ray dashboard at \u001b[1m\u001b[32mlocalhost:8265\u001b[39m\u001b[22m\n"
          ],
          "name": "stderr"
        },
        {
          "output_type": "execute_result",
          "data": {
            "text/plain": [
              "{'node_ip_address': '172.28.0.2',\n",
              " 'object_store_address': '/tmp/ray/session_2020-06-14_05-00-27_519244_121/sockets/plasma_store',\n",
              " 'raylet_ip_address': '172.28.0.2',\n",
              " 'raylet_socket_name': '/tmp/ray/session_2020-06-14_05-00-27_519244_121/sockets/raylet',\n",
              " 'redis_address': '172.28.0.2:35841',\n",
              " 'session_dir': '/tmp/ray/session_2020-06-14_05-00-27_519244_121',\n",
              " 'webui_url': 'localhost:8265'}"
            ]
          },
          "metadata": {
            "tags": []
          },
          "execution_count": 120
        }
      ]
    },
    {
      "cell_type": "markdown",
      "metadata": {
        "id": "PFIZq6z6MSTv",
        "colab_type": "text"
      },
      "source": [
        "##### Converting categorical variables to their IDs"
      ]
    },
    {
      "cell_type": "code",
      "metadata": {
        "id": "I3O600dZ5387",
        "colab_type": "code",
        "colab": {}
      },
      "source": [
        "codes, uniques = combined_df[\"patient_id\"].factorize()"
      ],
      "execution_count": 0,
      "outputs": []
    },
    {
      "cell_type": "code",
      "metadata": {
        "id": "sFawCCOqp74v",
        "colab_type": "code",
        "colab": {
          "base_uri": "https://localhost:8080/",
          "height": 151
        },
        "outputId": "1514039a-3d62-4cfd-e1f6-fe81747546eb"
      },
      "source": [
        "codes, uniques"
      ],
      "execution_count": 122,
      "outputs": [
        {
          "output_type": "execute_result",
          "data": {
            "text/plain": [
              "(array([    0,     1,     2, ..., 11810, 11690, 11427]),\n",
              " Index(['IP_7279968', 'IP_3075186', 'IP_2842074', 'IP_6890425', 'IP_8723313',\n",
              "        'IP_2950485', 'IP_4698288', 'IP_6017204', 'IP_7622888', 'IP_5075533',\n",
              "        ...\n",
              "        'BCN_0004280', 'BCN_0000020', 'BCN_0005071', 'BCN_0001726',\n",
              "        'BCN_0005678', 'BCN_0002149', 'BCN_0000345', 'BCN_0002147',\n",
              "        'BCN_0001946', 'BCN_0001014'],\n",
              "       dtype='object', length=13106))"
            ]
          },
          "metadata": {
            "tags": []
          },
          "execution_count": 122
        }
      ]
    },
    {
      "cell_type": "code",
      "metadata": {
        "id": "INl7zWuCouY5",
        "colab_type": "code",
        "colab": {}
      },
      "source": [
        "patient_id_map = bidict({p: i for i, p in enumerate(uniques)})"
      ],
      "execution_count": 0,
      "outputs": []
    },
    {
      "cell_type": "code",
      "metadata": {
        "id": "fe5_HOg-H1cd",
        "colab_type": "code",
        "colab": {}
      },
      "source": [
        "  source_map = bidict({\n",
        "      \"ISIC20\": 0, \n",
        "      \"ISIC19\": 1\n",
        "  })\n",
        "  sex_map = bidict({\n",
        "      \"male\": 0, \n",
        "      \"female\": 1, \n",
        "      \"Unknown\": 2\n",
        "  })\n",
        "  anatom_site_general_challenge_map = bidict({\n",
        "      \"torso\": 0,\n",
        "      \"lower extremity\": 1,\n",
        "      \"upper extremity\": 2,\n",
        "      \"head/neck\": 3,\n",
        "      \"palms/soles\": 4,\n",
        "      \"oral/genital\": 5,\n",
        "      \"Unknown\": 6,\n",
        "  })\n",
        "  diagnosis_map = bidict({\n",
        "      \"NV\": 0,\n",
        "      \"MEL\": 1,\n",
        "      \"BCC\": 2,\n",
        "      \"BKL\": 3,\n",
        "      \"AK\": 4,\n",
        "      \"SCC\": 5,\n",
        "      \"VASC\": 6,\n",
        "      \"DF\": 7,\n",
        "      \"LNOS\": 8,\n",
        "      \"AMP\": 9,\n",
        "      \"CALM\": 10,\n",
        "      \"UNK\": 11,\n",
        "  })"
      ],
      "execution_count": 0,
      "outputs": []
    },
    {
      "cell_type": "code",
      "metadata": {
        "id": "5MQvR6AeFBCb",
        "colab_type": "code",
        "colab": {}
      },
      "source": [
        "@ray.remote\n",
        "def create_tfrecord_from_df(df, part, source_image_dir, dest_dir=\"data\", ds_type=\"train_orig\", image_size=512):\n",
        "  size = len(df)\n",
        "\n",
        "  print(f\"Creating {ds_type}_part_{part}_{size}.tfrec, with {size} records\")\n",
        "  with tf.io.TFRecordWriter(f\"{dest_dir}/{ds_type}_part_{part}_{size}.tfrec\") as writer:\n",
        "    for index, row in df.iterrows():\n",
        "      patient_id = patient_id_map[row[\"patient_id\"]]\n",
        "      image_id = row[\"image_id\"]\n",
        "\n",
        "      image = tf.io.read_file(source_image_dir + image_id + \".jpg\")\n",
        "      image = tf.image.decode_jpeg(image, channels=3)\n",
        "      image = tf.image.resize(image, [image_size, image_size], method=\"nearest\")\n",
        "      image = tf.image.encode_jpeg(image, quality=94, optimize_size=True)\n",
        "\n",
        "      source = source_map[row[\"source\"]]\n",
        "      sex = sex_map[row[\"sex\"]]\n",
        "      age_approx = row[\"age_approx\"]\n",
        "      anatom_site_general_challenge = anatom_site_general_challenge_map[row[\"anatom_site_general_challenge\"]]\n",
        "      diagnosis = diagnosis_map[row[\"diagnosis\"]]\n",
        "      target = row[\"target\"]\n",
        "\n",
        "      example = serialize_example(\n",
        "          patient_id=patient_id,\n",
        "          image_id=image_id.encode(),\n",
        "          image=image,\n",
        "          source=source,\n",
        "          sex=sex,\n",
        "          age_approx=int(age_approx),\n",
        "          anatom_site_general_challenge=anatom_site_general_challenge,\n",
        "          diagnosis=diagnosis,\n",
        "          target=target,\n",
        "      )\n",
        "      writer.write(example)\n",
        "  print(f\"{dest_dir}/{ds_type}_part_{part}_{size}.tfrec Created!\")\n"
      ],
      "execution_count": 0,
      "outputs": []
    },
    {
      "cell_type": "code",
      "metadata": {
        "id": "xrbiX8F5FtgM",
        "colab_type": "code",
        "colab": {}
      },
      "source": [
        "def create_tfrecords_from_df(df, n_files=16):\n",
        "  \n",
        "  data_dir = Path()/\"data/tfrecords\"\n",
        "  data_dir.mkdir(exist_ok=True, parents=True)\n",
        "\n",
        "  orig_train_df = df[df[\"source\"] == \"ISIC20\"]\n",
        "  ext_train_df = df[df[\"source\"] == \"ISIC19\"]\n",
        "\n",
        "  dfs_split_orig = np.array_split(orig_train_df, n_files)\n",
        "  dfs_split_ext = np.array_split(ext_train_df, n_files)\n",
        "\n",
        "  futures = []\n",
        "  for part, df in enumerate(dfs_split_orig):\n",
        "    futures.append(create_tfrecord_from_df.remote(\n",
        "        df, \n",
        "        part=part, \n",
        "        source_image_dir=GCS_PATH_ORIG_JPEG_TRAIN, \n",
        "        dest_dir=str(data_dir), \n",
        "        ds_type=\"train_orig\"\n",
        "        )\n",
        "    )\n",
        "  \n",
        "  for part, df in enumerate(dfs_split_ext):\n",
        "    futures.append(create_tfrecord_from_df.remote(\n",
        "        df, \n",
        "        part=part, \n",
        "        source_image_dir=GCS_PATH_EXT_JPEG_TRAIN, \n",
        "        dest_dir=str(data_dir), \n",
        "        ds_type=\"train_ext\"\n",
        "        )\n",
        "    )\n",
        "\n",
        "  ray.get(futures)"
      ],
      "execution_count": 0,
      "outputs": []
    },
    {
      "cell_type": "code",
      "metadata": {
        "id": "LcUhMdpxJRBD",
        "colab_type": "code",
        "colab": {}
      },
      "source": [
        "%%capture\n",
        "%%time\n",
        "create_tfrecords_from_df(combined_df)"
      ],
      "execution_count": 0,
      "outputs": []
    },
    {
      "cell_type": "markdown",
      "metadata": {
        "id": "rsw0BtIZYQmd",
        "colab_type": "text"
      },
      "source": [
        "#### Check the TFRecord files"
      ]
    },
    {
      "cell_type": "markdown",
      "metadata": {
        "id": "rnOttY3eBL-h",
        "colab_type": "text"
      },
      "source": [
        "#### Check the plain Protobuf"
      ]
    },
    {
      "cell_type": "code",
      "metadata": {
        "id": "Yc7IscyiTLiJ",
        "colab_type": "code",
        "outputId": "6afec943-a059-4265-d214-46ef553451ae",
        "colab": {
          "base_uri": "https://localhost:8080/",
          "height": 34
        }
      },
      "source": [
        "filenames = tf.io.gfile.glob(\"data/tfrecords/train_orig*\")\n",
        "filenames[:4]"
      ],
      "execution_count": 104,
      "outputs": [
        {
          "output_type": "execute_result",
          "data": {
            "text/plain": [
              "['data/tfrecords/train_orig_part_0_2071.tfrec']"
            ]
          },
          "metadata": {
            "tags": []
          },
          "execution_count": 104
        }
      ]
    },
    {
      "cell_type": "code",
      "metadata": {
        "id": "z8WZIHxzBPDA",
        "colab_type": "code",
        "colab": {}
      },
      "source": [
        "dataset = tf.data.TFRecordDataset(filenames)"
      ],
      "execution_count": 0,
      "outputs": []
    },
    {
      "cell_type": "code",
      "metadata": {
        "id": "67aWstp3BS0C",
        "colab_type": "code",
        "colab": {}
      },
      "source": [
        "for item in dataset.take(1):\n",
        "  example = tf.train.Example()\n",
        "  example.ParseFromString(item.numpy())\n",
        "  with open(\"example.txt\", \"w\") as f:\n",
        "    f.write(str(example))"
      ],
      "execution_count": 0,
      "outputs": []
    },
    {
      "cell_type": "markdown",
      "metadata": {
        "id": "JdTVGliKBZv6",
        "colab_type": "text"
      },
      "source": [
        "#### Check the full dataset pipeline"
      ]
    },
    {
      "cell_type": "markdown",
      "metadata": {
        "id": "8QGdKra6ashx",
        "colab_type": "text"
      },
      "source": [
        "Feature spec"
      ]
    },
    {
      "cell_type": "code",
      "metadata": {
        "id": "DPuhqi8SbiFe",
        "colab_type": "code",
        "colab": {}
      },
      "source": [
        "class MelanomaDataset:\n",
        "  \n",
        "  train_feature_desc = {\n",
        "    \"patient_id\": tf.io.FixedLenFeature([], tf.int64),\n",
        "    \"image_id\": tf.io.FixedLenFeature([], tf.string),\n",
        "    \"image\": tf.io.FixedLenFeature([], tf.string),\n",
        "    \"source\": tf.io.FixedLenFeature([], tf.int64),\n",
        "    \"sex\": tf.io.FixedLenFeature([], tf.int64),\n",
        "    \"age_approx\": tf.io.FixedLenFeature([], tf.int64),\n",
        "    \"anatom_site_general_challenge\": tf.io.FixedLenFeature([], tf.int64),\n",
        "    \"diagnosis\": tf.io.FixedLenFeature([], tf.int64),\n",
        "    \"target\": tf.io.FixedLenFeature([], tf.int64),\n",
        "  }\n",
        "  \n",
        "  def __init__(self, filenames, image_size=None):\n",
        "    self.filenames = filenames\n",
        "    self.image_size = image_size\n",
        "\n",
        "  def decode_image(self, image_data):\n",
        "      # image_size = [TPU_IMAGE_SIZE, TPU_IMAGE_SIZE]\n",
        "      image = tf.image.decode_jpeg(image_data, channels=3)\n",
        "      image = tf.cast(image, tf.float32) / 255.0\n",
        "      # image = tf.reshape(image, [*image_size, 3])  # explicit size needed for TPU, cannot reshape error.\n",
        "      if self.image_size:\n",
        "        image = tf.image.resize(image, [self.image_size, self.image_size])\n",
        "      return image\n",
        "                            \n",
        "  def parse_train_example(self, example):\n",
        "      \"\"\" function to parse each example read from the train tfrecord file\"\"\"\n",
        "      example = tf.io.parse_single_example(example, self.train_feature_desc)\n",
        "      return example\n",
        "\n",
        "  def process_train_example(self, example):\n",
        "      patient_id = example[\"patient_id\"]\n",
        "      image_id = example[\"image_id\"]\n",
        "      image = self.decode_image(example[\"image\"])\n",
        "      source = example[\"source\"]\n",
        "      sex = example[\"sex\"]\n",
        "      age_approx = tf.cast(example[\"age_approx\"], tf.int32)\n",
        "      anatom_site_general_challenge = example[\"anatom_site_general_challenge\"]\n",
        "      diagnosis = example[\"diagnosis\"]\n",
        "      label = tf.cast(example[\"target\"], tf.int32)\n",
        "      return patient_id, image_id, image, source, sex, age_approx, anatom_site_general_challenge, diagnosis, label\n",
        "      \n",
        "  def load_dataset_from_tfrecord(self, ordered=False):\n",
        "      \n",
        "      # Since we are reading dataset from multiple files. and we dont care about the order.\n",
        "      # set deterministic reading to False.\n",
        "      ignore_order = tf.data.Options()\n",
        "      if not ordered:\n",
        "          ignore_order.experimental_deterministic = False\n",
        "          \n",
        "      dataset = tf.data.TFRecordDataset(self.filenames, num_parallel_reads=tf.data.experimental.AUTOTUNE)\n",
        "      dataset.with_options(ignore_order)\n",
        "      \n",
        "      # parse each example with feature description\n",
        "      dataset = dataset.map(self.parse_train_example, num_parallel_calls=tf.data.experimental.AUTOTUNE)\n",
        "      dataset = dataset.map(self.process_train_example, num_parallel_calls=tf.data.experimental.AUTOTUNE)\n",
        "\n",
        "      return dataset"
      ],
      "execution_count": 0,
      "outputs": []
    },
    {
      "cell_type": "code",
      "metadata": {
        "id": "QyHrIybL9g0S",
        "colab_type": "code",
        "colab": {}
      },
      "source": [
        "tf.random.set_seed(1)"
      ],
      "execution_count": 0,
      "outputs": []
    },
    {
      "cell_type": "markdown",
      "metadata": {
        "id": "52pdEGfnAhNw",
        "colab_type": "text"
      },
      "source": [
        "512 x 512 Images"
      ]
    },
    {
      "cell_type": "code",
      "metadata": {
        "id": "46gb5EBKcGna",
        "colab_type": "code",
        "colab": {}
      },
      "source": [
        "dataset = MelanomaDataset(filenames=filenames, image_size=512)\n",
        "dataset = dataset.load_dataset_from_tfrecord()"
      ],
      "execution_count": 0,
      "outputs": []
    },
    {
      "cell_type": "code",
      "metadata": {
        "id": "-wd7S9JFcQjp",
        "colab_type": "code",
        "outputId": "ef899e82-8511-4c5a-c7a2-2b90aa384c5d",
        "colab": {
          "base_uri": "https://localhost:8080/",
          "height": 302
        }
      },
      "source": [
        "for item in dataset.take(1):\n",
        "  patient_id = item[0].numpy()\n",
        "  image_id = item[1].numpy().decode()\n",
        "  img = item[2].numpy()\n",
        "  source = item[3].numpy()\n",
        "  sex = item[4].numpy()\n",
        "  age_approx = item[5].numpy()\n",
        "  anatom_site_general_challenge = item[6].numpy()\n",
        "  diagnosis = item[7].numpy()\n",
        "  target = item[8].numpy()\n",
        "\n",
        "print(\n",
        "    patient_id_map.inverse[patient_id], \n",
        "    image_id, \n",
        "    source_map.inverse[source], \n",
        "    sex_map.inverse[sex], \n",
        "    age_approx, \n",
        "    anatom_site_general_challenge_map.inverse[anatom_site_general_challenge],\n",
        "    diagnosis_map.inverse[diagnosis],\n",
        "    target\n",
        "    )\n",
        "plt.imshow(img)"
      ],
      "execution_count": 117,
      "outputs": [
        {
          "output_type": "stream",
          "text": [
            "IP_7279968 ISIC_2637011 ISIC20 male 45 head/neck UNK 0\n"
          ],
          "name": "stdout"
        },
        {
          "output_type": "execute_result",
          "data": {
            "text/plain": [
              "<matplotlib.image.AxesImage at 0x7f3f3cae7be0>"
            ]
          },
          "metadata": {
            "tags": []
          },
          "execution_count": 117
        },
        {
          "output_type": "display_data",
          "data": {
            "image/png": "[encoded data removed]",
            "text/plain": [
              "<Figure size 432x288 with 1 Axes>"
            ]
          },
          "metadata": {
            "tags": [],
            "needs_background": "light"
          }
        }
      ]
    },
    {
      "cell_type": "markdown",
      "metadata": {
        "id": "1p_D-rBBGcch",
        "colab_type": "text"
      },
      "source": [
        "Original Image"
      ]
    },
    {
      "cell_type": "code",
      "metadata": {
        "id": "SQJXxf84GBvJ",
        "colab_type": "code",
        "colab": {
          "base_uri": "https://localhost:8080/",
          "height": 286
        },
        "outputId": "641b0167-3a8c-4bfc-a080-ca1b74922268"
      },
      "source": [
        "image = tf.io.read_file(GCS_PATH_ORIG_JPEG_TRAIN + image_id + \".jpg\")\n",
        "image = tf.image.decode_jpeg(image, channels=3)\n",
        "plt.imshow(image)"
      ],
      "execution_count": 110,
      "outputs": [
        {
          "output_type": "execute_result",
          "data": {
            "text/plain": [
              "<matplotlib.image.AxesImage at 0x7f3f3cc674e0>"
            ]
          },
          "metadata": {
            "tags": []
          },
          "execution_count": 110
        },
        {
          "output_type": "display_data",
          "data": {
            "image/png": "[encoded data removed]",
            "text/plain": [
              "<Figure size 432x288 with 1 Axes>"
            ]
          },
          "metadata": {
            "tags": [],
            "needs_background": "light"
          }
        }
      ]
    },
    {
      "cell_type": "code",
      "metadata": {
        "id": "Aow3y49sDQIV",
        "colab_type": "code",
        "outputId": "945bbb86-61f7-4f0c-ffc0-2608058b1577",
        "colab": {
          "base_uri": "https://localhost:8080/",
          "height": 151
        }
      },
      "source": [
        "combined_df.set_index('image_id').loc[image_id]"
      ],
      "execution_count": 111,
      "outputs": [
        {
          "output_type": "execute_result",
          "data": {
            "text/plain": [
              "patient_id                       IP_7279968\n",
              "source                               ISIC20\n",
              "sex                                    male\n",
              "age_approx                               45\n",
              "anatom_site_general_challenge     head/neck\n",
              "diagnosis                               UNK\n",
              "target                                    0\n",
              "Name: ISIC_2637011, dtype: object"
            ]
          },
          "metadata": {
            "tags": []
          },
          "execution_count": 111
        }
      ]
    },
    {
      "cell_type": "markdown",
      "metadata": {
        "id": "kvWrYh9PEIyH",
        "colab_type": "text"
      },
      "source": [
        "### Upload to Kaggle"
      ]
    },
    {
      "cell_type": "code",
      "metadata": {
        "id": "NzZscHhJmU93",
        "colab_type": "code",
        "outputId": "eb1b0415-ed58-4234-9868-315f832151b1",
        "colab": {
          "base_uri": "https://localhost:8080/",
          "height": 121
        }
      },
      "source": [
        "# mount google drive\n",
        "from google.colab import drive\n",
        "drive.mount(\"/content/drive\")"
      ],
      "execution_count": 0,
      "outputs": [
        {
          "output_type": "stream",
          "text": [
            "Go to this URL in a browser: https://accounts.google.com/o/oauth2/auth?client_id=947318989803-6bn6qk8qdgf4n4g3pfee6491hc0brc4i.apps.googleusercontent.com&redirect_uri=urn%3aietf%3awg%3aoauth%3a2.0%3aoob&response_type=code&scope=email%20https%3a%2f%2fwww.googleapis.com%2fauth%2fdocs.test%20https%3a%2f%2fwww.googleapis.com%2fauth%2fdrive%20https%3a%2f%2fwww.googleapis.com%2fauth%2fdrive.photos.readonly%20https%3a%2f%2fwww.googleapis.com%2fauth%2fpeopleapi.readonly\n",
            "\n",
            "Enter your authorization code:\n",
            "··········\n",
            "Mounted at /content/drive\n"
          ],
          "name": "stdout"
        }
      ]
    },
    {
      "cell_type": "code",
      "metadata": {
        "id": "v9wmi2D7mo8X",
        "colab_type": "code",
        "colab": {}
      },
      "source": [
        "# Copy Kaggle API key\n",
        "!mkdir -p ~/.kaggle && cp /content/drive/My\\ Drive/Projects/Kaggle/api_key/kaggle.json ~/.kaggle/"
      ],
      "execution_count": 0,
      "outputs": []
    },
    {
      "cell_type": "code",
      "metadata": {
        "id": "QUtYJm3umv7B",
        "colab_type": "code",
        "outputId": "31e63064-c4f8-4cfe-bb43-6fcdaf2f4b26",
        "colab": {
          "base_uri": "https://localhost:8080/",
          "height": 34
        }
      },
      "source": [
        "!kaggle datasets init -p data/"
      ],
      "execution_count": 0,
      "outputs": [
        {
          "output_type": "stream",
          "text": [
            "Data package template written to: data/dataset-metadata.json\n"
          ],
          "name": "stdout"
        }
      ]
    },
    {
      "cell_type": "code",
      "metadata": {
        "id": "TRNF0gKbm1-A",
        "colab_type": "code",
        "outputId": "9c600a27-02b6-4b02-9e4e-a833f831beea",
        "colab": {
          "base_uri": "https://localhost:8080/",
          "height": 1000
        }
      },
      "source": [
        "!kaggle datasets create -p data/"
      ],
      "execution_count": 0,
      "outputs": [
        {
          "output_type": "stream",
          "text": [
            "Starting upload for file train_orig_part_12_2070.tfrec\n",
            "Warning: Looks like you're using an outdated API Version, please consider updating (server 1.5.6 / client 1.5.4)\n",
            "100% 1.52G/1.52G [00:29<00:00, 55.5MB/s]\n",
            "Upload successful: train_orig_part_12_2070.tfrec (2GB)\n",
            "Starting upload for file train_orig_part_1_2071.tfrec\n",
            "100% 1.53G/1.53G [00:30<00:00, 53.8MB/s]\n",
            "Upload successful: train_orig_part_1_2071.tfrec (2GB)\n",
            "Starting upload for file train_orig_part_7_2070.tfrec\n",
            "100% 1.50G/1.50G [00:29<00:00, 53.9MB/s]\n",
            "Upload successful: train_orig_part_7_2070.tfrec (1GB)\n",
            "Starting upload for file train_ext_part_9_1453.tfrec\n",
            "100% 718M/718M [00:14<00:00, 53.7MB/s]\n",
            "Upload successful: train_ext_part_9_1453.tfrec (718MB)\n",
            "Starting upload for file train_ext_part_12_1453.tfrec\n",
            "100% 713M/713M [00:13<00:00, 53.5MB/s]\n",
            "Upload successful: train_ext_part_12_1453.tfrec (713MB)\n",
            "Starting upload for file train_ext_part_5_1454.tfrec\n",
            "100% 379M/379M [00:07<00:00, 53.1MB/s]\n",
            "Upload successful: train_ext_part_5_1454.tfrec (379MB)\n",
            "Starting upload for file train_orig_part_2_2071.tfrec\n",
            "100% 1.49G/1.49G [00:29<00:00, 53.9MB/s]\n",
            "Upload successful: train_orig_part_2_2071.tfrec (1GB)\n",
            "Starting upload for file train_ext_part_2_1454.tfrec\n",
            "100% 380M/380M [00:07<00:00, 52.4MB/s]\n",
            "Upload successful: train_ext_part_2_1454.tfrec (380MB)\n",
            "Starting upload for file train_orig_part_13_2070.tfrec\n",
            "100% 1.48G/1.48G [00:29<00:00, 53.9MB/s]\n",
            "Upload successful: train_orig_part_13_2070.tfrec (1GB)\n",
            "Starting upload for file train_orig_part_14_2070.tfrec\n",
            "100% 1.49G/1.49G [00:29<00:00, 53.9MB/s]\n",
            "Upload successful: train_orig_part_14_2070.tfrec (1GB)\n",
            "Starting upload for file train_ext_part_0_1454.tfrec\n",
            "100% 303M/303M [00:06<00:00, 52.1MB/s]\n",
            "Upload successful: train_ext_part_0_1454.tfrec (303MB)\n",
            "Starting upload for file train_ext_part_4_1454.tfrec\n",
            "100% 382M/382M [00:07<00:00, 52.4MB/s]\n",
            "Upload successful: train_ext_part_4_1454.tfrec (382MB)\n",
            "Starting upload for file train_orig_part_9_2070.tfrec\n",
            "100% 1.45G/1.45G [00:29<00:00, 53.8MB/s]\n",
            "Upload successful: train_orig_part_9_2070.tfrec (1GB)\n",
            "Starting upload for file train_ext_part_8_1454.tfrec\n",
            "100% 717M/717M [00:14<00:00, 53.4MB/s]\n",
            "Upload successful: train_ext_part_8_1454.tfrec (717MB)\n",
            "Starting upload for file train_ext_part_10_1453.tfrec\n",
            "100% 717M/717M [00:14<00:00, 53.4MB/s]\n",
            "Upload successful: train_ext_part_10_1453.tfrec (717MB)\n",
            "Starting upload for file train_ext_part_15_1453.tfrec\n",
            "100% 716M/716M [00:14<00:00, 53.5MB/s]\n",
            "Upload successful: train_ext_part_15_1453.tfrec (716MB)\n",
            "Starting upload for file train_ext_part_14_1453.tfrec\n",
            "100% 715M/715M [00:14<00:00, 53.4MB/s]\n",
            "Upload successful: train_ext_part_14_1453.tfrec (715MB)\n",
            "Starting upload for file train_orig_part_0_2071.tfrec\n",
            "100% 1.54G/1.54G [00:30<00:00, 53.9MB/s]\n",
            "Upload successful: train_orig_part_0_2071.tfrec (2GB)\n",
            "Starting upload for file train_ext_part_6_1454.tfrec\n",
            "100% 400M/400M [00:07<00:00, 52.9MB/s]\n",
            "Upload successful: train_ext_part_6_1454.tfrec (400MB)\n",
            "Starting upload for file train_ext_part_7_1454.tfrec\n",
            "100% 570M/570M [00:11<00:00, 53.3MB/s]\n",
            "Upload successful: train_ext_part_7_1454.tfrec (570MB)\n",
            "Starting upload for file train_ext_part_13_1453.tfrec\n",
            "100% 715M/715M [00:14<00:00, 53.2MB/s]\n",
            "Upload successful: train_ext_part_13_1453.tfrec (715MB)\n",
            "Starting upload for file train_ext_part_1_1454.tfrec\n",
            "100% 379M/379M [00:07<00:00, 52.6MB/s]\n",
            "Upload successful: train_ext_part_1_1454.tfrec (379MB)\n",
            "Starting upload for file train_orig_part_11_2070.tfrec\n",
            "100% 1.52G/1.52G [00:30<00:00, 53.9MB/s]\n",
            "Upload successful: train_orig_part_11_2070.tfrec (2GB)\n",
            "Starting upload for file train_orig_part_5_2071.tfrec\n",
            "100% 1.48G/1.48G [00:29<00:00, 53.8MB/s]\n",
            "Upload successful: train_orig_part_5_2071.tfrec (1GB)\n",
            "Starting upload for file train_orig_part_4_2071.tfrec\n",
            "100% 1.53G/1.53G [00:30<00:00, 53.9MB/s]\n",
            "Upload successful: train_orig_part_4_2071.tfrec (2GB)\n",
            "Starting upload for file train_orig_part_10_2070.tfrec\n",
            "100% 1.49G/1.49G [00:29<00:00, 53.9MB/s]\n",
            "Upload successful: train_orig_part_10_2070.tfrec (1GB)\n",
            "Starting upload for file train_orig_part_15_2070.tfrec\n",
            "100% 1.46G/1.46G [00:31<00:00, 48.9MB/s]\n",
            "Upload successful: train_orig_part_15_2070.tfrec (1GB)\n",
            "Starting upload for file train_orig_part_8_2070.tfrec\n",
            "100% 1.52G/1.52G [00:30<00:00, 53.5MB/s]\n",
            "Upload successful: train_orig_part_8_2070.tfrec (2GB)\n",
            "Starting upload for file train_orig_part_3_2071.tfrec\n",
            "100% 1.49G/1.49G [00:29<00:00, 53.7MB/s]\n",
            "Upload successful: train_orig_part_3_2071.tfrec (1GB)\n",
            "Starting upload for file train_ext_part_3_1454.tfrec\n",
            "100% 379M/379M [00:07<00:00, 52.4MB/s]\n",
            "Upload successful: train_ext_part_3_1454.tfrec (379MB)\n",
            "Starting upload for file train_ext_part_11_1453.tfrec\n",
            "100% 722M/722M [00:14<00:00, 53.4MB/s]\n",
            "Upload successful: train_ext_part_11_1453.tfrec (722MB)\n",
            "Starting upload for file train_orig_part_6_2070.tfrec\n",
            "100% 1.51G/1.51G [00:30<00:00, 54.0MB/s]\n",
            "Upload successful: train_orig_part_6_2070.tfrec (2GB)\n",
            "Your private Dataset is being created. Please check progress at https://www.kaggle.com/nisarahamedk/melanoma-dataset\n"
          ],
          "name": "stdout"
        }
      ]
    },
    {
      "cell_type": "code",
      "metadata": {
        "id": "8pAOVZ34qXLJ",
        "colab_type": "code",
        "outputId": "3ffaf0a8-d308-4961-bf90-36bb9e88689a",
        "colab": {
          "base_uri": "https://localhost:8080/",
          "height": 34
        }
      },
      "source": [
        "!kaggle datasets status nisarahamedk/melanoma-dataset"
      ],
      "execution_count": 0,
      "outputs": [
        {
          "output_type": "stream",
          "text": [
            "Warning: Looks like you're using an outdated API Version, please consider updating (server 1.5.6 / client 1.5.4)\n"
          ],
          "name": "stdout"
        }
      ]
    },
    {
      "cell_type": "code",
      "metadata": {
        "id": "nDHrhlIBvNm-",
        "colab_type": "code",
        "colab": {}
      },
      "source": [
        ""
      ],
      "execution_count": 0,
      "outputs": []
    }
  ]
}