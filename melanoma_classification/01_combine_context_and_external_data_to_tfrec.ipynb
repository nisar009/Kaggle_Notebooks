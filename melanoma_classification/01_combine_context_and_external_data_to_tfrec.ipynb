{
  "nbformat": 4,
  "nbformat_minor": 0,
  "metadata": {
    "colab": {
      "name": "01_combine_context_and_external_data_to_tfrec.ipynb",
      "provenance": [],
      "collapsed_sections": [],
      "authorship_tag": "ABX9TyM7sWRjoUBcMcPu2yfYIf3P",
      "include_colab_link": true
    },
    "kernelspec": {
      "name": "python3",
      "display_name": "Python 3"
    }
  },
  "cells": [
    {
      "cell_type": "markdown",
      "metadata": {
        "id": "view-in-github",
        "colab_type": "text"
      },
      "source": [
        "<a href=\"https://colab.research.google.com/github/nisarahamedk/Kaggle_Notebooks/blob/master/melanoma_classification/01_combine_context_and_external_data_to_tfrec.ipynb\" target=\"_parent\"><img src=\"https://colab.research.google.com/assets/colab-badge.svg\" alt=\"Open In Colab\"/></a>"
      ]
    },
    {
      "cell_type": "markdown",
      "metadata": {
        "id": "VTp5PMwSGFGf",
        "colab_type": "text"
      },
      "source": [
        "## Combine context + external data into TFRecords for TPU training."
      ]
    },
    {
      "cell_type": "markdown",
      "metadata": {
        "id": "LCmzkbxIGuCy",
        "colab_type": "text"
      },
      "source": [
        "#### GCSFS for accessing Kaggle GCS bucket directly"
      ]
    },
    {
      "cell_type": "code",
      "metadata": {
        "id": "XClE4lnmGWOd",
        "colab_type": "code",
        "colab": {}
      },
      "source": [
        "%%capture\n",
        "!pip install gcsfs"
      ],
      "execution_count": 0,
      "outputs": []
    },
    {
      "cell_type": "markdown",
      "metadata": {
        "id": "UE0XMsYsIrZq",
        "colab_type": "text"
      },
      "source": [
        "### Imports"
      ]
    },
    {
      "cell_type": "code",
      "metadata": {
        "id": "n7bJiNApItgQ",
        "colab_type": "code",
        "colab": {}
      },
      "source": [
        "import gcsfs\n",
        "import tensorflow as tf\n",
        "import pandas as pd\n",
        "import numpy as np\n",
        "from tqdm import tqdm"
      ],
      "execution_count": 0,
      "outputs": []
    },
    {
      "cell_type": "code",
      "metadata": {
        "id": "5BDBwlzZGshF",
        "colab_type": "code",
        "colab": {}
      },
      "source": [
        "# isic 2020\n",
        "GCS_PATH_ORIG = \"gs://kds-c89313da1d85616eec461ab327fed61e1335defb486fb7729cf897b1\"\n",
        "GCS_PATH_ORIG_TFR = GCS_PATH_ORIG + \"/tfrecords\"\n",
        "GCS_PATH_ORIG_TRAIN_CSV = GCS_PATH_ORIG + \"/train.csv\"\n",
        "GCS_PATH_ORIG_TEST_CSV = GCS_PATH_ORIG + \"/test.csv\"\n",
        "\n",
        "# isic 2019\n",
        "GCS_PATH_EXT = \"gs://kds-5fd75db31a73c90ab8286af79b4045444797930ff7d68496817c995f\"\n",
        "GCS_PATH_EXT_TRAIN_CSV = GCS_PATH_EXT + \"/ISIC_2019_Training_GroundTruth.csv\"\n",
        "GCS_PATH_EXT_TRAIN_META = GCS_PATH_EXT + \"/ISIC_2019_Training_Metadata.csv\""
      ],
      "execution_count": 0,
      "outputs": []
    },
    {
      "cell_type": "markdown",
      "metadata": {
        "id": "HLRVR3XjKJeS",
        "colab_type": "text"
      },
      "source": [
        "### ISIC 2020 Original Data"
      ]
    },
    {
      "cell_type": "code",
      "metadata": {
        "id": "uONoEjxrKPt8",
        "colab_type": "code",
        "outputId": "2fc5367b-6746-4106-de8c-31e9218f7032",
        "colab": {
          "base_uri": "https://localhost:8080/",
          "height": 195
        }
      },
      "source": [
        "orig_train_df = pd.read_csv(GCS_PATH_ORIG_TRAIN_CSV)\n",
        "orig_train_df.head()"
      ],
      "execution_count": 4,
      "outputs": [
        {
          "output_type": "execute_result",
          "data": {
            "text/html": [
              "<div>\n",
              "<style scoped>\n",
              "    .dataframe tbody tr th:only-of-type {\n",
              "        vertical-align: middle;\n",
              "    }\n",
              "\n",
              "    .dataframe tbody tr th {\n",
              "        vertical-align: top;\n",
              "    }\n",
              "\n",
              "    .dataframe thead th {\n",
              "        text-align: right;\n",
              "    }\n",
              "</style>\n",
              "<table border=\"1\" class=\"dataframe\">\n",
              "  <thead>\n",
              "    <tr style=\"text-align: right;\">\n",
              "      <th></th>\n",
              "      <th>image_name</th>\n",
              "      <th>patient_id</th>\n",
              "      <th>sex</th>\n",
              "      <th>age_approx</th>\n",
              "      <th>anatom_site_general_challenge</th>\n",
              "      <th>diagnosis</th>\n",
              "      <th>benign_malignant</th>\n",
              "      <th>target</th>\n",
              "    </tr>\n",
              "  </thead>\n",
              "  <tbody>\n",
              "    <tr>\n",
              "      <th>0</th>\n",
              "      <td>ISIC_2637011</td>\n",
              "      <td>IP_7279968</td>\n",
              "      <td>male</td>\n",
              "      <td>45.0</td>\n",
              "      <td>head/neck</td>\n",
              "      <td>unknown</td>\n",
              "      <td>benign</td>\n",
              "      <td>0</td>\n",
              "    </tr>\n",
              "    <tr>\n",
              "      <th>1</th>\n",
              "      <td>ISIC_0015719</td>\n",
              "      <td>IP_3075186</td>\n",
              "      <td>female</td>\n",
              "      <td>45.0</td>\n",
              "      <td>upper extremity</td>\n",
              "      <td>unknown</td>\n",
              "      <td>benign</td>\n",
              "      <td>0</td>\n",
              "    </tr>\n",
              "    <tr>\n",
              "      <th>2</th>\n",
              "      <td>ISIC_0052212</td>\n",
              "      <td>IP_2842074</td>\n",
              "      <td>female</td>\n",
              "      <td>50.0</td>\n",
              "      <td>lower extremity</td>\n",
              "      <td>nevus</td>\n",
              "      <td>benign</td>\n",
              "      <td>0</td>\n",
              "    </tr>\n",
              "    <tr>\n",
              "      <th>3</th>\n",
              "      <td>ISIC_0068279</td>\n",
              "      <td>IP_6890425</td>\n",
              "      <td>female</td>\n",
              "      <td>45.0</td>\n",
              "      <td>head/neck</td>\n",
              "      <td>unknown</td>\n",
              "      <td>benign</td>\n",
              "      <td>0</td>\n",
              "    </tr>\n",
              "    <tr>\n",
              "      <th>4</th>\n",
              "      <td>ISIC_0074268</td>\n",
              "      <td>IP_8723313</td>\n",
              "      <td>female</td>\n",
              "      <td>55.0</td>\n",
              "      <td>upper extremity</td>\n",
              "      <td>unknown</td>\n",
              "      <td>benign</td>\n",
              "      <td>0</td>\n",
              "    </tr>\n",
              "  </tbody>\n",
              "</table>\n",
              "</div>"
            ],
            "text/plain": [
              "     image_name  patient_id     sex  ...  diagnosis benign_malignant target\n",
              "0  ISIC_2637011  IP_7279968    male  ...    unknown           benign      0\n",
              "1  ISIC_0015719  IP_3075186  female  ...    unknown           benign      0\n",
              "2  ISIC_0052212  IP_2842074  female  ...      nevus           benign      0\n",
              "3  ISIC_0068279  IP_6890425  female  ...    unknown           benign      0\n",
              "4  ISIC_0074268  IP_8723313  female  ...    unknown           benign      0\n",
              "\n",
              "[5 rows x 8 columns]"
            ]
          },
          "metadata": {
            "tags": []
          },
          "execution_count": 4
        }
      ]
    },
    {
      "cell_type": "code",
      "metadata": {
        "id": "IKxP5NVev506",
        "colab_type": "code",
        "colab": {
          "base_uri": "https://localhost:8080/",
          "height": 332
        },
        "outputId": "f380400f-f55b-409c-c1d9-d117d147c9c8"
      },
      "source": [
        "print(orig_train_df[\"target\"].value_counts())\n",
        "orig_train_df[\"target\"].hist()"
      ],
      "execution_count": 10,
      "outputs": [
        {
          "output_type": "stream",
          "text": [
            "0    32542\n",
            "1      584\n",
            "Name: target, dtype: int64\n"
          ],
          "name": "stdout"
        },
        {
          "output_type": "execute_result",
          "data": {
            "text/plain": [
              "<matplotlib.axes._subplots.AxesSubplot at 0x7fb1f8c0a128>"
            ]
          },
          "metadata": {
            "tags": []
          },
          "execution_count": 10
        },
        {
          "output_type": "display_data",
          "data": {
            "image/png": "[encoded data removed]",
            "text/plain": [
              "<Figure size 432x288 with 1 Axes>"
            ]
          },
          "metadata": {
            "tags": [],
            "needs_background": "light"
          }
        }
      ]
    },
    {
      "cell_type": "code",
      "metadata": {
        "id": "aKO-Y56QLJca",
        "colab_type": "code",
        "outputId": "bf3db216-81ba-4e06-f972-3ae052709eda",
        "colab": {
          "base_uri": "https://localhost:8080/",
          "height": 195
        }
      },
      "source": [
        "orig_test_df = pd.read_csv(GCS_PATH_ORIG_TEST_CSV)\n",
        "orig_test_df.head()"
      ],
      "execution_count": 12,
      "outputs": [
        {
          "output_type": "execute_result",
          "data": {
            "text/html": [
              "<div>\n",
              "<style scoped>\n",
              "    .dataframe tbody tr th:only-of-type {\n",
              "        vertical-align: middle;\n",
              "    }\n",
              "\n",
              "    .dataframe tbody tr th {\n",
              "        vertical-align: top;\n",
              "    }\n",
              "\n",
              "    .dataframe thead th {\n",
              "        text-align: right;\n",
              "    }\n",
              "</style>\n",
              "<table border=\"1\" class=\"dataframe\">\n",
              "  <thead>\n",
              "    <tr style=\"text-align: right;\">\n",
              "      <th></th>\n",
              "      <th>image_name</th>\n",
              "      <th>patient_id</th>\n",
              "      <th>sex</th>\n",
              "      <th>age_approx</th>\n",
              "      <th>anatom_site_general_challenge</th>\n",
              "    </tr>\n",
              "  </thead>\n",
              "  <tbody>\n",
              "    <tr>\n",
              "      <th>0</th>\n",
              "      <td>ISIC_0052060</td>\n",
              "      <td>IP_3579794</td>\n",
              "      <td>male</td>\n",
              "      <td>70.0</td>\n",
              "      <td>NaN</td>\n",
              "    </tr>\n",
              "    <tr>\n",
              "      <th>1</th>\n",
              "      <td>ISIC_0052349</td>\n",
              "      <td>IP_7782715</td>\n",
              "      <td>male</td>\n",
              "      <td>40.0</td>\n",
              "      <td>lower extremity</td>\n",
              "    </tr>\n",
              "    <tr>\n",
              "      <th>2</th>\n",
              "      <td>ISIC_0058510</td>\n",
              "      <td>IP_7960270</td>\n",
              "      <td>female</td>\n",
              "      <td>55.0</td>\n",
              "      <td>torso</td>\n",
              "    </tr>\n",
              "    <tr>\n",
              "      <th>3</th>\n",
              "      <td>ISIC_0073313</td>\n",
              "      <td>IP_6375035</td>\n",
              "      <td>female</td>\n",
              "      <td>50.0</td>\n",
              "      <td>torso</td>\n",
              "    </tr>\n",
              "    <tr>\n",
              "      <th>4</th>\n",
              "      <td>ISIC_0073502</td>\n",
              "      <td>IP_0589375</td>\n",
              "      <td>female</td>\n",
              "      <td>45.0</td>\n",
              "      <td>lower extremity</td>\n",
              "    </tr>\n",
              "  </tbody>\n",
              "</table>\n",
              "</div>"
            ],
            "text/plain": [
              "     image_name  patient_id     sex  age_approx anatom_site_general_challenge\n",
              "0  ISIC_0052060  IP_3579794    male        70.0                           NaN\n",
              "1  ISIC_0052349  IP_7782715    male        40.0               lower extremity\n",
              "2  ISIC_0058510  IP_7960270  female        55.0                         torso\n",
              "3  ISIC_0073313  IP_6375035  female        50.0                         torso\n",
              "4  ISIC_0073502  IP_0589375  female        45.0               lower extremity"
            ]
          },
          "metadata": {
            "tags": []
          },
          "execution_count": 12
        }
      ]
    },
    {
      "cell_type": "markdown",
      "metadata": {
        "id": "bVkw8dwGKnir",
        "colab_type": "text"
      },
      "source": [
        "Above the tabular features we have.  \n",
        "\n",
        "Actual images in tfrecord format (also available in jpeg)"
      ]
    },
    {
      "cell_type": "code",
      "metadata": {
        "id": "FcZZ5nV9K5U4",
        "colab_type": "code",
        "outputId": "56b36676-d87c-41b4-cb98-ce1250dd5160",
        "colab": {
          "base_uri": "https://localhost:8080/",
          "height": 54
        }
      },
      "source": [
        "print(tf.io.gfile.listdir(GCS_PATH_ORIG_TFR))"
      ],
      "execution_count": 6,
      "outputs": [
        {
          "output_type": "stream",
          "text": [
            "['test00-687.tfrec', 'test01-687.tfrec', 'test02-687.tfrec', 'test03-687.tfrec', 'test04-687.tfrec', 'test05-687.tfrec', 'test06-687.tfrec', 'test07-687.tfrec', 'test08-687.tfrec', 'test09-687.tfrec', 'test10-687.tfrec', 'test11-687.tfrec', 'test12-687.tfrec', 'test13-687.tfrec', 'test14-687.tfrec', 'test15-677.tfrec', 'train00-2071.tfrec', 'train01-2071.tfrec', 'train02-2071.tfrec', 'train03-2071.tfrec', 'train04-2071.tfrec', 'train05-2071.tfrec', 'train06-2071.tfrec', 'train07-2071.tfrec', 'train08-2071.tfrec', 'train09-2071.tfrec', 'train10-2071.tfrec', 'train11-2071.tfrec', 'train12-2071.tfrec', 'train13-2071.tfrec', 'train14-2071.tfrec', 'train15-2061.tfrec']\n"
          ],
          "name": "stdout"
        }
      ]
    },
    {
      "cell_type": "markdown",
      "metadata": {
        "id": "Mp1BEm5XLXjJ",
        "colab_type": "text"
      },
      "source": [
        "###  External Data - ISIC 2019"
      ]
    },
    {
      "cell_type": "code",
      "metadata": {
        "id": "AhLQPBCoIe1a",
        "colab_type": "code",
        "outputId": "10a25c96-c48a-4941-b6a1-7b43358202db",
        "colab": {
          "base_uri": "https://localhost:8080/",
          "height": 195
        }
      },
      "source": [
        "ext_train_df = pd.read_csv(GCS_PATH_EXT_TRAIN_CSV)\n",
        "ext_train_df.head()"
      ],
      "execution_count": 7,
      "outputs": [
        {
          "output_type": "execute_result",
          "data": {
            "text/html": [
              "<div>\n",
              "<style scoped>\n",
              "    .dataframe tbody tr th:only-of-type {\n",
              "        vertical-align: middle;\n",
              "    }\n",
              "\n",
              "    .dataframe tbody tr th {\n",
              "        vertical-align: top;\n",
              "    }\n",
              "\n",
              "    .dataframe thead th {\n",
              "        text-align: right;\n",
              "    }\n",
              "</style>\n",
              "<table border=\"1\" class=\"dataframe\">\n",
              "  <thead>\n",
              "    <tr style=\"text-align: right;\">\n",
              "      <th></th>\n",
              "      <th>image</th>\n",
              "      <th>MEL</th>\n",
              "      <th>NV</th>\n",
              "      <th>BCC</th>\n",
              "      <th>AK</th>\n",
              "      <th>BKL</th>\n",
              "      <th>DF</th>\n",
              "      <th>VASC</th>\n",
              "      <th>SCC</th>\n",
              "      <th>UNK</th>\n",
              "    </tr>\n",
              "  </thead>\n",
              "  <tbody>\n",
              "    <tr>\n",
              "      <th>0</th>\n",
              "      <td>ISIC_0000000</td>\n",
              "      <td>0.0</td>\n",
              "      <td>1.0</td>\n",
              "      <td>0.0</td>\n",
              "      <td>0.0</td>\n",
              "      <td>0.0</td>\n",
              "      <td>0.0</td>\n",
              "      <td>0.0</td>\n",
              "      <td>0.0</td>\n",
              "      <td>0.0</td>\n",
              "    </tr>\n",
              "    <tr>\n",
              "      <th>1</th>\n",
              "      <td>ISIC_0000001</td>\n",
              "      <td>0.0</td>\n",
              "      <td>1.0</td>\n",
              "      <td>0.0</td>\n",
              "      <td>0.0</td>\n",
              "      <td>0.0</td>\n",
              "      <td>0.0</td>\n",
              "      <td>0.0</td>\n",
              "      <td>0.0</td>\n",
              "      <td>0.0</td>\n",
              "    </tr>\n",
              "    <tr>\n",
              "      <th>2</th>\n",
              "      <td>ISIC_0000002</td>\n",
              "      <td>1.0</td>\n",
              "      <td>0.0</td>\n",
              "      <td>0.0</td>\n",
              "      <td>0.0</td>\n",
              "      <td>0.0</td>\n",
              "      <td>0.0</td>\n",
              "      <td>0.0</td>\n",
              "      <td>0.0</td>\n",
              "      <td>0.0</td>\n",
              "    </tr>\n",
              "    <tr>\n",
              "      <th>3</th>\n",
              "      <td>ISIC_0000003</td>\n",
              "      <td>0.0</td>\n",
              "      <td>1.0</td>\n",
              "      <td>0.0</td>\n",
              "      <td>0.0</td>\n",
              "      <td>0.0</td>\n",
              "      <td>0.0</td>\n",
              "      <td>0.0</td>\n",
              "      <td>0.0</td>\n",
              "      <td>0.0</td>\n",
              "    </tr>\n",
              "    <tr>\n",
              "      <th>4</th>\n",
              "      <td>ISIC_0000004</td>\n",
              "      <td>1.0</td>\n",
              "      <td>0.0</td>\n",
              "      <td>0.0</td>\n",
              "      <td>0.0</td>\n",
              "      <td>0.0</td>\n",
              "      <td>0.0</td>\n",
              "      <td>0.0</td>\n",
              "      <td>0.0</td>\n",
              "      <td>0.0</td>\n",
              "    </tr>\n",
              "  </tbody>\n",
              "</table>\n",
              "</div>"
            ],
            "text/plain": [
              "          image  MEL   NV  BCC   AK  BKL   DF  VASC  SCC  UNK\n",
              "0  ISIC_0000000  0.0  1.0  0.0  0.0  0.0  0.0   0.0  0.0  0.0\n",
              "1  ISIC_0000001  0.0  1.0  0.0  0.0  0.0  0.0   0.0  0.0  0.0\n",
              "2  ISIC_0000002  1.0  0.0  0.0  0.0  0.0  0.0   0.0  0.0  0.0\n",
              "3  ISIC_0000003  0.0  1.0  0.0  0.0  0.0  0.0   0.0  0.0  0.0\n",
              "4  ISIC_0000004  1.0  0.0  0.0  0.0  0.0  0.0   0.0  0.0  0.0"
            ]
          },
          "metadata": {
            "tags": []
          },
          "execution_count": 7
        }
      ]
    },
    {
      "cell_type": "markdown",
      "metadata": {
        "id": "oeChtYDlLWmf",
        "colab_type": "text"
      },
      "source": [
        "Only image names is important to us.  \n",
        "The other columns are skin lesion class. our target variable is MEL - that is Melanoma.\n",
        "Other features are available in."
      ]
    },
    {
      "cell_type": "code",
      "metadata": {
        "id": "H-QX83d1KEKT",
        "colab_type": "code",
        "outputId": "7d43f429-eed0-4388-9222-f36ebafe460d",
        "colab": {
          "base_uri": "https://localhost:8080/",
          "height": 195
        }
      },
      "source": [
        "ext_meta_df = pd.read_csv(GCS_PATH_EXT_TRAIN_META)\n",
        "ext_meta_df.head()"
      ],
      "execution_count": 8,
      "outputs": [
        {
          "output_type": "execute_result",
          "data": {
            "text/html": [
              "<div>\n",
              "<style scoped>\n",
              "    .dataframe tbody tr th:only-of-type {\n",
              "        vertical-align: middle;\n",
              "    }\n",
              "\n",
              "    .dataframe tbody tr th {\n",
              "        vertical-align: top;\n",
              "    }\n",
              "\n",
              "    .dataframe thead th {\n",
              "        text-align: right;\n",
              "    }\n",
              "</style>\n",
              "<table border=\"1\" class=\"dataframe\">\n",
              "  <thead>\n",
              "    <tr style=\"text-align: right;\">\n",
              "      <th></th>\n",
              "      <th>image</th>\n",
              "      <th>age_approx</th>\n",
              "      <th>anatom_site_general</th>\n",
              "      <th>lesion_id</th>\n",
              "      <th>sex</th>\n",
              "    </tr>\n",
              "  </thead>\n",
              "  <tbody>\n",
              "    <tr>\n",
              "      <th>0</th>\n",
              "      <td>ISIC_0000000</td>\n",
              "      <td>55.0</td>\n",
              "      <td>anterior torso</td>\n",
              "      <td>NaN</td>\n",
              "      <td>female</td>\n",
              "    </tr>\n",
              "    <tr>\n",
              "      <th>1</th>\n",
              "      <td>ISIC_0000001</td>\n",
              "      <td>30.0</td>\n",
              "      <td>anterior torso</td>\n",
              "      <td>NaN</td>\n",
              "      <td>female</td>\n",
              "    </tr>\n",
              "    <tr>\n",
              "      <th>2</th>\n",
              "      <td>ISIC_0000002</td>\n",
              "      <td>60.0</td>\n",
              "      <td>upper extremity</td>\n",
              "      <td>NaN</td>\n",
              "      <td>female</td>\n",
              "    </tr>\n",
              "    <tr>\n",
              "      <th>3</th>\n",
              "      <td>ISIC_0000003</td>\n",
              "      <td>30.0</td>\n",
              "      <td>upper extremity</td>\n",
              "      <td>NaN</td>\n",
              "      <td>male</td>\n",
              "    </tr>\n",
              "    <tr>\n",
              "      <th>4</th>\n",
              "      <td>ISIC_0000004</td>\n",
              "      <td>80.0</td>\n",
              "      <td>posterior torso</td>\n",
              "      <td>NaN</td>\n",
              "      <td>male</td>\n",
              "    </tr>\n",
              "  </tbody>\n",
              "</table>\n",
              "</div>"
            ],
            "text/plain": [
              "          image  age_approx anatom_site_general lesion_id     sex\n",
              "0  ISIC_0000000        55.0      anterior torso       NaN  female\n",
              "1  ISIC_0000001        30.0      anterior torso       NaN  female\n",
              "2  ISIC_0000002        60.0     upper extremity       NaN  female\n",
              "3  ISIC_0000003        30.0     upper extremity       NaN    male\n",
              "4  ISIC_0000004        80.0     posterior torso       NaN    male"
            ]
          },
          "metadata": {
            "tags": []
          },
          "execution_count": 8
        }
      ]
    },
    {
      "cell_type": "markdown",
      "metadata": {
        "id": "VQIvYAsVNZjV",
        "colab_type": "text"
      },
      "source": [
        "#### Features\n",
        "\n",
        "Features available both the dataset.  \n",
        "\n",
        "* ```image_name```\n",
        "* ```age_approx```\n",
        "* ```anatom_site```\n",
        "* ```sex```\n",
        "* ```patient_id``` / ```lesion_id```\n",
        "\n",
        "Feature in original but not in external\n",
        "\n",
        "* ```diagnosis```\n",
        "\n",
        "#### Label\n",
        "\n",
        "* Original data - ```target``` column\n",
        "* External data - ```MEL``` \n",
        "* Can the other target columns in Ext data be used as the ```diagnosis``` feature?"
      ]
    },
    {
      "cell_type": "markdown",
      "metadata": {
        "id": "IjJGCA_W0Hu5",
        "colab_type": "text"
      },
      "source": [
        "### The Diagnosis Feature\n",
        "\n",
        "* In the original dataset we have a column ```diagnosis```\n",
        "* In the ext dataset, our labels are actually diagnosis classes.\n",
        "* But the nomenclature is a bit different."
      ]
    },
    {
      "cell_type": "markdown",
      "metadata": {
        "id": "PcyR8PKo1Gq9",
        "colab_type": "text"
      },
      "source": [
        "#### Original"
      ]
    },
    {
      "cell_type": "code",
      "metadata": {
        "id": "_0agX1up1KZy",
        "colab_type": "code",
        "colab": {
          "base_uri": "https://localhost:8080/",
          "height": 185
        },
        "outputId": "61029f13-0989-467e-df49-fed9a5047c6a"
      },
      "source": [
        "orig_train_df[\"diagnosis\"].value_counts()"
      ],
      "execution_count": 13,
      "outputs": [
        {
          "output_type": "execute_result",
          "data": {
            "text/plain": [
              "unknown                               27124\n",
              "nevus                                  5193\n",
              "melanoma                                584\n",
              "seborrheic keratosis                    135\n",
              "lentigo NOS                              44\n",
              "lichenoid keratosis                      37\n",
              "solar lentigo                             7\n",
              "cafe-au-lait macule                       1\n",
              "atypical melanocytic proliferation        1\n",
              "Name: diagnosis, dtype: int64"
            ]
          },
          "metadata": {
            "tags": []
          },
          "execution_count": 13
        }
      ]
    },
    {
      "cell_type": "markdown",
      "metadata": {
        "id": "Sg--inOd1Q5E",
        "colab_type": "text"
      },
      "source": [
        "#### External"
      ]
    },
    {
      "cell_type": "code",
      "metadata": {
        "id": "Za74Jzrk1TD2",
        "colab_type": "code",
        "colab": {
          "base_uri": "https://localhost:8080/",
          "height": 195
        },
        "outputId": "e01f3afa-e154-491d-f164-0b5fa6a11958"
      },
      "source": [
        "ext_train_df.head()"
      ],
      "execution_count": 14,
      "outputs": [
        {
          "output_type": "execute_result",
          "data": {
            "text/html": [
              "<div>\n",
              "<style scoped>\n",
              "    .dataframe tbody tr th:only-of-type {\n",
              "        vertical-align: middle;\n",
              "    }\n",
              "\n",
              "    .dataframe tbody tr th {\n",
              "        vertical-align: top;\n",
              "    }\n",
              "\n",
              "    .dataframe thead th {\n",
              "        text-align: right;\n",
              "    }\n",
              "</style>\n",
              "<table border=\"1\" class=\"dataframe\">\n",
              "  <thead>\n",
              "    <tr style=\"text-align: right;\">\n",
              "      <th></th>\n",
              "      <th>image</th>\n",
              "      <th>MEL</th>\n",
              "      <th>NV</th>\n",
              "      <th>BCC</th>\n",
              "      <th>AK</th>\n",
              "      <th>BKL</th>\n",
              "      <th>DF</th>\n",
              "      <th>VASC</th>\n",
              "      <th>SCC</th>\n",
              "      <th>UNK</th>\n",
              "    </tr>\n",
              "  </thead>\n",
              "  <tbody>\n",
              "    <tr>\n",
              "      <th>0</th>\n",
              "      <td>ISIC_0000000</td>\n",
              "      <td>0.0</td>\n",
              "      <td>1.0</td>\n",
              "      <td>0.0</td>\n",
              "      <td>0.0</td>\n",
              "      <td>0.0</td>\n",
              "      <td>0.0</td>\n",
              "      <td>0.0</td>\n",
              "      <td>0.0</td>\n",
              "      <td>0.0</td>\n",
              "    </tr>\n",
              "    <tr>\n",
              "      <th>1</th>\n",
              "      <td>ISIC_0000001</td>\n",
              "      <td>0.0</td>\n",
              "      <td>1.0</td>\n",
              "      <td>0.0</td>\n",
              "      <td>0.0</td>\n",
              "      <td>0.0</td>\n",
              "      <td>0.0</td>\n",
              "      <td>0.0</td>\n",
              "      <td>0.0</td>\n",
              "      <td>0.0</td>\n",
              "    </tr>\n",
              "    <tr>\n",
              "      <th>2</th>\n",
              "      <td>ISIC_0000002</td>\n",
              "      <td>1.0</td>\n",
              "      <td>0.0</td>\n",
              "      <td>0.0</td>\n",
              "      <td>0.0</td>\n",
              "      <td>0.0</td>\n",
              "      <td>0.0</td>\n",
              "      <td>0.0</td>\n",
              "      <td>0.0</td>\n",
              "      <td>0.0</td>\n",
              "    </tr>\n",
              "    <tr>\n",
              "      <th>3</th>\n",
              "      <td>ISIC_0000003</td>\n",
              "      <td>0.0</td>\n",
              "      <td>1.0</td>\n",
              "      <td>0.0</td>\n",
              "      <td>0.0</td>\n",
              "      <td>0.0</td>\n",
              "      <td>0.0</td>\n",
              "      <td>0.0</td>\n",
              "      <td>0.0</td>\n",
              "      <td>0.0</td>\n",
              "    </tr>\n",
              "    <tr>\n",
              "      <th>4</th>\n",
              "      <td>ISIC_0000004</td>\n",
              "      <td>1.0</td>\n",
              "      <td>0.0</td>\n",
              "      <td>0.0</td>\n",
              "      <td>0.0</td>\n",
              "      <td>0.0</td>\n",
              "      <td>0.0</td>\n",
              "      <td>0.0</td>\n",
              "      <td>0.0</td>\n",
              "      <td>0.0</td>\n",
              "    </tr>\n",
              "  </tbody>\n",
              "</table>\n",
              "</div>"
            ],
            "text/plain": [
              "          image  MEL   NV  BCC   AK  BKL   DF  VASC  SCC  UNK\n",
              "0  ISIC_0000000  0.0  1.0  0.0  0.0  0.0  0.0   0.0  0.0  0.0\n",
              "1  ISIC_0000001  0.0  1.0  0.0  0.0  0.0  0.0   0.0  0.0  0.0\n",
              "2  ISIC_0000002  1.0  0.0  0.0  0.0  0.0  0.0   0.0  0.0  0.0\n",
              "3  ISIC_0000003  0.0  1.0  0.0  0.0  0.0  0.0   0.0  0.0  0.0\n",
              "4  ISIC_0000004  1.0  0.0  0.0  0.0  0.0  0.0   0.0  0.0  0.0"
            ]
          },
          "metadata": {
            "tags": []
          },
          "execution_count": 14
        }
      ]
    },
    {
      "cell_type": "markdown",
      "metadata": {
        "id": "2YMc5iOU1ZBA",
        "colab_type": "text"
      },
      "source": [
        "* Looking at this article. : https://challenge2019.isic-archive.com/\n",
        "* we can merge both the datasets` diagnosis feature.\n",
        "  * Melanoma - Present in both, as MEL in EXT\n",
        "  * Nevus - Present in both, as NV in EXT.\n",
        "  * seborrheic keratosis, solar lentigo, lichenoid keratosis - as BKL in EXT\n",
        "  * Lentigo NOS in ORIG - not in EXT\n",
        "  * cafe-au-lait macule in ORIG - not in EXT\n",
        "  * atypical melanocytic proliferation in ORIG - not in EXT\n",
        "  * BCC in EXT - not in ORIG\n",
        "  * AK in EXT - not in ORIG\n",
        "  * DF in EXT - not in ORIG\n",
        "  * VASC in EXT - not in ORIG\n",
        "  * SCC in EXT - not in ORIG"
      ]
    },
    {
      "cell_type": "markdown",
      "metadata": {
        "id": "AmqYJaIUO8Y5",
        "colab_type": "text"
      },
      "source": [
        "### Combine both ORIG and EXT dataframe"
      ]
    },
    {
      "cell_type": "code",
      "metadata": {
        "id": "v4o0ZdCLQ5iE",
        "colab_type": "code",
        "outputId": "c9dfb144-85b3-44f1-900c-5550b1098b1c",
        "colab": {
          "base_uri": "https://localhost:8080/",
          "height": 50
        }
      },
      "source": [
        "# https://www.kaggle.com/shonenkov/merge-external-data\n",
        "\n",
        "# convert diagsnois str to a key that matches external dataset.\n",
        "diagnosis_key = {\n",
        "    \"melanoma\"            : \"MEL\",\n",
        "    \"nevus\"               : \"NV\",\n",
        "    \"seborrheic keratosis\": \"BKL\",\n",
        "    \"lichenoid keratosis\" : \"BKL\",\n",
        "    \"solar lentigo\"       : \"BKL\",\n",
        "    \"lentigo NOS\"         : \"LNOS\",\n",
        "    \"cafe-au-lait macule\" : \"CALM\",\n",
        "    \"atypical melanocytic proliferation\": \"AMP\",\n",
        "    \"unknown\"             : \"UNK\",\n",
        "}\n",
        "\n",
        "dataset = {\n",
        "    'patient_id' : [],\n",
        "    'image_id': [],\n",
        "    'source': [],\n",
        "    'sex': [],\n",
        "    'age_approx': [],\n",
        "    'anatom_site_general_challenge': [],\n",
        "    'diagnosis': [],\n",
        "    'target': [],\n",
        "}\n",
        "\n",
        "# isic2020\n",
        "df_train = pd.read_csv(GCS_PATH_ORIG_TRAIN_CSV, index_col='image_name')\n",
        "for image_id, row in tqdm(df_train.iterrows(), total=df_train.shape[0]):\n",
        "    if image_id in dataset['image_id']:\n",
        "        continue\n",
        "    dataset['patient_id'].append(row['patient_id'])\n",
        "    dataset['image_id'].append(image_id)\n",
        "    dataset['target'].append(row['target'])\n",
        "    dataset['source'].append('ISIC20')\n",
        "    dataset['sex'].append(row['sex'])\n",
        "    dataset['age_approx'].append(row['age_approx'])\n",
        "    dataset['anatom_site_general_challenge'].append(row['anatom_site_general_challenge'])\n",
        "    dataset['diagnosis'].append(diagnosis_key[row['diagnosis']])\n",
        "\n",
        "# isic2019\n",
        "df_gt = pd.read_csv(GCS_PATH_EXT_TRAIN_CSV, index_col='image')\n",
        "df_meta = pd.read_csv(GCS_PATH_EXT_TRAIN_META, index_col='image')\n",
        "for image_id, row in tqdm(df_meta.iterrows(), total=df_meta.shape[0]):\n",
        "    if image_id in dataset['image_id'] or \"downsampled\" in image_id.lower(): # duplicate images in external as per: https://www.kaggle.com/c/siim-isic-melanoma-classification/discussion/155859#878163\n",
        "        continue\n",
        "\n",
        "    dataset['patient_id'].append(row['lesion_id'])\n",
        "    dataset['image_id'].append(image_id)\n",
        "    dataset['target'].append(int(df_gt.loc[image_id]['MEL']))\n",
        "    dataset['source'].append('ISIC19')\n",
        "    dataset['sex'].append(row['sex'])\n",
        "    dataset['age_approx'].append(row['age_approx'])\n",
        "    dataset['anatom_site_general_challenge'].append(\n",
        "        {'anterior torso': 'torso', 'posterior torso': 'torso'}.get(row['anatom_site_general'], row['anatom_site_general'])\n",
        "    )\n",
        "    # diagnosis\n",
        "    bool_mask = df_gt.loc[image_id].eq(1) # gives True for the column where 1 and False for others\n",
        "    diagnosis = bool_mask.index[bool_mask][0]\n",
        "    dataset['diagnosis'].append(diagnosis)"
      ],
      "execution_count": 33,
      "outputs": [
        {
          "output_type": "stream",
          "text": [
            "100%|██████████| 33126/33126 [00:16<00:00, 2066.56it/s]\n",
            "100%|██████████| 25331/25331 [00:36<00:00, 694.20it/s]\n"
          ],
          "name": "stderr"
        }
      ]
    },
    {
      "cell_type": "code",
      "metadata": {
        "id": "GbULBsKvSgcE",
        "colab_type": "code",
        "outputId": "3902eb45-9e12-41a3-d3d1-bffbc56ff5de",
        "colab": {
          "base_uri": "https://localhost:8080/",
          "height": 195
        }
      },
      "source": [
        "combined_df = pd.DataFrame(dataset)\n",
        "combined_df.head()"
      ],
      "execution_count": 34,
      "outputs": [
        {
          "output_type": "execute_result",
          "data": {
            "text/html": [
              "<div>\n",
              "<style scoped>\n",
              "    .dataframe tbody tr th:only-of-type {\n",
              "        vertical-align: middle;\n",
              "    }\n",
              "\n",
              "    .dataframe tbody tr th {\n",
              "        vertical-align: top;\n",
              "    }\n",
              "\n",
              "    .dataframe thead th {\n",
              "        text-align: right;\n",
              "    }\n",
              "</style>\n",
              "<table border=\"1\" class=\"dataframe\">\n",
              "  <thead>\n",
              "    <tr style=\"text-align: right;\">\n",
              "      <th></th>\n",
              "      <th>patient_id</th>\n",
              "      <th>image_id</th>\n",
              "      <th>source</th>\n",
              "      <th>sex</th>\n",
              "      <th>age_approx</th>\n",
              "      <th>anatom_site_general_challenge</th>\n",
              "      <th>diagnosis</th>\n",
              "      <th>target</th>\n",
              "    </tr>\n",
              "  </thead>\n",
              "  <tbody>\n",
              "    <tr>\n",
              "      <th>0</th>\n",
              "      <td>IP_7279968</td>\n",
              "      <td>ISIC_2637011</td>\n",
              "      <td>ISIC20</td>\n",
              "      <td>male</td>\n",
              "      <td>45.0</td>\n",
              "      <td>head/neck</td>\n",
              "      <td>UNK</td>\n",
              "      <td>0</td>\n",
              "    </tr>\n",
              "    <tr>\n",
              "      <th>1</th>\n",
              "      <td>IP_3075186</td>\n",
              "      <td>ISIC_0015719</td>\n",
              "      <td>ISIC20</td>\n",
              "      <td>female</td>\n",
              "      <td>45.0</td>\n",
              "      <td>upper extremity</td>\n",
              "      <td>UNK</td>\n",
              "      <td>0</td>\n",
              "    </tr>\n",
              "    <tr>\n",
              "      <th>2</th>\n",
              "      <td>IP_2842074</td>\n",
              "      <td>ISIC_0052212</td>\n",
              "      <td>ISIC20</td>\n",
              "      <td>female</td>\n",
              "      <td>50.0</td>\n",
              "      <td>lower extremity</td>\n",
              "      <td>NV</td>\n",
              "      <td>0</td>\n",
              "    </tr>\n",
              "    <tr>\n",
              "      <th>3</th>\n",
              "      <td>IP_6890425</td>\n",
              "      <td>ISIC_0068279</td>\n",
              "      <td>ISIC20</td>\n",
              "      <td>female</td>\n",
              "      <td>45.0</td>\n",
              "      <td>head/neck</td>\n",
              "      <td>UNK</td>\n",
              "      <td>0</td>\n",
              "    </tr>\n",
              "    <tr>\n",
              "      <th>4</th>\n",
              "      <td>IP_8723313</td>\n",
              "      <td>ISIC_0074268</td>\n",
              "      <td>ISIC20</td>\n",
              "      <td>female</td>\n",
              "      <td>55.0</td>\n",
              "      <td>upper extremity</td>\n",
              "      <td>UNK</td>\n",
              "      <td>0</td>\n",
              "    </tr>\n",
              "  </tbody>\n",
              "</table>\n",
              "</div>"
            ],
            "text/plain": [
              "   patient_id      image_id  ... diagnosis target\n",
              "0  IP_7279968  ISIC_2637011  ...       UNK      0\n",
              "1  IP_3075186  ISIC_0015719  ...       UNK      0\n",
              "2  IP_2842074  ISIC_0052212  ...        NV      0\n",
              "3  IP_6890425  ISIC_0068279  ...       UNK      0\n",
              "4  IP_8723313  ISIC_0074268  ...       UNK      0\n",
              "\n",
              "[5 rows x 8 columns]"
            ]
          },
          "metadata": {
            "tags": []
          },
          "execution_count": 34
        }
      ]
    },
    {
      "cell_type": "markdown",
      "metadata": {
        "id": "ZBSJlvj_9_cK",
        "colab_type": "text"
      },
      "source": [
        "### Some Histogram Check"
      ]
    },
    {
      "cell_type": "markdown",
      "metadata": {
        "id": "wtrjEVta-Evp",
        "colab_type": "text"
      },
      "source": [
        "#### Data Source"
      ]
    },
    {
      "cell_type": "code",
      "metadata": {
        "id": "V8uT7InvS3ER",
        "colab_type": "code",
        "outputId": "6eb2d11f-e02f-401b-8d79-1cbb30b0ec00",
        "colab": {
          "base_uri": "https://localhost:8080/",
          "height": 332
        }
      },
      "source": [
        "print(combined_df['source'].value_counts())\n",
        "combined_df['source'].hist()"
      ],
      "execution_count": 35,
      "outputs": [
        {
          "output_type": "stream",
          "text": [
            "ISIC20    33126\n",
            "ISIC19    23257\n",
            "Name: source, dtype: int64\n"
          ],
          "name": "stdout"
        },
        {
          "output_type": "execute_result",
          "data": {
            "text/plain": [
              "<matplotlib.axes._subplots.AxesSubplot at 0x7fb1f8c28668>"
            ]
          },
          "metadata": {
            "tags": []
          },
          "execution_count": 35
        },
        {
          "output_type": "display_data",
          "data": {
            "image/png": "[encoded data removed]",
            "text/plain": [
              "<Figure size 432x288 with 1 Axes>"
            ]
          },
          "metadata": {
            "tags": [],
            "needs_background": "light"
          }
        }
      ]
    },
    {
      "cell_type": "markdown",
      "metadata": {
        "id": "N8g20G40-HGK",
        "colab_type": "text"
      },
      "source": [
        "#### Target distribution"
      ]
    },
    {
      "cell_type": "code",
      "metadata": {
        "id": "eTpWZB0TTCwn",
        "colab_type": "code",
        "outputId": "949d6826-bedd-4411-da9f-a777c0324e6c",
        "colab": {
          "base_uri": "https://localhost:8080/",
          "height": 332
        }
      },
      "source": [
        "print(combined_df[\"target\"].value_counts())\n",
        "combined_df[\"target\"].hist()"
      ],
      "execution_count": 36,
      "outputs": [
        {
          "output_type": "stream",
          "text": [
            "0    51651\n",
            "1     4732\n",
            "Name: target, dtype: int64\n"
          ],
          "name": "stdout"
        },
        {
          "output_type": "execute_result",
          "data": {
            "text/plain": [
              "<matplotlib.axes._subplots.AxesSubplot at 0x7fb1f73be278>"
            ]
          },
          "metadata": {
            "tags": []
          },
          "execution_count": 36
        },
        {
          "output_type": "display_data",
          "data": {
            "image/png": "[encoded data removed]",
            "text/plain": [
              "<Figure size 432x288 with 1 Axes>"
            ]
          },
          "metadata": {
            "tags": [],
            "needs_background": "light"
          }
        }
      ]
    },
    {
      "cell_type": "markdown",
      "metadata": {
        "id": "YWEV7b1w-LNC",
        "colab_type": "text"
      },
      "source": [
        "#### Gender distribution"
      ]
    },
    {
      "cell_type": "code",
      "metadata": {
        "id": "fOzffiug9hvf",
        "colab_type": "code",
        "colab": {
          "base_uri": "https://localhost:8080/",
          "height": 332
        },
        "outputId": "7192c0da-82c0-4a45-fb39-a1d5d44a5869"
      },
      "source": [
        "print(combined_df[\"sex\"].value_counts())\n",
        "combined_df[\"sex\"].hist()"
      ],
      "execution_count": 37,
      "outputs": [
        {
          "output_type": "stream",
          "text": [
            "male      29359\n",
            "female    26755\n",
            "Name: sex, dtype: int64\n"
          ],
          "name": "stdout"
        },
        {
          "output_type": "execute_result",
          "data": {
            "text/plain": [
              "<matplotlib.axes._subplots.AxesSubplot at 0x7fb1f739e390>"
            ]
          },
          "metadata": {
            "tags": []
          },
          "execution_count": 37
        },
        {
          "output_type": "display_data",
          "data": {
            "image/png": "[encoded data removed]",
            "text/plain": [
              "<Figure size 432x288 with 1 Axes>"
            ]
          },
          "metadata": {
            "tags": [],
            "needs_background": "light"
          }
        }
      ]
    },
    {
      "cell_type": "markdown",
      "metadata": {
        "id": "STYKC4em-OUV",
        "colab_type": "text"
      },
      "source": [
        "#### Lesion Location Distribution"
      ]
    },
    {
      "cell_type": "code",
      "metadata": {
        "id": "08OzxKKk9103",
        "colab_type": "code",
        "colab": {
          "base_uri": "https://localhost:8080/",
          "height": 416
        },
        "outputId": "e6c7a935-e7bf-41d4-b847-cdfc9757f520"
      },
      "source": [
        "print(combined_df[\"anatom_site_general_challenge\"].value_counts())\n",
        "combined_df[\"anatom_site_general_challenge\"].hist()"
      ],
      "execution_count": 38,
      "outputs": [
        {
          "output_type": "stream",
          "text": [
            "torso              25994\n",
            "lower extremity    13151\n",
            "upper extremity     7632\n",
            "head/neck           6241\n",
            "palms/soles          766\n",
            "oral/genital         183\n",
            "lateral torso          6\n",
            "Name: anatom_site_general_challenge, dtype: int64\n"
          ],
          "name": "stdout"
        },
        {
          "output_type": "execute_result",
          "data": {
            "text/plain": [
              "<matplotlib.axes._subplots.AxesSubplot at 0x7fb1f7416d30>"
            ]
          },
          "metadata": {
            "tags": []
          },
          "execution_count": 38
        },
        {
          "output_type": "display_data",
          "data": {
            "image/png": "[encoded data removed]",
            "text/plain": [
              "<Figure size 432x288 with 1 Axes>"
            ]
          },
          "metadata": {
            "tags": [],
            "needs_background": "light"
          }
        }
      ]
    },
    {
      "cell_type": "markdown",
      "metadata": {
        "id": "mo3hI8cB_PJF",
        "colab_type": "text"
      },
      "source": [
        "#### Age Distribution"
      ]
    },
    {
      "cell_type": "code",
      "metadata": {
        "id": "tN4ioKGF_S-9",
        "colab_type": "code",
        "colab": {
          "base_uri": "https://localhost:8080/",
          "height": 620
        },
        "outputId": "18e79f46-1e93-4b06-b3a7-7198d7ec8bd4"
      },
      "source": [
        "print(combined_df[\"age_approx\"].value_counts())\n",
        "combined_df[\"age_approx\"].hist()"
      ],
      "execution_count": 41,
      "outputs": [
        {
          "output_type": "stream",
          "text": [
            "45.0    6880\n",
            "50.0    6606\n",
            "55.0    5857\n",
            "40.0    5695\n",
            "60.0    5101\n",
            "65.0    4441\n",
            "35.0    4403\n",
            "70.0    3921\n",
            "30.0    3468\n",
            "75.0    2658\n",
            "25.0    2144\n",
            "80.0    1789\n",
            "85.0    1398\n",
            "20.0    1023\n",
            "15.0     326\n",
            "10.0     136\n",
            "5.0      110\n",
            "90.0      80\n",
            "0.0       56\n",
            "Name: age_approx, dtype: int64\n"
          ],
          "name": "stdout"
        },
        {
          "output_type": "execute_result",
          "data": {
            "text/plain": [
              "<matplotlib.axes._subplots.AxesSubplot at 0x7fb1f71d6be0>"
            ]
          },
          "metadata": {
            "tags": []
          },
          "execution_count": 41
        },
        {
          "output_type": "display_data",
          "data": {
            "image/png": "[encoded data removed]",
            "text/plain": [
              "<Figure size 432x288 with 1 Axes>"
            ]
          },
          "metadata": {
            "tags": [],
            "needs_background": "light"
          }
        }
      ]
    },
    {
      "cell_type": "markdown",
      "metadata": {
        "id": "RvF0PnIq-S42",
        "colab_type": "text"
      },
      "source": [
        "#### Diagnosis Distribution"
      ]
    },
    {
      "cell_type": "code",
      "metadata": {
        "id": "Lk5RRLga-XQP",
        "colab_type": "code",
        "colab": {
          "base_uri": "https://localhost:8080/",
          "height": 500
        },
        "outputId": "4fc05fb3-43fb-4f26-afe6-4ed4deb40a63"
      },
      "source": [
        "print(combined_df[\"diagnosis\"].value_counts())\n",
        "combined_df[\"diagnosis\"].hist()"
      ],
      "execution_count": 40,
      "outputs": [
        {
          "output_type": "stream",
          "text": [
            "UNK     27124\n",
            "NV      16752\n",
            "MEL      4732\n",
            "BCC      3323\n",
            "BKL      2419\n",
            "AK        867\n",
            "SCC       628\n",
            "VASC      253\n",
            "DF        239\n",
            "LNOS       44\n",
            "CALM        1\n",
            "AMP         1\n",
            "Name: diagnosis, dtype: int64\n"
          ],
          "name": "stdout"
        },
        {
          "output_type": "execute_result",
          "data": {
            "text/plain": [
              "<matplotlib.axes._subplots.AxesSubplot at 0x7fb1f7264860>"
            ]
          },
          "metadata": {
            "tags": []
          },
          "execution_count": 40
        },
        {
          "output_type": "display_data",
          "data": {
            "image/png": "[encoded data removed]",
            "text/plain": [
              "<Figure size 432x288 with 1 Axes>"
            ]
          },
          "metadata": {
            "tags": [],
            "needs_background": "light"
          }
        }
      ]
    },
    {
      "cell_type": "markdown",
      "metadata": {
        "id": "5CDroXrr_oUo",
        "colab_type": "text"
      },
      "source": [
        "#### # of images per patient"
      ]
    },
    {
      "cell_type": "code",
      "metadata": {
        "id": "HEKTN7Yu_u8z",
        "colab_type": "code",
        "colab": {
          "base_uri": "https://localhost:8080/",
          "height": 218
        },
        "outputId": "d8d4026d-0419-46d7-8c55-a096fdc5c7ad"
      },
      "source": [
        "print(combined_df[\"patient_id\"].value_counts())"
      ],
      "execution_count": 42,
      "outputs": [
        {
          "output_type": "stream",
          "text": [
            "IP_7279968     115\n",
            "IP_4938382     115\n",
            "IP_4382720     115\n",
            "IP_4479736     115\n",
            "IP_0656529     114\n",
            "              ... \n",
            "HAM_0004160      1\n",
            "HAM_0002778      1\n",
            "HAM_0003141      1\n",
            "HAM_0004136      1\n",
            "HAM_0003935      1\n",
            "Name: patient_id, Length: 13105, dtype: int64\n"
          ],
          "name": "stdout"
        }
      ]
    },
    {
      "cell_type": "markdown",
      "metadata": {
        "id": "2a9zd2yMUl6H",
        "colab_type": "text"
      },
      "source": [
        "### Creating TFRecords - Image + Context"
      ]
    },
    {
      "cell_type": "markdown",
      "metadata": {
        "id": "_wR6NepidunI",
        "colab_type": "text"
      },
      "source": [
        "We may have to consider the cross validation policies while creating TFRecords"
      ]
    },
    {
      "cell_type": "code",
      "metadata": {
        "id": "HcYdzdMSViet",
        "colab_type": "code",
        "colab": {}
      },
      "source": [
        "# https://www.tensorflow.org/tutorials/load_data/tfrecord\n",
        "\n",
        "# The following functions can be used to convert a value to a type compatible\n",
        "# with tf.Example.\n",
        "\n",
        "def _bytes_feature(value):\n",
        "  \"\"\"Returns a bytes_list from a string / byte.\"\"\"\n",
        "  if isinstance(value, type(tf.constant(0))):\n",
        "    value = value.numpy() # BytesList won't unpack a string from an EagerTensor.\n",
        "  return tf.train.Feature(bytes_list=tf.train.BytesList(value=[value]))\n",
        "\n",
        "def _float_feature(value):\n",
        "  \"\"\"Returns a float_list from a float / double.\"\"\"\n",
        "  return tf.train.Feature(float_list=tf.train.FloatList(value=[value]))\n",
        "\n",
        "def _int64_feature(value):\n",
        "  \"\"\"Returns an int64_list from a bool / enum / int / uint.\"\"\"\n",
        "  return tf.train.Feature(int64_list=tf.train.Int64List(value=[value]))"
      ],
      "execution_count": 0,
      "outputs": []
    },
    {
      "cell_type": "code",
      "metadata": {
        "id": "OwEpgEMwXpPb",
        "colab_type": "code",
        "colab": {}
      },
      "source": [
        "def serialize_example(patient_id, image_id, image, source, sex, age_approx, anatom_site_general_challenge, diagnosis, target):\n",
        "  feature = {\n",
        "      'patient_id': _bytes_feature(patient_id),\n",
        "      'image_id': _bytes_feature(image_id),\n",
        "      'image': _bytes_feature(image),\n",
        "      'source': _bytes_feature(source),\n",
        "      'sex': _bytes_feature(sex),\n",
        "      'age_approx': _int64_feature(age_approx),\n",
        "      'anatom_site_general_challenge': _bytes_feature(anatom_site_general_challenge),\n",
        "      'diagnosis': _bytes_feature(diagnosis),\n",
        "      'target': _int64_feature(target)\n",
        "  }\n",
        "  example_proto = tf.train.Example(features=tf.train.Features(feature=feature))\n",
        "  return example_proto.SerializeToString()"
      ],
      "execution_count": 0,
      "outputs": []
    },
    {
      "cell_type": "code",
      "metadata": {
        "id": "jOUUkgk6k9Qa",
        "colab_type": "code",
        "colab": {}
      },
      "source": [
        ""
      ],
      "execution_count": 0,
      "outputs": []
    }
  ]
}