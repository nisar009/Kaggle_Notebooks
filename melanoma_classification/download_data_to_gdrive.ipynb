{
  "nbformat": 4,
  "nbformat_minor": 0,
  "metadata": {
    "colab": {
      "name": "melanoma classification.ipynb",
      "provenance": [],
      "authorship_tag": "ABX9TyNtyb95RYnfB5CfxmPiscvE",
      "include_colab_link": true
    },
    "kernelspec": {
      "name": "python3",
      "display_name": "Python 3"
    }
  },
  "cells": [
    {
      "cell_type": "markdown",
      "metadata": {
        "id": "view-in-github",
        "colab_type": "text"
      },
      "source": [
        "<a href=\"https://colab.research.google.com/github/nisarahamedk/Kaggle_Notebooks/blob/master/melanoma_classification/download_data_to_gdrive.ipynb\" target=\"_parent\"><img src=\"https://colab.research.google.com/assets/colab-badge.svg\" alt=\"Open In Colab\"/></a>"
      ]
    },
    {
      "cell_type": "markdown",
      "metadata": {
        "id": "AStvxgZQNHsk",
        "colab_type": "text"
      },
      "source": [
        "# Download and Save data to GDrive\n"
      ]
    },
    {
      "cell_type": "markdown",
      "metadata": {
        "id": "ea5UAbheOdlt",
        "colab_type": "text"
      },
      "source": [
        "### Get data from Kaggle"
      ]
    },
    {
      "cell_type": "markdown",
      "metadata": {
        "id": "PUKjLFSa7Qdh",
        "colab_type": "text"
      },
      "source": [
        "Using the wget chrome extension to download selected files"
      ]
    },
    {
      "cell_type": "markdown",
      "metadata": {
        "id": "h--C4-0b7aGQ",
        "colab_type": "text"
      },
      "source": [
        "#### jpeg - train and test"
      ]
    },
    {
      "cell_type": "code",
      "metadata": {
        "id": "e1ipTrM16_8_",
        "colab_type": "code",
        "colab": {
          "base_uri": "https://localhost:8080/",
          "height": 222
        },
        "outputId": "eece0b90-4c0c-4d83-e3f3-22866769ada6"
      },
      "source": [
        "!wget --header=\"Host: storage.googleapis.com\" --header=\"User-Agent: Mozilla/5.0 (Windows NT 10.0; Win64; x64) AppleWebKit/537.36 (KHTML, like Gecko) Chrome/81.0.4044.138 Safari/537.36\" --header=\"Accept: text/html,application/xhtml+xml,application/xml;q=0.9,image/webp,image/apng,*/*;q=0.8,application/signed-exchange;v=b3;q=0.9\" --header=\"Accept-Language: en-IN,en-GB;q=0.9,en-US;q=0.8,en;q=0.7\" --header=\"Referer: https://www.kaggle.com/\" \"https://storage.googleapis.com/kaggle-competitions-data/kaggle-v2/20270/1222630/compressed/jpeg.zip?GoogleAccessId=web-data@kaggle-161607.iam.gserviceaccount.com&Expires=1590972858&Signature=QmYgXNMPyv7Jh7Mt8qvkbeKRZyYfRmlDvkKD%2BVZL0VHBhXj2FtP0EDsPaP2xd3CyHdfBzjRBDSq1KsPsVL8RTaZQpKiCUtoJQrJGyDW0uSsFPb0IgvQg%2BnGXqj%2Bqp5jwkrEOCTAXrCT5iV7XNnO8nPGnQY96sr8qUbxHkPXS2rBpS8i63XzuUTj91mpB8bTr8AzxK8zC7hDDRGFBHI5sNGrHB5mfYCFQP%2FUfYHmBvHIMZbiB3dPqklxLGxNivhsnWTOqNW1pTQVRAbsWcKDngVn%2Fv1mL06Mf9i%2FcZBxxyNxB%2FQE0%2FyEkM3xgBcr2uRlzZvuxKCvfAqc4P%2BgJe46KQg%3D%3D&response-content-disposition=attachment%3B+filename%3Djpeg.zip\" -c -O 'jpeg.zip'"
      ],
      "execution_count": 13,
      "outputs": [
        {
          "output_type": "stream",
          "text": [
            "--2020-05-29 00:54:41--  https://storage.googleapis.com/kaggle-competitions-data/kaggle-v2/20270/1222630/compressed/jpeg.zip?GoogleAccessId=web-data@kaggle-161607.iam.gserviceaccount.com&Expires=1590972858&Signature=QmYgXNMPyv7Jh7Mt8qvkbeKRZyYfRmlDvkKD%2BVZL0VHBhXj2FtP0EDsPaP2xd3CyHdfBzjRBDSq1KsPsVL8RTaZQpKiCUtoJQrJGyDW0uSsFPb0IgvQg%2BnGXqj%2Bqp5jwkrEOCTAXrCT5iV7XNnO8nPGnQY96sr8qUbxHkPXS2rBpS8i63XzuUTj91mpB8bTr8AzxK8zC7hDDRGFBHI5sNGrHB5mfYCFQP%2FUfYHmBvHIMZbiB3dPqklxLGxNivhsnWTOqNW1pTQVRAbsWcKDngVn%2Fv1mL06Mf9i%2FcZBxxyNxB%2FQE0%2FyEkM3xgBcr2uRlzZvuxKCvfAqc4P%2BgJe46KQg%3D%3D&response-content-disposition=attachment%3B+filename%3Djpeg.zip\n",
            "Resolving storage.googleapis.com (storage.googleapis.com)... 64.233.189.128, 2404:6800:4008:c07::80\n",
            "Connecting to storage.googleapis.com (storage.googleapis.com)|64.233.189.128|:443... connected.\n",
            "HTTP request sent, awaiting response... 200 OK\n",
            "Length: 31984166023 (30G) [application/zip]\n",
            "Saving to: ‘jpeg.zip’\n",
            "\n",
            "jpeg.zip            100%[===================>]  29.79G  58.8MB/s    in 10m 8s  \n",
            "\n",
            "2020-05-29 01:04:50 (50.1 MB/s) - ‘jpeg.zip’ saved [31984166023/31984166023]\n",
            "\n"
          ],
          "name": "stdout"
        }
      ]
    },
    {
      "cell_type": "code",
      "metadata": {
        "id": "WuH5BbSZ9osQ",
        "colab_type": "code",
        "colab": {}
      },
      "source": [
        "!unzip jpeg.zip"
      ],
      "execution_count": 0,
      "outputs": []
    },
    {
      "cell_type": "code",
      "metadata": {
        "id": "xqXaviF4ATBg",
        "colab_type": "code",
        "colab": {}
      },
      "source": [
        "!cp -r test /content/drive/My\\ Drive/Projects/Kaggle/melanoma/data/"
      ],
      "execution_count": 0,
      "outputs": []
    },
    {
      "cell_type": "code",
      "metadata": {
        "id": "Qg3laiFqBOrB",
        "colab_type": "code",
        "colab": {}
      },
      "source": [
        "!cp -r train /content/drive/My\\ Drive/Projects/Kaggle/melanoma/data/"
      ],
      "execution_count": 0,
      "outputs": []
    },
    {
      "cell_type": "code",
      "metadata": {
        "id": "PHI0EykOFfbg",
        "colab_type": "code",
        "colab": {}
      },
      "source": [
        "!rm -rf test train"
      ],
      "execution_count": 0,
      "outputs": []
    },
    {
      "cell_type": "code",
      "metadata": {
        "id": "-2diQk1bF50i",
        "colab_type": "code",
        "colab": {
          "base_uri": "https://localhost:8080/",
          "height": 50
        },
        "outputId": "8752ef2e-a3b4-4ee5-cffd-b29a1b166f4b"
      },
      "source": [
        "# just checking how much time it takes to copy the data from GDrive\n",
        "%%time\n",
        "!cp -r /content/drive/My\\ Drive/Projects/Kaggle/melanoma ."
      ],
      "execution_count": 23,
      "outputs": [
        {
          "output_type": "stream",
          "text": [
            "CPU times: user 1.64 s, sys: 256 ms, total: 1.89 s\n",
            "Wall time: 12min 53s\n"
          ],
          "name": "stdout"
        }
      ]
    },
    {
      "cell_type": "markdown",
      "metadata": {
        "id": "JRSkcWww7G1C",
        "colab_type": "text"
      },
      "source": [
        "#### train.csv, test.csv, submission.csv"
      ]
    },
    {
      "cell_type": "code",
      "metadata": {
        "id": "en_mnYRV7xTS",
        "colab_type": "code",
        "colab": {
          "base_uri": "https://localhost:8080/",
          "height": 222
        },
        "outputId": "d3142fd9-d29a-467c-e4ad-dbb520b63cbe"
      },
      "source": [
        "!wget --header=\"Host: storage.googleapis.com\" --header=\"User-Agent: Mozilla/5.0 (Windows NT 10.0; Win64; x64) AppleWebKit/537.36 (KHTML, like Gecko) Chrome/81.0.4044.138 Safari/537.36\" --header=\"Accept: text/html,application/xhtml+xml,application/xml;q=0.9,image/webp,image/apng,*/*;q=0.8,application/signed-exchange;v=b3;q=0.9\" --header=\"Accept-Language: en-IN,en-GB;q=0.9,en-US;q=0.8,en;q=0.7\" --header=\"Referer: https://www.kaggle.com/\" \"https://storage.googleapis.com/kagglesdsdata/competitions/20270/1222630/sample_submission.csv?GoogleAccessId=web-data@kaggle-161607.iam.gserviceaccount.com&Expires=1590973064&Signature=TSSwf1OrzrXzeUrdnrWZZxIUPjY6wxYV2PxvgFM3SSrPieu6o38HUFYDBSNpVZHIsNNZL8YVVHBVvRfr8JWpZdOvIV5j6Uzq28aIlLWkz3J273C7oqJwAHCb%2FU0CO%2BDMg57zGUJu1L20hP4T%2B%2FmjhBQG%2B7JHgS9m73R8nf71OQ5LVfsFnyLO%2Boi4TrjgJ4pgk7jkFUbkJsCUS4XRdgCrSWIL2q9Tr0eRdexDyCj%2FBV3WHV3TDL2JZscliyt7MRhr8szEhIz7Ec7dMkddvY7UQPlKAS3b8%2BMn5v%2FaYVThqyzQo0Axl2vfXiQ2rKEM3ya7FaswgOu3OtlDGlV1h0Y6bw%3D%3D&response-content-disposition=attachment%3B+filename%3Dsample_submission.csv\" -c -O 'sample_submission.csv'"
      ],
      "execution_count": 25,
      "outputs": [
        {
          "output_type": "stream",
          "text": [
            "--2020-05-29 01:57:10--  https://storage.googleapis.com/kagglesdsdata/competitions/20270/1222630/sample_submission.csv?GoogleAccessId=web-data@kaggle-161607.iam.gserviceaccount.com&Expires=1590973064&Signature=TSSwf1OrzrXzeUrdnrWZZxIUPjY6wxYV2PxvgFM3SSrPieu6o38HUFYDBSNpVZHIsNNZL8YVVHBVvRfr8JWpZdOvIV5j6Uzq28aIlLWkz3J273C7oqJwAHCb%2FU0CO%2BDMg57zGUJu1L20hP4T%2B%2FmjhBQG%2B7JHgS9m73R8nf71OQ5LVfsFnyLO%2Boi4TrjgJ4pgk7jkFUbkJsCUS4XRdgCrSWIL2q9Tr0eRdexDyCj%2FBV3WHV3TDL2JZscliyt7MRhr8szEhIz7Ec7dMkddvY7UQPlKAS3b8%2BMn5v%2FaYVThqyzQo0Axl2vfXiQ2rKEM3ya7FaswgOu3OtlDGlV1h0Y6bw%3D%3D&response-content-disposition=attachment%3B+filename%3Dsample_submission.csv\n",
            "Resolving storage.googleapis.com (storage.googleapis.com)... 74.125.204.128, 2404:6800:4008:c06::80\n",
            "Connecting to storage.googleapis.com (storage.googleapis.com)|74.125.204.128|:443... connected.\n",
            "HTTP request sent, awaiting response... 200 OK\n",
            "Length: 164748 (161K) [text/csv]\n",
            "Saving to: ‘sample_submission.csv’\n",
            "\n",
            "\rsample_submission.c   0%[                    ]       0  --.-KB/s               \rsample_submission.c 100%[===================>] 160.89K  --.-KB/s    in 0.002s  \n",
            "\n",
            "2020-05-29 01:57:11 (92.6 MB/s) - ‘sample_submission.csv’ saved [164748/164748]\n",
            "\n"
          ],
          "name": "stdout"
        }
      ]
    },
    {
      "cell_type": "code",
      "metadata": {
        "id": "pGZQS6BJ784p",
        "colab_type": "code",
        "colab": {
          "base_uri": "https://localhost:8080/",
          "height": 222
        },
        "outputId": "be7357db-dfc8-43d6-b5d3-50744a7151bb"
      },
      "source": [
        "!wget --header=\"Host: storage.googleapis.com\" --header=\"User-Agent: Mozilla/5.0 (Windows NT 10.0; Win64; x64) AppleWebKit/537.36 (KHTML, like Gecko) Chrome/81.0.4044.138 Safari/537.36\" --header=\"Accept: text/html,application/xhtml+xml,application/xml;q=0.9,image/webp,image/apng,*/*;q=0.8,application/signed-exchange;v=b3;q=0.9\" --header=\"Accept-Language: en-IN,en-GB;q=0.9,en-US;q=0.8,en;q=0.7\" --header=\"Referer: https://www.kaggle.com/\" \"https://storage.googleapis.com/kagglesdsdata/competitions/20270/1222630/test.csv?GoogleAccessId=web-data@kaggle-161607.iam.gserviceaccount.com&Expires=1590973087&Signature=o7%2FoRxoyg1seUDi6oXQ7ugdhvhgeaY7VCap8%2BXGjiHlt5csPs3gg3maFoZhLhaxf36qq6hwl%2BITzaDgapfZVNEGvUH%2F9NGXbZ99iqjvSg7oLNFhtiSkjZmk%2Fiswr8jEacpzbSSMDhPjm7InlcHJ3kPEdDFt1bD9wPJMVcCS47L0G3HDGYHZkFdWe5JN2lUbbZ4YwNO%2FJStJwW69ZCVFi9PIx%2B5DkAXHOVX2%2FRbS0L4zJPhOXKbaw0UQicDd5ZMhTEGygAwxbAWknzulaODmjmDnlQ8RIgYLsbue0dVnrwmncKIJtpLvUK9c0ABLTfGsNcfclxoycbUMr05CSU3WEzg%3D%3D&response-content-disposition=attachment%3B+filename%3Dtest.csv\" -c -O 'test.csv'"
      ],
      "execution_count": 26,
      "outputs": [
        {
          "output_type": "stream",
          "text": [
            "--2020-05-29 01:57:18--  https://storage.googleapis.com/kagglesdsdata/competitions/20270/1222630/test.csv?GoogleAccessId=web-data@kaggle-161607.iam.gserviceaccount.com&Expires=1590973087&Signature=o7%2FoRxoyg1seUDi6oXQ7ugdhvhgeaY7VCap8%2BXGjiHlt5csPs3gg3maFoZhLhaxf36qq6hwl%2BITzaDgapfZVNEGvUH%2F9NGXbZ99iqjvSg7oLNFhtiSkjZmk%2Fiswr8jEacpzbSSMDhPjm7InlcHJ3kPEdDFt1bD9wPJMVcCS47L0G3HDGYHZkFdWe5JN2lUbbZ4YwNO%2FJStJwW69ZCVFi9PIx%2B5DkAXHOVX2%2FRbS0L4zJPhOXKbaw0UQicDd5ZMhTEGygAwxbAWknzulaODmjmDnlQ8RIgYLsbue0dVnrwmncKIJtpLvUK9c0ABLTfGsNcfclxoycbUMr05CSU3WEzg%3D%3D&response-content-disposition=attachment%3B+filename%3Dtest.csv\n",
            "Resolving storage.googleapis.com (storage.googleapis.com)... 64.233.189.128, 2404:6800:4008:c06::80\n",
            "Connecting to storage.googleapis.com (storage.googleapis.com)|64.233.189.128|:443... connected.\n",
            "HTTP request sent, awaiting response... 200 OK\n",
            "Length: 490920 (479K) [text/csv]\n",
            "Saving to: ‘test.csv’\n",
            "\n",
            "\rtest.csv              0%[                    ]       0  --.-KB/s               \rtest.csv            100%[===================>] 479.41K  --.-KB/s    in 0.004s  \n",
            "\n",
            "2020-05-29 01:57:19 (122 MB/s) - ‘test.csv’ saved [490920/490920]\n",
            "\n"
          ],
          "name": "stdout"
        }
      ]
    },
    {
      "cell_type": "code",
      "metadata": {
        "id": "Tv93M_p17-Hb",
        "colab_type": "code",
        "colab": {
          "base_uri": "https://localhost:8080/",
          "height": 222
        },
        "outputId": "abf10b13-ad7a-4b99-9595-69725bdb8e48"
      },
      "source": [
        "!wget --header=\"Host: storage.googleapis.com\" --header=\"User-Agent: Mozilla/5.0 (Windows NT 10.0; Win64; x64) AppleWebKit/537.36 (KHTML, like Gecko) Chrome/81.0.4044.138 Safari/537.36\" --header=\"Accept: text/html,application/xhtml+xml,application/xml;q=0.9,image/webp,image/apng,*/*;q=0.8,application/signed-exchange;v=b3;q=0.9\" --header=\"Accept-Language: en-IN,en-GB;q=0.9,en-US;q=0.8,en;q=0.7\" --header=\"Referer: https://www.kaggle.com/\" \"https://storage.googleapis.com/kaggle-competitions-data/kaggle-v2/20270/1222630/compressed/train.csv.zip?GoogleAccessId=web-data@kaggle-161607.iam.gserviceaccount.com&Expires=1590973113&Signature=hfWqu5ej2vYyPZq7hV%2BqAVQh3bKk14pDf%2B48esYzkmv8l2y9B81UcOkXgmo90v8qHeK4Fb9NyQHtGWWtSLcCTx5BoNWRjIXyxyJYkyywrw04MhGX91Hyeq5d472nc1bFsX3Msj0v8apcfT2WNvtbWawGXqlplQ%2Fx%2FFfjw0N4BKbI4oqMyd%2FbGxvfWy4zqhy4XoNCFadSTnnsK8zcGJxQcQMd8vVRbIaHQSz0Ys9q9gfwjDLOsAPRHTKb%2Bps82xoAMm4KHkIhNufhihIh1CuANX99Nm2y1BvV8IYxW0ca28xPd8QNgJjbFiqa5sIuHYaRjgFOBwkoYcxQD48u51Udog%3D%3D&response-content-disposition=attachment%3B+filename%3Dtrain.csv.zip\" -c -O 'train.csv.zip'"
      ],
      "execution_count": 27,
      "outputs": [
        {
          "output_type": "stream",
          "text": [
            "--2020-05-29 01:57:23--  https://storage.googleapis.com/kaggle-competitions-data/kaggle-v2/20270/1222630/compressed/train.csv.zip?GoogleAccessId=web-data@kaggle-161607.iam.gserviceaccount.com&Expires=1590973113&Signature=hfWqu5ej2vYyPZq7hV%2BqAVQh3bKk14pDf%2B48esYzkmv8l2y9B81UcOkXgmo90v8qHeK4Fb9NyQHtGWWtSLcCTx5BoNWRjIXyxyJYkyywrw04MhGX91Hyeq5d472nc1bFsX3Msj0v8apcfT2WNvtbWawGXqlplQ%2Fx%2FFfjw0N4BKbI4oqMyd%2FbGxvfWy4zqhy4XoNCFadSTnnsK8zcGJxQcQMd8vVRbIaHQSz0Ys9q9gfwjDLOsAPRHTKb%2Bps82xoAMm4KHkIhNufhihIh1CuANX99Nm2y1BvV8IYxW0ca28xPd8QNgJjbFiqa5sIuHYaRjgFOBwkoYcxQD48u51Udog%3D%3D&response-content-disposition=attachment%3B+filename%3Dtrain.csv.zip\n",
            "Resolving storage.googleapis.com (storage.googleapis.com)... 64.233.189.128, 2404:6800:4008:c02::80\n",
            "Connecting to storage.googleapis.com (storage.googleapis.com)|64.233.189.128|:443... connected.\n",
            "HTTP request sent, awaiting response... 200 OK\n",
            "Length: 347602 (339K) [application/zip]\n",
            "Saving to: ‘train.csv.zip’\n",
            "\n",
            "\rtrain.csv.zip         0%[                    ]       0  --.-KB/s               \rtrain.csv.zip       100%[===================>] 339.46K  --.-KB/s    in 0.004s  \n",
            "\n",
            "2020-05-29 01:57:23 (83.3 MB/s) - ‘train.csv.zip’ saved [347602/347602]\n",
            "\n"
          ],
          "name": "stdout"
        }
      ]
    },
    {
      "cell_type": "code",
      "metadata": {
        "id": "nv-SzuC-JecX",
        "colab_type": "code",
        "colab": {
          "base_uri": "https://localhost:8080/",
          "height": 50
        },
        "outputId": "651edb9d-21a2-42be-8fce-668bd5b6de3f"
      },
      "source": [
        "!unzip train.csv.zip"
      ],
      "execution_count": 28,
      "outputs": [
        {
          "output_type": "stream",
          "text": [
            "Archive:  train.csv.zip\n",
            "  inflating: train.csv               \n"
          ],
          "name": "stdout"
        }
      ]
    },
    {
      "cell_type": "code",
      "metadata": {
        "id": "WJdByDcaJykQ",
        "colab_type": "code",
        "colab": {}
      },
      "source": [
        "!cp -r train.csv test.csv sample_submission.csv /content/drive/My\\ Drive/Projects/Kaggle/melanoma/data/"
      ],
      "execution_count": 0,
      "outputs": []
    },
    {
      "cell_type": "code",
      "metadata": {
        "id": "7SPE8GvHJ4WR",
        "colab_type": "code",
        "colab": {}
      },
      "source": [
        ""
      ],
      "execution_count": 0,
      "outputs": []
    }
  ]
}