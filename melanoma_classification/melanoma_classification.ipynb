{
  "nbformat": 4,
  "nbformat_minor": 0,
  "metadata": {
    "colab": {
      "name": "melanoma classification.ipynb",
      "provenance": [],
      "authorship_tag": "ABX9TyMjJCcLCbjjyW5ufuJRA1kD",
      "include_colab_link": true
    },
    "kernelspec": {
      "name": "python3",
      "display_name": "Python 3"
    }
  },
  "cells": [
    {
      "cell_type": "markdown",
      "metadata": {
        "id": "view-in-github",
        "colab_type": "text"
      },
      "source": [
        "<a href=\"https://colab.research.google.com/github/nisarahamedk/Kaggle_Notebooks/blob/master/melanoma_classification/melanoma_classification.ipynb\" target=\"_parent\"><img src=\"https://colab.research.google.com/assets/colab-badge.svg\" alt=\"Open In Colab\"/></a>"
      ]
    },
    {
      "cell_type": "markdown",
      "metadata": {
        "id": "AStvxgZQNHsk",
        "colab_type": "text"
      },
      "source": [
        "# SIIM-ISIC Melanoma Classification"
      ]
    },
    {
      "cell_type": "markdown",
      "metadata": {
        "id": "YdVtqhiUMgfF",
        "colab_type": "text"
      },
      "source": [
        "### Install packages"
      ]
    },
    {
      "cell_type": "code",
      "metadata": {
        "id": "0_Imz3PGOYbr",
        "colab_type": "code",
        "colab": {}
      },
      "source": [
        "%%capture\n",
        "!pip install kaggle\n",
        "!pip install fastai2"
      ],
      "execution_count": 0,
      "outputs": []
    },
    {
      "cell_type": "markdown",
      "metadata": {
        "id": "ea5UAbheOdlt",
        "colab_type": "text"
      },
      "source": [
        "### Get data from Kaggle"
      ]
    },
    {
      "cell_type": "markdown",
      "metadata": {
        "id": "uGxRuH_sOld5",
        "colab_type": "text"
      },
      "source": [
        "##### Kaggle API Keys\n"
      ]
    },
    {
      "cell_type": "code",
      "metadata": {
        "id": "eWoRaufqOv1X",
        "colab_type": "code",
        "colab": {
          "base_uri": "https://localhost:8080/",
          "height": 34
        },
        "outputId": "395033df-e467-4ec6-af07-491658891a4f"
      },
      "source": [
        "# mount google drive\n",
        "from google.colab import drive\n",
        "drive.mount(\"/content/drive\")"
      ],
      "execution_count": 3,
      "outputs": [
        {
          "output_type": "stream",
          "text": [
            "Drive already mounted at /content/drive; to attempt to forcibly remount, call drive.mount(\"/content/drive\", force_remount=True).\n"
          ],
          "name": "stdout"
        }
      ]
    },
    {
      "cell_type": "code",
      "metadata": {
        "id": "foMJ4CdyPcz6",
        "colab_type": "code",
        "colab": {}
      },
      "source": [
        "# Copy Kaggle API key\n",
        "!mkdir -p ~/.kaggle && cp /content/drive/My\\ Drive/Projects/Kaggle/api_key/kaggle.json ~/.kaggle/"
      ],
      "execution_count": 0,
      "outputs": []
    },
    {
      "cell_type": "code",
      "metadata": {
        "id": "e2gbccoIPmJJ",
        "colab_type": "code",
        "colab": {
          "base_uri": "https://localhost:8080/",
          "height": 84
        },
        "outputId": "82e74c89-fe3a-48b2-ea30-e2dd22d2d67a"
      },
      "source": [
        "!kaggle competitions list -s melanoma"
      ],
      "execution_count": 5,
      "outputs": [
        {
          "output_type": "stream",
          "text": [
            "Warning: Looks like you're using an outdated API Version, please consider updating (server 1.5.6 / client 1.5.4)\n",
            "ref                                deadline             category   reward  teamCount  userHasEntered  \n",
            "---------------------------------  -------------------  --------  -------  ---------  --------------  \n",
            "siim-isic-melanoma-classification  2020-08-17 23:59:00  Featured  $30,000         19            True  \n"
          ],
          "name": "stdout"
        }
      ]
    },
    {
      "cell_type": "code",
      "metadata": {
        "id": "Cos65Ff1RNMW",
        "colab_type": "code",
        "colab": {
          "base_uri": "https://localhost:8080/",
          "height": 1000
        },
        "outputId": "6227edd5-808f-45d2-abdc-629921f4105e"
      },
      "source": [
        "!kaggle competitions files siim-isic-melanoma-classification"
      ],
      "execution_count": 7,
      "outputs": [
        {
          "output_type": "stream",
          "text": [
            "Warning: Looks like you're using an outdated API Version, please consider updating (server 1.5.6 / client 1.5.4)\n",
            "name                            size  creationDate         \n",
            "----------------------------  ------  -------------------  \n",
            "tfrecords/train01-2071.tfrec   555MB  2020-05-27 11:34:11  \n",
            "tfrecords/test13-687.tfrec     188MB  2020-05-27 11:34:11  \n",
            "tfrecords/test09-687.tfrec     191MB  2020-05-27 11:34:11  \n",
            "tfrecords/test00-687.tfrec     187MB  2020-05-27 11:34:11  \n",
            "tfrecords/train00-2071.tfrec   553MB  2020-05-27 11:34:11  \n",
            "tfrecords/test05-687.tfrec     190MB  2020-05-27 11:34:11  \n",
            "tfrecords/test10-687.tfrec     189MB  2020-05-27 11:34:11  \n",
            "tfrecords/test04-687.tfrec     190MB  2020-05-27 11:34:11  \n",
            "tfrecords/test03-687.tfrec     188MB  2020-05-27 11:34:11  \n",
            "tfrecords/test08-687.tfrec     190MB  2020-05-27 11:34:11  \n",
            "tfrecords/test02-687.tfrec     188MB  2020-05-27 11:34:11  \n",
            "tfrecords/test14-687.tfrec     192MB  2020-05-27 11:34:11  \n",
            "tfrecords/train02-2071.tfrec   554MB  2020-05-27 11:34:11  \n",
            "tfrecords/test15-677.tfrec     187MB  2020-05-27 11:34:11  \n",
            "tfrecords/test01-687.tfrec     186MB  2020-05-27 11:34:11  \n",
            "tfrecords/test06-687.tfrec     191MB  2020-05-27 11:34:11  \n",
            "tfrecords/train03-2071.tfrec   555MB  2020-05-27 11:34:11  \n",
            "tfrecords/test11-687.tfrec     189MB  2020-05-27 11:34:11  \n",
            "tfrecords/test12-687.tfrec     190MB  2020-05-27 11:34:11  \n",
            "tfrecords/test07-687.tfrec     189MB  2020-05-27 11:34:11  \n",
            "jpeg/train/ISIC_0076742.jpg      1MB  2020-05-27 11:34:11  \n",
            "jpeg/train/ISIC_0080752.jpg    837KB  2020-05-27 11:34:11  \n",
            "jpeg/train/ISIC_0076995.jpg    137KB  2020-05-27 11:34:11  \n",
            "jpeg/train/ISIC_0075663.jpg    353KB  2020-05-27 11:34:11  \n",
            "jpeg/train/ISIC_0078703.jpg      1MB  2020-05-27 11:34:11  \n",
            "jpeg/train/ISIC_0015719.jpg      2MB  2020-05-27 11:34:11  \n",
            "jpeg/train/ISIC_0080817.jpg    711KB  2020-05-27 11:34:11  \n",
            "jpeg/train/ISIC_0074542.jpg      1MB  2020-05-27 11:34:11  \n",
            "jpeg/train/ISIC_0074268.jpg      2MB  2020-05-27 11:34:11  \n",
            "jpeg/train/ISIC_0077735.jpg      1MB  2020-05-27 11:34:11  \n",
            "jpeg/train/ISIC_0074311.jpg      1MB  2020-05-27 11:34:11  \n",
            "jpeg/train/ISIC_0080512.jpg      2MB  2020-05-27 11:34:11  \n",
            "jpeg/train/ISIC_0078712.jpg    565KB  2020-05-27 11:34:11  \n",
            "jpeg/train/ISIC_0068279.jpg    211KB  2020-05-27 11:34:11  \n",
            "jpeg/train/ISIC_0075914.jpg      1MB  2020-05-27 11:34:11  \n",
            "jpeg/train/ISIC_0052212.jpg    135KB  2020-05-27 11:34:11  \n",
            "jpeg/train/ISIC_0079038.jpg      2MB  2020-05-27 11:34:11  \n",
            "jpeg/train/ISIC_0077472.jpg      2MB  2020-05-27 11:34:11  \n",
            "jpeg/train/ISIC_0076545.jpg    512KB  2020-05-27 11:34:11  \n",
            "jpeg/train/ISIC_0076262.jpg      1MB  2020-05-27 11:34:11  \n",
            "jpeg/test/ISIC_0082004.jpg     195KB  2020-05-27 11:34:11  \n",
            "jpeg/test/ISIC_0082785.jpg     675KB  2020-05-27 11:34:11  \n",
            "jpeg/test/ISIC_0095790.jpg       1MB  2020-05-27 11:34:11  \n",
            "jpeg/test/ISIC_0085332.jpg       2MB  2020-05-27 11:34:11  \n",
            "jpeg/test/ISIC_0099348.jpg     346KB  2020-05-27 11:34:11  \n",
            "jpeg/test/ISIC_0097719.jpg     671KB  2020-05-27 11:34:11  \n",
            "jpeg/test/ISIC_0092481.jpg       1MB  2020-05-27 11:34:11  \n",
            "jpeg/test/ISIC_0095455.jpg       2MB  2020-05-27 11:34:11  \n",
            "jpeg/test/ISIC_0089356.jpg    1019KB  2020-05-27 11:34:11  \n",
            "jpeg/test/ISIC_0088167.jpg     217KB  2020-05-27 11:34:11  \n",
            "jpeg/test/ISIC_0073313.jpg       1MB  2020-05-27 11:34:11  \n",
            "jpeg/test/ISIC_0058510.jpg       1MB  2020-05-27 11:34:11  \n",
            "jpeg/test/ISIC_0074618.jpg     119KB  2020-05-27 11:34:11  \n",
            "jpeg/test/ISIC_0076801.jpg     130KB  2020-05-27 11:34:11  \n",
            "jpeg/test/ISIC_0052349.jpg       1MB  2020-05-27 11:34:11  \n",
            "jpeg/test/ISIC_0087243.jpg       2MB  2020-05-27 11:34:11  \n",
            "jpeg/test/ISIC_0090283.jpg     255KB  2020-05-27 11:34:11  \n",
            "jpeg/test/ISIC_0073502.jpg     151KB  2020-05-27 11:34:11  \n",
            "jpeg/test/ISIC_0052060.jpg       2MB  2020-05-27 11:34:11  \n",
            "jpeg/test/ISIC_0077586.jpg     208KB  2020-05-27 11:34:11  \n",
            "train/ISIC_0076262.dcm           1MB  2020-05-27 11:34:11  \n",
            "train/ISIC_0080752.dcm           1MB  2020-05-27 11:34:11  \n",
            "train/ISIC_0076545.dcm           4MB  2020-05-27 11:34:11  \n",
            "train/ISIC_0078712.dcm           1MB  2020-05-27 11:34:11  \n",
            "train/ISIC_0052212.dcm           1MB  2020-05-27 11:34:11  \n",
            "train/ISIC_0075663.dcm         858KB  2020-05-27 11:34:11  \n",
            "train/ISIC_0077472.dcm           2MB  2020-05-27 11:34:11  \n",
            "train/ISIC_0080512.dcm           2MB  2020-05-27 11:34:11  \n",
            "train/ISIC_0074268.dcm           2MB  2020-05-27 11:34:11  \n",
            "train/ISIC_0074311.dcm           1MB  2020-05-27 11:34:11  \n",
            "train/ISIC_0078703.dcm           1MB  2020-05-27 11:34:11  \n",
            "train/ISIC_0076995.dcm           1MB  2020-05-27 11:34:11  \n",
            "train/ISIC_0079038.dcm           2MB  2020-05-27 11:34:11  \n",
            "train/ISIC_0015719.dcm           2MB  2020-05-27 11:34:11  \n",
            "train/ISIC_0077735.dcm           1MB  2020-05-27 11:34:11  \n",
            "train/ISIC_0080817.dcm         819KB  2020-05-27 11:34:11  \n",
            "train/ISIC_0076742.dcm           2MB  2020-05-27 11:34:11  \n",
            "train/ISIC_0068279.dcm           1MB  2020-05-27 11:34:11  \n",
            "train/ISIC_0075914.dcm           1MB  2020-05-27 11:34:11  \n",
            "train/ISIC_0074542.dcm           1MB  2020-05-27 11:34:11  \n",
            "test/ISIC_0058510.dcm            1MB  2020-05-27 11:34:11  \n",
            "test/ISIC_0095790.dcm            2MB  2020-05-27 11:34:11  \n",
            "test/ISIC_0092481.dcm            2MB  2020-05-27 11:34:11  \n",
            "test/ISIC_0077586.dcm          901KB  2020-05-27 11:34:11  \n",
            "test/ISIC_0088167.dcm          955KB  2020-05-27 11:34:11  \n",
            "test/ISIC_0082004.dcm          873KB  2020-05-27 11:34:11  \n",
            "test/ISIC_0073313.dcm            1MB  2020-05-27 11:34:11  \n",
            "test/ISIC_0076801.dcm            1MB  2020-05-27 11:34:11  \n",
            "test/ISIC_0052060.dcm            2MB  2020-05-27 11:34:11  \n",
            "test/ISIC_0085332.dcm            2MB  2020-05-27 11:34:11  \n",
            "test/ISIC_0089356.dcm            1MB  2020-05-27 11:34:11  \n",
            "test/ISIC_0073502.dcm          709KB  2020-05-27 11:34:11  \n",
            "test/ISIC_0082785.dcm            4MB  2020-05-27 11:34:11  \n",
            "test/ISIC_0090283.dcm            1MB  2020-05-27 11:34:11  \n",
            "test/ISIC_0097719.dcm            2MB  2020-05-27 11:34:11  \n",
            "test/ISIC_0052349.dcm            1MB  2020-05-27 11:34:11  \n",
            "test/ISIC_0099348.dcm          858KB  2020-05-27 11:34:11  \n",
            "test/ISIC_0074618.dcm            1MB  2020-05-27 11:34:11  \n",
            "test/ISIC_0087243.dcm            2MB  2020-05-27 11:34:11  \n",
            "test/ISIC_0095455.dcm            2MB  2020-05-27 11:34:11  \n",
            "test.csv                       479KB  2020-05-27 11:34:11  \n",
            "sample_submission.csv          161KB  2020-05-27 11:34:11  \n",
            "train.csv                        2MB  2020-05-27 11:34:11  \n"
          ],
          "name": "stdout"
        }
      ]
    },
    {
      "cell_type": "code",
      "metadata": {
        "id": "5MqUDz_lPozr",
        "colab_type": "code",
        "colab": {
          "base_uri": "https://localhost:8080/",
          "height": 101
        },
        "outputId": "f3a093c6-5a24-4760-feac-ef26ed7f72c7"
      },
      "source": [
        "!mkdir -p data/ \n",
        "!cd data && kaggle competitions download siim-isic-melanoma-classification -f train.csv && unzip train.csv.zip"
      ],
      "execution_count": 22,
      "outputs": [
        {
          "output_type": "stream",
          "text": [
            "Downloading train.csv.zip to /content/data\n",
            "\r  0% 0.00/339k [00:00<?, ?B/s]\n",
            "\r100% 339k/339k [00:00<00:00, 46.2MB/s]\n",
            "Archive:  train.csv.zip\n",
            "  inflating: train.csv               \n"
          ],
          "name": "stdout"
        }
      ]
    },
    {
      "cell_type": "code",
      "metadata": {
        "id": "S_9pfVUdP92r",
        "colab_type": "code",
        "colab": {}
      },
      "source": [
        "import pandas as pd\n",
        "from pathlib import Path\n",
        "data_path = Path() / \"data\""
      ],
      "execution_count": 0,
      "outputs": []
    },
    {
      "cell_type": "code",
      "metadata": {
        "id": "v68ouhdvS8iC",
        "colab_type": "code",
        "colab": {
          "base_uri": "https://localhost:8080/",
          "height": 195
        },
        "outputId": "4d9b692c-f6ac-42ca-b660-b131e68952e2"
      },
      "source": [
        "train_df = pd.read_csv(data_path/\"train.csv\")\n",
        "train_df.head()"
      ],
      "execution_count": 24,
      "outputs": [
        {
          "output_type": "execute_result",
          "data": {
            "text/html": [
              "<div>\n",
              "<style scoped>\n",
              "    .dataframe tbody tr th:only-of-type {\n",
              "        vertical-align: middle;\n",
              "    }\n",
              "\n",
              "    .dataframe tbody tr th {\n",
              "        vertical-align: top;\n",
              "    }\n",
              "\n",
              "    .dataframe thead th {\n",
              "        text-align: right;\n",
              "    }\n",
              "</style>\n",
              "<table border=\"1\" class=\"dataframe\">\n",
              "  <thead>\n",
              "    <tr style=\"text-align: right;\">\n",
              "      <th></th>\n",
              "      <th>image_name</th>\n",
              "      <th>patient_id</th>\n",
              "      <th>sex</th>\n",
              "      <th>age_approx</th>\n",
              "      <th>anatom_site_general_challenge</th>\n",
              "      <th>diagnosis</th>\n",
              "      <th>benign_malignant</th>\n",
              "      <th>target</th>\n",
              "    </tr>\n",
              "  </thead>\n",
              "  <tbody>\n",
              "    <tr>\n",
              "      <th>0</th>\n",
              "      <td>ISIC_2637011</td>\n",
              "      <td>IP_7279968</td>\n",
              "      <td>male</td>\n",
              "      <td>45.0</td>\n",
              "      <td>head/neck</td>\n",
              "      <td>unknown</td>\n",
              "      <td>benign</td>\n",
              "      <td>0</td>\n",
              "    </tr>\n",
              "    <tr>\n",
              "      <th>1</th>\n",
              "      <td>ISIC_0015719</td>\n",
              "      <td>IP_3075186</td>\n",
              "      <td>female</td>\n",
              "      <td>45.0</td>\n",
              "      <td>upper extremity</td>\n",
              "      <td>unknown</td>\n",
              "      <td>benign</td>\n",
              "      <td>0</td>\n",
              "    </tr>\n",
              "    <tr>\n",
              "      <th>2</th>\n",
              "      <td>ISIC_0052212</td>\n",
              "      <td>IP_2842074</td>\n",
              "      <td>female</td>\n",
              "      <td>50.0</td>\n",
              "      <td>lower extremity</td>\n",
              "      <td>nevus</td>\n",
              "      <td>benign</td>\n",
              "      <td>0</td>\n",
              "    </tr>\n",
              "    <tr>\n",
              "      <th>3</th>\n",
              "      <td>ISIC_0068279</td>\n",
              "      <td>IP_6890425</td>\n",
              "      <td>female</td>\n",
              "      <td>45.0</td>\n",
              "      <td>head/neck</td>\n",
              "      <td>unknown</td>\n",
              "      <td>benign</td>\n",
              "      <td>0</td>\n",
              "    </tr>\n",
              "    <tr>\n",
              "      <th>4</th>\n",
              "      <td>ISIC_0074268</td>\n",
              "      <td>IP_8723313</td>\n",
              "      <td>female</td>\n",
              "      <td>55.0</td>\n",
              "      <td>upper extremity</td>\n",
              "      <td>unknown</td>\n",
              "      <td>benign</td>\n",
              "      <td>0</td>\n",
              "    </tr>\n",
              "  </tbody>\n",
              "</table>\n",
              "</div>"
            ],
            "text/plain": [
              "     image_name  patient_id     sex  ...  diagnosis benign_malignant target\n",
              "0  ISIC_2637011  IP_7279968    male  ...    unknown           benign      0\n",
              "1  ISIC_0015719  IP_3075186  female  ...    unknown           benign      0\n",
              "2  ISIC_0052212  IP_2842074  female  ...      nevus           benign      0\n",
              "3  ISIC_0068279  IP_6890425  female  ...    unknown           benign      0\n",
              "4  ISIC_0074268  IP_8723313  female  ...    unknown           benign      0\n",
              "\n",
              "[5 rows x 8 columns]"
            ]
          },
          "metadata": {
            "tags": []
          },
          "execution_count": 24
        }
      ]
    },
    {
      "cell_type": "code",
      "metadata": {
        "id": "4_e7IEm-TA7l",
        "colab_type": "code",
        "colab": {
          "base_uri": "https://localhost:8080/",
          "height": 34
        },
        "outputId": "1b3c6acb-fbe9-4c50-94cd-d6b9de476e4e"
      },
      "source": [
        "len(train_df)"
      ],
      "execution_count": 25,
      "outputs": [
        {
          "output_type": "execute_result",
          "data": {
            "text/plain": [
              "33126"
            ]
          },
          "metadata": {
            "tags": []
          },
          "execution_count": 25
        }
      ]
    },
    {
      "cell_type": "code",
      "metadata": {
        "id": "UViu_iR6UlWD",
        "colab_type": "code",
        "colab": {}
      },
      "source": [
        "train_img_dir = data_path / \"train\"\n",
        "train_img_dir.mkdir(exist_ok=True)"
      ],
      "execution_count": 0,
      "outputs": []
    },
    {
      "cell_type": "code",
      "metadata": {
        "id": "0qckepVqTNKh",
        "colab_type": "code",
        "colab": {}
      },
      "source": [
        "import subprocess"
      ],
      "execution_count": 0,
      "outputs": []
    },
    {
      "cell_type": "code",
      "metadata": {
        "id": "cfDck6t7UWgw",
        "colab_type": "code",
        "colab": {}
      },
      "source": [
        "def download_train_images():\n",
        "\n",
        "  for index, row in train_df.iterrows():\n",
        "    img_name = row[\"image_name\"] + \".jpg\"\n",
        "    try:\n",
        "      subprocess.check_output(f\"cd data/train && kaggle competitions download siim-isic-melanoma-classification -f jpeg/train/{img_name}\", stderr=subprocess.STDOUT, shell=True)\n",
        "    except Exception:\n",
        "      print(f\"Could not download {img_name}\")"
      ],
      "execution_count": 0,
      "outputs": []
    },
    {
      "cell_type": "code",
      "metadata": {
        "id": "KefDTSC4U9Vz",
        "colab_type": "code",
        "colab": {
          "base_uri": "https://localhost:8080/",
          "height": 605
        },
        "outputId": "d61a7182-02cf-4356-acfe-998cdd834cce"
      },
      "source": [
        "download_train_images()"
      ],
      "execution_count": 0,
      "outputs": [
        {
          "output_type": "stream",
          "text": [
            "Could not download ISIC_2637011.jpg\n",
            "Could not download ISIC_0081956.jpg\n",
            "Could not download ISIC_0082348.jpg\n",
            "Could not download ISIC_0082543.jpg\n",
            "Could not download ISIC_0082934.jpg\n",
            "Could not download ISIC_0083035.jpg\n",
            "Could not download ISIC_0084086.jpg\n",
            "Could not download ISIC_0084270.jpg\n",
            "Could not download ISIC_0084395.jpg\n",
            "Could not download ISIC_0085172.jpg\n",
            "Could not download ISIC_0085718.jpg\n",
            "Could not download ISIC_0085902.jpg\n",
            "Could not download ISIC_0086349.jpg\n",
            "Could not download ISIC_0086462.jpg\n",
            "Could not download ISIC_0086632.jpg\n",
            "Could not download ISIC_0086709.jpg\n",
            "Could not download ISIC_0087290.jpg\n",
            "Could not download ISIC_0087297.jpg\n",
            "Could not download ISIC_0088137.jpg\n",
            "Could not download ISIC_0088489.jpg\n",
            "Could not download ISIC_0089401.jpg\n",
            "Could not download ISIC_0089569.jpg\n",
            "Could not download ISIC_0089738.jpg\n",
            "Could not download ISIC_0090279.jpg\n",
            "Could not download ISIC_0091016.jpg\n",
            "Could not download ISIC_0091559.jpg\n",
            "Could not download ISIC_0091996.jpg\n",
            "Could not download ISIC_0092726.jpg\n",
            "Could not download ISIC_0092870.jpg\n",
            "Could not download ISIC_0094701.jpg\n",
            "Could not download ISIC_0094755.jpg\n",
            "Could not download ISIC_0094775.jpg\n",
            "Could not download ISIC_0095805.jpg\n",
            "Could not download ISIC_0096201.jpg\n",
            "Could not download ISIC_0096227.jpg\n"
          ],
          "name": "stdout"
        }
      ]
    },
    {
      "cell_type": "code",
      "metadata": {
        "id": "UW8bWOg7Xm9K",
        "colab_type": "code",
        "colab": {}
      },
      "source": [
        ""
      ],
      "execution_count": 0,
      "outputs": []
    }
  ]
}