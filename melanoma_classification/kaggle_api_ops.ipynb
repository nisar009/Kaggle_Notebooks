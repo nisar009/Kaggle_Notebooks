{
  "nbformat": 4,
  "nbformat_minor": 0,
  "metadata": {
    "colab": {
      "name": "melanoma classification.ipynb",
      "provenance": [],
      "authorship_tag": "ABX9TyOH7hfIqd4vVfmemn1Y9PJH",
      "include_colab_link": true
    },
    "kernelspec": {
      "name": "python3",
      "display_name": "Python 3"
    }
  },
  "cells": [
    {
      "cell_type": "markdown",
      "metadata": {
        "id": "view-in-github",
        "colab_type": "text"
      },
      "source": [
        "<a href=\"https://colab.research.google.com/github/nisarahamedk/Kaggle_Notebooks/blob/master/melanoma_classification/kaggle_api_ops.ipynb\" target=\"_parent\"><img src=\"https://colab.research.google.com/assets/colab-badge.svg\" alt=\"Open In Colab\"/></a>"
      ]
    },
    {
      "cell_type": "markdown",
      "metadata": {
        "id": "AStvxgZQNHsk",
        "colab_type": "text"
      },
      "source": [
        "# Kaggle API Operations"
      ]
    },
    {
      "cell_type": "markdown",
      "metadata": {
        "id": "ea5UAbheOdlt",
        "colab_type": "text"
      },
      "source": [
        "### Get data from Kaggle"
      ]
    },
    {
      "cell_type": "markdown",
      "metadata": {
        "id": "uGxRuH_sOld5",
        "colab_type": "text"
      },
      "source": [
        "##### Kaggle API Keys\n"
      ]
    },
    {
      "cell_type": "code",
      "metadata": {
        "id": "eWoRaufqOv1X",
        "colab_type": "code",
        "outputId": "386db034-0f94-4b29-e9a1-092c2bebea0d",
        "colab": {
          "base_uri": "https://localhost:8080/",
          "height": 121
        }
      },
      "source": [
        "# mount google drive\n",
        "from google.colab import drive\n",
        "drive.mount(\"/content/drive\")"
      ],
      "execution_count": 2,
      "outputs": [
        {
          "output_type": "stream",
          "text": [
            "Go to this URL in a browser: https://accounts.google.com/o/oauth2/auth?client_id=947318989803-6bn6qk8qdgf4n4g3pfee6491hc0brc4i.apps.googleusercontent.com&redirect_uri=urn%3aietf%3awg%3aoauth%3a2.0%3aoob&response_type=code&scope=email%20https%3a%2f%2fwww.googleapis.com%2fauth%2fdocs.test%20https%3a%2f%2fwww.googleapis.com%2fauth%2fdrive%20https%3a%2f%2fwww.googleapis.com%2fauth%2fdrive.photos.readonly%20https%3a%2f%2fwww.googleapis.com%2fauth%2fpeopleapi.readonly\n",
            "\n",
            "Enter your authorization code:\n",
            "··········\n",
            "Mounted at /content/drive\n"
          ],
          "name": "stdout"
        }
      ]
    },
    {
      "cell_type": "code",
      "metadata": {
        "id": "foMJ4CdyPcz6",
        "colab_type": "code",
        "colab": {}
      },
      "source": [
        "# Copy Kaggle API key\n",
        "!mkdir -p ~/.kaggle && cp /content/drive/My\\ Drive/Projects/Kaggle/api_key/kaggle.json ~/.kaggle/"
      ],
      "execution_count": 0,
      "outputs": []
    },
    {
      "cell_type": "code",
      "metadata": {
        "id": "e2gbccoIPmJJ",
        "colab_type": "code",
        "outputId": "911c7a1c-69c2-4746-ef99-ee44cb4299c2",
        "colab": {
          "base_uri": "https://localhost:8080/",
          "height": 84
        }
      },
      "source": [
        "!kaggle competitions list -s melanoma"
      ],
      "execution_count": 4,
      "outputs": [
        {
          "output_type": "stream",
          "text": [
            "Warning: Looks like you're using an outdated API Version, please consider updating (server 1.5.6 / client 1.5.4)\n",
            "ref                                deadline             category   reward  teamCount  userHasEntered  \n",
            "---------------------------------  -------------------  --------  -------  ---------  --------------  \n",
            "siim-isic-melanoma-classification  2020-08-17 23:59:00  Featured  $30,000        135            True  \n"
          ],
          "name": "stdout"
        }
      ]
    },
    {
      "cell_type": "markdown",
      "metadata": {
        "id": "vlKS44tHqoZ1",
        "colab_type": "text"
      },
      "source": [
        "##### Download Kernels to sync with github"
      ]
    },
    {
      "cell_type": "code",
      "metadata": {
        "id": "vITq_PXaqv6B",
        "colab_type": "code",
        "colab": {
          "base_uri": "https://localhost:8080/",
          "height": 84
        },
        "outputId": "159d9a26-6021-42fa-9ad1-c4395eac6cfc"
      },
      "source": [
        "!kaggle kernels list --user nisarahamedk"
      ],
      "execution_count": 8,
      "outputs": [
        {
          "output_type": "stream",
          "text": [
            "Warning: Looks like you're using an outdated API Version, please consider updating (server 1.5.6 / client 1.5.4)\n",
            "ref                                   title                    author          lastRunTime          totalVotes  \n",
            "------------------------------------  -----------------------  --------------  -------------------  ----------  \n",
            "nisarahamedk/melanoma-classification  melanoma_classification  Nisar Ahamed K  2020-05-28 23:36:38           0  \n"
          ],
          "name": "stdout"
        }
      ]
    },
    {
      "cell_type": "code",
      "metadata": {
        "id": "wtAbxbjUrhba",
        "colab_type": "code",
        "colab": {
          "base_uri": "https://localhost:8080/",
          "height": 34
        },
        "outputId": "1132ba76-3edd-423d-edb9-f9b1fbc1246d"
      },
      "source": [
        "!kaggle kernels pull nisarahamedk/melanoma-classification"
      ],
      "execution_count": 12,
      "outputs": [
        {
          "output_type": "stream",
          "text": [
            "404 - Not Found\n"
          ],
          "name": "stdout"
        }
      ]
    },
    {
      "cell_type": "markdown",
      "metadata": {
        "id": "k4QaBIbsYm1I",
        "colab_type": "text"
      },
      "source": [
        "##### Download all competition data"
      ]
    },
    {
      "cell_type": "code",
      "metadata": {
        "id": "C-tu64LKYuQj",
        "colab_type": "code",
        "outputId": "a6945005-5c7a-4f6a-c063-19b76ef37f9d",
        "colab": {
          "base_uri": "https://localhost:8080/",
          "height": 214
        }
      },
      "source": [
        "!mkdir -p data/\n",
        "!cd data && kaggle competitions download siim-isic-melanoma-classification"
      ],
      "execution_count": 0,
      "outputs": [
        {
          "output_type": "stream",
          "text": [
            "Warning: Looks like you're using an outdated API Version, please consider updating (server 1.5.6 / client 1.5.4)\n",
            "Downloading ISIC_0085332.dcm.zip to /content/data\n",
            "  0% 0.00/1.84M [00:00<?, ?B/s]\n",
            "100% 1.84M/1.84M [00:00<00:00, 62.1MB/s]\n",
            "Downloading ISIC_0052060.dcm.zip to /content/data\n",
            "  0% 0.00/2.39M [00:00<?, ?B/s]\n",
            "100% 2.39M/2.39M [00:00<00:00, 162MB/s]\n",
            "Downloading ISIC_0082004.dcm to /content/data\n",
            "  0% 0.00/873k [00:00<?, ?B/s]\n",
            "100% 873k/873k [00:00<00:00, 114MB/s]\n"
          ],
          "name": "stdout"
        }
      ]
    },
    {
      "cell_type": "markdown",
      "metadata": {
        "id": "X5UKCv8tY3mC",
        "colab_type": "text"
      },
      "source": [
        "##### Download selected files"
      ]
    },
    {
      "cell_type": "code",
      "metadata": {
        "id": "l5mfVYbuY6k9",
        "colab_type": "code",
        "colab": {}
      },
      "source": [
        "!kaggle competitions files siim-isic-melanoma-classification"
      ],
      "execution_count": 0,
      "outputs": []
    },
    {
      "cell_type": "code",
      "metadata": {
        "id": "5MqUDz_lPozr",
        "colab_type": "code",
        "outputId": "f3a093c6-5a24-4760-feac-ef26ed7f72c7",
        "colab": {
          "base_uri": "https://localhost:8080/",
          "height": 101
        }
      },
      "source": [
        "!cd data && kaggle competitions download siim-isic-melanoma-classification -f train.csv && unzip train.csv.zip"
      ],
      "execution_count": 0,
      "outputs": [
        {
          "output_type": "stream",
          "text": [
            "Downloading train.csv.zip to /content/data\n",
            "\r  0% 0.00/339k [00:00<?, ?B/s]\n",
            "\r100% 339k/339k [00:00<00:00, 46.2MB/s]\n",
            "Archive:  train.csv.zip\n",
            "  inflating: train.csv               \n"
          ],
          "name": "stdout"
        }
      ]
    },
    {
      "cell_type": "code",
      "metadata": {
        "id": "S_9pfVUdP92r",
        "colab_type": "code",
        "colab": {}
      },
      "source": [
        "import pandas as pd\n",
        "from pathlib import Path\n",
        "data_path = Path() / \"data\""
      ],
      "execution_count": 0,
      "outputs": []
    },
    {
      "cell_type": "code",
      "metadata": {
        "id": "v68ouhdvS8iC",
        "colab_type": "code",
        "outputId": "4d9b692c-f6ac-42ca-b660-b131e68952e2",
        "colab": {
          "base_uri": "https://localhost:8080/",
          "height": 195
        }
      },
      "source": [
        "train_df = pd.read_csv(data_path/\"train.csv\")\n",
        "train_df.head()"
      ],
      "execution_count": 0,
      "outputs": [
        {
          "output_type": "execute_result",
          "data": {
            "text/html": [
              "<div>\n",
              "<style scoped>\n",
              "    .dataframe tbody tr th:only-of-type {\n",
              "        vertical-align: middle;\n",
              "    }\n",
              "\n",
              "    .dataframe tbody tr th {\n",
              "        vertical-align: top;\n",
              "    }\n",
              "\n",
              "    .dataframe thead th {\n",
              "        text-align: right;\n",
              "    }\n",
              "</style>\n",
              "<table border=\"1\" class=\"dataframe\">\n",
              "  <thead>\n",
              "    <tr style=\"text-align: right;\">\n",
              "      <th></th>\n",
              "      <th>image_name</th>\n",
              "      <th>patient_id</th>\n",
              "      <th>sex</th>\n",
              "      <th>age_approx</th>\n",
              "      <th>anatom_site_general_challenge</th>\n",
              "      <th>diagnosis</th>\n",
              "      <th>benign_malignant</th>\n",
              "      <th>target</th>\n",
              "    </tr>\n",
              "  </thead>\n",
              "  <tbody>\n",
              "    <tr>\n",
              "      <th>0</th>\n",
              "      <td>ISIC_2637011</td>\n",
              "      <td>IP_7279968</td>\n",
              "      <td>male</td>\n",
              "      <td>45.0</td>\n",
              "      <td>head/neck</td>\n",
              "      <td>unknown</td>\n",
              "      <td>benign</td>\n",
              "      <td>0</td>\n",
              "    </tr>\n",
              "    <tr>\n",
              "      <th>1</th>\n",
              "      <td>ISIC_0015719</td>\n",
              "      <td>IP_3075186</td>\n",
              "      <td>female</td>\n",
              "      <td>45.0</td>\n",
              "      <td>upper extremity</td>\n",
              "      <td>unknown</td>\n",
              "      <td>benign</td>\n",
              "      <td>0</td>\n",
              "    </tr>\n",
              "    <tr>\n",
              "      <th>2</th>\n",
              "      <td>ISIC_0052212</td>\n",
              "      <td>IP_2842074</td>\n",
              "      <td>female</td>\n",
              "      <td>50.0</td>\n",
              "      <td>lower extremity</td>\n",
              "      <td>nevus</td>\n",
              "      <td>benign</td>\n",
              "      <td>0</td>\n",
              "    </tr>\n",
              "    <tr>\n",
              "      <th>3</th>\n",
              "      <td>ISIC_0068279</td>\n",
              "      <td>IP_6890425</td>\n",
              "      <td>female</td>\n",
              "      <td>45.0</td>\n",
              "      <td>head/neck</td>\n",
              "      <td>unknown</td>\n",
              "      <td>benign</td>\n",
              "      <td>0</td>\n",
              "    </tr>\n",
              "    <tr>\n",
              "      <th>4</th>\n",
              "      <td>ISIC_0074268</td>\n",
              "      <td>IP_8723313</td>\n",
              "      <td>female</td>\n",
              "      <td>55.0</td>\n",
              "      <td>upper extremity</td>\n",
              "      <td>unknown</td>\n",
              "      <td>benign</td>\n",
              "      <td>0</td>\n",
              "    </tr>\n",
              "  </tbody>\n",
              "</table>\n",
              "</div>"
            ],
            "text/plain": [
              "     image_name  patient_id     sex  ...  diagnosis benign_malignant target\n",
              "0  ISIC_2637011  IP_7279968    male  ...    unknown           benign      0\n",
              "1  ISIC_0015719  IP_3075186  female  ...    unknown           benign      0\n",
              "2  ISIC_0052212  IP_2842074  female  ...      nevus           benign      0\n",
              "3  ISIC_0068279  IP_6890425  female  ...    unknown           benign      0\n",
              "4  ISIC_0074268  IP_8723313  female  ...    unknown           benign      0\n",
              "\n",
              "[5 rows x 8 columns]"
            ]
          },
          "metadata": {
            "tags": []
          },
          "execution_count": 24
        }
      ]
    },
    {
      "cell_type": "code",
      "metadata": {
        "id": "4_e7IEm-TA7l",
        "colab_type": "code",
        "outputId": "1b3c6acb-fbe9-4c50-94cd-d6b9de476e4e",
        "colab": {
          "base_uri": "https://localhost:8080/",
          "height": 34
        }
      },
      "source": [
        "len(train_df)"
      ],
      "execution_count": 0,
      "outputs": [
        {
          "output_type": "execute_result",
          "data": {
            "text/plain": [
              "33126"
            ]
          },
          "metadata": {
            "tags": []
          },
          "execution_count": 25
        }
      ]
    },
    {
      "cell_type": "code",
      "metadata": {
        "id": "UViu_iR6UlWD",
        "colab_type": "code",
        "colab": {}
      },
      "source": [
        "train_img_dir = data_path / \"train\"\n",
        "train_img_dir.mkdir(exist_ok=True)"
      ],
      "execution_count": 0,
      "outputs": []
    },
    {
      "cell_type": "code",
      "metadata": {
        "id": "0qckepVqTNKh",
        "colab_type": "code",
        "colab": {}
      },
      "source": [
        "import subprocess"
      ],
      "execution_count": 0,
      "outputs": []
    },
    {
      "cell_type": "code",
      "metadata": {
        "id": "cfDck6t7UWgw",
        "colab_type": "code",
        "colab": {}
      },
      "source": [
        "def download_train_images():\n",
        "\n",
        "  for index, row in train_df.iterrows():\n",
        "    img_name = row[\"image_name\"] + \".jpg\"\n",
        "    try:\n",
        "      subprocess.check_output(f\"cd data/train && kaggle competitions download siim-isic-melanoma-classification -f jpeg/train/{img_name}\", stderr=subprocess.STDOUT, shell=True)\n",
        "    except Exception:\n",
        "      print(f\"Could not download {img_name}\")"
      ],
      "execution_count": 0,
      "outputs": []
    },
    {
      "cell_type": "code",
      "metadata": {
        "id": "KefDTSC4U9Vz",
        "colab_type": "code",
        "colab": {}
      },
      "source": [
        "download_train_images()"
      ],
      "execution_count": 0,
      "outputs": []
    },
    {
      "cell_type": "code",
      "metadata": {
        "id": "VsYi9J1eYyyw",
        "colab_type": "code",
        "colab": {}
      },
      "source": [
        ""
      ],
      "execution_count": 0,
      "outputs": []
    }
  ]
}