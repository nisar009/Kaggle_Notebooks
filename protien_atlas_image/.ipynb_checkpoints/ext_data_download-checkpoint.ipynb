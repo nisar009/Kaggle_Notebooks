{
 "cells": [
  {
   "cell_type": "code",
   "execution_count": 6,
   "metadata": {},
   "outputs": [],
   "source": [
    "from fastai import *\n",
    "from fastai.vision import *\n",
    "from collections import defaultdict"
   ]
  },
  {
   "cell_type": "code",
   "execution_count": 7,
   "metadata": {},
   "outputs": [
    {
     "data": {
      "text/plain": [
       "[PosixPath('data/protein/train.csv'),\n",
       " PosixPath('data/protein/ext_train_images'),\n",
       " PosixPath('data/protein/train_images'),\n",
       " PosixPath('data/protein/protein_predictions_tta.csv'),\n",
       " PosixPath('data/protein/ext_train.csv'),\n",
       " PosixPath('data/protein/protein_predictions.csv'),\n",
       " PosixPath('data/protein/test_images'),\n",
       " PosixPath('data/protein/sample_submission.csv'),\n",
       " PosixPath('data/protein/models'),\n",
       " PosixPath('data/protein/ext_data_images_urls.txt'),\n",
       " PosixPath('data/protein/protein_predictions_no_tta.csv'),\n",
       " PosixPath('data/protein/.ipynb_checkpoints')]"
      ]
     },
     "execution_count": 7,
     "metadata": {},
     "output_type": "execute_result"
    }
   ],
   "source": [
    "path = Path('data/protein')\n",
    "path.ls()"
   ]
  },
  {
   "cell_type": "markdown",
   "metadata": {},
   "source": [
    "#### Construct the URL file"
   ]
  },
  {
   "cell_type": "code",
   "execution_count": 8,
   "metadata": {},
   "outputs": [
    {
     "data": {
      "text/html": [
       "<div>\n",
       "<style scoped>\n",
       "    .dataframe tbody tr th:only-of-type {\n",
       "        vertical-align: middle;\n",
       "    }\n",
       "\n",
       "    .dataframe tbody tr th {\n",
       "        vertical-align: top;\n",
       "    }\n",
       "\n",
       "    .dataframe thead th {\n",
       "        text-align: right;\n",
       "    }\n",
       "</style>\n",
       "<table border=\"1\" class=\"dataframe\">\n",
       "  <thead>\n",
       "    <tr style=\"text-align: right;\">\n",
       "      <th></th>\n",
       "      <th>Id</th>\n",
       "      <th>Target</th>\n",
       "    </tr>\n",
       "  </thead>\n",
       "  <tbody>\n",
       "    <tr>\n",
       "      <th>0</th>\n",
       "      <td>10580_1610_C1_1</td>\n",
       "      <td>21 13 25 2 0</td>\n",
       "    </tr>\n",
       "    <tr>\n",
       "      <th>1</th>\n",
       "      <td>10580_1610_C1_2</td>\n",
       "      <td>21 13 25 2 0</td>\n",
       "    </tr>\n",
       "    <tr>\n",
       "      <th>2</th>\n",
       "      <td>10580_1756_B1_1</td>\n",
       "      <td>21 13 25 2 0</td>\n",
       "    </tr>\n",
       "    <tr>\n",
       "      <th>3</th>\n",
       "      <td>10580_1756_B1_2</td>\n",
       "      <td>21 13 25 2 0</td>\n",
       "    </tr>\n",
       "    <tr>\n",
       "      <th>4</th>\n",
       "      <td>10580_1758_B1_1</td>\n",
       "      <td>21 13 25 2 0</td>\n",
       "    </tr>\n",
       "  </tbody>\n",
       "</table>\n",
       "</div>"
      ],
      "text/plain": [
       "                Id        Target\n",
       "0  10580_1610_C1_1  21 13 25 2 0\n",
       "1  10580_1610_C1_2  21 13 25 2 0\n",
       "2  10580_1756_B1_1  21 13 25 2 0\n",
       "3  10580_1756_B1_2  21 13 25 2 0\n",
       "4  10580_1758_B1_1  21 13 25 2 0"
      ]
     },
     "execution_count": 8,
     "metadata": {},
     "output_type": "execute_result"
    }
   ],
   "source": [
    "df = pd.read_csv(path/'ext_train.csv')\n",
    "df.head()"
   ]
  },
  {
   "cell_type": "code",
   "execution_count": 9,
   "metadata": {},
   "outputs": [],
   "source": [
    "URL_prefix = \"https://v18.proteinatlas.org/images/\""
   ]
  },
  {
   "cell_type": "code",
   "execution_count": 11,
   "metadata": {},
   "outputs": [],
   "source": [
    "URLs = defaultdict(list)\n",
    "colors = ['red', 'green', 'blue', 'yellow']\n",
    "\n",
    "for id, target in df.values:\n",
    "    folder = id.split('_')[0]\n",
    "    file_id = '_'.join(id.split('_')[1:])\n",
    "    for c in colors:\n",
    "        URLs[id].append(f'{URL_prefix}{folder}/{file_id}_{c}.jpg')"
   ]
  },
  {
   "cell_type": "code",
   "execution_count": 12,
   "metadata": {},
   "outputs": [],
   "source": [
    "def download_url(url:str, dest:str, overwrite:bool=False, pbar:ProgressBar=None,\n",
    "                 show_progress=True, chunk_size=1024*1024, timeout=4)->None:\n",
    "    \"Download `url` to `dest` unless it exists and not `overwrite`.\"\n",
    "    if os.path.exists(dest) and not overwrite: return\n",
    "\n",
    "    u = requests.get(url, stream=True, timeout=timeout)\n",
    "    try: file_size = int(u.headers[\"Content-Length\"])\n",
    "    except: show_progress = False\n",
    "\n",
    "    with open(dest, 'wb') as f:\n",
    "        nbytes = 0\n",
    "        if show_progress: pbar = progress_bar(range(file_size), auto_update=False, leave=False, parent=pbar)\n",
    "        for chunk in u.iter_content(chunk_size=chunk_size):\n",
    "            nbytes += len(chunk)\n",
    "            if show_progress: pbar.update(nbytes)\n",
    "            f.write(chunk)"
   ]
  },
  {
   "cell_type": "code",
   "execution_count": 19,
   "metadata": {},
   "outputs": [],
   "source": [
    "def parallel(func, arr:Collection, max_workers:int=None):\n",
    "    \"Call `func` on every element of `arr` in parallel using `max_workers`.\"\n",
    "    max_workers = ifnone(max_workers, defaults.cpus)\n",
    "    if max_workers<2: _ = [func(o,i) for i,o in enumerate(arr)]\n",
    "    else:\n",
    "        with ProcessPoolExecutor(max_workers=max_workers) as ex:\n",
    "            futures = [ex.submit(func,o,i) for i,o in enumerate(arr)]\n",
    "            for f in progress_bar(concurrent.futures.as_completed(futures), total=len(arr)): pass"
   ]
  },
  {
   "cell_type": "code",
   "execution_count": 29,
   "metadata": {},
   "outputs": [],
   "source": [
    "def download_image(url,dest, timeout=4):\n",
    "    try: r = download_url(url, dest, overwrite=False, show_progress=False, timeout=timeout)\n",
    "    except Exception as e: print(f\"Error {url} {e}\")"
   ]
  },
  {
   "cell_type": "code",
   "execution_count": 23,
   "metadata": {},
   "outputs": [],
   "source": [
    "def _download_image_inner(url_dest, i, timeout=4):\n",
    "    url, dest = url_dest\n",
    "    download_image(url, dest, timeout=timeout)"
   ]
  },
  {
   "cell_type": "code",
   "execution_count": 25,
   "metadata": {},
   "outputs": [],
   "source": [
    "def download_images(urls:Collection[str], max_pics:int=1000, max_workers:int=8, timeout=4):\n",
    "    \"Download images listed in text file `urls` to path `dest`, at most `max_pics`\"\n",
    "    parallel(partial(_download_image_inner, timeout=timeout), urls, max_workers=max_workers)"
   ]
  },
  {
   "cell_type": "code",
   "execution_count": 22,
   "metadata": {},
   "outputs": [
    {
     "data": {
      "text/plain": [
       "[('https://v18.proteinatlas.org/images/10580/1610_C1_1_red.jpg',\n",
       "  PosixPath('data/protein/ext_train_images/10580_1610_C1_1_red.jpg')),\n",
       " ('https://v18.proteinatlas.org/images/10580/1610_C1_1_green.jpg',\n",
       "  PosixPath('data/protein/ext_train_images/10580_1610_C1_1_green.jpg')),\n",
       " ('https://v18.proteinatlas.org/images/10580/1610_C1_1_blue.jpg',\n",
       "  PosixPath('data/protein/ext_train_images/10580_1610_C1_1_blue.jpg')),\n",
       " ('https://v18.proteinatlas.org/images/10580/1610_C1_1_yellow.jpg',\n",
       "  PosixPath('data/protein/ext_train_images/10580_1610_C1_1_yellow.jpg'))]"
      ]
     },
     "execution_count": 22,
     "metadata": {},
     "output_type": "execute_result"
    }
   ],
   "source": [
    "URL_list = []\n",
    "for id, urls in URLs.items():\n",
    "    \n",
    "    for url in urls:\n",
    "        dest_file = path/'ext_train_images'/(id + '_' + url.split('_')[-1])\n",
    "        \n",
    "        URL_list.append((url, dest_file))\n",
    "URL_list[:4]"
   ]
  },
  {
   "cell_type": "code",
   "execution_count": 30,
   "metadata": {},
   "outputs": [
    {
     "data": {
      "text/html": [
       "\n",
       "    <div>\n",
       "        <style>\n",
       "        \t/* Turns off some styling */\n",
       "        \tprogress {\n",
       "\n",
       "            \t/* gets rid of default border in Firefox and Opera. */\n",
       "            \tborder: none;\n",
       "\n",
       "            \t/* Needs to be in here for Safari polyfill so background images work as expected. */\n",
       "            \tbackground-size: auto;\n",
       "            }\n",
       "\n",
       "            .progress-bar-interrupted, .progress-bar-interrupted::-webkit-progress-bar {\n",
       "                background: #F44336;\n",
       "            }\n",
       "        </style>\n",
       "      <progress value='285748' class='' max='285748', style='width:300px; height:20px; vertical-align: middle;'></progress>\n",
       "      100.00% [285748/285748 00:44<00:00]\n",
       "    </div>\n",
       "    "
      ],
      "text/plain": [
       "<IPython.core.display.HTML object>"
      ]
     },
     "metadata": {},
     "output_type": "display_data"
    }
   ],
   "source": [
    "download_images(URL_list, max_pics=1000000)"
   ]
  },
  {
   "cell_type": "code",
   "execution_count": null,
   "metadata": {},
   "outputs": [],
   "source": []
  }
 ],
 "metadata": {
  "kernelspec": {
   "display_name": "Python 3",
   "language": "python",
   "name": "python3"
  },
  "language_info": {
   "codemirror_mode": {
    "name": "ipython",
    "version": 3
   },
   "file_extension": ".py",
   "mimetype": "text/x-python",
   "name": "python",
   "nbconvert_exporter": "python",
   "pygments_lexer": "ipython3",
   "version": "3.7.0"
  }
 },
 "nbformat": 4,
 "nbformat_minor": 2
}
