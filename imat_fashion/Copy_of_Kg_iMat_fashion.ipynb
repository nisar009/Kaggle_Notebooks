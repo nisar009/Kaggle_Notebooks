{
  "nbformat": 4,
  "nbformat_minor": 0,
  "metadata": {
    "colab": {
      "name": "Copy of Kg_iMat_fashion.ipynb",
      "version": "0.3.2",
      "provenance": [],
      "collapsed_sections": []
    },
    "kernelspec": {
      "name": "python3",
      "display_name": "Python 3"
    },
    "accelerator": "GPU"
  },
  "cells": [
    {
      "cell_type": "markdown",
      "metadata": {
        "id": "view-in-github",
        "colab_type": "text"
      },
      "source": [
        "[View in Colaboratory](https://colab.research.google.com/github/nisar009/Kaggle_Notebooks/blob/master/Copy_of_Kg_iMat_fashion.ipynb)"
      ]
    },
    {
      "metadata": {
        "id": "0X9L1q4UH3l0",
        "colab_type": "text"
      },
      "cell_type": "markdown",
      "source": [
        "**Kaggle iMaterialist Challenge (Fashion) at FGVC5**"
      ]
    },
    {
      "metadata": {
        "id": "IaXr00ZQIHe6",
        "colab_type": "text"
      },
      "cell_type": "markdown",
      "source": [
        "Installing Pytorch and Fastai"
      ]
    },
    {
      "metadata": {
        "id": "0ErPe6UcIKRZ",
        "colab_type": "code",
        "colab": {
          "base_uri": "https://localhost:8080/",
          "height": 17
        },
        "outputId": "7918f6eb-0ee3-4dfb-9c3f-373bd833d372"
      },
      "cell_type": "code",
      "source": [
        "%%capture\n",
        "!pip install torch torchvision"
      ],
      "execution_count": 2,
      "outputs": []
    },
    {
      "metadata": {
        "id": "SwSwkgpEIsvf",
        "colab_type": "code",
        "colab": {
          "base_uri": "https://localhost:8080/",
          "height": 17
        },
        "outputId": "7ce78f6b-22e7-4fe7-cf2b-8456e0cc4b86"
      },
      "cell_type": "code",
      "source": [
        "%%capture\n",
        "!pip install fastai"
      ],
      "execution_count": 3,
      "outputs": []
    },
    {
      "metadata": {
        "id": "uGlCrUrRJR8R",
        "colab_type": "code",
        "colab": {
          "base_uri": "https://localhost:8080/",
          "height": 17
        },
        "outputId": "5b2c6453-696d-4b36-f895-14e8ef5b28ff"
      },
      "cell_type": "code",
      "source": [
        "%%capture\n",
        "!pip install kaggle-cli"
      ],
      "execution_count": 4,
      "outputs": []
    },
    {
      "metadata": {
        "id": "TK3_rbeyNVFD",
        "colab_type": "text"
      },
      "cell_type": "markdown",
      "source": [
        "**Downloading Kaggle Data Set**"
      ]
    },
    {
      "metadata": {
        "id": "r5LWS9spf7VR",
        "colab_type": "code",
        "colab": {
          "base_uri": "https://localhost:8080/",
          "height": 35
        },
        "outputId": "133b8365-dee2-4416-8600-04b8aa85db11"
      },
      "cell_type": "code",
      "source": [
        "ls"
      ],
      "execution_count": 1,
      "outputs": [
        {
          "output_type": "stream",
          "text": [
            "\u001b[0m\u001b[01;34mdatalab\u001b[0m/\r\n"
          ],
          "name": "stdout"
        }
      ]
    },
    {
      "metadata": {
        "id": "nJDBgbj3Kc2U",
        "colab_type": "code",
        "colab": {
          "base_uri": "https://localhost:8080/",
          "height": 295
        },
        "outputId": "7fefc252-99e2-46ab-ae8b-34b761d61046"
      },
      "cell_type": "code",
      "source": [
        "!mkdir -p data/fashiondata && cd data/fashiondata && kg download -u nisar009 -p p@55w0rd -c imaterialist-challenge-fashion-2018"
      ],
      "execution_count": 5,
      "outputs": [
        {
          "output_type": "stream",
          "text": [
            "downloading https://www.kaggle.com/c/imaterialist-challenge-fashion-2018/download/test.json.zip\r\n",
            "\n",
            "test.json.zip 100% |################################| Time: 0:00:00   2.3 MiB/s\n",
            "\n",
            "downloading https://www.kaggle.com/c/imaterialist-challenge-fashion-2018/download/validation.json.zip\n",
            "\n",
            "validation.json.zip 100% |##########################| Time: 0:00:00   1.0 MiB/s\n",
            "\n",
            "downloading https://www.kaggle.com/c/imaterialist-challenge-fashion-2018/download/train.json.zip\n",
            "\n",
            "train.json.zip 100% |###############################| Time: 0:00:01  20.0 MiB/s\n",
            "\n",
            "downloading https://www.kaggle.com/c/imaterialist-challenge-fashion-2018/download/sample_submission.csv.zip\n",
            "\n",
            "sample_submission.csv.zip 100% |####################| Time: 0:00:00   1.5 MiB/s\n",
            "\n"
          ],
          "name": "stdout"
        }
      ]
    },
    {
      "metadata": {
        "id": "Y2I4MRLKMRRl",
        "colab_type": "code",
        "colab": {
          "base_uri": "https://localhost:8080/",
          "height": 35
        },
        "outputId": "22f60fbf-d49a-4b30-d7a8-b6798851fd88"
      },
      "cell_type": "code",
      "source": [
        "!cd data/fashiondata && ls"
      ],
      "execution_count": 6,
      "outputs": [
        {
          "output_type": "stream",
          "text": [
            "sample_submission.csv.zip  test.json.zip  train.json.zip  validation.json.zip\r\n"
          ],
          "name": "stdout"
        }
      ]
    },
    {
      "metadata": {
        "id": "w-RYhfrZLDaj",
        "colab_type": "code",
        "colab": {
          "base_uri": "https://localhost:8080/",
          "height": 156
        },
        "outputId": "213f962b-1ae5-4575-d6de-c8a52ada7a15"
      },
      "cell_type": "code",
      "source": [
        "!cd data/fashiondata && unzip sample_submission.csv.zip && unzip train.json.zip && unzip test.json.zip && unzip validation.json.zip"
      ],
      "execution_count": 7,
      "outputs": [
        {
          "output_type": "stream",
          "text": [
            "Archive:  sample_submission.csv.zip\r\n",
            "  inflating: sample_submission.csv   \r\n",
            "Archive:  train.json.zip\n",
            "  inflating: train.json              \n",
            "Archive:  test.json.zip\n",
            "  inflating: test.json               \n",
            "Archive:  validation.json.zip\n",
            "  inflating: validation.json         \n"
          ],
          "name": "stdout"
        }
      ]
    },
    {
      "metadata": {
        "id": "yKm2G0biNI2e",
        "colab_type": "code",
        "colab": {
          "base_uri": "https://localhost:8080/",
          "height": 52
        },
        "outputId": "5fe3e245-8563-4f85-8496-5d9d9b9db203"
      },
      "cell_type": "code",
      "source": [
        "!cd data/fashiondata && ls"
      ],
      "execution_count": 8,
      "outputs": [
        {
          "output_type": "stream",
          "text": [
            "sample_submission.csv\t   test.json\t  train.json\t  validation.json\r\n",
            "sample_submission.csv.zip  test.json.zip  train.json.zip  validation.json.zip\r\n"
          ],
          "name": "stdout"
        }
      ]
    },
    {
      "metadata": {
        "id": "tsx3t8xDLn0o",
        "colab_type": "text"
      },
      "cell_type": "markdown",
      "source": [
        "Create the data set"
      ]
    },
    {
      "metadata": {
        "id": "kCt4-QVKLpfg",
        "colab_type": "code",
        "colab": {
          "base_uri": "https://localhost:8080/",
          "height": 191
        },
        "outputId": "65169274-f55a-467e-e5c8-fde1caadec23"
      },
      "cell_type": "code",
      "source": [
        "import pandas as pd\n",
        "import json\n",
        "\n",
        "PATH = 'data/fashiondata/'\n",
        "\n",
        "train_set_file = f'{PATH}train.json'\n",
        "\n",
        "js = open(train_set_file).read()\n",
        "train_data_dict = json.loads(js)\n",
        "train_data_dict['images'][:5]"
      ],
      "execution_count": 9,
      "outputs": [
        {
          "output_type": "execute_result",
          "data": {
            "text/plain": [
              "[{'imageId': '1',\n",
              "  'url': 'https://contestimg.wish.com/api/webimage/570f35feb2f4b95d223aa9b1-large'},\n",
              " {'imageId': '2',\n",
              "  'url': 'https://contestimg.wish.com/api/webimage/5468f1c0d96b290ff8e5c805-large'},\n",
              " {'imageId': '3',\n",
              "  'url': 'https://contestimg.wish.com/api/webimage/546410237d57f323e72ca414-large'},\n",
              " {'imageId': '4',\n",
              "  'url': 'https://contestimg.wish.com/api/webimage/550b955fdd699c1a0351f84e-large'},\n",
              " {'imageId': '5',\n",
              "  'url': 'https://contestimg.wish.com/api/webimage/54451f33355b4e0fd3028a30-large'}]"
            ]
          },
          "metadata": {
            "tags": []
          },
          "execution_count": 9
        }
      ]
    },
    {
      "metadata": {
        "id": "haCXfjogPMvb",
        "colab_type": "text"
      },
      "cell_type": "markdown",
      "source": [
        "Downloading the images with file name imageID"
      ]
    },
    {
      "metadata": {
        "id": "b9lyOj4UP3S2",
        "colab_type": "code",
        "colab": {
          "base_uri": "https://localhost:8080/",
          "height": 69
        },
        "outputId": "6f6b5437-4572-49ed-bb29-718a56dbf289"
      },
      "cell_type": "code",
      "source": [
        "!cd data/fashiondata && mkdir -p images_train && ls"
      ],
      "execution_count": 10,
      "outputs": [
        {
          "output_type": "stream",
          "text": [
            "images_train\t\t   test.json\t  train.json.zip\r\n",
            "sample_submission.csv\t   test.json.zip  validation.json\r\n",
            "sample_submission.csv.zip  train.json\t  validation.json.zip\r\n"
          ],
          "name": "stdout"
        }
      ]
    },
    {
      "metadata": {
        "id": "UBl48X1MP92F",
        "colab_type": "code",
        "colab": {
          "base_uri": "https://localhost:8080/",
          "height": 35
        },
        "outputId": "27728467-9c22-4299-857c-b4fed8b98084"
      },
      "cell_type": "code",
      "source": [
        "import urllib.request as url\n",
        "import concurrent.futures as futures\n",
        "import os\n",
        "\n",
        "image_train_dir = os.path.join(PATH, 'images_train')\n",
        "print(f\"Downloading {len(train_data_dict['images'])} Images ...\")\n",
        "with futures.ThreadPoolExecutor(max_workers=30000) as executor:\n",
        "  os.chdir(image_train_dir)\n",
        "  for image in train_data_dict['images'][:50000]:\n",
        "    imageid = image['imageId']\n",
        "    imageurl = image['url']\n",
        "    #image_name = os.path.join(image_train_dir, f'{imageid}.jpg')\n",
        "    image_name = f'{imageid}.jpg'\n",
        "    executor.submit(url.urlretrieve, f'{imageurl}', image_name)"
      ],
      "execution_count": 11,
      "outputs": [
        {
          "output_type": "stream",
          "text": [
            "Downloading 1014544 Images ...\n"
          ],
          "name": "stdout"
        }
      ]
    },
    {
      "metadata": {
        "id": "EVmYeyaLQ_VG",
        "colab_type": "code",
        "colab": {
          "base_uri": "https://localhost:8080/",
          "height": 35
        },
        "outputId": "a0e3b90e-1f08-4c81-c91d-b7474648cb21"
      },
      "cell_type": "code",
      "source": [
        "!cd /content/data/fashiondata/images_train && ls -1| wc -l"
      ],
      "execution_count": 12,
      "outputs": [
        {
          "output_type": "stream",
          "text": [
            "49135\r\n"
          ],
          "name": "stdout"
        }
      ]
    },
    {
      "metadata": {
        "id": "PCGiVF5lmFUY",
        "colab_type": "code",
        "colab": {
          "base_uri": "https://localhost:8080/",
          "height": 17
        },
        "outputId": "3d026753-e090-4aa0-c1f2-0e9da3e0f1ce"
      },
      "cell_type": "code",
      "source": [
        "os.chdir(\"/content/\")"
      ],
      "execution_count": 13,
      "outputs": []
    },
    {
      "metadata": {
        "id": "nlP6yOLekAeX",
        "colab_type": "code",
        "colab": {
          "base_uri": "https://localhost:8080/",
          "height": 35
        },
        "outputId": "fdc139e7-910a-4161-a27c-3bbc71cf8f87"
      },
      "cell_type": "code",
      "source": [
        "ls"
      ],
      "execution_count": 14,
      "outputs": [
        {
          "output_type": "stream",
          "text": [
            "\u001b[0m\u001b[01;34mdata\u001b[0m/  \u001b[01;34mdatalab\u001b[0m/\r\n"
          ],
          "name": "stdout"
        }
      ]
    },
    {
      "metadata": {
        "id": "G9hmkM65oK_j",
        "colab_type": "text"
      },
      "cell_type": "markdown",
      "source": [
        "Creating the train.csv which stores < imageid, labels>"
      ]
    },
    {
      "metadata": {
        "id": "irsVHwlToQK9",
        "colab_type": "code",
        "colab": {
          "base_uri": "https://localhost:8080/",
          "height": 55
        },
        "outputId": "baa0731b-2c9a-4cf2-a07b-8d7e9134dc84"
      },
      "cell_type": "code",
      "source": [
        "print(train_data_dict['annotations'][:10])"
      ],
      "execution_count": 15,
      "outputs": [
        {
          "output_type": "stream",
          "text": [
            "[{'labelId': ['95', '66', '137', '70', '20'], 'imageId': '1'}, {'labelId': ['36', '66', '44', '214', '105', '133'], 'imageId': '2'}, {'labelId': ['170', '66', '97', '153', '105', '138'], 'imageId': '3'}, {'labelId': ['18', '66', '44', '153', '164'], 'imageId': '4'}, {'labelId': ['189', '66', '176', '137', '153', '74', '181', '171', '138'], 'imageId': '5'}, {'labelId': ['190', '106', '53', '153', '164', '184'], 'imageId': '6'}, {'labelId': ['114', '222', '113', '176', '214', '87'], 'imageId': '7'}, {'labelId': ['18', '17', '66', '44', '98', '49', '110', '105'], 'imageId': '8'}, {'labelId': ['66', '97', '153', '181', '105', '218'], 'imageId': '9'}, {'labelId': ['91', '66', '59', '49', '151', '105', '225'], 'imageId': '10'}]\n"
          ],
          "name": "stdout"
        }
      ]
    },
    {
      "metadata": {
        "id": "KN9bRJyZoYSO",
        "colab_type": "code",
        "colab": {
          "base_uri": "https://localhost:8080/",
          "height": 202
        },
        "outputId": "89f923dd-101a-43b4-f767-70ee4bb6b894"
      },
      "cell_type": "code",
      "source": [
        "annotations = train_data_dict['annotations']\n",
        "image_train_dict = dict()\n",
        "image_train_dict['image_id'] = list()\n",
        "image_train_dict['label_ids'] = list()\n",
        "for annt in annotations:\n",
        "  image_train_dict['image_id'].append(annt['imageId'])\n",
        "  image_train_dict['label_ids'].append(\" \".join(annt['labelId']))\n",
        "  \n",
        "train_df = pd.DataFrame(image_train_dict)\n",
        "train_df.tail()"
      ],
      "execution_count": 16,
      "outputs": [
        {
          "output_type": "execute_result",
          "data": {
            "text/html": [
              "<div>\n",
              "<style scoped>\n",
              "    .dataframe tbody tr th:only-of-type {\n",
              "        vertical-align: middle;\n",
              "    }\n",
              "\n",
              "    .dataframe tbody tr th {\n",
              "        vertical-align: top;\n",
              "    }\n",
              "\n",
              "    .dataframe thead th {\n",
              "        text-align: right;\n",
              "    }\n",
              "</style>\n",
              "<table border=\"1\" class=\"dataframe\">\n",
              "  <thead>\n",
              "    <tr style=\"text-align: right;\">\n",
              "      <th></th>\n",
              "      <th>image_id</th>\n",
              "      <th>label_ids</th>\n",
              "    </tr>\n",
              "  </thead>\n",
              "  <tbody>\n",
              "    <tr>\n",
              "      <th>1014539</th>\n",
              "      <td>1014540</td>\n",
              "      <td>91 66 59 49 105 218</td>\n",
              "    </tr>\n",
              "    <tr>\n",
              "      <th>1014540</th>\n",
              "      <td>1014541</td>\n",
              "      <td>66 53 7 155 105 128</td>\n",
              "    </tr>\n",
              "    <tr>\n",
              "      <th>1014541</th>\n",
              "      <td>1014542</td>\n",
              "      <td>62 17 222 148 66 98 153 171 184</td>\n",
              "    </tr>\n",
              "    <tr>\n",
              "      <th>1014542</th>\n",
              "      <td>1014543</td>\n",
              "      <td>18 66 137 116 105</td>\n",
              "    </tr>\n",
              "    <tr>\n",
              "      <th>1014543</th>\n",
              "      <td>1014544</td>\n",
              "      <td>220 222 66 203 186</td>\n",
              "    </tr>\n",
              "  </tbody>\n",
              "</table>\n",
              "</div>"
            ],
            "text/plain": [
              "        image_id                        label_ids\n",
              "1014539  1014540              91 66 59 49 105 218\n",
              "1014540  1014541              66 53 7 155 105 128\n",
              "1014541  1014542  62 17 222 148 66 98 153 171 184\n",
              "1014542  1014543                18 66 137 116 105\n",
              "1014543  1014544               220 222 66 203 186"
            ]
          },
          "metadata": {
            "tags": []
          },
          "execution_count": 16
        }
      ]
    },
    {
      "metadata": {
        "id": "kddAYwpNpaGl",
        "colab_type": "code",
        "colab": {
          "base_uri": "https://localhost:8080/",
          "height": 17
        },
        "outputId": "53efeb58-eddd-40b5-8974-3178691f7c3d"
      },
      "cell_type": "code",
      "source": [
        "train_df.set_index('image_id', inplace=True)\n",
        "train_df.to_csv(os.path.join(PATH, 'train_created.csv'))"
      ],
      "execution_count": 17,
      "outputs": []
    },
    {
      "metadata": {
        "id": "cB723oiXsQGg",
        "colab_type": "code",
        "colab": {
          "base_uri": "https://localhost:8080/",
          "height": 17
        },
        "outputId": "60c38a06-7d20-42ba-92ba-f0f014385147"
      },
      "cell_type": "code",
      "source": [
        ""
      ],
      "execution_count": 17,
      "outputs": []
    },
    {
      "metadata": {
        "id": "39nRabI3scmn",
        "colab_type": "text"
      },
      "cell_type": "markdown",
      "source": [
        "We need only the downloaded image's labels in the train.csv"
      ]
    },
    {
      "metadata": {
        "id": "avTHauYesiJL",
        "colab_type": "code",
        "colab": {
          "base_uri": "https://localhost:8080/",
          "height": 35
        },
        "outputId": "d0bb298b-af55-436e-8123-ba930c9f3a17"
      },
      "cell_type": "code",
      "source": [
        "images_downloaded = os.listdir(os.path.join(PATH, 'images_train'))\n",
        "images_ids_downloaded = [im.split('.')[0] for im in images_downloaded]\n",
        "len(images_ids_downloaded)"
      ],
      "execution_count": 18,
      "outputs": [
        {
          "output_type": "execute_result",
          "data": {
            "text/plain": [
              "49135"
            ]
          },
          "metadata": {
            "tags": []
          },
          "execution_count": 18
        }
      ]
    },
    {
      "metadata": {
        "id": "nc9KbXuZszHa",
        "colab_type": "code",
        "colab": {
          "base_uri": "https://localhost:8080/",
          "height": 233
        },
        "outputId": "c53081be-bb6d-4b8f-e550-fe6a70e75098"
      },
      "cell_type": "code",
      "source": [
        "req_train_df = train_df.loc[images_ids_downloaded]\n",
        "req_train_df.reset_index(inplace=True)\n",
        "req_train_df['image_id'] = req_train_df['image_id'] + '.jpg'\n",
        "req_train_df.set_index('image_id', inplace=True)\n",
        "req_train_df.head()"
      ],
      "execution_count": 19,
      "outputs": [
        {
          "output_type": "execute_result",
          "data": {
            "text/html": [
              "<div>\n",
              "<style scoped>\n",
              "    .dataframe tbody tr th:only-of-type {\n",
              "        vertical-align: middle;\n",
              "    }\n",
              "\n",
              "    .dataframe tbody tr th {\n",
              "        vertical-align: top;\n",
              "    }\n",
              "\n",
              "    .dataframe thead th {\n",
              "        text-align: right;\n",
              "    }\n",
              "</style>\n",
              "<table border=\"1\" class=\"dataframe\">\n",
              "  <thead>\n",
              "    <tr style=\"text-align: right;\">\n",
              "      <th></th>\n",
              "      <th>label_ids</th>\n",
              "    </tr>\n",
              "    <tr>\n",
              "      <th>image_id</th>\n",
              "      <th></th>\n",
              "    </tr>\n",
              "  </thead>\n",
              "  <tbody>\n",
              "    <tr>\n",
              "      <th>9898.jpg</th>\n",
              "      <td>201 66 138</td>\n",
              "    </tr>\n",
              "    <tr>\n",
              "      <th>18409.jpg</th>\n",
              "      <td>200 106 224</td>\n",
              "    </tr>\n",
              "    <tr>\n",
              "      <th>12790.jpg</th>\n",
              "      <td>190 66 53 49 181 164</td>\n",
              "    </tr>\n",
              "    <tr>\n",
              "      <th>25965.jpg</th>\n",
              "      <td>106 49 105 73</td>\n",
              "    </tr>\n",
              "    <tr>\n",
              "      <th>26106.jpg</th>\n",
              "      <td>62 66 98 171 133</td>\n",
              "    </tr>\n",
              "  </tbody>\n",
              "</table>\n",
              "</div>"
            ],
            "text/plain": [
              "                      label_ids\n",
              "image_id                       \n",
              "9898.jpg             201 66 138\n",
              "18409.jpg           200 106 224\n",
              "12790.jpg  190 66 53 49 181 164\n",
              "25965.jpg         106 49 105 73\n",
              "26106.jpg      62 66 98 171 133"
            ]
          },
          "metadata": {
            "tags": []
          },
          "execution_count": 19
        }
      ]
    },
    {
      "metadata": {
        "id": "inXognPPs-cL",
        "colab_type": "code",
        "colab": {
          "base_uri": "https://localhost:8080/",
          "height": 17
        },
        "outputId": "5c2f40e4-36eb-430e-cf7c-01fd9de333fe"
      },
      "cell_type": "code",
      "source": [
        "req_train_df.sort_index()\n",
        "#req_train_df.loc['1']\n",
        "req_train_df.to_csv(os.path.join(PATH, 'train_req.csv'))"
      ],
      "execution_count": 20,
      "outputs": []
    },
    {
      "metadata": {
        "id": "qLZnlK3husrs",
        "colab_type": "code",
        "colab": {
          "base_uri": "https://localhost:8080/",
          "height": 87
        },
        "outputId": "f3c86b7a-ab5e-4557-ef36-8a65b6fff6c2"
      },
      "cell_type": "code",
      "source": [
        "!cd data/fashiondata && ls"
      ],
      "execution_count": 21,
      "outputs": [
        {
          "output_type": "stream",
          "text": [
            "images_train\t\t   test.json.zip      train_req.csv\r\n",
            "sample_submission.csv\t   train_created.csv  validation.json\r\n",
            "sample_submission.csv.zip  train.json\t      validation.json.zip\r\n",
            "test.json\t\t   train.json.zip\r\n"
          ],
          "name": "stdout"
        }
      ]
    },
    {
      "metadata": {
        "id": "rXi_s8VGvUve",
        "colab_type": "code",
        "colab": {
          "base_uri": "https://localhost:8080/",
          "height": 17
        },
        "outputId": "a5a2f5b0-e6b8-42f0-df4e-54ac8ded8f51"
      },
      "cell_type": "code",
      "source": [
        ""
      ],
      "execution_count": 21,
      "outputs": []
    },
    {
      "metadata": {
        "id": "OlBv3_5rvk-G",
        "colab_type": "text"
      },
      "cell_type": "markdown",
      "source": [
        "## **Starting from fastai**"
      ]
    },
    {
      "metadata": {
        "id": "URx4pZ9qvtcd",
        "colab_type": "code",
        "colab": {
          "base_uri": "https://localhost:8080/",
          "height": 17
        },
        "outputId": "258e84a5-a564-4d0c-9d3c-4d577380a6e5"
      },
      "cell_type": "code",
      "source": [
        "%reload_ext autoreload\n",
        "%autoreload 2\n",
        "%matplotlib inline"
      ],
      "execution_count": 22,
      "outputs": []
    },
    {
      "metadata": {
        "id": "BPwmpOBElaM2",
        "colab_type": "text"
      },
      "cell_type": "markdown",
      "source": [
        "fastai Imports"
      ]
    },
    {
      "metadata": {
        "id": "3QMoZk-qvxLb",
        "colab_type": "code",
        "colab": {
          "base_uri": "https://localhost:8080/",
          "height": 17
        },
        "outputId": "7c9ac6d4-4e72-42bb-9bbb-005b84c4d131"
      },
      "cell_type": "code",
      "source": [
        "from fastai.imports import *\n",
        "from fastai.conv_learner import *\n",
        "from fastai.transforms import *\n",
        "from fastai.model import *\n",
        "from fastai.dataset import *\n",
        "from fastai.sgdr import *\n",
        "from fastai.plots import*"
      ],
      "execution_count": 23,
      "outputs": []
    },
    {
      "metadata": {
        "id": "MFI1MuXJmAia",
        "colab_type": "code",
        "colab": {
          "base_uri": "https://localhost:8080/",
          "height": 104
        },
        "outputId": "ecb322a9-89bb-4e37-e64e-1608285ae3b1"
      },
      "cell_type": "code",
      "source": [
        "PATH = \"data/fashiondata/\"\n",
        "os.makedirs('data/fashiondata/models', exist_ok=True)\n",
        "os.makedirs('data/fashiondata/tmp', exist_ok=True)\n",
        "!ls {PATH}"
      ],
      "execution_count": 24,
      "outputs": [
        {
          "output_type": "stream",
          "text": [
            "images_train\t\t   test.json.zip      train_req.csv\r\n",
            "models\t\t\t   tmp\t\t      validation.json\r\n",
            "sample_submission.csv\t   train_created.csv  validation.json.zip\r\n",
            "sample_submission.csv.zip  train.json\r\n",
            "test.json\t\t   train.json.zip\r\n"
          ],
          "name": "stdout"
        }
      ]
    },
    {
      "metadata": {
        "id": "F0QyLI4eyktO",
        "colab_type": "text"
      },
      "cell_type": "markdown",
      "source": [
        "F1 Score as Metric"
      ]
    },
    {
      "metadata": {
        "id": "E2MdtXwfyjfT",
        "colab_type": "code",
        "colab": {
          "base_uri": "https://localhost:8080/",
          "height": 17
        },
        "outputId": "b9f2e6fd-82ff-482b-8ea3-18eb6aff000b"
      },
      "cell_type": "code",
      "source": [
        "from fastai.imports import *\n",
        "from fastai.transforms import *\n",
        "from fastai.dataset import *\n",
        "from sklearn.metrics import fbeta_score\n",
        "import warnings\n",
        "\n",
        "def f1(preds, targs, start=0.17, end=0.24, step=0.01):\n",
        "    with warnings.catch_warnings():\n",
        "        warnings.simplefilter(\"ignore\")\n",
        "        return max([fbeta_score(targs, (preds>th), 1, average='samples')\n",
        "                    for th in np.arange(start,end,step)])\n",
        "def f2(preds, targs, start=0.17, end=0.24, step=0.01):\n",
        "    with warnings.catch_warnings():\n",
        "        warnings.simplefilter(\"ignore\")\n",
        "        return max([fbeta_score(targs, (preds>th), 2, average='samples')\n",
        "                    for th in np.arange(start,end,step)])\n",
        "\n",
        "def opt_th(preds, targs, start=0.17, end=0.24, step=0.01):\n",
        "    ths = np.arange(start,end,step)\n",
        "    idx = np.argmax([fbeta_score(targs, (preds>th), 2, average='samples')\n",
        "                for th in ths])\n",
        "    return ths[idx]\n",
        "\n",
        "def get_data(path, tfms,bs,  n, cv_idx):\n",
        "    val_idxs = get_cv_idxs(n, cv_idx)\n",
        "    return ImageClassifierData.from_csv(path, 'train-jpg', f'{path}train_v2.csv', bs, tfms,\n",
        "                                 suffix='.jpg', val_idxs=val_idxs, test_name='test-jpg')\n",
        "\n",
        "def get_data_zoom(f_model, path, sz, bs, n, cv_idx):\n",
        "    tfms = tfms_from_model(f_model, sz, aug_tfms=transforms_top_down, max_zoom=1.05)\n",
        "    return get_data(path, tfms, bs, n, cv_idx)\n",
        "\n",
        "def get_data_pad(f_model, path, sz, bs, n, cv_idx):\n",
        "    transforms_pt = [RandomRotateZoom(9, 0.18, 0.1), RandomLighting(0.05, 0.1), RandomDihedral()]\n",
        "    tfms = tfms_from_model(f_model, sz, aug_tfms=transforms_pt, pad=sz//12)\n",
        "    return get_data(path, tfms, bs, n, cv_idx)"
      ],
      "execution_count": 25,
      "outputs": []
    },
    {
      "metadata": {
        "id": "t34K7sLcmJXg",
        "colab_type": "code",
        "colab": {
          "base_uri": "https://localhost:8080/",
          "height": 335
        },
        "outputId": "e9519c5c-85ce-4b1f-b4f3-65071dbf58eb"
      },
      "cell_type": "code",
      "source": [
        "metric = [f1]\n",
        "sz=64\n",
        "arch=resnet34\n",
        "# Lets train a model\n",
        "def get_data(size):\n",
        "  tfms = tfms_from_model(arch, sz, aug_tfms=transforms_side_on, max_zoom=1.1)\n",
        "  return ImageClassifierData.from_csv(path=PATH,\n",
        "                                      folder='images_train',\n",
        "                                      csv_fname=f'{PATH}train_req.csv',\n",
        "                                     tfms=tfms)\n",
        "data = get_data(sz)\n",
        "learn = ConvLearner.pretrained(arch, data, precompute=True, metrics=metric)\n",
        "lrf = learn.lr_find()\n",
        "learn.sched.plot()\n"
      ],
      "execution_count": 37,
      "outputs": [
        {
          "output_type": "display_data",
          "data": {
            "application/vnd.jupyter.widget-view+json": {
              "model_id": "4c352b3e7e0346d8a284df147a0615ee",
              "version_minor": 0,
              "version_major": 2
            },
            "text/plain": [
              "HBox(children=(IntProgress(value=0, description='Epoch', max=1), HTML(value='')))"
            ]
          },
          "metadata": {
            "tags": []
          }
        },
        {
          "output_type": "stream",
          "text": [
            "epoch      trn_loss   val_loss   f1         \n",
            "    0      0.100387   0.077952   0.398227  \n"
          ],
          "name": "stdout"
        },
        {
          "output_type": "display_data",
          "data": {
            "image/png": "[encoded data removed]",
            "text/plain": [
              "<matplotlib.figure.Figure at 0x7f82265b1a90>"
            ]
          },
          "metadata": {
            "tags": []
          }
        }
      ]
    },
    {
      "metadata": {
        "id": "wpl4NQwYmJcN",
        "colab_type": "code",
        "colab": {
          "base_uri": "https://localhost:8080/",
          "height": 191
        },
        "outputId": "a4d4c1bb-f27f-463d-c14a-29c16d539114"
      },
      "cell_type": "code",
      "source": [
        " lr = 0.5\n",
        "#learn.precompute=False\n",
        "learn.fit(lr, 3, cycle_len=1, cycle_mult=2, use_swa=True, swa_start=3)"
      ],
      "execution_count": 32,
      "outputs": [
        {
          "output_type": "display_data",
          "data": {
            "application/vnd.jupyter.widget-view+json": {
              "model_id": "3328a5a0ac14420688a0e99716c4ecaa",
              "version_minor": 0,
              "version_major": 2
            },
            "text/plain": [
              "HBox(children=(IntProgress(value=0, description='Epoch', max=7), HTML(value='')))"
            ]
          },
          "metadata": {
            "tags": []
          }
        },
        {
          "output_type": "stream",
          "text": [
            "epoch      trn_loss   val_loss   f1         swa_loss   swa_f1     \n",
            "    0      0.081411   0.076004   0.419689  \n",
            " 45%|████▌     | 277/615 [00:08<00:10, 33.78it/s, loss=0.0787]"
          ],
          "name": "stdout"
        },
        {
          "output_type": "stream",
          "text": [
            "    1      0.077654   0.073021   0.435398  \n",
            "    2      0.07629    0.072594   0.438281   0.072694   0.43781   \n",
            "  1%|          | 4/615 [00:00<00:58, 10.47it/s, loss=0.0765]"
          ],
          "name": "stdout"
        },
        {
          "output_type": "stream",
          "text": [
            "    3      0.074838   0.071665   0.443207  \n",
            " 75%|███████▌  | 462/615 [00:12<00:04, 36.08it/s, loss=0.074] "
          ],
          "name": "stdout"
        },
        {
          "output_type": "stream",
          "text": [
            "    4      0.073678   0.071019   0.44786   \n",
            "    5      0.073136   0.070836   0.448589  \n",
            " 13%|█▎        | 79/615 [00:02<00:14, 36.92it/s, loss=0.0729]"
          ],
          "name": "stdout"
        },
        {
          "output_type": "stream",
          "text": [
            "    6      0.073073   0.070795   0.449108   0.071247   0.446183  \n"
          ],
          "name": "stdout"
        },
        {
          "output_type": "execute_result",
          "data": {
            "text/plain": [
              "[array([0.07079]), 0.4491082194918943, array([0.07125]), 0.446183402209343]"
            ]
          },
          "metadata": {
            "tags": []
          },
          "execution_count": 32
        }
      ]
    },
    {
      "metadata": {
        "id": "5RPGWvk0mJt1",
        "colab_type": "code",
        "colab": {
          "base_uri": "https://localhost:8080/",
          "height": 17
        },
        "outputId": "b8713f81-f3fa-4b98-8d19-d44277b39ff2"
      },
      "cell_type": "code",
      "source": [
        "# Differential Learning Rates for Different Layer Groups\n",
        "lrs = np.array([lr/9, lr/3, lr])"
      ],
      "execution_count": 33,
      "outputs": []
    },
    {
      "metadata": {
        "id": "jKbo61enmJwU",
        "colab_type": "code",
        "colab": {
          "base_uri": "https://localhost:8080/",
          "height": 1226
        },
        "outputId": "d6dcb06d-57e2-42f7-907f-cf608edd1fcc"
      },
      "cell_type": "code",
      "source": [
        "learn.unfreeze()\n",
        "learn.fit(lrs, 3, cycle_len=1, cycle_mult=2, use_swa=True, swa_start=3, wds=[3e-4], use_wd_sched=True, norm_wds=True)\n",
        "learn.save('resnet34_64')"
      ],
      "execution_count": 36,
      "outputs": [
        {
          "output_type": "display_data",
          "data": {
            "application/vnd.jupyter.widget-view+json": {
              "model_id": "79b7fba61c404310874257e96b34c4f1",
              "version_minor": 0,
              "version_major": 2
            },
            "text/plain": [
              "HBox(children=(IntProgress(value=0, description='Epoch', max=7), HTML(value='')))"
            ]
          },
          "metadata": {
            "tags": []
          }
        },
        {
          "output_type": "stream",
          "text": [
            "  5%|▌         | 32/615 [00:22<06:50,  1.42it/s, loss=0.688]"
          ],
          "name": "stdout"
        },
        {
          "output_type": "error",
          "ename": "KeyboardInterrupt",
          "evalue": "ignored",
          "traceback": [
            "\u001b[0;31m---------------------------------------------------------------------------\u001b[0m",
            "\u001b[0;31mKeyboardInterrupt\u001b[0m                         Traceback (most recent call last)",
            "\u001b[0;32m<ipython-input-36-add58fd6f833>\u001b[0m in \u001b[0;36m<module>\u001b[0;34m()\u001b[0m\n\u001b[1;32m      1\u001b[0m \u001b[0mlearn\u001b[0m\u001b[0;34m.\u001b[0m\u001b[0munfreeze\u001b[0m\u001b[0;34m(\u001b[0m\u001b[0;34m)\u001b[0m\u001b[0;34m\u001b[0m\u001b[0m\n\u001b[0;32m----> 2\u001b[0;31m \u001b[0mlearn\u001b[0m\u001b[0;34m.\u001b[0m\u001b[0mfit\u001b[0m\u001b[0;34m(\u001b[0m\u001b[0mlrs\u001b[0m\u001b[0;34m,\u001b[0m \u001b[0;36m3\u001b[0m\u001b[0;34m,\u001b[0m \u001b[0mcycle_len\u001b[0m\u001b[0;34m=\u001b[0m\u001b[0;36m1\u001b[0m\u001b[0;34m,\u001b[0m \u001b[0mcycle_mult\u001b[0m\u001b[0;34m=\u001b[0m\u001b[0;36m2\u001b[0m\u001b[0;34m,\u001b[0m \u001b[0muse_swa\u001b[0m\u001b[0;34m=\u001b[0m\u001b[0;32mTrue\u001b[0m\u001b[0;34m,\u001b[0m \u001b[0mswa_start\u001b[0m\u001b[0;34m=\u001b[0m\u001b[0;36m3\u001b[0m\u001b[0;34m,\u001b[0m \u001b[0mwds\u001b[0m\u001b[0;34m=\u001b[0m\u001b[0;34m[\u001b[0m\u001b[0;36m3e-4\u001b[0m\u001b[0;34m]\u001b[0m\u001b[0;34m,\u001b[0m \u001b[0muse_wd_sched\u001b[0m\u001b[0;34m=\u001b[0m\u001b[0;32mTrue\u001b[0m\u001b[0;34m,\u001b[0m \u001b[0mnorm_wds\u001b[0m\u001b[0;34m=\u001b[0m\u001b[0;32mTrue\u001b[0m\u001b[0;34m)\u001b[0m\u001b[0;34m\u001b[0m\u001b[0m\n\u001b[0m\u001b[1;32m      3\u001b[0m \u001b[0mlearn\u001b[0m\u001b[0;34m.\u001b[0m\u001b[0msave\u001b[0m\u001b[0;34m(\u001b[0m\u001b[0;34m'resnet34_64'\u001b[0m\u001b[0;34m)\u001b[0m\u001b[0;34m\u001b[0m\u001b[0m\n",
            "\u001b[0;32m/usr/local/lib/python3.6/dist-packages/fastai/learner.py\u001b[0m in \u001b[0;36mfit\u001b[0;34m(self, lrs, n_cycle, wds, **kwargs)\u001b[0m\n\u001b[1;32m    285\u001b[0m         \u001b[0mself\u001b[0m\u001b[0;34m.\u001b[0m\u001b[0msched\u001b[0m \u001b[0;34m=\u001b[0m \u001b[0;32mNone\u001b[0m\u001b[0;34m\u001b[0m\u001b[0m\n\u001b[1;32m    286\u001b[0m         \u001b[0mlayer_opt\u001b[0m \u001b[0;34m=\u001b[0m \u001b[0mself\u001b[0m\u001b[0;34m.\u001b[0m\u001b[0mget_layer_opt\u001b[0m\u001b[0;34m(\u001b[0m\u001b[0mlrs\u001b[0m\u001b[0;34m,\u001b[0m \u001b[0mwds\u001b[0m\u001b[0;34m)\u001b[0m\u001b[0;34m\u001b[0m\u001b[0m\n\u001b[0;32m--> 287\u001b[0;31m         \u001b[0;32mreturn\u001b[0m \u001b[0mself\u001b[0m\u001b[0;34m.\u001b[0m\u001b[0mfit_gen\u001b[0m\u001b[0;34m(\u001b[0m\u001b[0mself\u001b[0m\u001b[0;34m.\u001b[0m\u001b[0mmodel\u001b[0m\u001b[0;34m,\u001b[0m \u001b[0mself\u001b[0m\u001b[0;34m.\u001b[0m\u001b[0mdata\u001b[0m\u001b[0;34m,\u001b[0m \u001b[0mlayer_opt\u001b[0m\u001b[0;34m,\u001b[0m \u001b[0mn_cycle\u001b[0m\u001b[0;34m,\u001b[0m \u001b[0;34m**\u001b[0m\u001b[0mkwargs\u001b[0m\u001b[0;34m)\u001b[0m\u001b[0;34m\u001b[0m\u001b[0m\n\u001b[0m\u001b[1;32m    288\u001b[0m \u001b[0;34m\u001b[0m\u001b[0m\n\u001b[1;32m    289\u001b[0m     \u001b[0;32mdef\u001b[0m \u001b[0mwarm_up\u001b[0m\u001b[0;34m(\u001b[0m\u001b[0mself\u001b[0m\u001b[0;34m,\u001b[0m \u001b[0mlr\u001b[0m\u001b[0;34m,\u001b[0m \u001b[0mwds\u001b[0m\u001b[0;34m=\u001b[0m\u001b[0;32mNone\u001b[0m\u001b[0;34m)\u001b[0m\u001b[0;34m:\u001b[0m\u001b[0;34m\u001b[0m\u001b[0m\n",
            "\u001b[0;32m/usr/local/lib/python3.6/dist-packages/fastai/learner.py\u001b[0m in \u001b[0;36mfit_gen\u001b[0;34m(self, model, data, layer_opt, n_cycle, cycle_len, cycle_mult, cycle_save_name, best_save_name, use_clr, use_clr_beta, metrics, callbacks, use_wd_sched, norm_wds, wds_sched_mult, use_swa, swa_start, swa_eval_freq, **kwargs)\u001b[0m\n\u001b[1;32m    232\u001b[0m             \u001b[0mmetrics\u001b[0m\u001b[0;34m=\u001b[0m\u001b[0mmetrics\u001b[0m\u001b[0;34m,\u001b[0m \u001b[0mcallbacks\u001b[0m\u001b[0;34m=\u001b[0m\u001b[0mcallbacks\u001b[0m\u001b[0;34m,\u001b[0m \u001b[0mreg_fn\u001b[0m\u001b[0;34m=\u001b[0m\u001b[0mself\u001b[0m\u001b[0;34m.\u001b[0m\u001b[0mreg_fn\u001b[0m\u001b[0;34m,\u001b[0m \u001b[0mclip\u001b[0m\u001b[0;34m=\u001b[0m\u001b[0mself\u001b[0m\u001b[0;34m.\u001b[0m\u001b[0mclip\u001b[0m\u001b[0;34m,\u001b[0m \u001b[0mfp16\u001b[0m\u001b[0;34m=\u001b[0m\u001b[0mself\u001b[0m\u001b[0;34m.\u001b[0m\u001b[0mfp16\u001b[0m\u001b[0;34m,\u001b[0m\u001b[0;34m\u001b[0m\u001b[0m\n\u001b[1;32m    233\u001b[0m             \u001b[0mswa_model\u001b[0m\u001b[0;34m=\u001b[0m\u001b[0mself\u001b[0m\u001b[0;34m.\u001b[0m\u001b[0mswa_model\u001b[0m \u001b[0;32mif\u001b[0m \u001b[0muse_swa\u001b[0m \u001b[0;32melse\u001b[0m \u001b[0;32mNone\u001b[0m\u001b[0;34m,\u001b[0m \u001b[0mswa_start\u001b[0m\u001b[0;34m=\u001b[0m\u001b[0mswa_start\u001b[0m\u001b[0;34m,\u001b[0m\u001b[0;34m\u001b[0m\u001b[0m\n\u001b[0;32m--> 234\u001b[0;31m             swa_eval_freq=swa_eval_freq, **kwargs)\n\u001b[0m\u001b[1;32m    235\u001b[0m \u001b[0;34m\u001b[0m\u001b[0m\n\u001b[1;32m    236\u001b[0m     \u001b[0;32mdef\u001b[0m \u001b[0mget_layer_groups\u001b[0m\u001b[0;34m(\u001b[0m\u001b[0mself\u001b[0m\u001b[0;34m)\u001b[0m\u001b[0;34m:\u001b[0m \u001b[0;32mreturn\u001b[0m \u001b[0mself\u001b[0m\u001b[0;34m.\u001b[0m\u001b[0mmodels\u001b[0m\u001b[0;34m.\u001b[0m\u001b[0mget_layer_groups\u001b[0m\u001b[0;34m(\u001b[0m\u001b[0;34m)\u001b[0m\u001b[0;34m\u001b[0m\u001b[0m\n",
            "\u001b[0;32m/usr/local/lib/python3.6/dist-packages/fastai/model.py\u001b[0m in \u001b[0;36mfit\u001b[0;34m(model, data, n_epochs, opt, crit, metrics, callbacks, stepper, swa_model, swa_start, swa_eval_freq, **kwargs)\u001b[0m\n\u001b[1;32m    124\u001b[0m         \u001b[0;32mif\u001b[0m \u001b[0mall_val\u001b[0m\u001b[0;34m:\u001b[0m \u001b[0mval_iter\u001b[0m \u001b[0;34m=\u001b[0m \u001b[0mIterBatch\u001b[0m\u001b[0;34m(\u001b[0m\u001b[0mcur_data\u001b[0m\u001b[0;34m.\u001b[0m\u001b[0mval_dl\u001b[0m\u001b[0;34m)\u001b[0m\u001b[0;34m\u001b[0m\u001b[0m\n\u001b[1;32m    125\u001b[0m \u001b[0;34m\u001b[0m\u001b[0m\n\u001b[0;32m--> 126\u001b[0;31m         \u001b[0;32mfor\u001b[0m \u001b[0;34m(\u001b[0m\u001b[0;34m*\u001b[0m\u001b[0mx\u001b[0m\u001b[0;34m,\u001b[0m\u001b[0my\u001b[0m\u001b[0;34m)\u001b[0m \u001b[0;32min\u001b[0m \u001b[0mt\u001b[0m\u001b[0;34m:\u001b[0m\u001b[0;34m\u001b[0m\u001b[0m\n\u001b[0m\u001b[1;32m    127\u001b[0m             \u001b[0mbatch_num\u001b[0m \u001b[0;34m+=\u001b[0m \u001b[0;36m1\u001b[0m\u001b[0;34m\u001b[0m\u001b[0m\n\u001b[1;32m    128\u001b[0m             \u001b[0;32mfor\u001b[0m \u001b[0mcb\u001b[0m \u001b[0;32min\u001b[0m \u001b[0mcallbacks\u001b[0m\u001b[0;34m:\u001b[0m \u001b[0mcb\u001b[0m\u001b[0;34m.\u001b[0m\u001b[0mon_batch_begin\u001b[0m\u001b[0;34m(\u001b[0m\u001b[0;34m)\u001b[0m\u001b[0;34m\u001b[0m\u001b[0m\n",
            "\u001b[0;32m/usr/local/lib/python3.6/dist-packages/tqdm/_tqdm.py\u001b[0m in \u001b[0;36m__iter__\u001b[0;34m(self)\u001b[0m\n\u001b[1;32m    928\u001b[0m \"\"\", fp_write=getattr(self.fp, 'write', sys.stderr.write))\n\u001b[1;32m    929\u001b[0m \u001b[0;34m\u001b[0m\u001b[0m\n\u001b[0;32m--> 930\u001b[0;31m             \u001b[0;32mfor\u001b[0m \u001b[0mobj\u001b[0m \u001b[0;32min\u001b[0m \u001b[0miterable\u001b[0m\u001b[0;34m:\u001b[0m\u001b[0;34m\u001b[0m\u001b[0m\n\u001b[0m\u001b[1;32m    931\u001b[0m                 \u001b[0;32myield\u001b[0m \u001b[0mobj\u001b[0m\u001b[0;34m\u001b[0m\u001b[0m\n\u001b[1;32m    932\u001b[0m                 \u001b[0;31m# Update and possibly print the progressbar.\u001b[0m\u001b[0;34m\u001b[0m\u001b[0;34m\u001b[0m\u001b[0m\n",
            "\u001b[0;32m/usr/local/lib/python3.6/dist-packages/fastai/dataloader.py\u001b[0m in \u001b[0;36m__iter__\u001b[0;34m(self)\u001b[0m\n\u001b[1;32m     86\u001b[0m                 \u001b[0;31m# avoid py3.6 issue where queue is infinite and can result in memory exhaustion\u001b[0m\u001b[0;34m\u001b[0m\u001b[0;34m\u001b[0m\u001b[0m\n\u001b[1;32m     87\u001b[0m                 \u001b[0;32mfor\u001b[0m \u001b[0mc\u001b[0m \u001b[0;32min\u001b[0m \u001b[0mchunk_iter\u001b[0m\u001b[0;34m(\u001b[0m\u001b[0miter\u001b[0m\u001b[0;34m(\u001b[0m\u001b[0mself\u001b[0m\u001b[0;34m.\u001b[0m\u001b[0mbatch_sampler\u001b[0m\u001b[0;34m)\u001b[0m\u001b[0;34m,\u001b[0m \u001b[0mself\u001b[0m\u001b[0;34m.\u001b[0m\u001b[0mnum_workers\u001b[0m\u001b[0;34m*\u001b[0m\u001b[0;36m10\u001b[0m\u001b[0;34m)\u001b[0m\u001b[0;34m:\u001b[0m\u001b[0;34m\u001b[0m\u001b[0m\n\u001b[0;32m---> 88\u001b[0;31m                     \u001b[0;32mfor\u001b[0m \u001b[0mbatch\u001b[0m \u001b[0;32min\u001b[0m \u001b[0me\u001b[0m\u001b[0;34m.\u001b[0m\u001b[0mmap\u001b[0m\u001b[0;34m(\u001b[0m\u001b[0mself\u001b[0m\u001b[0;34m.\u001b[0m\u001b[0mget_batch\u001b[0m\u001b[0;34m,\u001b[0m \u001b[0mc\u001b[0m\u001b[0;34m)\u001b[0m\u001b[0;34m:\u001b[0m\u001b[0;34m\u001b[0m\u001b[0m\n\u001b[0m\u001b[1;32m     89\u001b[0m                         \u001b[0;32myield\u001b[0m \u001b[0mget_tensor\u001b[0m\u001b[0;34m(\u001b[0m\u001b[0mbatch\u001b[0m\u001b[0;34m,\u001b[0m \u001b[0mself\u001b[0m\u001b[0;34m.\u001b[0m\u001b[0mpin_memory\u001b[0m\u001b[0;34m,\u001b[0m \u001b[0mself\u001b[0m\u001b[0;34m.\u001b[0m\u001b[0mhalf\u001b[0m\u001b[0;34m)\u001b[0m\u001b[0;34m\u001b[0m\u001b[0m\n\u001b[1;32m     90\u001b[0m \u001b[0;34m\u001b[0m\u001b[0m\n",
            "\u001b[0;32m/usr/lib/python3.6/concurrent/futures/_base.py\u001b[0m in \u001b[0;36mresult_iterator\u001b[0;34m()\u001b[0m\n\u001b[1;32m    584\u001b[0m                     \u001b[0;31m# Careful not to keep a reference to the popped future\u001b[0m\u001b[0;34m\u001b[0m\u001b[0;34m\u001b[0m\u001b[0m\n\u001b[1;32m    585\u001b[0m                     \u001b[0;32mif\u001b[0m \u001b[0mtimeout\u001b[0m \u001b[0;32mis\u001b[0m \u001b[0;32mNone\u001b[0m\u001b[0;34m:\u001b[0m\u001b[0;34m\u001b[0m\u001b[0m\n\u001b[0;32m--> 586\u001b[0;31m                         \u001b[0;32myield\u001b[0m \u001b[0mfs\u001b[0m\u001b[0;34m.\u001b[0m\u001b[0mpop\u001b[0m\u001b[0;34m(\u001b[0m\u001b[0;34m)\u001b[0m\u001b[0;34m.\u001b[0m\u001b[0mresult\u001b[0m\u001b[0;34m(\u001b[0m\u001b[0;34m)\u001b[0m\u001b[0;34m\u001b[0m\u001b[0m\n\u001b[0m\u001b[1;32m    587\u001b[0m                     \u001b[0;32melse\u001b[0m\u001b[0;34m:\u001b[0m\u001b[0;34m\u001b[0m\u001b[0m\n\u001b[1;32m    588\u001b[0m                         \u001b[0;32myield\u001b[0m \u001b[0mfs\u001b[0m\u001b[0;34m.\u001b[0m\u001b[0mpop\u001b[0m\u001b[0;34m(\u001b[0m\u001b[0;34m)\u001b[0m\u001b[0;34m.\u001b[0m\u001b[0mresult\u001b[0m\u001b[0;34m(\u001b[0m\u001b[0mend_time\u001b[0m \u001b[0;34m-\u001b[0m \u001b[0mtime\u001b[0m\u001b[0;34m.\u001b[0m\u001b[0mtime\u001b[0m\u001b[0;34m(\u001b[0m\u001b[0;34m)\u001b[0m\u001b[0;34m)\u001b[0m\u001b[0;34m\u001b[0m\u001b[0m\n",
            "\u001b[0;32m/usr/lib/python3.6/concurrent/futures/_base.py\u001b[0m in \u001b[0;36mresult\u001b[0;34m(self, timeout)\u001b[0m\n\u001b[1;32m    425\u001b[0m                 \u001b[0;32mreturn\u001b[0m \u001b[0mself\u001b[0m\u001b[0;34m.\u001b[0m\u001b[0m__get_result\u001b[0m\u001b[0;34m(\u001b[0m\u001b[0;34m)\u001b[0m\u001b[0;34m\u001b[0m\u001b[0m\n\u001b[1;32m    426\u001b[0m \u001b[0;34m\u001b[0m\u001b[0m\n\u001b[0;32m--> 427\u001b[0;31m             \u001b[0mself\u001b[0m\u001b[0;34m.\u001b[0m\u001b[0m_condition\u001b[0m\u001b[0;34m.\u001b[0m\u001b[0mwait\u001b[0m\u001b[0;34m(\u001b[0m\u001b[0mtimeout\u001b[0m\u001b[0;34m)\u001b[0m\u001b[0;34m\u001b[0m\u001b[0m\n\u001b[0m\u001b[1;32m    428\u001b[0m \u001b[0;34m\u001b[0m\u001b[0m\n\u001b[1;32m    429\u001b[0m             \u001b[0;32mif\u001b[0m \u001b[0mself\u001b[0m\u001b[0;34m.\u001b[0m\u001b[0m_state\u001b[0m \u001b[0;32min\u001b[0m \u001b[0;34m[\u001b[0m\u001b[0mCANCELLED\u001b[0m\u001b[0;34m,\u001b[0m \u001b[0mCANCELLED_AND_NOTIFIED\u001b[0m\u001b[0;34m]\u001b[0m\u001b[0;34m:\u001b[0m\u001b[0;34m\u001b[0m\u001b[0m\n",
            "\u001b[0;32m/usr/lib/python3.6/threading.py\u001b[0m in \u001b[0;36mwait\u001b[0;34m(self, timeout)\u001b[0m\n\u001b[1;32m    293\u001b[0m         \u001b[0;32mtry\u001b[0m\u001b[0;34m:\u001b[0m    \u001b[0;31m# restore state no matter what (e.g., KeyboardInterrupt)\u001b[0m\u001b[0;34m\u001b[0m\u001b[0m\n\u001b[1;32m    294\u001b[0m             \u001b[0;32mif\u001b[0m \u001b[0mtimeout\u001b[0m \u001b[0;32mis\u001b[0m \u001b[0;32mNone\u001b[0m\u001b[0;34m:\u001b[0m\u001b[0;34m\u001b[0m\u001b[0m\n\u001b[0;32m--> 295\u001b[0;31m                 \u001b[0mwaiter\u001b[0m\u001b[0;34m.\u001b[0m\u001b[0macquire\u001b[0m\u001b[0;34m(\u001b[0m\u001b[0;34m)\u001b[0m\u001b[0;34m\u001b[0m\u001b[0m\n\u001b[0m\u001b[1;32m    296\u001b[0m                 \u001b[0mgotit\u001b[0m \u001b[0;34m=\u001b[0m \u001b[0;32mTrue\u001b[0m\u001b[0;34m\u001b[0m\u001b[0m\n\u001b[1;32m    297\u001b[0m             \u001b[0;32melse\u001b[0m\u001b[0;34m:\u001b[0m\u001b[0;34m\u001b[0m\u001b[0m\n",
            "\u001b[0;31mKeyboardInterrupt\u001b[0m: "
          ]
        }
      ]
    },
    {
      "metadata": {
        "id": "ex3pZ1VwzfQF",
        "colab_type": "code",
        "colab": {
          "base_uri": "https://localhost:8080/",
          "height": 84
        },
        "outputId": "7f6b1149-d84d-4fc2-87f5-8bbcf91e6cbc"
      },
      "cell_type": "code",
      "source": [
        "data = get_data(128)\n",
        "learn.freeze()\n",
        "learn.fit(lr, 3, cycle_len=1, cycle_mult=2)\n"
      ],
      "execution_count": 0,
      "outputs": [
        {
          "output_type": "display_data",
          "data": {
            "application/vnd.jupyter.widget-view+json": {
              "model_id": "90e3b2d117df4c78a6c719c0734a9518",
              "version_minor": 0,
              "version_major": 2
            },
            "text/plain": [
              "HBox(children=(IntProgress(value=0, description='Epoch', max=7), HTML(value='')))"
            ]
          },
          "metadata": {
            "tags": []
          }
        },
        {
          "output_type": "stream",
          "text": [
            "epoch      trn_loss   val_loss   f1         \n",
            "    0      0.079864   0.075187   0.419065  \n",
            "  5%|▍         | 34/738 [00:22<07:53,  1.49it/s, loss=0.0798]"
          ],
          "name": "stdout"
        },
        {
          "output_type": "stream",
          "text": [
            ""
          ],
          "name": "stdout"
        }
      ]
    },
    {
      "metadata": {
        "id": "qFGE_cbf1gWP",
        "colab_type": "code",
        "colab": {}
      },
      "cell_type": "code",
      "source": [
        "learn.unfreeze()\n",
        "learn.fit(lrs, 3, cycle_len=1, cycle_mult=2)\n",
        "learn.save('resnet34_128')"
      ],
      "execution_count": 0,
      "outputs": []
    },
    {
      "metadata": {
        "id": "clmC7VgcatMl",
        "colab_type": "code",
        "colab": {}
      },
      "cell_type": "code",
      "source": [
        "data = get_data(128)\n",
        "learn.freeze()\n",
        "learn.fit(lr, 3, cycle_len=1, cycle_mult=2)"
      ],
      "execution_count": 0,
      "outputs": []
    },
    {
      "metadata": {
        "id": "jgHCGJSsbAVJ",
        "colab_type": "code",
        "colab": {}
      },
      "cell_type": "code",
      "source": [
        "learn.unfreeze()\n",
        "learn.fit(lrs, 3, cycle_len=1, cycle_mult=2)\n",
        "learn.save('resnet34_254')"
      ],
      "execution_count": 0,
      "outputs": []
    }
  ]
}