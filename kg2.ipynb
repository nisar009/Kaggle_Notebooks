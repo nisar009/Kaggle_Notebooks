{
  "nbformat": 4,
  "nbformat_minor": 0,
  "metadata": {
    "colab": {
      "name": "kg2.ipynb",
      "version": "0.3.2",
      "provenance": []
    },
    "kernelspec": {
      "name": "python3",
      "display_name": "Python 3"
    },
    "accelerator": "GPU"
  },
  "cells": [
    {
      "cell_type": "markdown",
      "metadata": {
        "id": "view-in-github",
        "colab_type": "text"
      },
      "source": [
        "[View in Colaboratory](https://colab.research.google.com/github/nisar009/Kaggle_Notebooks/blob/master/kg2.ipynb)"
      ]
    },
    {
      "metadata": {
        "id": "3saZePm1LZz5",
        "colab_type": "code",
        "colab": {
          "base_uri": "https://localhost:8080/",
          "height": 17
        },
        "outputId": "8c049d07-c265-4005-969d-c0c56b49f8af"
      },
      "cell_type": "code",
      "source": [
        "%%capture\n",
        "!pip install fastai\n",
        "!pip install torch torchvision\n",
        "!pip install kaggle-cli"
      ],
      "execution_count": 1,
      "outputs": []
    },
    {
      "metadata": {
        "id": "RMe7MhUOLpez",
        "colab_type": "code",
        "colab": {}
      },
      "cell_type": "code",
      "source": [
        "!mkdir -p data/homecredit && cd data/homecredit && kg download -u nisar009 -p p@55w0rd -c home-credit-default-risk"
      ],
      "execution_count": 0,
      "outputs": []
    },
    {
      "metadata": {
        "id": "487N9b8FL4TS",
        "colab_type": "code",
        "colab": {}
      },
      "cell_type": "code",
      "source": [
        "!cd data/homecredit && for i in `ls`; do unzip $i; done"
      ],
      "execution_count": 0,
      "outputs": []
    },
    {
      "metadata": {
        "id": "q3zqdi21MVce",
        "colab_type": "code",
        "colab": {}
      },
      "cell_type": "code",
      "source": [
        "!cd data/homecredit && ls"
      ],
      "execution_count": 0,
      "outputs": []
    },
    {
      "metadata": {
        "id": "nGFSvsFrtXgw",
        "colab_type": "code",
        "colab": {}
      },
      "cell_type": "code",
      "source": [
        ""
      ],
      "execution_count": 0,
      "outputs": []
    },
    {
      "metadata": {
        "id": "KU_7KJpktXxn",
        "colab_type": "text"
      },
      "cell_type": "markdown",
      "source": [
        "Downloading the data set from featuretools"
      ]
    },
    {
      "metadata": {
        "id": "8IxOT2Nathgf",
        "colab_type": "code",
        "colab": {}
      },
      "cell_type": "code",
      "source": [
        "!makedir -p data/homecredit/featuretools && cd data/homecredit/featuretools && "
      ],
      "execution_count": 0,
      "outputs": []
    },
    {
      "metadata": {
        "id": "PRkKXyUTNSbO",
        "colab_type": "code",
        "colab": {}
      },
      "cell_type": "code",
      "source": [
        "import pandas as pd\n",
        "\n",
        "PATH = 'data/homecredit/'\n",
        "\n",
        "df = pd.read_csv(f'{PATH}application_train.csv')\n",
        "df.head()"
      ],
      "execution_count": 0,
      "outputs": []
    },
    {
      "metadata": {
        "id": "o4aYximeNczW",
        "colab_type": "code",
        "colab": {}
      },
      "cell_type": "code",
      "source": [
        "DataFrameSummary(df).summary()"
      ],
      "execution_count": 0,
      "outputs": []
    },
    {
      "metadata": {
        "id": "thHWdp57PW5W",
        "colab_type": "code",
        "colab": {}
      },
      "cell_type": "code",
      "source": [
        ""
      ],
      "execution_count": 0,
      "outputs": []
    }
  ]
}